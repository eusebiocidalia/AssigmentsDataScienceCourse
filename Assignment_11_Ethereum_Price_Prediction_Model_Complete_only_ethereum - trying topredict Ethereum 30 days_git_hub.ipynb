{
 "cells": [
  {
   "attachments": {},
   "cell_type": "markdown",
   "metadata": {},
   "source": [
    "# Etheteum price prediction model\n",
    "\n",
    "This project aims to predict the next-day price of Etheureum crypocurrency.\n",
    "\n",
    "We will:\n",
    "\n",
    "Start by using and understanding the model which Jose Pereira developed for Bitcoin, you can find it here https://github.com/pereirajose3/bitcoin_price_prediction_ensemble_bilstm-gru_savitzky_golay_filter/blob/main/ensemble_bilstm_gru_savitzky_golay_filter.ipynb. \n",
    "\n",
    "Once we understand the model, we will fine tune to Ethereum\n",
    "\n",
    "If time allows, I would like to:\n",
    "\n",
    "- Understand which variables help price prediction\n",
    "- Predict at 1,2,3,4,5,6 months\n",
    "- Tried and test other AI models"
   ]
  },
  {
   "attachments": {},
   "cell_type": "markdown",
   "metadata": {},
   "source": [
    "# 1. Import libraries"
   ]
  },
  {
   "cell_type": "code",
   "execution_count": 1,
   "metadata": {},
   "outputs": [],
   "source": [
    "import os # Standart Library for programming, it lets me interact with several fuctions that come handy in day to day programming\n",
    "import datetime # imports all the content from datatime module, which supplies classes to work with data and time\n",
    "\n",
    "import IPython  # is a command sheel for interactive computing in multiple programing languages, which offers introspection, rich media, shell syntax, tab completion and history.\n",
    "import IPython.display\n",
    "import matplotlib as mpl\n",
    "import matplotlib.pyplot as plt\n",
    "import numpy as np\n",
    "import pandas as pd\n",
    "import seaborn as sns\n",
    "import tensorflow as tf\n",
    "import matplotlib.pyplot as plt\n",
    "from tensorflow import keras \n",
    "from tensorflow.keras import layers\n",
    "\n",
    "# For PLotting we will use these library\n",
    "\n",
    "from itertools import cycle\n",
    "import plotly.graph_objects as go\n",
    "import plotly.express as px\n",
    "from plotly.subplots import make_subplots"
   ]
  },
  {
   "cell_type": "code",
   "execution_count": 2,
   "metadata": {},
   "outputs": [],
   "source": [
    "import math\n",
    "from keras.models import Sequential\n",
    "from keras.layers import Dense\n",
    "from keras.layers import LSTM\n",
    "from sklearn.preprocessing import MinMaxScaler\n",
    "from sklearn.metrics import mean_squared_error\n",
    "import warnings\n",
    "warnings.filterwarnings(\"ignore\")"
   ]
  },
  {
   "cell_type": "code",
   "execution_count": 3,
   "metadata": {},
   "outputs": [],
   "source": [
    "#!pip install pydot\n",
    "#pip install yfinance\n",
    "#pip install yahoo_fin\n",
    "#pip install requests_html\n",
    "\n",
    "import yfinance as yf\n"
   ]
  },
  {
   "cell_type": "code",
   "execution_count": 4,
   "metadata": {},
   "outputs": [],
   "source": [
    "from yahoo_fin.stock_info import get_data # import historical price data\n",
    "import yahoo_fin.stock_info as si #Here we are just importing the whole stock_info module as si, so we can easily call all the methods without a new import each time."
   ]
  },
  {
   "attachments": {},
   "cell_type": "markdown",
   "metadata": {},
   "source": [
    "2. Import Data"
   ]
  },
  {
   "cell_type": "markdown",
   "metadata": {},
   "source": [
    "2.1 Download data from Yahoo:Finance API \n",
    "\n",
    "API is a set of defined rules that explain how computers or applications communicate with one another. It sits between an application and the web server,acting as an intermidiary layer that processes data transfer between systems.\n"
   ]
  },
  {
   "cell_type": "code",
   "execution_count": 5,
   "metadata": {},
   "outputs": [],
   "source": [
    "# define start and end date of our data\n",
    "start_date, end_date = '2017-11-09', '2023-02-01'\n",
    "\n",
    "#Bitcoin USD\n",
    "msft = yf.Ticker(\"BTC-USD\")\n",
    "# get historical market data\n",
    "btc_usd = msft.history(interval='1d', start=start_date, end=end_date)\n",
    "btc_usd.index = btc_usd.index.tz_localize(None)\n",
    "\n",
    "#Ethereum USD (ETH-USD)\n",
    "msft = yf.Ticker(\"ETH-USD\")\n",
    "# get historical market data\n",
    "eth_usd = msft.history(interval='1d', start=start_date, end=end_date)\n",
    "eth_usd.index = eth_usd.index.tz_localize(None)\n",
    "\n",
    "#Nasdaq USD\n",
    "msft = yf.Ticker(\"NDAQ\")\n",
    "# msft historical market data\n",
    "nasdaq = msft.history(interval='1d', start=start_date, end=end_date)\n",
    "nasdaq.index = nasdaq.index.tz_localize(None)\n",
    "\n",
    "\n",
    "#Gold Prices\n",
    "msft = yf.Ticker(\"GC=F\")\n",
    "# get historical market data\n",
    "gold = msft.history(interval='1d', start=start_date, end=end_date)\n",
    "gold.index = gold.index.tz_localize(None)\n",
    "\n",
    "#Crude Oil\n",
    "msft = yf.Ticker(\"CL=F\")\n",
    "# get historical market data\n",
    "oil = msft.history(interval='1d', start=start_date, end=end_date)\n",
    "oil.index = oil.index.tz_localize(None)\n",
    "\n",
    "#SP500\n",
    "msft = yf.Ticker(\"^GSPC\")\n",
    "# get historical market data\n",
    "sp500 = msft.history(interval='1d', start=start_date, end=end_date)\n",
    "sp500.index = sp500.index.tz_localize(None)\n",
    "\n",
    "#VIX-Traders and investors use VIX as a measure of market sentiment and risk.\n",
    "msft = yf.Ticker(\"^VIX\")\n",
    "# get historical market data\n",
    "vix = msft.history(interval='1d', start=start_date, end=end_date)\n",
    "vix.index = vix.index.tz_localize(None)\n",
    "\n",
    "#ftse100\n",
    "msft = yf.Ticker(\"^FTSE\")\n",
    "# get historical market data\n",
    "ftse100 = msft.history(interval='1d', start=start_date, end=end_date)\n",
    "ftse100.index = ftse100.index.tz_localize(None)\n",
    "\n",
    "#TNX-is the ticker symbol for the 10-year Treasury note yield\n",
    "msft = yf.Ticker(\"^TNX\")\n",
    "# get historical market data\n",
    "tnx = msft.history(interval='1d', start=start_date, end=end_date)\n",
    "tnx.index = tnx.index.tz_localize(None)\n",
    "\n",
    "#CMC200: top  200 comapanies listed in Australia\n",
    "msft = yf.Ticker(\"^CMC200\")\n",
    "# get historical market data\n",
    "cmc200 = msft.history(interval='1d', start=start_date, end=end_date)\n",
    "cmc200.index = cmc200.index.tz_localize(None)\n",
    "\n",
    "#GBP/USD\n",
    "msft = yf.Ticker(\"GBPUSD=X\")\n",
    "# get historical market data\n",
    "gbp_usd = msft.history(interval='1d', start=start_date, end=end_date)\n",
    "gbp_usd.index = gbp_usd.index.tz_localize(None)\n",
    "\n",
    "#EUR/USD\n",
    "msft = yf.Ticker(\"EURUSD=X\")\n",
    "# get historical market data\n",
    "eur_usd = msft.history(interval='1d', start=start_date, end=end_date)\n",
    "eur_usd.index = eur_usd.index.tz_localize(None)\n",
    "\n",
    "#USD/JPY\n",
    "msft = yf.Ticker(\"JPY=X\")\n",
    "# get historical market data\n",
    "usd_jpy = msft.history(interval='1d', start=start_date, end=end_date)\n",
    "usd_jpy.index = usd_jpy.index.tz_localize(None)\n"
   ]
  },
  {
   "attachments": {},
   "cell_type": "markdown",
   "metadata": {},
   "source": [
    "Import CPI data series from the BLS web service"
   ]
  },
  {
   "cell_type": "code",
   "execution_count": 6,
   "metadata": {},
   "outputs": [],
   "source": [
    "import requests\n",
    "import json"
   ]
  },
  {
   "attachments": {},
   "cell_type": "markdown",
   "metadata": {},
   "source": [
    "NOTE: You have to create an account with BLS nd insert your unique API\n"
   ]
  },
  {
   "cell_type": "code",
   "execution_count": 7,
   "metadata": {},
   "outputs": [],
   "source": [
    "bls_api_key = 'INSERT YOUR API HERE'"
   ]
  },
  {
   "cell_type": "code",
   "execution_count": 8,
   "metadata": {},
   "outputs": [],
   "source": [
    "def fetch_cpi_data(data_series_id, start_year, end_year):\n",
    "    try:\n",
    "        bls_data_api_url = 'INSERT YOU API url KEY HERE'\n",
    "        headers = {'Content-type': 'application/json'}\n",
    "        data = json.dumps({\"registrationkey\": bls_api_key, \"seriesid\": [data_series_id], \"startyear\": start_year, \"endyear\": end_year})\n",
    "        response = requests.post(bls_data_api_url, data=data, headers=headers)\n",
    "        if response.status_code != 200:\n",
    "            raise Exception(f\"Error retrieving data: {response.text}\")\n",
    "        #  Parse JSON\n",
    "        json_data = json.loads(response.text)\n",
    "        if json_data['status'] != 'REQUEST_SUCCEEDED':\n",
    "            raise Exception(f\"Error retrieving data: {response.text}\")\n",
    "        results_df = pd.DataFrame()\n",
    "        for series in json_data['Results']['series']:\n",
    "            series_id = series['seriesID']\n",
    "            for item in series['data']:\n",
    "                year = int(item['year'])\n",
    "                period = item['period']\n",
    "                value = float(item['value'])\n",
    "                year_mon = f\"{year}-{int(period.replace('M',''))}\"\n",
    "                date = datetime.datetime.strptime(year_mon, \"%Y-%m\")\n",
    "                row_df = pd.DataFrame({'date': [date], 'year': [year], 'period': [period], 'value': [value]})\n",
    "                results_df = pd.concat([results_df, row_df], ignore_index=True)\n",
    "        #  Sort ascending\n",
    "        results_df = results_df.sort_values(by=['date'], ascending=True)\n",
    "        results_df.set_index(['date'], inplace=True)\n",
    "        return results_df\n",
    "    except Exception as ex:\n",
    "        print(f\"Failed to fetch data: {ex}\")"
   ]
  },
  {
   "cell_type": "code",
   "execution_count": 9,
   "metadata": {},
   "outputs": [],
   "source": [
    "#  Set date range\n",
    "today = datetime.date.today()\n",
    "end_year_str = str(today.year)\n",
    "days_delta = datetime.timedelta(5 * 365)\n",
    "start_date = today - days_delta\n",
    "start_year_str = str(start_date.year)\n",
    "    \n",
    "#  Fetch CPI\n",
    "data_series_id = 'CUUR0000SA0'\n",
    "cpi_data_df = fetch_cpi_data(data_series_id, start_year_str, end_year_str)\n",
    "cpi_data_df.to_csv('cpi_data_df.csv')\n"
   ]
  },
  {
   "cell_type": "code",
   "execution_count": 10,
   "metadata": {},
   "outputs": [
    {
     "name": "stdout",
     "output_type": "stream",
     "text": [
      "            year period    value  inflation_rate  cpi_value\n",
      "date                                                       \n",
      "2018-01-01  2018    M01  247.867             NaN    247.867\n",
      "2018-02-01  2018    M02  248.991        0.453469    248.991\n",
      "2018-03-01  2018    M03  249.554        0.226113    249.554\n",
      "2018-04-01  2018    M04  250.546        0.397509    250.546\n",
      "2018-05-01  2018    M05  251.588        0.415892    251.588\n",
      "...          ...    ...      ...             ...        ...\n",
      "2022-10-01  2022    M10  298.012        0.405649    298.012\n",
      "2022-11-01  2022    M11  297.711       -0.101003    297.711\n",
      "2022-12-01  2022    M12  296.797       -0.307009    296.797\n",
      "2023-01-01  2023    M01  299.170        0.799536    299.170\n",
      "2023-02-01  2023    M02  300.840        0.558211    300.840\n",
      "\n",
      "[62 rows x 5 columns]\n"
     ]
    }
   ],
   "source": [
    "# Calculate inflation rate\n",
    "cpi_data_df['inflation_rate'] = cpi_data_df['value'].pct_change()*100\n",
    "cpi_data_df['cpi_value'] = cpi_data_df['value']\n",
    "# Display dataframe\n",
    "print(cpi_data_df)"
   ]
  },
  {
   "attachments": {},
   "cell_type": "markdown",
   "metadata": {},
   "source": [
    "Create a data frame of all the data"
   ]
  },
  {
   "cell_type": "code",
   "execution_count": 11,
   "metadata": {},
   "outputs": [],
   "source": [
    "#Create a dataframe with closing prices\n",
    "btc_usd[\"BTC-USD\"]=btc_usd['Close']\n",
    "eth_usd['eth_usd']=eth_usd['Close']\n",
    "nasdaq['nasdaq']=nasdaq['Close']\n",
    "gold['gold']=gold['Close']\n",
    "oil['oil']=oil['Close']\n",
    "sp500['sp500']=sp500['Close']\n",
    "vix['vix']=vix['Close']\n",
    "ftse100['ftse100']=ftse100['Close']\n",
    "tnx['tnx']=tnx['Close']\n",
    "cmc200['cmc200']=cmc200['Close']\n",
    "gbp_usd['gbp_usd']=gbp_usd['Close']\n",
    "eur_usd['eur_usd']=eur_usd['Close']\n",
    "usd_jpy['usd_jpy']=usd_jpy['Close']\n",
    "cpi_data_df['cpi_Data_df']=cpi_data_df['cpi_value']\n",
    "\n",
    "df=pd.concat([eth_usd['Open'], eth_usd['High'], eth_usd['Low'], eth_usd['Close'], eth_usd['Volume'],btc_usd[\"BTC-USD\"],nasdaq['nasdaq'], gold['gold'],oil['oil'],sp500['sp500'],vix['vix'],ftse100['ftse100'],tnx['tnx'],gbp_usd['gbp_usd'],eur_usd['eur_usd'],usd_jpy['usd_jpy'],cpi_data_df['cpi_value']], axis=1, join=\"outer\")"
   ]
  },
  {
   "cell_type": "code",
   "execution_count": 12,
   "metadata": {},
   "outputs": [
    {
     "name": "stdout",
     "output_type": "stream",
     "text": [
      "<class 'pandas.core.frame.DataFrame'>\n",
      "DatetimeIndex: 1910 entries, 2017-11-09 to 2023-01-31\n",
      "Data columns (total 8 columns):\n",
      " #   Column        Non-Null Count  Dtype  \n",
      "---  ------        --------------  -----  \n",
      " 0   Open          1910 non-null   float64\n",
      " 1   High          1910 non-null   float64\n",
      " 2   Low           1910 non-null   float64\n",
      " 3   Close         1910 non-null   float64\n",
      " 4   Volume        1910 non-null   int64  \n",
      " 5   Dividends     1910 non-null   float64\n",
      " 6   Stock Splits  1910 non-null   float64\n",
      " 7   eth_usd       1910 non-null   float64\n",
      "dtypes: float64(7), int64(1)\n",
      "memory usage: 198.8 KB\n"
     ]
    }
   ],
   "source": [
    "eth_usd.info()"
   ]
  },
  {
   "cell_type": "code",
   "execution_count": 13,
   "metadata": {},
   "outputs": [
    {
     "data": {
      "text/plain": [
       "Open         1910\n",
       "High         1910\n",
       "Low          1910\n",
       "Close        1910\n",
       "Volume       1910\n",
       "BTC-USD      1910\n",
       "nasdaq       1314\n",
       "gold         1315\n",
       "oil          1317\n",
       "sp500        1314\n",
       "vix          1314\n",
       "ftse100      1318\n",
       "tnx          1314\n",
       "gbp_usd      1362\n",
       "eur_usd      1362\n",
       "usd_jpy      1362\n",
       "cpi_value      62\n",
       "dtype: int64"
      ]
     },
     "execution_count": 13,
     "metadata": {},
     "output_type": "execute_result"
    }
   ],
   "source": [
    "df.count()"
   ]
  },
  {
   "cell_type": "code",
   "execution_count": 14,
   "metadata": {},
   "outputs": [
    {
     "data": {
      "text/html": [
       "<div>\n",
       "<style scoped>\n",
       "    .dataframe tbody tr th:only-of-type {\n",
       "        vertical-align: middle;\n",
       "    }\n",
       "\n",
       "    .dataframe tbody tr th {\n",
       "        vertical-align: top;\n",
       "    }\n",
       "\n",
       "    .dataframe thead th {\n",
       "        text-align: right;\n",
       "    }\n",
       "</style>\n",
       "<table border=\"1\" class=\"dataframe\">\n",
       "  <thead>\n",
       "    <tr style=\"text-align: right;\">\n",
       "      <th></th>\n",
       "      <th>Open</th>\n",
       "      <th>High</th>\n",
       "      <th>Low</th>\n",
       "      <th>Close</th>\n",
       "      <th>Volume</th>\n",
       "      <th>BTC-USD</th>\n",
       "      <th>nasdaq</th>\n",
       "      <th>gold</th>\n",
       "      <th>oil</th>\n",
       "      <th>sp500</th>\n",
       "      <th>vix</th>\n",
       "      <th>ftse100</th>\n",
       "      <th>tnx</th>\n",
       "      <th>gbp_usd</th>\n",
       "      <th>eur_usd</th>\n",
       "      <th>usd_jpy</th>\n",
       "      <th>cpi_value</th>\n",
       "    </tr>\n",
       "  </thead>\n",
       "  <tbody>\n",
       "    <tr>\n",
       "      <th>2017-11-09</th>\n",
       "      <td>308.644989</td>\n",
       "      <td>329.451996</td>\n",
       "      <td>307.056000</td>\n",
       "      <td>320.884003</td>\n",
       "      <td>8.932500e+08</td>\n",
       "      <td>7143.580078</td>\n",
       "      <td>22.485592</td>\n",
       "      <td>1285.599976</td>\n",
       "      <td>57.169998</td>\n",
       "      <td>2584.620117</td>\n",
       "      <td>10.500000</td>\n",
       "      <td>7484.100098</td>\n",
       "      <td>2.331</td>\n",
       "      <td>1.311303</td>\n",
       "      <td>1.159689</td>\n",
       "      <td>113.927002</td>\n",
       "      <td>NaN</td>\n",
       "    </tr>\n",
       "    <tr>\n",
       "      <th>2017-11-10</th>\n",
       "      <td>320.670990</td>\n",
       "      <td>324.717987</td>\n",
       "      <td>294.541992</td>\n",
       "      <td>299.252991</td>\n",
       "      <td>8.859860e+08</td>\n",
       "      <td>6618.140137</td>\n",
       "      <td>22.436792</td>\n",
       "      <td>1272.400024</td>\n",
       "      <td>56.740002</td>\n",
       "      <td>2582.300049</td>\n",
       "      <td>11.290000</td>\n",
       "      <td>7433.000000</td>\n",
       "      <td>2.400</td>\n",
       "      <td>1.314440</td>\n",
       "      <td>1.164687</td>\n",
       "      <td>113.375000</td>\n",
       "      <td>NaN</td>\n",
       "    </tr>\n",
       "    <tr>\n",
       "      <th>2017-11-11</th>\n",
       "      <td>298.585999</td>\n",
       "      <td>319.453003</td>\n",
       "      <td>298.191986</td>\n",
       "      <td>314.681000</td>\n",
       "      <td>8.423010e+08</td>\n",
       "      <td>6357.600098</td>\n",
       "      <td>NaN</td>\n",
       "      <td>NaN</td>\n",
       "      <td>NaN</td>\n",
       "      <td>NaN</td>\n",
       "      <td>NaN</td>\n",
       "      <td>NaN</td>\n",
       "      <td>NaN</td>\n",
       "      <td>NaN</td>\n",
       "      <td>NaN</td>\n",
       "      <td>NaN</td>\n",
       "      <td>NaN</td>\n",
       "    </tr>\n",
       "    <tr>\n",
       "      <th>2017-11-12</th>\n",
       "      <td>314.690002</td>\n",
       "      <td>319.153015</td>\n",
       "      <td>298.513000</td>\n",
       "      <td>307.907990</td>\n",
       "      <td>1.613480e+09</td>\n",
       "      <td>5950.069824</td>\n",
       "      <td>NaN</td>\n",
       "      <td>NaN</td>\n",
       "      <td>NaN</td>\n",
       "      <td>NaN</td>\n",
       "      <td>NaN</td>\n",
       "      <td>NaN</td>\n",
       "      <td>NaN</td>\n",
       "      <td>NaN</td>\n",
       "      <td>NaN</td>\n",
       "      <td>NaN</td>\n",
       "      <td>NaN</td>\n",
       "    </tr>\n",
       "    <tr>\n",
       "      <th>2017-11-13</th>\n",
       "      <td>307.024994</td>\n",
       "      <td>328.415009</td>\n",
       "      <td>307.024994</td>\n",
       "      <td>316.716003</td>\n",
       "      <td>1.041890e+09</td>\n",
       "      <td>6559.490234</td>\n",
       "      <td>22.997940</td>\n",
       "      <td>1277.300049</td>\n",
       "      <td>56.759998</td>\n",
       "      <td>2584.840088</td>\n",
       "      <td>11.500000</td>\n",
       "      <td>7415.200195</td>\n",
       "      <td>2.400</td>\n",
       "      <td>1.312026</td>\n",
       "      <td>1.166113</td>\n",
       "      <td>113.685997</td>\n",
       "      <td>NaN</td>\n",
       "    </tr>\n",
       "    <tr>\n",
       "      <th>...</th>\n",
       "      <td>...</td>\n",
       "      <td>...</td>\n",
       "      <td>...</td>\n",
       "      <td>...</td>\n",
       "      <td>...</td>\n",
       "      <td>...</td>\n",
       "      <td>...</td>\n",
       "      <td>...</td>\n",
       "      <td>...</td>\n",
       "      <td>...</td>\n",
       "      <td>...</td>\n",
       "      <td>...</td>\n",
       "      <td>...</td>\n",
       "      <td>...</td>\n",
       "      <td>...</td>\n",
       "      <td>...</td>\n",
       "      <td>...</td>\n",
       "    </tr>\n",
       "    <tr>\n",
       "      <th>2023-01-28</th>\n",
       "      <td>1598.125366</td>\n",
       "      <td>1604.704102</td>\n",
       "      <td>1565.390137</td>\n",
       "      <td>1572.435059</td>\n",
       "      <td>5.803653e+09</td>\n",
       "      <td>23031.089844</td>\n",
       "      <td>NaN</td>\n",
       "      <td>NaN</td>\n",
       "      <td>NaN</td>\n",
       "      <td>NaN</td>\n",
       "      <td>NaN</td>\n",
       "      <td>NaN</td>\n",
       "      <td>NaN</td>\n",
       "      <td>NaN</td>\n",
       "      <td>NaN</td>\n",
       "      <td>NaN</td>\n",
       "      <td>NaN</td>\n",
       "    </tr>\n",
       "    <tr>\n",
       "      <th>2023-01-29</th>\n",
       "      <td>1572.629517</td>\n",
       "      <td>1653.724976</td>\n",
       "      <td>1568.984863</td>\n",
       "      <td>1646.155640</td>\n",
       "      <td>8.801292e+09</td>\n",
       "      <td>23774.566406</td>\n",
       "      <td>NaN</td>\n",
       "      <td>NaN</td>\n",
       "      <td>NaN</td>\n",
       "      <td>NaN</td>\n",
       "      <td>NaN</td>\n",
       "      <td>NaN</td>\n",
       "      <td>NaN</td>\n",
       "      <td>NaN</td>\n",
       "      <td>NaN</td>\n",
       "      <td>NaN</td>\n",
       "      <td>NaN</td>\n",
       "    </tr>\n",
       "    <tr>\n",
       "      <th>2023-01-30</th>\n",
       "      <td>1646.147705</td>\n",
       "      <td>1646.651611</td>\n",
       "      <td>1546.660767</td>\n",
       "      <td>1567.326538</td>\n",
       "      <td>9.180418e+09</td>\n",
       "      <td>22840.138672</td>\n",
       "      <td>59.420177</td>\n",
       "      <td>1922.900024</td>\n",
       "      <td>77.900002</td>\n",
       "      <td>4017.770020</td>\n",
       "      <td>19.940001</td>\n",
       "      <td>7784.899902</td>\n",
       "      <td>3.551</td>\n",
       "      <td>1.240030</td>\n",
       "      <td>1.087146</td>\n",
       "      <td>129.854004</td>\n",
       "      <td>NaN</td>\n",
       "    </tr>\n",
       "    <tr>\n",
       "      <th>2023-01-31</th>\n",
       "      <td>1567.419922</td>\n",
       "      <td>1598.517578</td>\n",
       "      <td>1563.804321</td>\n",
       "      <td>1586.535400</td>\n",
       "      <td>6.585191e+09</td>\n",
       "      <td>23139.283203</td>\n",
       "      <td>59.958096</td>\n",
       "      <td>1929.500000</td>\n",
       "      <td>78.870003</td>\n",
       "      <td>4076.600098</td>\n",
       "      <td>19.400000</td>\n",
       "      <td>7771.700195</td>\n",
       "      <td>3.529</td>\n",
       "      <td>1.235361</td>\n",
       "      <td>1.085069</td>\n",
       "      <td>130.479004</td>\n",
       "      <td>NaN</td>\n",
       "    </tr>\n",
       "    <tr>\n",
       "      <th>2023-02-01</th>\n",
       "      <td>NaN</td>\n",
       "      <td>NaN</td>\n",
       "      <td>NaN</td>\n",
       "      <td>NaN</td>\n",
       "      <td>NaN</td>\n",
       "      <td>NaN</td>\n",
       "      <td>NaN</td>\n",
       "      <td>NaN</td>\n",
       "      <td>NaN</td>\n",
       "      <td>NaN</td>\n",
       "      <td>NaN</td>\n",
       "      <td>NaN</td>\n",
       "      <td>NaN</td>\n",
       "      <td>NaN</td>\n",
       "      <td>NaN</td>\n",
       "      <td>NaN</td>\n",
       "      <td>300.84</td>\n",
       "    </tr>\n",
       "  </tbody>\n",
       "</table>\n",
       "<p>1911 rows × 17 columns</p>\n",
       "</div>"
      ],
      "text/plain": [
       "                   Open         High          Low        Close        Volume  \\\n",
       "2017-11-09   308.644989   329.451996   307.056000   320.884003  8.932500e+08   \n",
       "2017-11-10   320.670990   324.717987   294.541992   299.252991  8.859860e+08   \n",
       "2017-11-11   298.585999   319.453003   298.191986   314.681000  8.423010e+08   \n",
       "2017-11-12   314.690002   319.153015   298.513000   307.907990  1.613480e+09   \n",
       "2017-11-13   307.024994   328.415009   307.024994   316.716003  1.041890e+09   \n",
       "...                 ...          ...          ...          ...           ...   \n",
       "2023-01-28  1598.125366  1604.704102  1565.390137  1572.435059  5.803653e+09   \n",
       "2023-01-29  1572.629517  1653.724976  1568.984863  1646.155640  8.801292e+09   \n",
       "2023-01-30  1646.147705  1646.651611  1546.660767  1567.326538  9.180418e+09   \n",
       "2023-01-31  1567.419922  1598.517578  1563.804321  1586.535400  6.585191e+09   \n",
       "2023-02-01          NaN          NaN          NaN          NaN           NaN   \n",
       "\n",
       "                 BTC-USD     nasdaq         gold        oil        sp500  \\\n",
       "2017-11-09   7143.580078  22.485592  1285.599976  57.169998  2584.620117   \n",
       "2017-11-10   6618.140137  22.436792  1272.400024  56.740002  2582.300049   \n",
       "2017-11-11   6357.600098        NaN          NaN        NaN          NaN   \n",
       "2017-11-12   5950.069824        NaN          NaN        NaN          NaN   \n",
       "2017-11-13   6559.490234  22.997940  1277.300049  56.759998  2584.840088   \n",
       "...                  ...        ...          ...        ...          ...   \n",
       "2023-01-28  23031.089844        NaN          NaN        NaN          NaN   \n",
       "2023-01-29  23774.566406        NaN          NaN        NaN          NaN   \n",
       "2023-01-30  22840.138672  59.420177  1922.900024  77.900002  4017.770020   \n",
       "2023-01-31  23139.283203  59.958096  1929.500000  78.870003  4076.600098   \n",
       "2023-02-01           NaN        NaN          NaN        NaN          NaN   \n",
       "\n",
       "                  vix      ftse100    tnx   gbp_usd   eur_usd     usd_jpy  \\\n",
       "2017-11-09  10.500000  7484.100098  2.331  1.311303  1.159689  113.927002   \n",
       "2017-11-10  11.290000  7433.000000  2.400  1.314440  1.164687  113.375000   \n",
       "2017-11-11        NaN          NaN    NaN       NaN       NaN         NaN   \n",
       "2017-11-12        NaN          NaN    NaN       NaN       NaN         NaN   \n",
       "2017-11-13  11.500000  7415.200195  2.400  1.312026  1.166113  113.685997   \n",
       "...               ...          ...    ...       ...       ...         ...   \n",
       "2023-01-28        NaN          NaN    NaN       NaN       NaN         NaN   \n",
       "2023-01-29        NaN          NaN    NaN       NaN       NaN         NaN   \n",
       "2023-01-30  19.940001  7784.899902  3.551  1.240030  1.087146  129.854004   \n",
       "2023-01-31  19.400000  7771.700195  3.529  1.235361  1.085069  130.479004   \n",
       "2023-02-01        NaN          NaN    NaN       NaN       NaN         NaN   \n",
       "\n",
       "            cpi_value  \n",
       "2017-11-09        NaN  \n",
       "2017-11-10        NaN  \n",
       "2017-11-11        NaN  \n",
       "2017-11-12        NaN  \n",
       "2017-11-13        NaN  \n",
       "...               ...  \n",
       "2023-01-28        NaN  \n",
       "2023-01-29        NaN  \n",
       "2023-01-30        NaN  \n",
       "2023-01-31        NaN  \n",
       "2023-02-01     300.84  \n",
       "\n",
       "[1911 rows x 17 columns]"
      ]
     },
     "execution_count": 14,
     "metadata": {},
     "output_type": "execute_result"
    }
   ],
   "source": [
    "df"
   ]
  },
  {
   "attachments": {},
   "cell_type": "markdown",
   "metadata": {},
   "source": [
    "Fill the weekeds on stock price with friday price "
   ]
  },
  {
   "cell_type": "code",
   "execution_count": 15,
   "metadata": {},
   "outputs": [],
   "source": [
    "#Fill weekends na stock price with friday price\n",
    "df.fillna(method='ffill', inplace=True)\n",
    "df=df[1:]"
   ]
  },
  {
   "cell_type": "code",
   "execution_count": 16,
   "metadata": {},
   "outputs": [],
   "source": [
    "#Fill the rest of null of cpi with median \n",
    "df['cpi_value'] = df['cpi_value'].fillna(df['cpi_value'].median())"
   ]
  },
  {
   "cell_type": "code",
   "execution_count": 17,
   "metadata": {},
   "outputs": [
    {
     "data": {
      "text/html": [
       "<div>\n",
       "<style scoped>\n",
       "    .dataframe tbody tr th:only-of-type {\n",
       "        vertical-align: middle;\n",
       "    }\n",
       "\n",
       "    .dataframe tbody tr th {\n",
       "        vertical-align: top;\n",
       "    }\n",
       "\n",
       "    .dataframe thead th {\n",
       "        text-align: right;\n",
       "    }\n",
       "</style>\n",
       "<table border=\"1\" class=\"dataframe\">\n",
       "  <thead>\n",
       "    <tr style=\"text-align: right;\">\n",
       "      <th></th>\n",
       "      <th>Open</th>\n",
       "      <th>High</th>\n",
       "      <th>Low</th>\n",
       "      <th>Close</th>\n",
       "      <th>Volume</th>\n",
       "      <th>BTC-USD</th>\n",
       "      <th>nasdaq</th>\n",
       "      <th>gold</th>\n",
       "      <th>oil</th>\n",
       "      <th>sp500</th>\n",
       "      <th>vix</th>\n",
       "      <th>ftse100</th>\n",
       "      <th>tnx</th>\n",
       "      <th>gbp_usd</th>\n",
       "      <th>eur_usd</th>\n",
       "      <th>usd_jpy</th>\n",
       "      <th>cpi_value</th>\n",
       "    </tr>\n",
       "  </thead>\n",
       "  <tbody>\n",
       "    <tr>\n",
       "      <th>2017-11-10</th>\n",
       "      <td>320.670990</td>\n",
       "      <td>324.717987</td>\n",
       "      <td>294.541992</td>\n",
       "      <td>299.252991</td>\n",
       "      <td>8.859860e+08</td>\n",
       "      <td>6618.140137</td>\n",
       "      <td>22.436792</td>\n",
       "      <td>1272.400024</td>\n",
       "      <td>56.740002</td>\n",
       "      <td>2582.300049</td>\n",
       "      <td>11.290000</td>\n",
       "      <td>7433.000000</td>\n",
       "      <td>2.400</td>\n",
       "      <td>1.314440</td>\n",
       "      <td>1.164687</td>\n",
       "      <td>113.375000</td>\n",
       "      <td>259.101</td>\n",
       "    </tr>\n",
       "    <tr>\n",
       "      <th>2017-11-11</th>\n",
       "      <td>298.585999</td>\n",
       "      <td>319.453003</td>\n",
       "      <td>298.191986</td>\n",
       "      <td>314.681000</td>\n",
       "      <td>8.423010e+08</td>\n",
       "      <td>6357.600098</td>\n",
       "      <td>22.436792</td>\n",
       "      <td>1272.400024</td>\n",
       "      <td>56.740002</td>\n",
       "      <td>2582.300049</td>\n",
       "      <td>11.290000</td>\n",
       "      <td>7433.000000</td>\n",
       "      <td>2.400</td>\n",
       "      <td>1.314440</td>\n",
       "      <td>1.164687</td>\n",
       "      <td>113.375000</td>\n",
       "      <td>259.101</td>\n",
       "    </tr>\n",
       "    <tr>\n",
       "      <th>2017-11-12</th>\n",
       "      <td>314.690002</td>\n",
       "      <td>319.153015</td>\n",
       "      <td>298.513000</td>\n",
       "      <td>307.907990</td>\n",
       "      <td>1.613480e+09</td>\n",
       "      <td>5950.069824</td>\n",
       "      <td>22.436792</td>\n",
       "      <td>1272.400024</td>\n",
       "      <td>56.740002</td>\n",
       "      <td>2582.300049</td>\n",
       "      <td>11.290000</td>\n",
       "      <td>7433.000000</td>\n",
       "      <td>2.400</td>\n",
       "      <td>1.314440</td>\n",
       "      <td>1.164687</td>\n",
       "      <td>113.375000</td>\n",
       "      <td>259.101</td>\n",
       "    </tr>\n",
       "    <tr>\n",
       "      <th>2017-11-13</th>\n",
       "      <td>307.024994</td>\n",
       "      <td>328.415009</td>\n",
       "      <td>307.024994</td>\n",
       "      <td>316.716003</td>\n",
       "      <td>1.041890e+09</td>\n",
       "      <td>6559.490234</td>\n",
       "      <td>22.997940</td>\n",
       "      <td>1277.300049</td>\n",
       "      <td>56.759998</td>\n",
       "      <td>2584.840088</td>\n",
       "      <td>11.500000</td>\n",
       "      <td>7415.200195</td>\n",
       "      <td>2.400</td>\n",
       "      <td>1.312026</td>\n",
       "      <td>1.166113</td>\n",
       "      <td>113.685997</td>\n",
       "      <td>259.101</td>\n",
       "    </tr>\n",
       "    <tr>\n",
       "      <th>2017-11-14</th>\n",
       "      <td>316.763000</td>\n",
       "      <td>340.177002</td>\n",
       "      <td>316.763000</td>\n",
       "      <td>337.631012</td>\n",
       "      <td>1.069680e+09</td>\n",
       "      <td>6635.750000</td>\n",
       "      <td>23.168726</td>\n",
       "      <td>1281.500000</td>\n",
       "      <td>55.700001</td>\n",
       "      <td>2578.870117</td>\n",
       "      <td>11.590000</td>\n",
       "      <td>7414.399902</td>\n",
       "      <td>2.381</td>\n",
       "      <td>1.312336</td>\n",
       "      <td>1.166494</td>\n",
       "      <td>113.584999</td>\n",
       "      <td>259.101</td>\n",
       "    </tr>\n",
       "    <tr>\n",
       "      <th>...</th>\n",
       "      <td>...</td>\n",
       "      <td>...</td>\n",
       "      <td>...</td>\n",
       "      <td>...</td>\n",
       "      <td>...</td>\n",
       "      <td>...</td>\n",
       "      <td>...</td>\n",
       "      <td>...</td>\n",
       "      <td>...</td>\n",
       "      <td>...</td>\n",
       "      <td>...</td>\n",
       "      <td>...</td>\n",
       "      <td>...</td>\n",
       "      <td>...</td>\n",
       "      <td>...</td>\n",
       "      <td>...</td>\n",
       "      <td>...</td>\n",
       "    </tr>\n",
       "    <tr>\n",
       "      <th>2023-01-28</th>\n",
       "      <td>1598.125366</td>\n",
       "      <td>1604.704102</td>\n",
       "      <td>1565.390137</td>\n",
       "      <td>1572.435059</td>\n",
       "      <td>5.803653e+09</td>\n",
       "      <td>23031.089844</td>\n",
       "      <td>60.266903</td>\n",
       "      <td>1928.599976</td>\n",
       "      <td>79.680000</td>\n",
       "      <td>4070.560059</td>\n",
       "      <td>18.510000</td>\n",
       "      <td>7765.200195</td>\n",
       "      <td>3.518</td>\n",
       "      <td>1.241527</td>\n",
       "      <td>1.089443</td>\n",
       "      <td>129.800003</td>\n",
       "      <td>299.170</td>\n",
       "    </tr>\n",
       "    <tr>\n",
       "      <th>2023-01-29</th>\n",
       "      <td>1572.629517</td>\n",
       "      <td>1653.724976</td>\n",
       "      <td>1568.984863</td>\n",
       "      <td>1646.155640</td>\n",
       "      <td>8.801292e+09</td>\n",
       "      <td>23774.566406</td>\n",
       "      <td>60.266903</td>\n",
       "      <td>1928.599976</td>\n",
       "      <td>79.680000</td>\n",
       "      <td>4070.560059</td>\n",
       "      <td>18.510000</td>\n",
       "      <td>7765.200195</td>\n",
       "      <td>3.518</td>\n",
       "      <td>1.241527</td>\n",
       "      <td>1.089443</td>\n",
       "      <td>129.800003</td>\n",
       "      <td>299.170</td>\n",
       "    </tr>\n",
       "    <tr>\n",
       "      <th>2023-01-30</th>\n",
       "      <td>1646.147705</td>\n",
       "      <td>1646.651611</td>\n",
       "      <td>1546.660767</td>\n",
       "      <td>1567.326538</td>\n",
       "      <td>9.180418e+09</td>\n",
       "      <td>22840.138672</td>\n",
       "      <td>59.420177</td>\n",
       "      <td>1922.900024</td>\n",
       "      <td>77.900002</td>\n",
       "      <td>4017.770020</td>\n",
       "      <td>19.940001</td>\n",
       "      <td>7784.899902</td>\n",
       "      <td>3.551</td>\n",
       "      <td>1.240030</td>\n",
       "      <td>1.087146</td>\n",
       "      <td>129.854004</td>\n",
       "      <td>299.170</td>\n",
       "    </tr>\n",
       "    <tr>\n",
       "      <th>2023-01-31</th>\n",
       "      <td>1567.419922</td>\n",
       "      <td>1598.517578</td>\n",
       "      <td>1563.804321</td>\n",
       "      <td>1586.535400</td>\n",
       "      <td>6.585191e+09</td>\n",
       "      <td>23139.283203</td>\n",
       "      <td>59.958096</td>\n",
       "      <td>1929.500000</td>\n",
       "      <td>78.870003</td>\n",
       "      <td>4076.600098</td>\n",
       "      <td>19.400000</td>\n",
       "      <td>7771.700195</td>\n",
       "      <td>3.529</td>\n",
       "      <td>1.235361</td>\n",
       "      <td>1.085069</td>\n",
       "      <td>130.479004</td>\n",
       "      <td>299.170</td>\n",
       "    </tr>\n",
       "    <tr>\n",
       "      <th>2023-02-01</th>\n",
       "      <td>1567.419922</td>\n",
       "      <td>1598.517578</td>\n",
       "      <td>1563.804321</td>\n",
       "      <td>1586.535400</td>\n",
       "      <td>6.585191e+09</td>\n",
       "      <td>23139.283203</td>\n",
       "      <td>59.958096</td>\n",
       "      <td>1929.500000</td>\n",
       "      <td>78.870003</td>\n",
       "      <td>4076.600098</td>\n",
       "      <td>19.400000</td>\n",
       "      <td>7771.700195</td>\n",
       "      <td>3.529</td>\n",
       "      <td>1.235361</td>\n",
       "      <td>1.085069</td>\n",
       "      <td>130.479004</td>\n",
       "      <td>300.840</td>\n",
       "    </tr>\n",
       "  </tbody>\n",
       "</table>\n",
       "<p>1910 rows × 17 columns</p>\n",
       "</div>"
      ],
      "text/plain": [
       "                   Open         High          Low        Close        Volume  \\\n",
       "2017-11-10   320.670990   324.717987   294.541992   299.252991  8.859860e+08   \n",
       "2017-11-11   298.585999   319.453003   298.191986   314.681000  8.423010e+08   \n",
       "2017-11-12   314.690002   319.153015   298.513000   307.907990  1.613480e+09   \n",
       "2017-11-13   307.024994   328.415009   307.024994   316.716003  1.041890e+09   \n",
       "2017-11-14   316.763000   340.177002   316.763000   337.631012  1.069680e+09   \n",
       "...                 ...          ...          ...          ...           ...   \n",
       "2023-01-28  1598.125366  1604.704102  1565.390137  1572.435059  5.803653e+09   \n",
       "2023-01-29  1572.629517  1653.724976  1568.984863  1646.155640  8.801292e+09   \n",
       "2023-01-30  1646.147705  1646.651611  1546.660767  1567.326538  9.180418e+09   \n",
       "2023-01-31  1567.419922  1598.517578  1563.804321  1586.535400  6.585191e+09   \n",
       "2023-02-01  1567.419922  1598.517578  1563.804321  1586.535400  6.585191e+09   \n",
       "\n",
       "                 BTC-USD     nasdaq         gold        oil        sp500  \\\n",
       "2017-11-10   6618.140137  22.436792  1272.400024  56.740002  2582.300049   \n",
       "2017-11-11   6357.600098  22.436792  1272.400024  56.740002  2582.300049   \n",
       "2017-11-12   5950.069824  22.436792  1272.400024  56.740002  2582.300049   \n",
       "2017-11-13   6559.490234  22.997940  1277.300049  56.759998  2584.840088   \n",
       "2017-11-14   6635.750000  23.168726  1281.500000  55.700001  2578.870117   \n",
       "...                  ...        ...          ...        ...          ...   \n",
       "2023-01-28  23031.089844  60.266903  1928.599976  79.680000  4070.560059   \n",
       "2023-01-29  23774.566406  60.266903  1928.599976  79.680000  4070.560059   \n",
       "2023-01-30  22840.138672  59.420177  1922.900024  77.900002  4017.770020   \n",
       "2023-01-31  23139.283203  59.958096  1929.500000  78.870003  4076.600098   \n",
       "2023-02-01  23139.283203  59.958096  1929.500000  78.870003  4076.600098   \n",
       "\n",
       "                  vix      ftse100    tnx   gbp_usd   eur_usd     usd_jpy  \\\n",
       "2017-11-10  11.290000  7433.000000  2.400  1.314440  1.164687  113.375000   \n",
       "2017-11-11  11.290000  7433.000000  2.400  1.314440  1.164687  113.375000   \n",
       "2017-11-12  11.290000  7433.000000  2.400  1.314440  1.164687  113.375000   \n",
       "2017-11-13  11.500000  7415.200195  2.400  1.312026  1.166113  113.685997   \n",
       "2017-11-14  11.590000  7414.399902  2.381  1.312336  1.166494  113.584999   \n",
       "...               ...          ...    ...       ...       ...         ...   \n",
       "2023-01-28  18.510000  7765.200195  3.518  1.241527  1.089443  129.800003   \n",
       "2023-01-29  18.510000  7765.200195  3.518  1.241527  1.089443  129.800003   \n",
       "2023-01-30  19.940001  7784.899902  3.551  1.240030  1.087146  129.854004   \n",
       "2023-01-31  19.400000  7771.700195  3.529  1.235361  1.085069  130.479004   \n",
       "2023-02-01  19.400000  7771.700195  3.529  1.235361  1.085069  130.479004   \n",
       "\n",
       "            cpi_value  \n",
       "2017-11-10    259.101  \n",
       "2017-11-11    259.101  \n",
       "2017-11-12    259.101  \n",
       "2017-11-13    259.101  \n",
       "2017-11-14    259.101  \n",
       "...               ...  \n",
       "2023-01-28    299.170  \n",
       "2023-01-29    299.170  \n",
       "2023-01-30    299.170  \n",
       "2023-01-31    299.170  \n",
       "2023-02-01    300.840  \n",
       "\n",
       "[1910 rows x 17 columns]"
      ]
     },
     "execution_count": 17,
     "metadata": {},
     "output_type": "execute_result"
    }
   ],
   "source": [
    "df"
   ]
  },
  {
   "cell_type": "code",
   "execution_count": 18,
   "metadata": {},
   "outputs": [
    {
     "data": {
      "text/plain": [
       "Open         0\n",
       "High         0\n",
       "Low          0\n",
       "Close        0\n",
       "Volume       0\n",
       "BTC-USD      0\n",
       "nasdaq       0\n",
       "gold         0\n",
       "oil          0\n",
       "sp500        0\n",
       "vix          0\n",
       "ftse100      0\n",
       "tnx          0\n",
       "gbp_usd      0\n",
       "eur_usd      0\n",
       "usd_jpy      0\n",
       "cpi_value    0\n",
       "dtype: int64"
      ]
     },
     "execution_count": 18,
     "metadata": {},
     "output_type": "execute_result"
    }
   ],
   "source": [
    "df.isnull().sum()"
   ]
  },
  {
   "cell_type": "code",
   "execution_count": 19,
   "metadata": {},
   "outputs": [
    {
     "name": "stdout",
     "output_type": "stream",
     "text": [
      "Total number of days present in the dataset:  1910\n",
      "Total number of fields present in the dataset:  17\n"
     ]
    }
   ],
   "source": [
    "print('Total number of days present in the dataset: ',df.shape[0])\n",
    "print('Total number of fields present in the dataset: ',df.shape[1])"
   ]
  },
  {
   "cell_type": "code",
   "execution_count": 20,
   "metadata": {},
   "outputs": [
    {
     "data": {
      "text/plain": [
       "(1910, 17)"
      ]
     },
     "execution_count": 20,
     "metadata": {},
     "output_type": "execute_result"
    }
   ],
   "source": [
    "df.shape"
   ]
  },
  {
   "cell_type": "code",
   "execution_count": 21,
   "metadata": {},
   "outputs": [
    {
     "data": {
      "text/html": [
       "<div>\n",
       "<style scoped>\n",
       "    .dataframe tbody tr th:only-of-type {\n",
       "        vertical-align: middle;\n",
       "    }\n",
       "\n",
       "    .dataframe tbody tr th {\n",
       "        vertical-align: top;\n",
       "    }\n",
       "\n",
       "    .dataframe thead th {\n",
       "        text-align: right;\n",
       "    }\n",
       "</style>\n",
       "<table border=\"1\" class=\"dataframe\">\n",
       "  <thead>\n",
       "    <tr style=\"text-align: right;\">\n",
       "      <th></th>\n",
       "      <th>Open</th>\n",
       "      <th>High</th>\n",
       "      <th>Low</th>\n",
       "      <th>Close</th>\n",
       "      <th>Volume</th>\n",
       "      <th>BTC-USD</th>\n",
       "      <th>nasdaq</th>\n",
       "      <th>gold</th>\n",
       "      <th>oil</th>\n",
       "      <th>sp500</th>\n",
       "      <th>vix</th>\n",
       "      <th>ftse100</th>\n",
       "      <th>tnx</th>\n",
       "      <th>gbp_usd</th>\n",
       "      <th>eur_usd</th>\n",
       "      <th>usd_jpy</th>\n",
       "      <th>cpi_value</th>\n",
       "    </tr>\n",
       "  </thead>\n",
       "  <tbody>\n",
       "    <tr>\n",
       "      <th>2017-11-10</th>\n",
       "      <td>320.670990</td>\n",
       "      <td>324.717987</td>\n",
       "      <td>294.541992</td>\n",
       "      <td>299.252991</td>\n",
       "      <td>8.859860e+08</td>\n",
       "      <td>6618.140137</td>\n",
       "      <td>22.436792</td>\n",
       "      <td>1272.400024</td>\n",
       "      <td>56.740002</td>\n",
       "      <td>2582.300049</td>\n",
       "      <td>11.29</td>\n",
       "      <td>7433.000000</td>\n",
       "      <td>2.400</td>\n",
       "      <td>1.314440</td>\n",
       "      <td>1.164687</td>\n",
       "      <td>113.375000</td>\n",
       "      <td>259.101</td>\n",
       "    </tr>\n",
       "    <tr>\n",
       "      <th>2017-11-11</th>\n",
       "      <td>298.585999</td>\n",
       "      <td>319.453003</td>\n",
       "      <td>298.191986</td>\n",
       "      <td>314.681000</td>\n",
       "      <td>8.423010e+08</td>\n",
       "      <td>6357.600098</td>\n",
       "      <td>22.436792</td>\n",
       "      <td>1272.400024</td>\n",
       "      <td>56.740002</td>\n",
       "      <td>2582.300049</td>\n",
       "      <td>11.29</td>\n",
       "      <td>7433.000000</td>\n",
       "      <td>2.400</td>\n",
       "      <td>1.314440</td>\n",
       "      <td>1.164687</td>\n",
       "      <td>113.375000</td>\n",
       "      <td>259.101</td>\n",
       "    </tr>\n",
       "    <tr>\n",
       "      <th>2017-11-12</th>\n",
       "      <td>314.690002</td>\n",
       "      <td>319.153015</td>\n",
       "      <td>298.513000</td>\n",
       "      <td>307.907990</td>\n",
       "      <td>1.613480e+09</td>\n",
       "      <td>5950.069824</td>\n",
       "      <td>22.436792</td>\n",
       "      <td>1272.400024</td>\n",
       "      <td>56.740002</td>\n",
       "      <td>2582.300049</td>\n",
       "      <td>11.29</td>\n",
       "      <td>7433.000000</td>\n",
       "      <td>2.400</td>\n",
       "      <td>1.314440</td>\n",
       "      <td>1.164687</td>\n",
       "      <td>113.375000</td>\n",
       "      <td>259.101</td>\n",
       "    </tr>\n",
       "    <tr>\n",
       "      <th>2017-11-13</th>\n",
       "      <td>307.024994</td>\n",
       "      <td>328.415009</td>\n",
       "      <td>307.024994</td>\n",
       "      <td>316.716003</td>\n",
       "      <td>1.041890e+09</td>\n",
       "      <td>6559.490234</td>\n",
       "      <td>22.997940</td>\n",
       "      <td>1277.300049</td>\n",
       "      <td>56.759998</td>\n",
       "      <td>2584.840088</td>\n",
       "      <td>11.50</td>\n",
       "      <td>7415.200195</td>\n",
       "      <td>2.400</td>\n",
       "      <td>1.312026</td>\n",
       "      <td>1.166113</td>\n",
       "      <td>113.685997</td>\n",
       "      <td>259.101</td>\n",
       "    </tr>\n",
       "    <tr>\n",
       "      <th>2017-11-14</th>\n",
       "      <td>316.763000</td>\n",
       "      <td>340.177002</td>\n",
       "      <td>316.763000</td>\n",
       "      <td>337.631012</td>\n",
       "      <td>1.069680e+09</td>\n",
       "      <td>6635.750000</td>\n",
       "      <td>23.168726</td>\n",
       "      <td>1281.500000</td>\n",
       "      <td>55.700001</td>\n",
       "      <td>2578.870117</td>\n",
       "      <td>11.59</td>\n",
       "      <td>7414.399902</td>\n",
       "      <td>2.381</td>\n",
       "      <td>1.312336</td>\n",
       "      <td>1.166494</td>\n",
       "      <td>113.584999</td>\n",
       "      <td>259.101</td>\n",
       "    </tr>\n",
       "  </tbody>\n",
       "</table>\n",
       "</div>"
      ],
      "text/plain": [
       "                  Open        High         Low       Close        Volume  \\\n",
       "2017-11-10  320.670990  324.717987  294.541992  299.252991  8.859860e+08   \n",
       "2017-11-11  298.585999  319.453003  298.191986  314.681000  8.423010e+08   \n",
       "2017-11-12  314.690002  319.153015  298.513000  307.907990  1.613480e+09   \n",
       "2017-11-13  307.024994  328.415009  307.024994  316.716003  1.041890e+09   \n",
       "2017-11-14  316.763000  340.177002  316.763000  337.631012  1.069680e+09   \n",
       "\n",
       "                BTC-USD     nasdaq         gold        oil        sp500  \\\n",
       "2017-11-10  6618.140137  22.436792  1272.400024  56.740002  2582.300049   \n",
       "2017-11-11  6357.600098  22.436792  1272.400024  56.740002  2582.300049   \n",
       "2017-11-12  5950.069824  22.436792  1272.400024  56.740002  2582.300049   \n",
       "2017-11-13  6559.490234  22.997940  1277.300049  56.759998  2584.840088   \n",
       "2017-11-14  6635.750000  23.168726  1281.500000  55.700001  2578.870117   \n",
       "\n",
       "              vix      ftse100    tnx   gbp_usd   eur_usd     usd_jpy  \\\n",
       "2017-11-10  11.29  7433.000000  2.400  1.314440  1.164687  113.375000   \n",
       "2017-11-11  11.29  7433.000000  2.400  1.314440  1.164687  113.375000   \n",
       "2017-11-12  11.29  7433.000000  2.400  1.314440  1.164687  113.375000   \n",
       "2017-11-13  11.50  7415.200195  2.400  1.312026  1.166113  113.685997   \n",
       "2017-11-14  11.59  7414.399902  2.381  1.312336  1.166494  113.584999   \n",
       "\n",
       "            cpi_value  \n",
       "2017-11-10    259.101  \n",
       "2017-11-11    259.101  \n",
       "2017-11-12    259.101  \n",
       "2017-11-13    259.101  \n",
       "2017-11-14    259.101  "
      ]
     },
     "execution_count": 21,
     "metadata": {},
     "output_type": "execute_result"
    }
   ],
   "source": [
    "df.head()"
   ]
  },
  {
   "cell_type": "code",
   "execution_count": 22,
   "metadata": {},
   "outputs": [
    {
     "data": {
      "text/html": [
       "<div>\n",
       "<style scoped>\n",
       "    .dataframe tbody tr th:only-of-type {\n",
       "        vertical-align: middle;\n",
       "    }\n",
       "\n",
       "    .dataframe tbody tr th {\n",
       "        vertical-align: top;\n",
       "    }\n",
       "\n",
       "    .dataframe thead th {\n",
       "        text-align: right;\n",
       "    }\n",
       "</style>\n",
       "<table border=\"1\" class=\"dataframe\">\n",
       "  <thead>\n",
       "    <tr style=\"text-align: right;\">\n",
       "      <th></th>\n",
       "      <th>year</th>\n",
       "      <th>period</th>\n",
       "      <th>value</th>\n",
       "      <th>inflation_rate</th>\n",
       "      <th>cpi_value</th>\n",
       "      <th>cpi_Data_df</th>\n",
       "    </tr>\n",
       "    <tr>\n",
       "      <th>date</th>\n",
       "      <th></th>\n",
       "      <th></th>\n",
       "      <th></th>\n",
       "      <th></th>\n",
       "      <th></th>\n",
       "      <th></th>\n",
       "    </tr>\n",
       "  </thead>\n",
       "  <tbody>\n",
       "    <tr>\n",
       "      <th>2018-01-01</th>\n",
       "      <td>2018</td>\n",
       "      <td>M01</td>\n",
       "      <td>247.867</td>\n",
       "      <td>NaN</td>\n",
       "      <td>247.867</td>\n",
       "      <td>247.867</td>\n",
       "    </tr>\n",
       "    <tr>\n",
       "      <th>2018-02-01</th>\n",
       "      <td>2018</td>\n",
       "      <td>M02</td>\n",
       "      <td>248.991</td>\n",
       "      <td>0.453469</td>\n",
       "      <td>248.991</td>\n",
       "      <td>248.991</td>\n",
       "    </tr>\n",
       "    <tr>\n",
       "      <th>2018-03-01</th>\n",
       "      <td>2018</td>\n",
       "      <td>M03</td>\n",
       "      <td>249.554</td>\n",
       "      <td>0.226113</td>\n",
       "      <td>249.554</td>\n",
       "      <td>249.554</td>\n",
       "    </tr>\n",
       "    <tr>\n",
       "      <th>2018-04-01</th>\n",
       "      <td>2018</td>\n",
       "      <td>M04</td>\n",
       "      <td>250.546</td>\n",
       "      <td>0.397509</td>\n",
       "      <td>250.546</td>\n",
       "      <td>250.546</td>\n",
       "    </tr>\n",
       "    <tr>\n",
       "      <th>2018-05-01</th>\n",
       "      <td>2018</td>\n",
       "      <td>M05</td>\n",
       "      <td>251.588</td>\n",
       "      <td>0.415892</td>\n",
       "      <td>251.588</td>\n",
       "      <td>251.588</td>\n",
       "    </tr>\n",
       "  </tbody>\n",
       "</table>\n",
       "</div>"
      ],
      "text/plain": [
       "            year period    value  inflation_rate  cpi_value  cpi_Data_df\n",
       "date                                                                    \n",
       "2018-01-01  2018    M01  247.867             NaN    247.867      247.867\n",
       "2018-02-01  2018    M02  248.991        0.453469    248.991      248.991\n",
       "2018-03-01  2018    M03  249.554        0.226113    249.554      249.554\n",
       "2018-04-01  2018    M04  250.546        0.397509    250.546      250.546\n",
       "2018-05-01  2018    M05  251.588        0.415892    251.588      251.588"
      ]
     },
     "execution_count": 22,
     "metadata": {},
     "output_type": "execute_result"
    }
   ],
   "source": [
    "cpi_data_df.head()"
   ]
  },
  {
   "cell_type": "code",
   "execution_count": 23,
   "metadata": {},
   "outputs": [],
   "source": [
    "# Assuming your DataFrame is called \"df\"\n",
    "df = df.reset_index()\n",
    "\n",
    "# This will make \"date\" a regular column in the DataFrame\n"
   ]
  },
  {
   "cell_type": "code",
   "execution_count": 24,
   "metadata": {},
   "outputs": [
    {
     "data": {
      "text/html": [
       "<div>\n",
       "<style scoped>\n",
       "    .dataframe tbody tr th:only-of-type {\n",
       "        vertical-align: middle;\n",
       "    }\n",
       "\n",
       "    .dataframe tbody tr th {\n",
       "        vertical-align: top;\n",
       "    }\n",
       "\n",
       "    .dataframe thead th {\n",
       "        text-align: right;\n",
       "    }\n",
       "</style>\n",
       "<table border=\"1\" class=\"dataframe\">\n",
       "  <thead>\n",
       "    <tr style=\"text-align: right;\">\n",
       "      <th></th>\n",
       "      <th>index</th>\n",
       "      <th>Open</th>\n",
       "      <th>High</th>\n",
       "      <th>Low</th>\n",
       "      <th>Close</th>\n",
       "      <th>Volume</th>\n",
       "      <th>BTC-USD</th>\n",
       "      <th>nasdaq</th>\n",
       "      <th>gold</th>\n",
       "      <th>oil</th>\n",
       "      <th>sp500</th>\n",
       "      <th>vix</th>\n",
       "      <th>ftse100</th>\n",
       "      <th>tnx</th>\n",
       "      <th>gbp_usd</th>\n",
       "      <th>eur_usd</th>\n",
       "      <th>usd_jpy</th>\n",
       "      <th>cpi_value</th>\n",
       "    </tr>\n",
       "  </thead>\n",
       "  <tbody>\n",
       "    <tr>\n",
       "      <th>1905</th>\n",
       "      <td>2023-01-28</td>\n",
       "      <td>1598.125366</td>\n",
       "      <td>1604.704102</td>\n",
       "      <td>1565.390137</td>\n",
       "      <td>1572.435059</td>\n",
       "      <td>5.803653e+09</td>\n",
       "      <td>23031.089844</td>\n",
       "      <td>60.266903</td>\n",
       "      <td>1928.599976</td>\n",
       "      <td>79.680000</td>\n",
       "      <td>4070.560059</td>\n",
       "      <td>18.510000</td>\n",
       "      <td>7765.200195</td>\n",
       "      <td>3.518</td>\n",
       "      <td>1.241527</td>\n",
       "      <td>1.089443</td>\n",
       "      <td>129.800003</td>\n",
       "      <td>299.17</td>\n",
       "    </tr>\n",
       "    <tr>\n",
       "      <th>1906</th>\n",
       "      <td>2023-01-29</td>\n",
       "      <td>1572.629517</td>\n",
       "      <td>1653.724976</td>\n",
       "      <td>1568.984863</td>\n",
       "      <td>1646.155640</td>\n",
       "      <td>8.801292e+09</td>\n",
       "      <td>23774.566406</td>\n",
       "      <td>60.266903</td>\n",
       "      <td>1928.599976</td>\n",
       "      <td>79.680000</td>\n",
       "      <td>4070.560059</td>\n",
       "      <td>18.510000</td>\n",
       "      <td>7765.200195</td>\n",
       "      <td>3.518</td>\n",
       "      <td>1.241527</td>\n",
       "      <td>1.089443</td>\n",
       "      <td>129.800003</td>\n",
       "      <td>299.17</td>\n",
       "    </tr>\n",
       "    <tr>\n",
       "      <th>1907</th>\n",
       "      <td>2023-01-30</td>\n",
       "      <td>1646.147705</td>\n",
       "      <td>1646.651611</td>\n",
       "      <td>1546.660767</td>\n",
       "      <td>1567.326538</td>\n",
       "      <td>9.180418e+09</td>\n",
       "      <td>22840.138672</td>\n",
       "      <td>59.420177</td>\n",
       "      <td>1922.900024</td>\n",
       "      <td>77.900002</td>\n",
       "      <td>4017.770020</td>\n",
       "      <td>19.940001</td>\n",
       "      <td>7784.899902</td>\n",
       "      <td>3.551</td>\n",
       "      <td>1.240030</td>\n",
       "      <td>1.087146</td>\n",
       "      <td>129.854004</td>\n",
       "      <td>299.17</td>\n",
       "    </tr>\n",
       "    <tr>\n",
       "      <th>1908</th>\n",
       "      <td>2023-01-31</td>\n",
       "      <td>1567.419922</td>\n",
       "      <td>1598.517578</td>\n",
       "      <td>1563.804321</td>\n",
       "      <td>1586.535400</td>\n",
       "      <td>6.585191e+09</td>\n",
       "      <td>23139.283203</td>\n",
       "      <td>59.958096</td>\n",
       "      <td>1929.500000</td>\n",
       "      <td>78.870003</td>\n",
       "      <td>4076.600098</td>\n",
       "      <td>19.400000</td>\n",
       "      <td>7771.700195</td>\n",
       "      <td>3.529</td>\n",
       "      <td>1.235361</td>\n",
       "      <td>1.085069</td>\n",
       "      <td>130.479004</td>\n",
       "      <td>299.17</td>\n",
       "    </tr>\n",
       "    <tr>\n",
       "      <th>1909</th>\n",
       "      <td>2023-02-01</td>\n",
       "      <td>1567.419922</td>\n",
       "      <td>1598.517578</td>\n",
       "      <td>1563.804321</td>\n",
       "      <td>1586.535400</td>\n",
       "      <td>6.585191e+09</td>\n",
       "      <td>23139.283203</td>\n",
       "      <td>59.958096</td>\n",
       "      <td>1929.500000</td>\n",
       "      <td>78.870003</td>\n",
       "      <td>4076.600098</td>\n",
       "      <td>19.400000</td>\n",
       "      <td>7771.700195</td>\n",
       "      <td>3.529</td>\n",
       "      <td>1.235361</td>\n",
       "      <td>1.085069</td>\n",
       "      <td>130.479004</td>\n",
       "      <td>300.84</td>\n",
       "    </tr>\n",
       "  </tbody>\n",
       "</table>\n",
       "</div>"
      ],
      "text/plain": [
       "          index         Open         High          Low        Close  \\\n",
       "1905 2023-01-28  1598.125366  1604.704102  1565.390137  1572.435059   \n",
       "1906 2023-01-29  1572.629517  1653.724976  1568.984863  1646.155640   \n",
       "1907 2023-01-30  1646.147705  1646.651611  1546.660767  1567.326538   \n",
       "1908 2023-01-31  1567.419922  1598.517578  1563.804321  1586.535400   \n",
       "1909 2023-02-01  1567.419922  1598.517578  1563.804321  1586.535400   \n",
       "\n",
       "            Volume       BTC-USD     nasdaq         gold        oil  \\\n",
       "1905  5.803653e+09  23031.089844  60.266903  1928.599976  79.680000   \n",
       "1906  8.801292e+09  23774.566406  60.266903  1928.599976  79.680000   \n",
       "1907  9.180418e+09  22840.138672  59.420177  1922.900024  77.900002   \n",
       "1908  6.585191e+09  23139.283203  59.958096  1929.500000  78.870003   \n",
       "1909  6.585191e+09  23139.283203  59.958096  1929.500000  78.870003   \n",
       "\n",
       "            sp500        vix      ftse100    tnx   gbp_usd   eur_usd  \\\n",
       "1905  4070.560059  18.510000  7765.200195  3.518  1.241527  1.089443   \n",
       "1906  4070.560059  18.510000  7765.200195  3.518  1.241527  1.089443   \n",
       "1907  4017.770020  19.940001  7784.899902  3.551  1.240030  1.087146   \n",
       "1908  4076.600098  19.400000  7771.700195  3.529  1.235361  1.085069   \n",
       "1909  4076.600098  19.400000  7771.700195  3.529  1.235361  1.085069   \n",
       "\n",
       "         usd_jpy  cpi_value  \n",
       "1905  129.800003     299.17  \n",
       "1906  129.800003     299.17  \n",
       "1907  129.854004     299.17  \n",
       "1908  130.479004     299.17  \n",
       "1909  130.479004     300.84  "
      ]
     },
     "execution_count": 24,
     "metadata": {},
     "output_type": "execute_result"
    }
   ],
   "source": [
    "df.tail()"
   ]
  },
  {
   "cell_type": "code",
   "execution_count": 25,
   "metadata": {},
   "outputs": [
    {
     "name": "stdout",
     "output_type": "stream",
     "text": [
      "<class 'pandas.core.frame.DataFrame'>\n",
      "RangeIndex: 1910 entries, 0 to 1909\n",
      "Data columns (total 18 columns):\n",
      " #   Column     Non-Null Count  Dtype         \n",
      "---  ------     --------------  -----         \n",
      " 0   index      1910 non-null   datetime64[ns]\n",
      " 1   Open       1910 non-null   float64       \n",
      " 2   High       1910 non-null   float64       \n",
      " 3   Low        1910 non-null   float64       \n",
      " 4   Close      1910 non-null   float64       \n",
      " 5   Volume     1910 non-null   float64       \n",
      " 6   BTC-USD    1910 non-null   float64       \n",
      " 7   nasdaq     1910 non-null   float64       \n",
      " 8   gold       1910 non-null   float64       \n",
      " 9   oil        1910 non-null   float64       \n",
      " 10  sp500      1910 non-null   float64       \n",
      " 11  vix        1910 non-null   float64       \n",
      " 12  ftse100    1910 non-null   float64       \n",
      " 13  tnx        1910 non-null   float64       \n",
      " 14  gbp_usd    1910 non-null   float64       \n",
      " 15  eur_usd    1910 non-null   float64       \n",
      " 16  usd_jpy    1910 non-null   float64       \n",
      " 17  cpi_value  1910 non-null   float64       \n",
      "dtypes: datetime64[ns](1), float64(17)\n",
      "memory usage: 268.7 KB\n"
     ]
    }
   ],
   "source": [
    "df.info()"
   ]
  },
  {
   "cell_type": "code",
   "execution_count": 26,
   "metadata": {},
   "outputs": [
    {
     "data": {
      "text/html": [
       "<div>\n",
       "<style scoped>\n",
       "    .dataframe tbody tr th:only-of-type {\n",
       "        vertical-align: middle;\n",
       "    }\n",
       "\n",
       "    .dataframe tbody tr th {\n",
       "        vertical-align: top;\n",
       "    }\n",
       "\n",
       "    .dataframe thead th {\n",
       "        text-align: right;\n",
       "    }\n",
       "</style>\n",
       "<table border=\"1\" class=\"dataframe\">\n",
       "  <thead>\n",
       "    <tr style=\"text-align: right;\">\n",
       "      <th></th>\n",
       "      <th>Open</th>\n",
       "      <th>High</th>\n",
       "      <th>Low</th>\n",
       "      <th>Close</th>\n",
       "      <th>Volume</th>\n",
       "      <th>BTC-USD</th>\n",
       "      <th>nasdaq</th>\n",
       "      <th>gold</th>\n",
       "      <th>oil</th>\n",
       "      <th>sp500</th>\n",
       "      <th>vix</th>\n",
       "      <th>ftse100</th>\n",
       "      <th>tnx</th>\n",
       "      <th>gbp_usd</th>\n",
       "      <th>eur_usd</th>\n",
       "      <th>usd_jpy</th>\n",
       "      <th>cpi_value</th>\n",
       "    </tr>\n",
       "  </thead>\n",
       "  <tbody>\n",
       "    <tr>\n",
       "      <th>count</th>\n",
       "      <td>1910.000000</td>\n",
       "      <td>1910.000000</td>\n",
       "      <td>1910.000000</td>\n",
       "      <td>1910.000000</td>\n",
       "      <td>1.910000e+03</td>\n",
       "      <td>1910.000000</td>\n",
       "      <td>1910.000000</td>\n",
       "      <td>1910.000000</td>\n",
       "      <td>1910.000000</td>\n",
       "      <td>1910.000000</td>\n",
       "      <td>1910.000000</td>\n",
       "      <td>1910.000000</td>\n",
       "      <td>1910.000000</td>\n",
       "      <td>1910.000000</td>\n",
       "      <td>1910.000000</td>\n",
       "      <td>1910.000000</td>\n",
       "      <td>1910.000000</td>\n",
       "    </tr>\n",
       "    <tr>\n",
       "      <th>mean</th>\n",
       "      <td>1135.598275</td>\n",
       "      <td>1171.846633</td>\n",
       "      <td>1094.604958</td>\n",
       "      <td>1136.034882</td>\n",
       "      <td>1.281114e+10</td>\n",
       "      <td>20122.107539</td>\n",
       "      <td>41.750427</td>\n",
       "      <td>1602.121308</td>\n",
       "      <td>64.768827</td>\n",
       "      <td>3435.478175</td>\n",
       "      <td>20.871382</td>\n",
       "      <td>7074.942623</td>\n",
       "      <td>2.097643</td>\n",
       "      <td>1.301590</td>\n",
       "      <td>1.136236</td>\n",
       "      <td>113.744716</td>\n",
       "      <td>266.235410</td>\n",
       "    </tr>\n",
       "    <tr>\n",
       "      <th>std</th>\n",
       "      <td>1179.653102</td>\n",
       "      <td>1215.628916</td>\n",
       "      <td>1138.067608</td>\n",
       "      <td>1179.080349</td>\n",
       "      <td>1.072836e+10</td>\n",
       "      <td>16675.407913</td>\n",
       "      <td>14.225484</td>\n",
       "      <td>250.202739</td>\n",
       "      <td>19.633214</td>\n",
       "      <td>671.156720</td>\n",
       "      <td>8.338406</td>\n",
       "      <td>538.744006</td>\n",
       "      <td>0.911533</td>\n",
       "      <td>0.067484</td>\n",
       "      <td>0.059831</td>\n",
       "      <td>10.397500</td>\n",
       "      <td>15.709928</td>\n",
       "    </tr>\n",
       "    <tr>\n",
       "      <th>min</th>\n",
       "      <td>84.279694</td>\n",
       "      <td>85.342743</td>\n",
       "      <td>82.829887</td>\n",
       "      <td>84.308296</td>\n",
       "      <td>6.217330e+08</td>\n",
       "      <td>3236.761719</td>\n",
       "      <td>22.436792</td>\n",
       "      <td>1176.199951</td>\n",
       "      <td>-37.630001</td>\n",
       "      <td>2237.399902</td>\n",
       "      <td>9.150000</td>\n",
       "      <td>4993.899902</td>\n",
       "      <td>0.499000</td>\n",
       "      <td>1.072754</td>\n",
       "      <td>0.959619</td>\n",
       "      <td>102.678001</td>\n",
       "      <td>247.867000</td>\n",
       "    </tr>\n",
       "    <tr>\n",
       "      <th>25%</th>\n",
       "      <td>212.039810</td>\n",
       "      <td>218.066223</td>\n",
       "      <td>207.782913</td>\n",
       "      <td>211.869495</td>\n",
       "      <td>4.492992e+09</td>\n",
       "      <td>7826.433594</td>\n",
       "      <td>28.491692</td>\n",
       "      <td>1321.124969</td>\n",
       "      <td>53.779999</td>\n",
       "      <td>2826.060059</td>\n",
       "      <td>15.262500</td>\n",
       "      <td>6918.700195</td>\n",
       "      <td>1.459250</td>\n",
       "      <td>1.257561</td>\n",
       "      <td>1.104826</td>\n",
       "      <td>107.807999</td>\n",
       "      <td>255.548000</td>\n",
       "    </tr>\n",
       "    <tr>\n",
       "      <th>50%</th>\n",
       "      <td>534.578522</td>\n",
       "      <td>549.136139</td>\n",
       "      <td>513.534607</td>\n",
       "      <td>537.112488</td>\n",
       "      <td>1.044242e+10</td>\n",
       "      <td>11235.824219</td>\n",
       "      <td>38.257967</td>\n",
       "      <td>1700.500000</td>\n",
       "      <td>63.009998</td>\n",
       "      <td>3265.350098</td>\n",
       "      <td>19.400000</td>\n",
       "      <td>7214.149902</td>\n",
       "      <td>2.000000</td>\n",
       "      <td>1.306677</td>\n",
       "      <td>1.136648</td>\n",
       "      <td>109.968002</td>\n",
       "      <td>259.101000</td>\n",
       "    </tr>\n",
       "    <tr>\n",
       "      <th>75%</th>\n",
       "      <td>1740.950958</td>\n",
       "      <td>1794.736481</td>\n",
       "      <td>1677.543488</td>\n",
       "      <td>1741.246216</td>\n",
       "      <td>1.806821e+10</td>\n",
       "      <td>32171.524902</td>\n",
       "      <td>56.356748</td>\n",
       "      <td>1812.524994</td>\n",
       "      <td>74.050003</td>\n",
       "      <td>4017.807556</td>\n",
       "      <td>24.719999</td>\n",
       "      <td>7456.125000</td>\n",
       "      <td>2.857000</td>\n",
       "      <td>1.353340</td>\n",
       "      <td>1.181181</td>\n",
       "      <td>113.573753</td>\n",
       "      <td>276.589000</td>\n",
       "    </tr>\n",
       "    <tr>\n",
       "      <th>max</th>\n",
       "      <td>4810.071289</td>\n",
       "      <td>4891.704590</td>\n",
       "      <td>4718.039062</td>\n",
       "      <td>4812.087402</td>\n",
       "      <td>8.448291e+10</td>\n",
       "      <td>67566.828125</td>\n",
       "      <td>69.549347</td>\n",
       "      <td>2051.500000</td>\n",
       "      <td>123.699997</td>\n",
       "      <td>4796.560059</td>\n",
       "      <td>82.690002</td>\n",
       "      <td>7877.500000</td>\n",
       "      <td>4.234000</td>\n",
       "      <td>1.434206</td>\n",
       "      <td>1.251001</td>\n",
       "      <td>150.175995</td>\n",
       "      <td>300.840000</td>\n",
       "    </tr>\n",
       "  </tbody>\n",
       "</table>\n",
       "</div>"
      ],
      "text/plain": [
       "              Open         High          Low        Close        Volume  \\\n",
       "count  1910.000000  1910.000000  1910.000000  1910.000000  1.910000e+03   \n",
       "mean   1135.598275  1171.846633  1094.604958  1136.034882  1.281114e+10   \n",
       "std    1179.653102  1215.628916  1138.067608  1179.080349  1.072836e+10   \n",
       "min      84.279694    85.342743    82.829887    84.308296  6.217330e+08   \n",
       "25%     212.039810   218.066223   207.782913   211.869495  4.492992e+09   \n",
       "50%     534.578522   549.136139   513.534607   537.112488  1.044242e+10   \n",
       "75%    1740.950958  1794.736481  1677.543488  1741.246216  1.806821e+10   \n",
       "max    4810.071289  4891.704590  4718.039062  4812.087402  8.448291e+10   \n",
       "\n",
       "            BTC-USD       nasdaq         gold          oil        sp500  \\\n",
       "count   1910.000000  1910.000000  1910.000000  1910.000000  1910.000000   \n",
       "mean   20122.107539    41.750427  1602.121308    64.768827  3435.478175   \n",
       "std    16675.407913    14.225484   250.202739    19.633214   671.156720   \n",
       "min     3236.761719    22.436792  1176.199951   -37.630001  2237.399902   \n",
       "25%     7826.433594    28.491692  1321.124969    53.779999  2826.060059   \n",
       "50%    11235.824219    38.257967  1700.500000    63.009998  3265.350098   \n",
       "75%    32171.524902    56.356748  1812.524994    74.050003  4017.807556   \n",
       "max    67566.828125    69.549347  2051.500000   123.699997  4796.560059   \n",
       "\n",
       "               vix      ftse100          tnx      gbp_usd      eur_usd  \\\n",
       "count  1910.000000  1910.000000  1910.000000  1910.000000  1910.000000   \n",
       "mean     20.871382  7074.942623     2.097643     1.301590     1.136236   \n",
       "std       8.338406   538.744006     0.911533     0.067484     0.059831   \n",
       "min       9.150000  4993.899902     0.499000     1.072754     0.959619   \n",
       "25%      15.262500  6918.700195     1.459250     1.257561     1.104826   \n",
       "50%      19.400000  7214.149902     2.000000     1.306677     1.136648   \n",
       "75%      24.719999  7456.125000     2.857000     1.353340     1.181181   \n",
       "max      82.690002  7877.500000     4.234000     1.434206     1.251001   \n",
       "\n",
       "           usd_jpy    cpi_value  \n",
       "count  1910.000000  1910.000000  \n",
       "mean    113.744716   266.235410  \n",
       "std      10.397500    15.709928  \n",
       "min     102.678001   247.867000  \n",
       "25%     107.807999   255.548000  \n",
       "50%     109.968002   259.101000  \n",
       "75%     113.573753   276.589000  \n",
       "max     150.175995   300.840000  "
      ]
     },
     "execution_count": 26,
     "metadata": {},
     "output_type": "execute_result"
    }
   ],
   "source": [
    "df.describe()"
   ]
  },
  {
   "cell_type": "code",
   "execution_count": 27,
   "metadata": {},
   "outputs": [
    {
     "name": "stdout",
     "output_type": "stream",
     "text": [
      "Starting Date 2017-11-10 00:00:00\n",
      "Ending Date 2023-02-01 00:00:00\n"
     ]
    }
   ],
   "source": [
    "# Printing the start date and End date of the dataset\n",
    "\n",
    "sd=df.iloc[0][0]\n",
    "ed=df.iloc[-1][0]\n",
    "\n",
    "\n",
    "print('Starting Date',sd)\n",
    "print('Ending Date',ed)"
   ]
  },
  {
   "cell_type": "code",
   "execution_count": 28,
   "metadata": {},
   "outputs": [
    {
     "name": "stdout",
     "output_type": "stream",
     "text": [
      "    Year  Month         Open         High          Low        Close  \\\n",
      "0   2017     11   320.670990   522.307007   294.541992   447.114014   \n",
      "1   2017     12   445.209015   881.943970   414.411011   756.732971   \n",
      "2   2018      1   755.757019  1432.880005   742.004028  1118.310059   \n",
      "3   2018      2  1119.369995  1161.349976   574.419006   855.198975   \n",
      "4   2018      3   856.012024   880.302002   368.632996   396.457001   \n",
      "..   ...    ...          ...          ...          ...          ...   \n",
      "59  2022     10  1328.193726  1652.382202  1209.278198  1572.714478   \n",
      "60  2022     11  1572.645386  1661.334717  1081.138184  1295.688599   \n",
      "61  2022     12  1295.769531  1346.174438  1160.377197  1196.771240   \n",
      "62  2023      1  1196.713623  1674.179321  1192.885376  1586.535400   \n",
      "63  2023      2  1567.419922  1598.517578  1563.804321  1586.535400   \n",
      "\n",
      "          Volume    BTC-USD       nasdaq       gold          oil      sp500  \\\n",
      "0   2.606425e+10  24.141592  1273.199951  57.400002  2647.580078  11.280000   \n",
      "1   7.986228e+10  23.545406  1306.300049  60.419998  2673.610107  11.040000   \n",
      "2   1.636102e+11  24.795763  1339.000000  64.730003  2823.810059  13.540000   \n",
      "3   8.339344e+10  24.746735  1315.500000  61.639999  2713.830078  19.850000   \n",
      "4   5.371618e+10  26.542622  1322.800049  64.940002  2640.870117  19.969999   \n",
      "..           ...        ...          ...        ...          ...        ...   \n",
      "59  3.820716e+11  61.819077  1635.900024  86.529999  3871.979980  25.879999   \n",
      "60  4.217979e+11  67.997009  1746.000000  80.550003  4080.110107  20.580000   \n",
      "61  1.611306e+11  61.113628  1819.699951  80.260002  3839.500000  21.670000   \n",
      "62  2.249530e+11  59.958096  1929.500000  78.870003  4076.600098  19.400000   \n",
      "63  6.585191e+09  59.958096  1929.500000  78.870003  4076.600098  19.400000   \n",
      "\n",
      "            vix  ftse100       tnx   gbp_usd     eur_usd  usd_jpy  \\\n",
      "0   7326.700195    2.417  1.341724  1.185199  112.001999  259.101   \n",
      "1   7687.799805    2.405  1.344086  1.194172  112.875000  259.101   \n",
      "2   7533.600098    2.720  1.415588  1.240957  108.732002  247.867   \n",
      "3   7231.899902    2.868  1.390608  1.223032  107.426003  248.991   \n",
      "4   7056.600098    2.741  1.402938  1.230285  106.478996  249.554   \n",
      "..          ...      ...       ...       ...         ...      ...   \n",
      "59  7094.500000    4.077  1.159595  0.995500  147.811996  298.012   \n",
      "60  7573.100098    3.703  1.194686  1.032450  138.744995  297.711   \n",
      "61  7451.700195    3.879  1.205633  1.066075  132.916000  296.797   \n",
      "62  7771.700195    3.529  1.235361  1.085069  130.479004  299.170   \n",
      "63  7771.700195    3.529  1.235361  1.085069  130.479004  300.840   \n",
      "\n",
      "       cpi_value Year_Month  \n",
      "0   10233.599609 2017-11-01  \n",
      "1   14156.400391 2017-12-01  \n",
      "2   10221.099609 2018-01-01  \n",
      "3   10397.900391 2018-02-01  \n",
      "4    6973.529785 2018-03-01  \n",
      "..           ...        ...  \n",
      "59  20495.773438 2022-10-01  \n",
      "60  17168.566406 2022-11-01  \n",
      "61  16547.496094 2022-12-01  \n",
      "62  23139.283203 2023-01-01  \n",
      "63  23139.283203 2023-02-01  \n",
      "\n",
      "[64 rows x 20 columns]\n"
     ]
    }
   ],
   "source": [
    "#This code will create a new DataFrame called monthly_df that contains the aggregated monthly data, and the last column Year_Month is the datetime format for each month.\n",
    "# Load the data\n",
    "\n",
    "# Convert the date column to datetime format\n",
    "df['index'] = pd.to_datetime(df['index'])\n",
    "\n",
    "# Group by year and month and calculate the monthly statistics\n",
    "monthly_df = df.groupby([df['index'].dt.year, df['index'].dt.month]).agg({\n",
    "    'Open': 'first',\n",
    "    'High': 'max',\n",
    "    'Low': 'min',\n",
    "    'Close': 'last',\n",
    "    'Volume': 'sum',\n",
    "    'nasdaq': 'last',\n",
    "    'gold': 'last',\n",
    "    'oil': 'last',\n",
    "    'sp500': 'last',\n",
    "    'vix': 'last',\n",
    "    'ftse100': 'last',\n",
    "    'tnx': 'last',\n",
    "    'gbp_usd': 'last',\n",
    "    'eur_usd': 'last',\n",
    "    'usd_jpy': 'last',\n",
    "    'cpi_value': 'last',\n",
    "    'BTC-USD': 'last'\n",
    "})\n",
    "\n",
    "# Rename the index and reset the column names\n",
    "monthly_df.index.names = ['Year', 'Month']\n",
    "monthly_df = monthly_df.reset_index()\n",
    "monthly_df.columns = ['Year', 'Month', 'Open', 'High', 'Low', 'Close', 'Volume','BTC-USD', 'nasdaq', 'gold', 'oil', 'sp500', 'vix', 'ftse100', 'tnx', 'gbp_usd', 'eur_usd', 'usd_jpy', 'cpi_value']\n",
    "\n",
    "# Convert the Year and Month columns to datetime format\n",
    "monthly_df['Year_Month'] = pd.to_datetime(monthly_df[['Year', 'Month']].assign(Day=1))\n",
    "\n",
    "# Print the monthly data\n",
    "print(monthly_df)\n"
   ]
  },
  {
   "cell_type": "code",
   "execution_count": 29,
   "metadata": {},
   "outputs": [
    {
     "data": {
      "text/html": [
       "<div>\n",
       "<style scoped>\n",
       "    .dataframe tbody tr th:only-of-type {\n",
       "        vertical-align: middle;\n",
       "    }\n",
       "\n",
       "    .dataframe tbody tr th {\n",
       "        vertical-align: top;\n",
       "    }\n",
       "\n",
       "    .dataframe thead th {\n",
       "        text-align: right;\n",
       "    }\n",
       "</style>\n",
       "<table border=\"1\" class=\"dataframe\">\n",
       "  <thead>\n",
       "    <tr style=\"text-align: right;\">\n",
       "      <th></th>\n",
       "      <th>Year</th>\n",
       "      <th>Month</th>\n",
       "      <th>Open</th>\n",
       "      <th>High</th>\n",
       "      <th>Low</th>\n",
       "      <th>Close</th>\n",
       "      <th>Volume</th>\n",
       "      <th>BTC-USD</th>\n",
       "      <th>nasdaq</th>\n",
       "      <th>gold</th>\n",
       "      <th>oil</th>\n",
       "      <th>sp500</th>\n",
       "      <th>vix</th>\n",
       "      <th>ftse100</th>\n",
       "      <th>tnx</th>\n",
       "      <th>gbp_usd</th>\n",
       "      <th>eur_usd</th>\n",
       "      <th>usd_jpy</th>\n",
       "      <th>cpi_value</th>\n",
       "      <th>Year_Month</th>\n",
       "    </tr>\n",
       "  </thead>\n",
       "  <tbody>\n",
       "    <tr>\n",
       "      <th>0</th>\n",
       "      <td>2017</td>\n",
       "      <td>11</td>\n",
       "      <td>320.670990</td>\n",
       "      <td>522.307007</td>\n",
       "      <td>294.541992</td>\n",
       "      <td>447.114014</td>\n",
       "      <td>2.606425e+10</td>\n",
       "      <td>24.141592</td>\n",
       "      <td>1273.199951</td>\n",
       "      <td>57.400002</td>\n",
       "      <td>2647.580078</td>\n",
       "      <td>11.280000</td>\n",
       "      <td>7326.700195</td>\n",
       "      <td>2.417</td>\n",
       "      <td>1.341724</td>\n",
       "      <td>1.185199</td>\n",
       "      <td>112.001999</td>\n",
       "      <td>259.101</td>\n",
       "      <td>10233.599609</td>\n",
       "      <td>2017-11-01</td>\n",
       "    </tr>\n",
       "    <tr>\n",
       "      <th>1</th>\n",
       "      <td>2017</td>\n",
       "      <td>12</td>\n",
       "      <td>445.209015</td>\n",
       "      <td>881.943970</td>\n",
       "      <td>414.411011</td>\n",
       "      <td>756.732971</td>\n",
       "      <td>7.986228e+10</td>\n",
       "      <td>23.545406</td>\n",
       "      <td>1306.300049</td>\n",
       "      <td>60.419998</td>\n",
       "      <td>2673.610107</td>\n",
       "      <td>11.040000</td>\n",
       "      <td>7687.799805</td>\n",
       "      <td>2.405</td>\n",
       "      <td>1.344086</td>\n",
       "      <td>1.194172</td>\n",
       "      <td>112.875000</td>\n",
       "      <td>259.101</td>\n",
       "      <td>14156.400391</td>\n",
       "      <td>2017-12-01</td>\n",
       "    </tr>\n",
       "    <tr>\n",
       "      <th>2</th>\n",
       "      <td>2018</td>\n",
       "      <td>1</td>\n",
       "      <td>755.757019</td>\n",
       "      <td>1432.880005</td>\n",
       "      <td>742.004028</td>\n",
       "      <td>1118.310059</td>\n",
       "      <td>1.636102e+11</td>\n",
       "      <td>24.795763</td>\n",
       "      <td>1339.000000</td>\n",
       "      <td>64.730003</td>\n",
       "      <td>2823.810059</td>\n",
       "      <td>13.540000</td>\n",
       "      <td>7533.600098</td>\n",
       "      <td>2.720</td>\n",
       "      <td>1.415588</td>\n",
       "      <td>1.240957</td>\n",
       "      <td>108.732002</td>\n",
       "      <td>247.867</td>\n",
       "      <td>10221.099609</td>\n",
       "      <td>2018-01-01</td>\n",
       "    </tr>\n",
       "    <tr>\n",
       "      <th>3</th>\n",
       "      <td>2018</td>\n",
       "      <td>2</td>\n",
       "      <td>1119.369995</td>\n",
       "      <td>1161.349976</td>\n",
       "      <td>574.419006</td>\n",
       "      <td>855.198975</td>\n",
       "      <td>8.339344e+10</td>\n",
       "      <td>24.746735</td>\n",
       "      <td>1315.500000</td>\n",
       "      <td>61.639999</td>\n",
       "      <td>2713.830078</td>\n",
       "      <td>19.850000</td>\n",
       "      <td>7231.899902</td>\n",
       "      <td>2.868</td>\n",
       "      <td>1.390608</td>\n",
       "      <td>1.223032</td>\n",
       "      <td>107.426003</td>\n",
       "      <td>248.991</td>\n",
       "      <td>10397.900391</td>\n",
       "      <td>2018-02-01</td>\n",
       "    </tr>\n",
       "    <tr>\n",
       "      <th>4</th>\n",
       "      <td>2018</td>\n",
       "      <td>3</td>\n",
       "      <td>856.012024</td>\n",
       "      <td>880.302002</td>\n",
       "      <td>368.632996</td>\n",
       "      <td>396.457001</td>\n",
       "      <td>5.371618e+10</td>\n",
       "      <td>26.542622</td>\n",
       "      <td>1322.800049</td>\n",
       "      <td>64.940002</td>\n",
       "      <td>2640.870117</td>\n",
       "      <td>19.969999</td>\n",
       "      <td>7056.600098</td>\n",
       "      <td>2.741</td>\n",
       "      <td>1.402938</td>\n",
       "      <td>1.230285</td>\n",
       "      <td>106.478996</td>\n",
       "      <td>249.554</td>\n",
       "      <td>6973.529785</td>\n",
       "      <td>2018-03-01</td>\n",
       "    </tr>\n",
       "  </tbody>\n",
       "</table>\n",
       "</div>"
      ],
      "text/plain": [
       "   Year  Month         Open         High         Low        Close  \\\n",
       "0  2017     11   320.670990   522.307007  294.541992   447.114014   \n",
       "1  2017     12   445.209015   881.943970  414.411011   756.732971   \n",
       "2  2018      1   755.757019  1432.880005  742.004028  1118.310059   \n",
       "3  2018      2  1119.369995  1161.349976  574.419006   855.198975   \n",
       "4  2018      3   856.012024   880.302002  368.632996   396.457001   \n",
       "\n",
       "         Volume    BTC-USD       nasdaq       gold          oil      sp500  \\\n",
       "0  2.606425e+10  24.141592  1273.199951  57.400002  2647.580078  11.280000   \n",
       "1  7.986228e+10  23.545406  1306.300049  60.419998  2673.610107  11.040000   \n",
       "2  1.636102e+11  24.795763  1339.000000  64.730003  2823.810059  13.540000   \n",
       "3  8.339344e+10  24.746735  1315.500000  61.639999  2713.830078  19.850000   \n",
       "4  5.371618e+10  26.542622  1322.800049  64.940002  2640.870117  19.969999   \n",
       "\n",
       "           vix  ftse100       tnx   gbp_usd     eur_usd  usd_jpy  \\\n",
       "0  7326.700195    2.417  1.341724  1.185199  112.001999  259.101   \n",
       "1  7687.799805    2.405  1.344086  1.194172  112.875000  259.101   \n",
       "2  7533.600098    2.720  1.415588  1.240957  108.732002  247.867   \n",
       "3  7231.899902    2.868  1.390608  1.223032  107.426003  248.991   \n",
       "4  7056.600098    2.741  1.402938  1.230285  106.478996  249.554   \n",
       "\n",
       "      cpi_value Year_Month  \n",
       "0  10233.599609 2017-11-01  \n",
       "1  14156.400391 2017-12-01  \n",
       "2  10221.099609 2018-01-01  \n",
       "3  10397.900391 2018-02-01  \n",
       "4   6973.529785 2018-03-01  "
      ]
     },
     "execution_count": 29,
     "metadata": {},
     "output_type": "execute_result"
    }
   ],
   "source": [
    "monthly_df.head()"
   ]
  },
  {
   "cell_type": "code",
   "execution_count": 30,
   "metadata": {},
   "outputs": [
    {
     "data": {
      "application/vnd.plotly.v1+json": {
       "config": {
        "plotlyServerURL": "https://plot.ly"
       },
       "data": [
        {
         "marker": {
          "color": "crimson"
         },
         "name": "Ethereum Open Price",
         "type": "bar",
         "x": [
          "2017-11-01T00:00:00",
          "2017-12-01T00:00:00",
          "2018-01-01T00:00:00",
          "2018-02-01T00:00:00",
          "2018-03-01T00:00:00",
          "2018-04-01T00:00:00",
          "2018-05-01T00:00:00",
          "2018-06-01T00:00:00",
          "2018-07-01T00:00:00",
          "2018-08-01T00:00:00",
          "2018-09-01T00:00:00",
          "2018-10-01T00:00:00",
          "2018-11-01T00:00:00",
          "2018-12-01T00:00:00",
          "2019-01-01T00:00:00",
          "2019-02-01T00:00:00",
          "2019-03-01T00:00:00",
          "2019-04-01T00:00:00",
          "2019-05-01T00:00:00",
          "2019-06-01T00:00:00",
          "2019-07-01T00:00:00",
          "2019-08-01T00:00:00",
          "2019-09-01T00:00:00",
          "2019-10-01T00:00:00",
          "2019-11-01T00:00:00",
          "2019-12-01T00:00:00",
          "2020-01-01T00:00:00",
          "2020-02-01T00:00:00",
          "2020-03-01T00:00:00",
          "2020-04-01T00:00:00",
          "2020-05-01T00:00:00",
          "2020-06-01T00:00:00",
          "2020-07-01T00:00:00",
          "2020-08-01T00:00:00",
          "2020-09-01T00:00:00",
          "2020-10-01T00:00:00",
          "2020-11-01T00:00:00",
          "2020-12-01T00:00:00",
          "2021-01-01T00:00:00",
          "2021-02-01T00:00:00",
          "2021-03-01T00:00:00",
          "2021-04-01T00:00:00",
          "2021-05-01T00:00:00",
          "2021-06-01T00:00:00",
          "2021-07-01T00:00:00",
          "2021-08-01T00:00:00",
          "2021-09-01T00:00:00",
          "2021-10-01T00:00:00",
          "2021-11-01T00:00:00",
          "2021-12-01T00:00:00",
          "2022-01-01T00:00:00",
          "2022-02-01T00:00:00",
          "2022-03-01T00:00:00",
          "2022-04-01T00:00:00",
          "2022-05-01T00:00:00",
          "2022-06-01T00:00:00",
          "2022-07-01T00:00:00",
          "2022-08-01T00:00:00",
          "2022-09-01T00:00:00",
          "2022-10-01T00:00:00",
          "2022-11-01T00:00:00",
          "2022-12-01T00:00:00",
          "2023-01-01T00:00:00",
          "2023-02-01T00:00:00"
         ],
         "y": [
          320.6709899902344,
          445.2090148925781,
          755.7570190429688,
          1119.3699951171875,
          856.0120239257812,
          397.2539978027344,
          670.4630126953125,
          578.6719970703125,
          455.24200439453125,
          433.8689880371094,
          283.4960021972656,
          233.22000122070312,
          197.53700256347656,
          113.39775848388672,
          133.41815185546875,
          107.1476821899414,
          136.83624267578125,
          141.46548461914062,
          162.18655395507812,
          268.433349609375,
          290.26849365234375,
          218.55459594726562,
          172.45840454101562,
          180.20912170410156,
          183.80369567871094,
          152.49192810058594,
          129.6306610107422,
          180.11376953125,
          219.752685546875,
          133.61231994628906,
          207.9017333984375,
          230.86026000976562,
          226.13458251953125,
          345.7986145019531,
          434.87445068359375,
          360.30914306640625,
          386.59033203125,
          615.0703125,
          737.7083740234375,
          1314.855224609375,
          1417.151123046875,
          1919.1572265625,
          2772.83837890625,
          2707.560546875,
          2274.3974609375,
          2530.462890625,
          3430.762451171875,
          3001.12939453125,
          4288.21728515625,
          4623.6796875,
          3683.047119140625,
          2687.89892578125,
          2919.77587890625,
          3282.576171875,
          2729.994140625,
          1942.0506591796875,
          1068.3167724609375,
          1681.445556640625,
          1553.75634765625,
          1328.1937255859375,
          1572.6453857421875,
          1295.76953125,
          1196.713623046875,
          1567.419921875
         ]
        },
        {
         "marker": {
          "color": "lightsalmon"
         },
         "name": "Ethereum Close Price",
         "type": "bar",
         "x": [
          "2017-11-01T00:00:00",
          "2017-12-01T00:00:00",
          "2018-01-01T00:00:00",
          "2018-02-01T00:00:00",
          "2018-03-01T00:00:00",
          "2018-04-01T00:00:00",
          "2018-05-01T00:00:00",
          "2018-06-01T00:00:00",
          "2018-07-01T00:00:00",
          "2018-08-01T00:00:00",
          "2018-09-01T00:00:00",
          "2018-10-01T00:00:00",
          "2018-11-01T00:00:00",
          "2018-12-01T00:00:00",
          "2019-01-01T00:00:00",
          "2019-02-01T00:00:00",
          "2019-03-01T00:00:00",
          "2019-04-01T00:00:00",
          "2019-05-01T00:00:00",
          "2019-06-01T00:00:00",
          "2019-07-01T00:00:00",
          "2019-08-01T00:00:00",
          "2019-09-01T00:00:00",
          "2019-10-01T00:00:00",
          "2019-11-01T00:00:00",
          "2019-12-01T00:00:00",
          "2020-01-01T00:00:00",
          "2020-02-01T00:00:00",
          "2020-03-01T00:00:00",
          "2020-04-01T00:00:00",
          "2020-05-01T00:00:00",
          "2020-06-01T00:00:00",
          "2020-07-01T00:00:00",
          "2020-08-01T00:00:00",
          "2020-09-01T00:00:00",
          "2020-10-01T00:00:00",
          "2020-11-01T00:00:00",
          "2020-12-01T00:00:00",
          "2021-01-01T00:00:00",
          "2021-02-01T00:00:00",
          "2021-03-01T00:00:00",
          "2021-04-01T00:00:00",
          "2021-05-01T00:00:00",
          "2021-06-01T00:00:00",
          "2021-07-01T00:00:00",
          "2021-08-01T00:00:00",
          "2021-09-01T00:00:00",
          "2021-10-01T00:00:00",
          "2021-11-01T00:00:00",
          "2021-12-01T00:00:00",
          "2022-01-01T00:00:00",
          "2022-02-01T00:00:00",
          "2022-03-01T00:00:00",
          "2022-04-01T00:00:00",
          "2022-05-01T00:00:00",
          "2022-06-01T00:00:00",
          "2022-07-01T00:00:00",
          "2022-08-01T00:00:00",
          "2022-09-01T00:00:00",
          "2022-10-01T00:00:00",
          "2022-11-01T00:00:00",
          "2022-12-01T00:00:00",
          "2023-01-01T00:00:00",
          "2023-02-01T00:00:00"
         ],
         "y": [
          447.114013671875,
          756.7329711914062,
          1118.31005859375,
          855.198974609375,
          396.4570007324219,
          669.9240112304688,
          577.64501953125,
          455.17999267578125,
          433.86700439453125,
          283.0039978027344,
          232.84800720214844,
          197.38099670410156,
          113.17141723632812,
          133.36825561523438,
          107.0610122680664,
          136.74624633789062,
          141.51409912109375,
          162.16603088378906,
          268.1135559082031,
          290.69598388671875,
          218.65414428710938,
          172.46978759765625,
          179.87220764160156,
          183.9669189453125,
          152.53968811035156,
          129.61085510253906,
          180.16017150878906,
          219.8485107421875,
          133.59356689453125,
          207.60205078125,
          230.9757080078125,
          226.31500244140625,
          345.5546569824219,
          435.0797424316406,
          359.9378662109375,
          386.59033203125,
          614.842529296875,
          737.8034057617188,
          1314.9862060546875,
          1416.0489501953125,
          1918.362060546875,
          2773.20703125,
          2714.9453125,
          2274.547607421875,
          2536.2099609375,
          3433.732666015625,
          3001.678955078125,
          4288.07421875,
          4631.47900390625,
          3682.6328125,
          2688.27880859375,
          2919.201171875,
          3281.642822265625,
          2730.186767578125,
          1942.3280029296875,
          1067.298828125,
          1681.517333984375,
          1553.6849365234375,
          1327.9786376953125,
          1572.7144775390625,
          1295.6885986328125,
          1196.771240234375,
          1586.535400390625,
          1586.535400390625
         ]
        }
       ],
       "layout": {
        "barmode": "group",
        "template": {
         "data": {
          "bar": [
           {
            "error_x": {
             "color": "#2a3f5f"
            },
            "error_y": {
             "color": "#2a3f5f"
            },
            "marker": {
             "line": {
              "color": "#E5ECF6",
              "width": 0.5
             },
             "pattern": {
              "fillmode": "overlay",
              "size": 10,
              "solidity": 0.2
             }
            },
            "type": "bar"
           }
          ],
          "barpolar": [
           {
            "marker": {
             "line": {
              "color": "#E5ECF6",
              "width": 0.5
             },
             "pattern": {
              "fillmode": "overlay",
              "size": 10,
              "solidity": 0.2
             }
            },
            "type": "barpolar"
           }
          ],
          "carpet": [
           {
            "aaxis": {
             "endlinecolor": "#2a3f5f",
             "gridcolor": "white",
             "linecolor": "white",
             "minorgridcolor": "white",
             "startlinecolor": "#2a3f5f"
            },
            "baxis": {
             "endlinecolor": "#2a3f5f",
             "gridcolor": "white",
             "linecolor": "white",
             "minorgridcolor": "white",
             "startlinecolor": "#2a3f5f"
            },
            "type": "carpet"
           }
          ],
          "choropleth": [
           {
            "colorbar": {
             "outlinewidth": 0,
             "ticks": ""
            },
            "type": "choropleth"
           }
          ],
          "contour": [
           {
            "colorbar": {
             "outlinewidth": 0,
             "ticks": ""
            },
            "colorscale": [
             [
              0,
              "#0d0887"
             ],
             [
              0.1111111111111111,
              "#46039f"
             ],
             [
              0.2222222222222222,
              "#7201a8"
             ],
             [
              0.3333333333333333,
              "#9c179e"
             ],
             [
              0.4444444444444444,
              "#bd3786"
             ],
             [
              0.5555555555555556,
              "#d8576b"
             ],
             [
              0.6666666666666666,
              "#ed7953"
             ],
             [
              0.7777777777777778,
              "#fb9f3a"
             ],
             [
              0.8888888888888888,
              "#fdca26"
             ],
             [
              1,
              "#f0f921"
             ]
            ],
            "type": "contour"
           }
          ],
          "contourcarpet": [
           {
            "colorbar": {
             "outlinewidth": 0,
             "ticks": ""
            },
            "type": "contourcarpet"
           }
          ],
          "heatmap": [
           {
            "colorbar": {
             "outlinewidth": 0,
             "ticks": ""
            },
            "colorscale": [
             [
              0,
              "#0d0887"
             ],
             [
              0.1111111111111111,
              "#46039f"
             ],
             [
              0.2222222222222222,
              "#7201a8"
             ],
             [
              0.3333333333333333,
              "#9c179e"
             ],
             [
              0.4444444444444444,
              "#bd3786"
             ],
             [
              0.5555555555555556,
              "#d8576b"
             ],
             [
              0.6666666666666666,
              "#ed7953"
             ],
             [
              0.7777777777777778,
              "#fb9f3a"
             ],
             [
              0.8888888888888888,
              "#fdca26"
             ],
             [
              1,
              "#f0f921"
             ]
            ],
            "type": "heatmap"
           }
          ],
          "heatmapgl": [
           {
            "colorbar": {
             "outlinewidth": 0,
             "ticks": ""
            },
            "colorscale": [
             [
              0,
              "#0d0887"
             ],
             [
              0.1111111111111111,
              "#46039f"
             ],
             [
              0.2222222222222222,
              "#7201a8"
             ],
             [
              0.3333333333333333,
              "#9c179e"
             ],
             [
              0.4444444444444444,
              "#bd3786"
             ],
             [
              0.5555555555555556,
              "#d8576b"
             ],
             [
              0.6666666666666666,
              "#ed7953"
             ],
             [
              0.7777777777777778,
              "#fb9f3a"
             ],
             [
              0.8888888888888888,
              "#fdca26"
             ],
             [
              1,
              "#f0f921"
             ]
            ],
            "type": "heatmapgl"
           }
          ],
          "histogram": [
           {
            "marker": {
             "pattern": {
              "fillmode": "overlay",
              "size": 10,
              "solidity": 0.2
             }
            },
            "type": "histogram"
           }
          ],
          "histogram2d": [
           {
            "colorbar": {
             "outlinewidth": 0,
             "ticks": ""
            },
            "colorscale": [
             [
              0,
              "#0d0887"
             ],
             [
              0.1111111111111111,
              "#46039f"
             ],
             [
              0.2222222222222222,
              "#7201a8"
             ],
             [
              0.3333333333333333,
              "#9c179e"
             ],
             [
              0.4444444444444444,
              "#bd3786"
             ],
             [
              0.5555555555555556,
              "#d8576b"
             ],
             [
              0.6666666666666666,
              "#ed7953"
             ],
             [
              0.7777777777777778,
              "#fb9f3a"
             ],
             [
              0.8888888888888888,
              "#fdca26"
             ],
             [
              1,
              "#f0f921"
             ]
            ],
            "type": "histogram2d"
           }
          ],
          "histogram2dcontour": [
           {
            "colorbar": {
             "outlinewidth": 0,
             "ticks": ""
            },
            "colorscale": [
             [
              0,
              "#0d0887"
             ],
             [
              0.1111111111111111,
              "#46039f"
             ],
             [
              0.2222222222222222,
              "#7201a8"
             ],
             [
              0.3333333333333333,
              "#9c179e"
             ],
             [
              0.4444444444444444,
              "#bd3786"
             ],
             [
              0.5555555555555556,
              "#d8576b"
             ],
             [
              0.6666666666666666,
              "#ed7953"
             ],
             [
              0.7777777777777778,
              "#fb9f3a"
             ],
             [
              0.8888888888888888,
              "#fdca26"
             ],
             [
              1,
              "#f0f921"
             ]
            ],
            "type": "histogram2dcontour"
           }
          ],
          "mesh3d": [
           {
            "colorbar": {
             "outlinewidth": 0,
             "ticks": ""
            },
            "type": "mesh3d"
           }
          ],
          "parcoords": [
           {
            "line": {
             "colorbar": {
              "outlinewidth": 0,
              "ticks": ""
             }
            },
            "type": "parcoords"
           }
          ],
          "pie": [
           {
            "automargin": true,
            "type": "pie"
           }
          ],
          "scatter": [
           {
            "fillpattern": {
             "fillmode": "overlay",
             "size": 10,
             "solidity": 0.2
            },
            "type": "scatter"
           }
          ],
          "scatter3d": [
           {
            "line": {
             "colorbar": {
              "outlinewidth": 0,
              "ticks": ""
             }
            },
            "marker": {
             "colorbar": {
              "outlinewidth": 0,
              "ticks": ""
             }
            },
            "type": "scatter3d"
           }
          ],
          "scattercarpet": [
           {
            "marker": {
             "colorbar": {
              "outlinewidth": 0,
              "ticks": ""
             }
            },
            "type": "scattercarpet"
           }
          ],
          "scattergeo": [
           {
            "marker": {
             "colorbar": {
              "outlinewidth": 0,
              "ticks": ""
             }
            },
            "type": "scattergeo"
           }
          ],
          "scattergl": [
           {
            "marker": {
             "colorbar": {
              "outlinewidth": 0,
              "ticks": ""
             }
            },
            "type": "scattergl"
           }
          ],
          "scattermapbox": [
           {
            "marker": {
             "colorbar": {
              "outlinewidth": 0,
              "ticks": ""
             }
            },
            "type": "scattermapbox"
           }
          ],
          "scatterpolar": [
           {
            "marker": {
             "colorbar": {
              "outlinewidth": 0,
              "ticks": ""
             }
            },
            "type": "scatterpolar"
           }
          ],
          "scatterpolargl": [
           {
            "marker": {
             "colorbar": {
              "outlinewidth": 0,
              "ticks": ""
             }
            },
            "type": "scatterpolargl"
           }
          ],
          "scatterternary": [
           {
            "marker": {
             "colorbar": {
              "outlinewidth": 0,
              "ticks": ""
             }
            },
            "type": "scatterternary"
           }
          ],
          "surface": [
           {
            "colorbar": {
             "outlinewidth": 0,
             "ticks": ""
            },
            "colorscale": [
             [
              0,
              "#0d0887"
             ],
             [
              0.1111111111111111,
              "#46039f"
             ],
             [
              0.2222222222222222,
              "#7201a8"
             ],
             [
              0.3333333333333333,
              "#9c179e"
             ],
             [
              0.4444444444444444,
              "#bd3786"
             ],
             [
              0.5555555555555556,
              "#d8576b"
             ],
             [
              0.6666666666666666,
              "#ed7953"
             ],
             [
              0.7777777777777778,
              "#fb9f3a"
             ],
             [
              0.8888888888888888,
              "#fdca26"
             ],
             [
              1,
              "#f0f921"
             ]
            ],
            "type": "surface"
           }
          ],
          "table": [
           {
            "cells": {
             "fill": {
              "color": "#EBF0F8"
             },
             "line": {
              "color": "white"
             }
            },
            "header": {
             "fill": {
              "color": "#C8D4E3"
             },
             "line": {
              "color": "white"
             }
            },
            "type": "table"
           }
          ]
         },
         "layout": {
          "annotationdefaults": {
           "arrowcolor": "#2a3f5f",
           "arrowhead": 0,
           "arrowwidth": 1
          },
          "autotypenumbers": "strict",
          "coloraxis": {
           "colorbar": {
            "outlinewidth": 0,
            "ticks": ""
           }
          },
          "colorscale": {
           "diverging": [
            [
             0,
             "#8e0152"
            ],
            [
             0.1,
             "#c51b7d"
            ],
            [
             0.2,
             "#de77ae"
            ],
            [
             0.3,
             "#f1b6da"
            ],
            [
             0.4,
             "#fde0ef"
            ],
            [
             0.5,
             "#f7f7f7"
            ],
            [
             0.6,
             "#e6f5d0"
            ],
            [
             0.7,
             "#b8e186"
            ],
            [
             0.8,
             "#7fbc41"
            ],
            [
             0.9,
             "#4d9221"
            ],
            [
             1,
             "#276419"
            ]
           ],
           "sequential": [
            [
             0,
             "#0d0887"
            ],
            [
             0.1111111111111111,
             "#46039f"
            ],
            [
             0.2222222222222222,
             "#7201a8"
            ],
            [
             0.3333333333333333,
             "#9c179e"
            ],
            [
             0.4444444444444444,
             "#bd3786"
            ],
            [
             0.5555555555555556,
             "#d8576b"
            ],
            [
             0.6666666666666666,
             "#ed7953"
            ],
            [
             0.7777777777777778,
             "#fb9f3a"
            ],
            [
             0.8888888888888888,
             "#fdca26"
            ],
            [
             1,
             "#f0f921"
            ]
           ],
           "sequentialminus": [
            [
             0,
             "#0d0887"
            ],
            [
             0.1111111111111111,
             "#46039f"
            ],
            [
             0.2222222222222222,
             "#7201a8"
            ],
            [
             0.3333333333333333,
             "#9c179e"
            ],
            [
             0.4444444444444444,
             "#bd3786"
            ],
            [
             0.5555555555555556,
             "#d8576b"
            ],
            [
             0.6666666666666666,
             "#ed7953"
            ],
            [
             0.7777777777777778,
             "#fb9f3a"
            ],
            [
             0.8888888888888888,
             "#fdca26"
            ],
            [
             1,
             "#f0f921"
            ]
           ]
          },
          "colorway": [
           "#636efa",
           "#EF553B",
           "#00cc96",
           "#ab63fa",
           "#FFA15A",
           "#19d3f3",
           "#FF6692",
           "#B6E880",
           "#FF97FF",
           "#FECB52"
          ],
          "font": {
           "color": "#2a3f5f"
          },
          "geo": {
           "bgcolor": "white",
           "lakecolor": "white",
           "landcolor": "#E5ECF6",
           "showlakes": true,
           "showland": true,
           "subunitcolor": "white"
          },
          "hoverlabel": {
           "align": "left"
          },
          "hovermode": "closest",
          "mapbox": {
           "style": "light"
          },
          "paper_bgcolor": "white",
          "plot_bgcolor": "#E5ECF6",
          "polar": {
           "angularaxis": {
            "gridcolor": "white",
            "linecolor": "white",
            "ticks": ""
           },
           "bgcolor": "#E5ECF6",
           "radialaxis": {
            "gridcolor": "white",
            "linecolor": "white",
            "ticks": ""
           }
          },
          "scene": {
           "xaxis": {
            "backgroundcolor": "#E5ECF6",
            "gridcolor": "white",
            "gridwidth": 2,
            "linecolor": "white",
            "showbackground": true,
            "ticks": "",
            "zerolinecolor": "white"
           },
           "yaxis": {
            "backgroundcolor": "#E5ECF6",
            "gridcolor": "white",
            "gridwidth": 2,
            "linecolor": "white",
            "showbackground": true,
            "ticks": "",
            "zerolinecolor": "white"
           },
           "zaxis": {
            "backgroundcolor": "#E5ECF6",
            "gridcolor": "white",
            "gridwidth": 2,
            "linecolor": "white",
            "showbackground": true,
            "ticks": "",
            "zerolinecolor": "white"
           }
          },
          "shapedefaults": {
           "line": {
            "color": "#2a3f5f"
           }
          },
          "ternary": {
           "aaxis": {
            "gridcolor": "white",
            "linecolor": "white",
            "ticks": ""
           },
           "baxis": {
            "gridcolor": "white",
            "linecolor": "white",
            "ticks": ""
           },
           "bgcolor": "#E5ECF6",
           "caxis": {
            "gridcolor": "white",
            "linecolor": "white",
            "ticks": ""
           }
          },
          "title": {
           "x": 0.05
          },
          "xaxis": {
           "automargin": true,
           "gridcolor": "white",
           "linecolor": "white",
           "ticks": "",
           "title": {
            "standoff": 15
           },
           "zerolinecolor": "white",
           "zerolinewidth": 2
          },
          "yaxis": {
           "automargin": true,
           "gridcolor": "white",
           "linecolor": "white",
           "ticks": "",
           "title": {
            "standoff": 15
           },
           "zerolinecolor": "white",
           "zerolinewidth": 2
          }
         }
        },
        "title": {
         "text": "Monthwise comparision between Ethereum open and close price"
        },
        "xaxis": {
         "tickangle": -45
        }
       }
      }
     },
     "metadata": {},
     "output_type": "display_data"
    }
   ],
   "source": [
    "fig = go.Figure()\n",
    "\n",
    "fig.add_trace(go.Bar(\n",
    "    x=monthly_df['Year_Month'],\n",
    "    y=monthly_df['Open'],\n",
    "    name='Ethereum Open Price',\n",
    "    marker_color='crimson'\n",
    "))\n",
    "fig.add_trace(go.Bar(\n",
    "    x=monthly_df['Year_Month'],\n",
    "    y=monthly_df['Close'],\n",
    "    name='Ethereum Close Price',\n",
    "    marker_color='lightsalmon'\n",
    "))\n",
    "\n",
    "fig.update_layout(barmode='group', xaxis_tickangle=-45, \n",
    "                  title='Monthwise comparision between Ethereum open and close price')\n",
    "fig.show()"
   ]
  },
  {
   "cell_type": "code",
   "execution_count": 31,
   "metadata": {},
   "outputs": [
    {
     "data": {
      "application/vnd.plotly.v1+json": {
       "config": {
        "plotlyServerURL": "https://plot.ly"
       },
       "data": [
        {
         "marker": {
          "color": "crimson"
         },
         "name": "Ethereum Open Price",
         "type": "bar",
         "x": [
          "2017-11-01T00:00:00",
          "2017-12-01T00:00:00",
          "2018-01-01T00:00:00",
          "2018-02-01T00:00:00",
          "2018-03-01T00:00:00",
          "2018-04-01T00:00:00",
          "2018-05-01T00:00:00",
          "2018-06-01T00:00:00",
          "2018-07-01T00:00:00",
          "2018-08-01T00:00:00",
          "2018-09-01T00:00:00",
          "2018-10-01T00:00:00",
          "2018-11-01T00:00:00",
          "2018-12-01T00:00:00",
          "2019-01-01T00:00:00",
          "2019-02-01T00:00:00",
          "2019-03-01T00:00:00",
          "2019-04-01T00:00:00",
          "2019-05-01T00:00:00",
          "2019-06-01T00:00:00",
          "2019-07-01T00:00:00",
          "2019-08-01T00:00:00",
          "2019-09-01T00:00:00",
          "2019-10-01T00:00:00",
          "2019-11-01T00:00:00",
          "2019-12-01T00:00:00",
          "2020-01-01T00:00:00",
          "2020-02-01T00:00:00",
          "2020-03-01T00:00:00",
          "2020-04-01T00:00:00",
          "2020-05-01T00:00:00",
          "2020-06-01T00:00:00",
          "2020-07-01T00:00:00",
          "2020-08-01T00:00:00",
          "2020-09-01T00:00:00",
          "2020-10-01T00:00:00",
          "2020-11-01T00:00:00",
          "2020-12-01T00:00:00",
          "2021-01-01T00:00:00",
          "2021-02-01T00:00:00",
          "2021-03-01T00:00:00",
          "2021-04-01T00:00:00",
          "2021-05-01T00:00:00",
          "2021-06-01T00:00:00",
          "2021-07-01T00:00:00",
          "2021-08-01T00:00:00",
          "2021-09-01T00:00:00",
          "2021-10-01T00:00:00",
          "2021-11-01T00:00:00",
          "2021-12-01T00:00:00",
          "2022-01-01T00:00:00",
          "2022-02-01T00:00:00",
          "2022-03-01T00:00:00",
          "2022-04-01T00:00:00",
          "2022-05-01T00:00:00",
          "2022-06-01T00:00:00",
          "2022-07-01T00:00:00",
          "2022-08-01T00:00:00",
          "2022-09-01T00:00:00",
          "2022-10-01T00:00:00",
          "2022-11-01T00:00:00",
          "2022-12-01T00:00:00",
          "2023-01-01T00:00:00",
          "2023-02-01T00:00:00"
         ],
         "y": [
          320.6709899902344,
          445.2090148925781,
          755.7570190429688,
          1119.3699951171875,
          856.0120239257812,
          397.2539978027344,
          670.4630126953125,
          578.6719970703125,
          455.24200439453125,
          433.8689880371094,
          283.4960021972656,
          233.22000122070312,
          197.53700256347656,
          113.39775848388672,
          133.41815185546875,
          107.1476821899414,
          136.83624267578125,
          141.46548461914062,
          162.18655395507812,
          268.433349609375,
          290.26849365234375,
          218.55459594726562,
          172.45840454101562,
          180.20912170410156,
          183.80369567871094,
          152.49192810058594,
          129.6306610107422,
          180.11376953125,
          219.752685546875,
          133.61231994628906,
          207.9017333984375,
          230.86026000976562,
          226.13458251953125,
          345.7986145019531,
          434.87445068359375,
          360.30914306640625,
          386.59033203125,
          615.0703125,
          737.7083740234375,
          1314.855224609375,
          1417.151123046875,
          1919.1572265625,
          2772.83837890625,
          2707.560546875,
          2274.3974609375,
          2530.462890625,
          3430.762451171875,
          3001.12939453125,
          4288.21728515625,
          4623.6796875,
          3683.047119140625,
          2687.89892578125,
          2919.77587890625,
          3282.576171875,
          2729.994140625,
          1942.0506591796875,
          1068.3167724609375,
          1681.445556640625,
          1553.75634765625,
          1328.1937255859375,
          1572.6453857421875,
          1295.76953125,
          1196.713623046875,
          1567.419921875
         ]
        },
        {
         "marker": {
          "color": "lightsalmon"
         },
         "name": "Ethereum Close Price",
         "type": "bar",
         "x": [
          "2017-11-01T00:00:00",
          "2017-12-01T00:00:00",
          "2018-01-01T00:00:00",
          "2018-02-01T00:00:00",
          "2018-03-01T00:00:00",
          "2018-04-01T00:00:00",
          "2018-05-01T00:00:00",
          "2018-06-01T00:00:00",
          "2018-07-01T00:00:00",
          "2018-08-01T00:00:00",
          "2018-09-01T00:00:00",
          "2018-10-01T00:00:00",
          "2018-11-01T00:00:00",
          "2018-12-01T00:00:00",
          "2019-01-01T00:00:00",
          "2019-02-01T00:00:00",
          "2019-03-01T00:00:00",
          "2019-04-01T00:00:00",
          "2019-05-01T00:00:00",
          "2019-06-01T00:00:00",
          "2019-07-01T00:00:00",
          "2019-08-01T00:00:00",
          "2019-09-01T00:00:00",
          "2019-10-01T00:00:00",
          "2019-11-01T00:00:00",
          "2019-12-01T00:00:00",
          "2020-01-01T00:00:00",
          "2020-02-01T00:00:00",
          "2020-03-01T00:00:00",
          "2020-04-01T00:00:00",
          "2020-05-01T00:00:00",
          "2020-06-01T00:00:00",
          "2020-07-01T00:00:00",
          "2020-08-01T00:00:00",
          "2020-09-01T00:00:00",
          "2020-10-01T00:00:00",
          "2020-11-01T00:00:00",
          "2020-12-01T00:00:00",
          "2021-01-01T00:00:00",
          "2021-02-01T00:00:00",
          "2021-03-01T00:00:00",
          "2021-04-01T00:00:00",
          "2021-05-01T00:00:00",
          "2021-06-01T00:00:00",
          "2021-07-01T00:00:00",
          "2021-08-01T00:00:00",
          "2021-09-01T00:00:00",
          "2021-10-01T00:00:00",
          "2021-11-01T00:00:00",
          "2021-12-01T00:00:00",
          "2022-01-01T00:00:00",
          "2022-02-01T00:00:00",
          "2022-03-01T00:00:00",
          "2022-04-01T00:00:00",
          "2022-05-01T00:00:00",
          "2022-06-01T00:00:00",
          "2022-07-01T00:00:00",
          "2022-08-01T00:00:00",
          "2022-09-01T00:00:00",
          "2022-10-01T00:00:00",
          "2022-11-01T00:00:00",
          "2022-12-01T00:00:00",
          "2023-01-01T00:00:00",
          "2023-02-01T00:00:00"
         ],
         "y": [
          447.114013671875,
          756.7329711914062,
          1118.31005859375,
          855.198974609375,
          396.4570007324219,
          669.9240112304688,
          577.64501953125,
          455.17999267578125,
          433.86700439453125,
          283.0039978027344,
          232.84800720214844,
          197.38099670410156,
          113.17141723632812,
          133.36825561523438,
          107.0610122680664,
          136.74624633789062,
          141.51409912109375,
          162.16603088378906,
          268.1135559082031,
          290.69598388671875,
          218.65414428710938,
          172.46978759765625,
          179.87220764160156,
          183.9669189453125,
          152.53968811035156,
          129.61085510253906,
          180.16017150878906,
          219.8485107421875,
          133.59356689453125,
          207.60205078125,
          230.9757080078125,
          226.31500244140625,
          345.5546569824219,
          435.0797424316406,
          359.9378662109375,
          386.59033203125,
          614.842529296875,
          737.8034057617188,
          1314.9862060546875,
          1416.0489501953125,
          1918.362060546875,
          2773.20703125,
          2714.9453125,
          2274.547607421875,
          2536.2099609375,
          3433.732666015625,
          3001.678955078125,
          4288.07421875,
          4631.47900390625,
          3682.6328125,
          2688.27880859375,
          2919.201171875,
          3281.642822265625,
          2730.186767578125,
          1942.3280029296875,
          1067.298828125,
          1681.517333984375,
          1553.6849365234375,
          1327.9786376953125,
          1572.7144775390625,
          1295.6885986328125,
          1196.771240234375,
          1586.535400390625,
          1586.535400390625
         ]
        },
        {
         "line": {
          "color": "blue"
         },
         "name": "Nasdaq",
         "type": "scatter",
         "x": [
          "2017-11-01T00:00:00",
          "2017-12-01T00:00:00",
          "2018-01-01T00:00:00",
          "2018-02-01T00:00:00",
          "2018-03-01T00:00:00",
          "2018-04-01T00:00:00",
          "2018-05-01T00:00:00",
          "2018-06-01T00:00:00",
          "2018-07-01T00:00:00",
          "2018-08-01T00:00:00",
          "2018-09-01T00:00:00",
          "2018-10-01T00:00:00",
          "2018-11-01T00:00:00",
          "2018-12-01T00:00:00",
          "2019-01-01T00:00:00",
          "2019-02-01T00:00:00",
          "2019-03-01T00:00:00",
          "2019-04-01T00:00:00",
          "2019-05-01T00:00:00",
          "2019-06-01T00:00:00",
          "2019-07-01T00:00:00",
          "2019-08-01T00:00:00",
          "2019-09-01T00:00:00",
          "2019-10-01T00:00:00",
          "2019-11-01T00:00:00",
          "2019-12-01T00:00:00",
          "2020-01-01T00:00:00",
          "2020-02-01T00:00:00",
          "2020-03-01T00:00:00",
          "2020-04-01T00:00:00",
          "2020-05-01T00:00:00",
          "2020-06-01T00:00:00",
          "2020-07-01T00:00:00",
          "2020-08-01T00:00:00",
          "2020-09-01T00:00:00",
          "2020-10-01T00:00:00",
          "2020-11-01T00:00:00",
          "2020-12-01T00:00:00",
          "2021-01-01T00:00:00",
          "2021-02-01T00:00:00",
          "2021-03-01T00:00:00",
          "2021-04-01T00:00:00",
          "2021-05-01T00:00:00",
          "2021-06-01T00:00:00",
          "2021-07-01T00:00:00",
          "2021-08-01T00:00:00",
          "2021-09-01T00:00:00",
          "2021-10-01T00:00:00",
          "2021-11-01T00:00:00",
          "2021-12-01T00:00:00",
          "2022-01-01T00:00:00",
          "2022-02-01T00:00:00",
          "2022-03-01T00:00:00",
          "2022-04-01T00:00:00",
          "2022-05-01T00:00:00",
          "2022-06-01T00:00:00",
          "2022-07-01T00:00:00",
          "2022-08-01T00:00:00",
          "2022-09-01T00:00:00",
          "2022-10-01T00:00:00",
          "2022-11-01T00:00:00",
          "2022-12-01T00:00:00",
          "2023-01-01T00:00:00",
          "2023-02-01T00:00:00"
         ],
         "y": [
          1273.199951171875,
          1306.300048828125,
          1339,
          1315.5,
          1322.800048828125,
          1316.199951171875,
          1300.0999755859375,
          1251.300048828125,
          1223.699951171875,
          1200.300048828125,
          1191.5,
          1212.300048828125,
          1220.199951171875,
          1278.300048828125,
          1319.699951171875,
          1312.800048828125,
          1293,
          1282.800048828125,
          1305.800048828125,
          1409.699951171875,
          1426.0999755859375,
          1519.0999755859375,
          1465.699951171875,
          1511.4000244140625,
          1465.5999755859375,
          1519.5,
          1582.9000244140625,
          1564.0999755859375,
          1583.4000244140625,
          1684.199951171875,
          1736.9000244140625,
          1793,
          1962.800048828125,
          1967.5999755859375,
          1887.5,
          1877.4000244140625,
          1775.699951171875,
          1893.0999755859375,
          1847.300048828125,
          1728.0999755859375,
          1713.800048828125,
          1767.300048828125,
          1902.5,
          1770.800048828125,
          1812.5999755859375,
          1815,
          1755.300048828125,
          1783,
          1773.5999755859375,
          1827.5,
          1795,
          1899.4000244140625,
          1949.199951171875,
          1909.300048828125,
          1842.699951171875,
          1804.0999755859375,
          1762.9000244140625,
          1712.800048828125,
          1662.4000244140625,
          1635.9000244140625,
          1746,
          1819.699951171875,
          1929.5,
          1929.5
         ]
        },
        {
         "line": {
          "color": "blue"
         },
         "name": "CPI_Value",
         "type": "scatter",
         "x": [
          "2017-11-01T00:00:00",
          "2017-12-01T00:00:00",
          "2018-01-01T00:00:00",
          "2018-02-01T00:00:00",
          "2018-03-01T00:00:00",
          "2018-04-01T00:00:00",
          "2018-05-01T00:00:00",
          "2018-06-01T00:00:00",
          "2018-07-01T00:00:00",
          "2018-08-01T00:00:00",
          "2018-09-01T00:00:00",
          "2018-10-01T00:00:00",
          "2018-11-01T00:00:00",
          "2018-12-01T00:00:00",
          "2019-01-01T00:00:00",
          "2019-02-01T00:00:00",
          "2019-03-01T00:00:00",
          "2019-04-01T00:00:00",
          "2019-05-01T00:00:00",
          "2019-06-01T00:00:00",
          "2019-07-01T00:00:00",
          "2019-08-01T00:00:00",
          "2019-09-01T00:00:00",
          "2019-10-01T00:00:00",
          "2019-11-01T00:00:00",
          "2019-12-01T00:00:00",
          "2020-01-01T00:00:00",
          "2020-02-01T00:00:00",
          "2020-03-01T00:00:00",
          "2020-04-01T00:00:00",
          "2020-05-01T00:00:00",
          "2020-06-01T00:00:00",
          "2020-07-01T00:00:00",
          "2020-08-01T00:00:00",
          "2020-09-01T00:00:00",
          "2020-10-01T00:00:00",
          "2020-11-01T00:00:00",
          "2020-12-01T00:00:00",
          "2021-01-01T00:00:00",
          "2021-02-01T00:00:00",
          "2021-03-01T00:00:00",
          "2021-04-01T00:00:00",
          "2021-05-01T00:00:00",
          "2021-06-01T00:00:00",
          "2021-07-01T00:00:00",
          "2021-08-01T00:00:00",
          "2021-09-01T00:00:00",
          "2021-10-01T00:00:00",
          "2021-11-01T00:00:00",
          "2021-12-01T00:00:00",
          "2022-01-01T00:00:00",
          "2022-02-01T00:00:00",
          "2022-03-01T00:00:00",
          "2022-04-01T00:00:00",
          "2022-05-01T00:00:00",
          "2022-06-01T00:00:00",
          "2022-07-01T00:00:00",
          "2022-08-01T00:00:00",
          "2022-09-01T00:00:00",
          "2022-10-01T00:00:00",
          "2022-11-01T00:00:00",
          "2022-12-01T00:00:00",
          "2023-01-01T00:00:00",
          "2023-02-01T00:00:00"
         ],
         "y": [
          10233.599609375,
          14156.400390625,
          10221.099609375,
          10397.900390625,
          6973.52978515625,
          9240.5498046875,
          7494.169921875,
          6404,
          7780.43994140625,
          7037.580078125,
          6625.56005859375,
          6317.60986328125,
          4017.2685546875,
          3742.700439453125,
          3457.792724609375,
          3854.785400390625,
          4105.404296875,
          5350.7265625,
          8574.501953125,
          10817.1552734375,
          10085.6279296875,
          9630.6640625,
          8293.8681640625,
          9199.5849609375,
          7569.6298828125,
          7193.59912109375,
          9350.529296875,
          8599.5087890625,
          6438.64453125,
          8658.5537109375,
          9461.05859375,
          9137.9931640625,
          11323.466796875,
          11680.8203125,
          10784.4912109375,
          13780.9951171875,
          19625.8359375,
          29001.720703125,
          33114.359375,
          45137.76953125,
          58918.83203125,
          57750.17578125,
          37332.85546875,
          35040.8359375,
          41626.1953125,
          47166.6875,
          43790.89453125,
          61318.95703125,
          57005.42578125,
          46306.4453125,
          38483.125,
          43193.234375,
          45538.67578125,
          37714.875,
          31792.310546875,
          19784.7265625,
          23336.896484375,
          20049.763671875,
          19431.7890625,
          20495.7734375,
          17168.56640625,
          16547.49609375,
          23139.283203125,
          23139.283203125
         ]
        },
        {
         "line": {
          "color": "blue"
         },
         "name": "SP500",
         "type": "scatter",
         "x": [
          "2017-11-01T00:00:00",
          "2017-12-01T00:00:00",
          "2018-01-01T00:00:00",
          "2018-02-01T00:00:00",
          "2018-03-01T00:00:00",
          "2018-04-01T00:00:00",
          "2018-05-01T00:00:00",
          "2018-06-01T00:00:00",
          "2018-07-01T00:00:00",
          "2018-08-01T00:00:00",
          "2018-09-01T00:00:00",
          "2018-10-01T00:00:00",
          "2018-11-01T00:00:00",
          "2018-12-01T00:00:00",
          "2019-01-01T00:00:00",
          "2019-02-01T00:00:00",
          "2019-03-01T00:00:00",
          "2019-04-01T00:00:00",
          "2019-05-01T00:00:00",
          "2019-06-01T00:00:00",
          "2019-07-01T00:00:00",
          "2019-08-01T00:00:00",
          "2019-09-01T00:00:00",
          "2019-10-01T00:00:00",
          "2019-11-01T00:00:00",
          "2019-12-01T00:00:00",
          "2020-01-01T00:00:00",
          "2020-02-01T00:00:00",
          "2020-03-01T00:00:00",
          "2020-04-01T00:00:00",
          "2020-05-01T00:00:00",
          "2020-06-01T00:00:00",
          "2020-07-01T00:00:00",
          "2020-08-01T00:00:00",
          "2020-09-01T00:00:00",
          "2020-10-01T00:00:00",
          "2020-11-01T00:00:00",
          "2020-12-01T00:00:00",
          "2021-01-01T00:00:00",
          "2021-02-01T00:00:00",
          "2021-03-01T00:00:00",
          "2021-04-01T00:00:00",
          "2021-05-01T00:00:00",
          "2021-06-01T00:00:00",
          "2021-07-01T00:00:00",
          "2021-08-01T00:00:00",
          "2021-09-01T00:00:00",
          "2021-10-01T00:00:00",
          "2021-11-01T00:00:00",
          "2021-12-01T00:00:00",
          "2022-01-01T00:00:00",
          "2022-02-01T00:00:00",
          "2022-03-01T00:00:00",
          "2022-04-01T00:00:00",
          "2022-05-01T00:00:00",
          "2022-06-01T00:00:00",
          "2022-07-01T00:00:00",
          "2022-08-01T00:00:00",
          "2022-09-01T00:00:00",
          "2022-10-01T00:00:00",
          "2022-11-01T00:00:00",
          "2022-12-01T00:00:00",
          "2023-01-01T00:00:00",
          "2023-02-01T00:00:00"
         ],
         "y": [
          11.279999732971191,
          11.039999961853027,
          13.539999961853027,
          19.850000381469727,
          19.969999313354492,
          15.930000305175781,
          15.430000305175781,
          16.09000015258789,
          12.829999923706055,
          12.859999656677246,
          12.119999885559082,
          21.229999542236328,
          18.06999969482422,
          25.420000076293945,
          16.56999969482422,
          14.779999732971191,
          13.710000038146973,
          13.119999885559082,
          18.709999084472656,
          15.079999923706055,
          16.1200008392334,
          18.979999542236328,
          16.239999771118164,
          13.220000267028809,
          12.619999885559082,
          13.779999732971191,
          18.84000015258789,
          40.11000061035156,
          53.540000915527344,
          34.150001525878906,
          27.510000228881836,
          30.43000030517578,
          24.459999084472656,
          26.40999984741211,
          26.3700008392334,
          38.02000045776367,
          20.56999969482422,
          22.75,
          33.09000015258789,
          27.950000762939453,
          19.399999618530273,
          18.610000610351562,
          16.760000228881836,
          15.829999923706055,
          18.239999771118164,
          16.479999542236328,
          23.139999389648438,
          16.260000228881836,
          27.190000534057617,
          17.219999313354492,
          24.829999923706055,
          30.149999618530273,
          20.559999465942383,
          33.400001525878906,
          26.190000534057617,
          28.709999084472656,
          21.329999923706055,
          25.8700008392334,
          31.6200008392334,
          25.8799991607666,
          20.579999923706055,
          21.670000076293945,
          19.399999618530273,
          19.399999618530273
         ]
        },
        {
         "line": {
          "color": "gold"
         },
         "name": "Gold",
         "type": "scatter",
         "x": [
          "2017-11-01T00:00:00",
          "2017-12-01T00:00:00",
          "2018-01-01T00:00:00",
          "2018-02-01T00:00:00",
          "2018-03-01T00:00:00",
          "2018-04-01T00:00:00",
          "2018-05-01T00:00:00",
          "2018-06-01T00:00:00",
          "2018-07-01T00:00:00",
          "2018-08-01T00:00:00",
          "2018-09-01T00:00:00",
          "2018-10-01T00:00:00",
          "2018-11-01T00:00:00",
          "2018-12-01T00:00:00",
          "2019-01-01T00:00:00",
          "2019-02-01T00:00:00",
          "2019-03-01T00:00:00",
          "2019-04-01T00:00:00",
          "2019-05-01T00:00:00",
          "2019-06-01T00:00:00",
          "2019-07-01T00:00:00",
          "2019-08-01T00:00:00",
          "2019-09-01T00:00:00",
          "2019-10-01T00:00:00",
          "2019-11-01T00:00:00",
          "2019-12-01T00:00:00",
          "2020-01-01T00:00:00",
          "2020-02-01T00:00:00",
          "2020-03-01T00:00:00",
          "2020-04-01T00:00:00",
          "2020-05-01T00:00:00",
          "2020-06-01T00:00:00",
          "2020-07-01T00:00:00",
          "2020-08-01T00:00:00",
          "2020-09-01T00:00:00",
          "2020-10-01T00:00:00",
          "2020-11-01T00:00:00",
          "2020-12-01T00:00:00",
          "2021-01-01T00:00:00",
          "2021-02-01T00:00:00",
          "2021-03-01T00:00:00",
          "2021-04-01T00:00:00",
          "2021-05-01T00:00:00",
          "2021-06-01T00:00:00",
          "2021-07-01T00:00:00",
          "2021-08-01T00:00:00",
          "2021-09-01T00:00:00",
          "2021-10-01T00:00:00",
          "2021-11-01T00:00:00",
          "2021-12-01T00:00:00",
          "2022-01-01T00:00:00",
          "2022-02-01T00:00:00",
          "2022-03-01T00:00:00",
          "2022-04-01T00:00:00",
          "2022-05-01T00:00:00",
          "2022-06-01T00:00:00",
          "2022-07-01T00:00:00",
          "2022-08-01T00:00:00",
          "2022-09-01T00:00:00",
          "2022-10-01T00:00:00",
          "2022-11-01T00:00:00",
          "2022-12-01T00:00:00",
          "2023-01-01T00:00:00",
          "2023-02-01T00:00:00"
         ],
         "y": [
          57.400001525878906,
          60.41999816894531,
          64.7300033569336,
          61.63999938964844,
          64.94000244140625,
          68.56999969482422,
          67.04000091552734,
          74.1500015258789,
          68.76000213623047,
          69.80000305175781,
          73.25,
          65.30999755859375,
          50.93000030517578,
          45.40999984741211,
          53.790000915527344,
          57.220001220703125,
          60.13999938964844,
          63.90999984741211,
          53.5,
          58.470001220703125,
          58.58000183105469,
          55.099998474121094,
          54.06999969482422,
          54.18000030517578,
          55.16999816894531,
          61.060001373291016,
          51.560001373291016,
          44.7599983215332,
          20.479999542236328,
          18.84000015258789,
          35.4900016784668,
          39.27000045776367,
          40.27000045776367,
          42.61000061035156,
          40.220001220703125,
          35.790000915527344,
          45.34000015258789,
          48.52000045776367,
          52.20000076293945,
          61.5,
          59.15999984741211,
          63.58000183105469,
          66.31999969482422,
          73.47000122070312,
          73.94999694824219,
          68.5,
          75.02999877929688,
          83.56999969482422,
          66.18000030517578,
          75.20999908447266,
          88.1500015258789,
          95.72000122070312,
          100.27999877929688,
          104.69000244140625,
          114.66999816894531,
          105.76000213623047,
          98.62000274658203,
          89.55000305175781,
          79.48999786376953,
          86.52999877929688,
          80.55000305175781,
          80.26000213623047,
          78.87000274658203,
          78.87000274658203
         ]
        },
        {
         "line": {
          "color": "black"
         },
         "name": "Oil",
         "type": "scatter",
         "x": [
          "2017-11-01T00:00:00",
          "2017-12-01T00:00:00",
          "2018-01-01T00:00:00",
          "2018-02-01T00:00:00",
          "2018-03-01T00:00:00",
          "2018-04-01T00:00:00",
          "2018-05-01T00:00:00",
          "2018-06-01T00:00:00",
          "2018-07-01T00:00:00",
          "2018-08-01T00:00:00",
          "2018-09-01T00:00:00",
          "2018-10-01T00:00:00",
          "2018-11-01T00:00:00",
          "2018-12-01T00:00:00",
          "2019-01-01T00:00:00",
          "2019-02-01T00:00:00",
          "2019-03-01T00:00:00",
          "2019-04-01T00:00:00",
          "2019-05-01T00:00:00",
          "2019-06-01T00:00:00",
          "2019-07-01T00:00:00",
          "2019-08-01T00:00:00",
          "2019-09-01T00:00:00",
          "2019-10-01T00:00:00",
          "2019-11-01T00:00:00",
          "2019-12-01T00:00:00",
          "2020-01-01T00:00:00",
          "2020-02-01T00:00:00",
          "2020-03-01T00:00:00",
          "2020-04-01T00:00:00",
          "2020-05-01T00:00:00",
          "2020-06-01T00:00:00",
          "2020-07-01T00:00:00",
          "2020-08-01T00:00:00",
          "2020-09-01T00:00:00",
          "2020-10-01T00:00:00",
          "2020-11-01T00:00:00",
          "2020-12-01T00:00:00",
          "2021-01-01T00:00:00",
          "2021-02-01T00:00:00",
          "2021-03-01T00:00:00",
          "2021-04-01T00:00:00",
          "2021-05-01T00:00:00",
          "2021-06-01T00:00:00",
          "2021-07-01T00:00:00",
          "2021-08-01T00:00:00",
          "2021-09-01T00:00:00",
          "2021-10-01T00:00:00",
          "2021-11-01T00:00:00",
          "2021-12-01T00:00:00",
          "2022-01-01T00:00:00",
          "2022-02-01T00:00:00",
          "2022-03-01T00:00:00",
          "2022-04-01T00:00:00",
          "2022-05-01T00:00:00",
          "2022-06-01T00:00:00",
          "2022-07-01T00:00:00",
          "2022-08-01T00:00:00",
          "2022-09-01T00:00:00",
          "2022-10-01T00:00:00",
          "2022-11-01T00:00:00",
          "2022-12-01T00:00:00",
          "2023-01-01T00:00:00",
          "2023-02-01T00:00:00"
         ],
         "y": [
          2647.580078125,
          2673.610107421875,
          2823.81005859375,
          2713.830078125,
          2640.8701171875,
          2648.050048828125,
          2705.27001953125,
          2718.3701171875,
          2816.2900390625,
          2901.52001953125,
          2913.97998046875,
          2711.739990234375,
          2760.169921875,
          2506.85009765625,
          2704.10009765625,
          2784.489990234375,
          2834.39990234375,
          2945.830078125,
          2752.06005859375,
          2941.760009765625,
          2980.3798828125,
          2926.4599609375,
          2976.739990234375,
          3037.56005859375,
          3140.97998046875,
          3230.780029296875,
          3225.52001953125,
          2954.219970703125,
          2584.590087890625,
          2912.429931640625,
          3044.31005859375,
          3100.2900390625,
          3271.1201171875,
          3500.31005859375,
          3363,
          3269.9599609375,
          3621.6298828125,
          3756.070068359375,
          3714.239990234375,
          3811.14990234375,
          3972.889892578125,
          4181.169921875,
          4204.10986328125,
          4297.5,
          4395.259765625,
          4522.68017578125,
          4307.5400390625,
          4605.3798828125,
          4567,
          4766.18017578125,
          4515.5498046875,
          4373.93994140625,
          4530.41015625,
          4131.93017578125,
          4132.14990234375,
          3785.3798828125,
          4130.2900390625,
          3955,
          3585.6201171875,
          3871.97998046875,
          4080.110107421875,
          3839.5,
          4076.60009765625,
          4076.60009765625
         ]
        }
       ],
       "layout": {
        "barmode": "group",
        "template": {
         "data": {
          "bar": [
           {
            "error_x": {
             "color": "#2a3f5f"
            },
            "error_y": {
             "color": "#2a3f5f"
            },
            "marker": {
             "line": {
              "color": "#E5ECF6",
              "width": 0.5
             },
             "pattern": {
              "fillmode": "overlay",
              "size": 10,
              "solidity": 0.2
             }
            },
            "type": "bar"
           }
          ],
          "barpolar": [
           {
            "marker": {
             "line": {
              "color": "#E5ECF6",
              "width": 0.5
             },
             "pattern": {
              "fillmode": "overlay",
              "size": 10,
              "solidity": 0.2
             }
            },
            "type": "barpolar"
           }
          ],
          "carpet": [
           {
            "aaxis": {
             "endlinecolor": "#2a3f5f",
             "gridcolor": "white",
             "linecolor": "white",
             "minorgridcolor": "white",
             "startlinecolor": "#2a3f5f"
            },
            "baxis": {
             "endlinecolor": "#2a3f5f",
             "gridcolor": "white",
             "linecolor": "white",
             "minorgridcolor": "white",
             "startlinecolor": "#2a3f5f"
            },
            "type": "carpet"
           }
          ],
          "choropleth": [
           {
            "colorbar": {
             "outlinewidth": 0,
             "ticks": ""
            },
            "type": "choropleth"
           }
          ],
          "contour": [
           {
            "colorbar": {
             "outlinewidth": 0,
             "ticks": ""
            },
            "colorscale": [
             [
              0,
              "#0d0887"
             ],
             [
              0.1111111111111111,
              "#46039f"
             ],
             [
              0.2222222222222222,
              "#7201a8"
             ],
             [
              0.3333333333333333,
              "#9c179e"
             ],
             [
              0.4444444444444444,
              "#bd3786"
             ],
             [
              0.5555555555555556,
              "#d8576b"
             ],
             [
              0.6666666666666666,
              "#ed7953"
             ],
             [
              0.7777777777777778,
              "#fb9f3a"
             ],
             [
              0.8888888888888888,
              "#fdca26"
             ],
             [
              1,
              "#f0f921"
             ]
            ],
            "type": "contour"
           }
          ],
          "contourcarpet": [
           {
            "colorbar": {
             "outlinewidth": 0,
             "ticks": ""
            },
            "type": "contourcarpet"
           }
          ],
          "heatmap": [
           {
            "colorbar": {
             "outlinewidth": 0,
             "ticks": ""
            },
            "colorscale": [
             [
              0,
              "#0d0887"
             ],
             [
              0.1111111111111111,
              "#46039f"
             ],
             [
              0.2222222222222222,
              "#7201a8"
             ],
             [
              0.3333333333333333,
              "#9c179e"
             ],
             [
              0.4444444444444444,
              "#bd3786"
             ],
             [
              0.5555555555555556,
              "#d8576b"
             ],
             [
              0.6666666666666666,
              "#ed7953"
             ],
             [
              0.7777777777777778,
              "#fb9f3a"
             ],
             [
              0.8888888888888888,
              "#fdca26"
             ],
             [
              1,
              "#f0f921"
             ]
            ],
            "type": "heatmap"
           }
          ],
          "heatmapgl": [
           {
            "colorbar": {
             "outlinewidth": 0,
             "ticks": ""
            },
            "colorscale": [
             [
              0,
              "#0d0887"
             ],
             [
              0.1111111111111111,
              "#46039f"
             ],
             [
              0.2222222222222222,
              "#7201a8"
             ],
             [
              0.3333333333333333,
              "#9c179e"
             ],
             [
              0.4444444444444444,
              "#bd3786"
             ],
             [
              0.5555555555555556,
              "#d8576b"
             ],
             [
              0.6666666666666666,
              "#ed7953"
             ],
             [
              0.7777777777777778,
              "#fb9f3a"
             ],
             [
              0.8888888888888888,
              "#fdca26"
             ],
             [
              1,
              "#f0f921"
             ]
            ],
            "type": "heatmapgl"
           }
          ],
          "histogram": [
           {
            "marker": {
             "pattern": {
              "fillmode": "overlay",
              "size": 10,
              "solidity": 0.2
             }
            },
            "type": "histogram"
           }
          ],
          "histogram2d": [
           {
            "colorbar": {
             "outlinewidth": 0,
             "ticks": ""
            },
            "colorscale": [
             [
              0,
              "#0d0887"
             ],
             [
              0.1111111111111111,
              "#46039f"
             ],
             [
              0.2222222222222222,
              "#7201a8"
             ],
             [
              0.3333333333333333,
              "#9c179e"
             ],
             [
              0.4444444444444444,
              "#bd3786"
             ],
             [
              0.5555555555555556,
              "#d8576b"
             ],
             [
              0.6666666666666666,
              "#ed7953"
             ],
             [
              0.7777777777777778,
              "#fb9f3a"
             ],
             [
              0.8888888888888888,
              "#fdca26"
             ],
             [
              1,
              "#f0f921"
             ]
            ],
            "type": "histogram2d"
           }
          ],
          "histogram2dcontour": [
           {
            "colorbar": {
             "outlinewidth": 0,
             "ticks": ""
            },
            "colorscale": [
             [
              0,
              "#0d0887"
             ],
             [
              0.1111111111111111,
              "#46039f"
             ],
             [
              0.2222222222222222,
              "#7201a8"
             ],
             [
              0.3333333333333333,
              "#9c179e"
             ],
             [
              0.4444444444444444,
              "#bd3786"
             ],
             [
              0.5555555555555556,
              "#d8576b"
             ],
             [
              0.6666666666666666,
              "#ed7953"
             ],
             [
              0.7777777777777778,
              "#fb9f3a"
             ],
             [
              0.8888888888888888,
              "#fdca26"
             ],
             [
              1,
              "#f0f921"
             ]
            ],
            "type": "histogram2dcontour"
           }
          ],
          "mesh3d": [
           {
            "colorbar": {
             "outlinewidth": 0,
             "ticks": ""
            },
            "type": "mesh3d"
           }
          ],
          "parcoords": [
           {
            "line": {
             "colorbar": {
              "outlinewidth": 0,
              "ticks": ""
             }
            },
            "type": "parcoords"
           }
          ],
          "pie": [
           {
            "automargin": true,
            "type": "pie"
           }
          ],
          "scatter": [
           {
            "fillpattern": {
             "fillmode": "overlay",
             "size": 10,
             "solidity": 0.2
            },
            "type": "scatter"
           }
          ],
          "scatter3d": [
           {
            "line": {
             "colorbar": {
              "outlinewidth": 0,
              "ticks": ""
             }
            },
            "marker": {
             "colorbar": {
              "outlinewidth": 0,
              "ticks": ""
             }
            },
            "type": "scatter3d"
           }
          ],
          "scattercarpet": [
           {
            "marker": {
             "colorbar": {
              "outlinewidth": 0,
              "ticks": ""
             }
            },
            "type": "scattercarpet"
           }
          ],
          "scattergeo": [
           {
            "marker": {
             "colorbar": {
              "outlinewidth": 0,
              "ticks": ""
             }
            },
            "type": "scattergeo"
           }
          ],
          "scattergl": [
           {
            "marker": {
             "colorbar": {
              "outlinewidth": 0,
              "ticks": ""
             }
            },
            "type": "scattergl"
           }
          ],
          "scattermapbox": [
           {
            "marker": {
             "colorbar": {
              "outlinewidth": 0,
              "ticks": ""
             }
            },
            "type": "scattermapbox"
           }
          ],
          "scatterpolar": [
           {
            "marker": {
             "colorbar": {
              "outlinewidth": 0,
              "ticks": ""
             }
            },
            "type": "scatterpolar"
           }
          ],
          "scatterpolargl": [
           {
            "marker": {
             "colorbar": {
              "outlinewidth": 0,
              "ticks": ""
             }
            },
            "type": "scatterpolargl"
           }
          ],
          "scatterternary": [
           {
            "marker": {
             "colorbar": {
              "outlinewidth": 0,
              "ticks": ""
             }
            },
            "type": "scatterternary"
           }
          ],
          "surface": [
           {
            "colorbar": {
             "outlinewidth": 0,
             "ticks": ""
            },
            "colorscale": [
             [
              0,
              "#0d0887"
             ],
             [
              0.1111111111111111,
              "#46039f"
             ],
             [
              0.2222222222222222,
              "#7201a8"
             ],
             [
              0.3333333333333333,
              "#9c179e"
             ],
             [
              0.4444444444444444,
              "#bd3786"
             ],
             [
              0.5555555555555556,
              "#d8576b"
             ],
             [
              0.6666666666666666,
              "#ed7953"
             ],
             [
              0.7777777777777778,
              "#fb9f3a"
             ],
             [
              0.8888888888888888,
              "#fdca26"
             ],
             [
              1,
              "#f0f921"
             ]
            ],
            "type": "surface"
           }
          ],
          "table": [
           {
            "cells": {
             "fill": {
              "color": "#EBF0F8"
             },
             "line": {
              "color": "white"
             }
            },
            "header": {
             "fill": {
              "color": "#C8D4E3"
             },
             "line": {
              "color": "white"
             }
            },
            "type": "table"
           }
          ]
         },
         "layout": {
          "annotationdefaults": {
           "arrowcolor": "#2a3f5f",
           "arrowhead": 0,
           "arrowwidth": 1
          },
          "autotypenumbers": "strict",
          "coloraxis": {
           "colorbar": {
            "outlinewidth": 0,
            "ticks": ""
           }
          },
          "colorscale": {
           "diverging": [
            [
             0,
             "#8e0152"
            ],
            [
             0.1,
             "#c51b7d"
            ],
            [
             0.2,
             "#de77ae"
            ],
            [
             0.3,
             "#f1b6da"
            ],
            [
             0.4,
             "#fde0ef"
            ],
            [
             0.5,
             "#f7f7f7"
            ],
            [
             0.6,
             "#e6f5d0"
            ],
            [
             0.7,
             "#b8e186"
            ],
            [
             0.8,
             "#7fbc41"
            ],
            [
             0.9,
             "#4d9221"
            ],
            [
             1,
             "#276419"
            ]
           ],
           "sequential": [
            [
             0,
             "#0d0887"
            ],
            [
             0.1111111111111111,
             "#46039f"
            ],
            [
             0.2222222222222222,
             "#7201a8"
            ],
            [
             0.3333333333333333,
             "#9c179e"
            ],
            [
             0.4444444444444444,
             "#bd3786"
            ],
            [
             0.5555555555555556,
             "#d8576b"
            ],
            [
             0.6666666666666666,
             "#ed7953"
            ],
            [
             0.7777777777777778,
             "#fb9f3a"
            ],
            [
             0.8888888888888888,
             "#fdca26"
            ],
            [
             1,
             "#f0f921"
            ]
           ],
           "sequentialminus": [
            [
             0,
             "#0d0887"
            ],
            [
             0.1111111111111111,
             "#46039f"
            ],
            [
             0.2222222222222222,
             "#7201a8"
            ],
            [
             0.3333333333333333,
             "#9c179e"
            ],
            [
             0.4444444444444444,
             "#bd3786"
            ],
            [
             0.5555555555555556,
             "#d8576b"
            ],
            [
             0.6666666666666666,
             "#ed7953"
            ],
            [
             0.7777777777777778,
             "#fb9f3a"
            ],
            [
             0.8888888888888888,
             "#fdca26"
            ],
            [
             1,
             "#f0f921"
            ]
           ]
          },
          "colorway": [
           "#636efa",
           "#EF553B",
           "#00cc96",
           "#ab63fa",
           "#FFA15A",
           "#19d3f3",
           "#FF6692",
           "#B6E880",
           "#FF97FF",
           "#FECB52"
          ],
          "font": {
           "color": "#2a3f5f"
          },
          "geo": {
           "bgcolor": "white",
           "lakecolor": "white",
           "landcolor": "#E5ECF6",
           "showlakes": true,
           "showland": true,
           "subunitcolor": "white"
          },
          "hoverlabel": {
           "align": "left"
          },
          "hovermode": "closest",
          "mapbox": {
           "style": "light"
          },
          "paper_bgcolor": "white",
          "plot_bgcolor": "#E5ECF6",
          "polar": {
           "angularaxis": {
            "gridcolor": "white",
            "linecolor": "white",
            "ticks": ""
           },
           "bgcolor": "#E5ECF6",
           "radialaxis": {
            "gridcolor": "white",
            "linecolor": "white",
            "ticks": ""
           }
          },
          "scene": {
           "xaxis": {
            "backgroundcolor": "#E5ECF6",
            "gridcolor": "white",
            "gridwidth": 2,
            "linecolor": "white",
            "showbackground": true,
            "ticks": "",
            "zerolinecolor": "white"
           },
           "yaxis": {
            "backgroundcolor": "#E5ECF6",
            "gridcolor": "white",
            "gridwidth": 2,
            "linecolor": "white",
            "showbackground": true,
            "ticks": "",
            "zerolinecolor": "white"
           },
           "zaxis": {
            "backgroundcolor": "#E5ECF6",
            "gridcolor": "white",
            "gridwidth": 2,
            "linecolor": "white",
            "showbackground": true,
            "ticks": "",
            "zerolinecolor": "white"
           }
          },
          "shapedefaults": {
           "line": {
            "color": "#2a3f5f"
           }
          },
          "ternary": {
           "aaxis": {
            "gridcolor": "white",
            "linecolor": "white",
            "ticks": ""
           },
           "baxis": {
            "gridcolor": "white",
            "linecolor": "white",
            "ticks": ""
           },
           "bgcolor": "#E5ECF6",
           "caxis": {
            "gridcolor": "white",
            "linecolor": "white",
            "ticks": ""
           }
          },
          "title": {
           "x": 0.05
          },
          "xaxis": {
           "automargin": true,
           "gridcolor": "white",
           "linecolor": "white",
           "ticks": "",
           "title": {
            "standoff": 15
           },
           "zerolinecolor": "white",
           "zerolinewidth": 2
          },
          "yaxis": {
           "automargin": true,
           "gridcolor": "white",
           "linecolor": "white",
           "ticks": "",
           "title": {
            "standoff": 15
           },
           "zerolinecolor": "white",
           "zerolinewidth": 2
          }
         }
        },
        "title": {
         "text": "Monthwise comparision between Ethereum open and close price"
        },
        "xaxis": {
         "tickangle": -45
        }
       }
      }
     },
     "metadata": {},
     "output_type": "display_data"
    }
   ],
   "source": [
    "fig = go.Figure()\n",
    "\n",
    "fig.add_trace(go.Bar(\n",
    "    x=monthly_df['Year_Month'],\n",
    "    y=monthly_df['Open'],\n",
    "    name='Ethereum Open Price',\n",
    "    marker_color='crimson'\n",
    "))\n",
    "fig.add_trace(go.Bar(\n",
    "    x=monthly_df['Year_Month'],\n",
    "    y=monthly_df['Close'],\n",
    "    name='Ethereum Close Price',\n",
    "    marker_color='lightsalmon'\n",
    "))\n",
    "\n",
    "\n",
    "fig.add_trace(go.Scatter(\n",
    "    x=monthly_df['Year_Month'],\n",
    "    y=monthly_df['nasdaq'],\n",
    "    name='Nasdaq',\n",
    "    line=dict(color='blue')\n",
    "))\n",
    "\n",
    "fig.add_trace(go.Scatter(\n",
    "    x=monthly_df['Year_Month'],\n",
    "    y=monthly_df['cpi_value'],\n",
    "    name='CPI_Value',\n",
    "    line=dict(color='blue')\n",
    "))\n",
    "\n",
    "fig.add_trace(go.Scatter(\n",
    "    x=monthly_df['Year_Month'],\n",
    "    y=monthly_df['sp500'],\n",
    "    name='SP500',\n",
    "    line=dict(color='blue')\n",
    "))\n",
    "\n",
    "fig.add_trace(go.Scatter(\n",
    "    x=monthly_df['Year_Month'],\n",
    "    y=monthly_df['gold'],\n",
    "    name='Gold',\n",
    "    line=dict(color='gold')\n",
    "))\n",
    "\n",
    "fig.add_trace(go.Scatter(\n",
    "    x=monthly_df['Year_Month'],\n",
    "    y=monthly_df['oil'],\n",
    "    name='Oil',\n",
    "    line=dict(color='black')\n",
    "))\n",
    "\n",
    "fig.update_layout(barmode='group', xaxis_tickangle=-45, \n",
    "                  title='Monthwise comparision between Ethereum open and close price')\n",
    "\n",
    "fig.show()\n",
    "\n",
    "# repeat for sp500, vix, ftse100, tnx, gbp_usd, eur_usd, usd_jpy, and cpi_value\n"
   ]
  },
  {
   "cell_type": "code",
   "execution_count": 32,
   "metadata": {},
   "outputs": [
    {
     "data": {
      "application/vnd.plotly.v1+json": {
       "config": {
        "plotlyServerURL": "https://plot.ly"
       },
       "data": [
        {
         "hovertemplate": "variable=Open<br>Year_Month=%{x}<br>Etherum value=%{y}<extra></extra>",
         "legendgroup": "Open",
         "line": {
          "color": "#636efa",
          "dash": "solid"
         },
         "marker": {
          "symbol": "circle"
         },
         "mode": "lines",
         "name": "Etherum Open Price",
         "orientation": "v",
         "showlegend": true,
         "type": "scatter",
         "x": [
          "2017-11-01T00:00:00",
          "2017-12-01T00:00:00",
          "2018-01-01T00:00:00",
          "2018-02-01T00:00:00",
          "2018-03-01T00:00:00",
          "2018-04-01T00:00:00",
          "2018-05-01T00:00:00",
          "2018-06-01T00:00:00",
          "2018-07-01T00:00:00",
          "2018-08-01T00:00:00",
          "2018-09-01T00:00:00",
          "2018-10-01T00:00:00",
          "2018-11-01T00:00:00",
          "2018-12-01T00:00:00",
          "2019-01-01T00:00:00",
          "2019-02-01T00:00:00",
          "2019-03-01T00:00:00",
          "2019-04-01T00:00:00",
          "2019-05-01T00:00:00",
          "2019-06-01T00:00:00",
          "2019-07-01T00:00:00",
          "2019-08-01T00:00:00",
          "2019-09-01T00:00:00",
          "2019-10-01T00:00:00",
          "2019-11-01T00:00:00",
          "2019-12-01T00:00:00",
          "2020-01-01T00:00:00",
          "2020-02-01T00:00:00",
          "2020-03-01T00:00:00",
          "2020-04-01T00:00:00",
          "2020-05-01T00:00:00",
          "2020-06-01T00:00:00",
          "2020-07-01T00:00:00",
          "2020-08-01T00:00:00",
          "2020-09-01T00:00:00",
          "2020-10-01T00:00:00",
          "2020-11-01T00:00:00",
          "2020-12-01T00:00:00",
          "2021-01-01T00:00:00",
          "2021-02-01T00:00:00",
          "2021-03-01T00:00:00",
          "2021-04-01T00:00:00",
          "2021-05-01T00:00:00",
          "2021-06-01T00:00:00",
          "2021-07-01T00:00:00",
          "2021-08-01T00:00:00",
          "2021-09-01T00:00:00",
          "2021-10-01T00:00:00",
          "2021-11-01T00:00:00",
          "2021-12-01T00:00:00",
          "2022-01-01T00:00:00",
          "2022-02-01T00:00:00",
          "2022-03-01T00:00:00",
          "2022-04-01T00:00:00",
          "2022-05-01T00:00:00",
          "2022-06-01T00:00:00",
          "2022-07-01T00:00:00",
          "2022-08-01T00:00:00",
          "2022-09-01T00:00:00",
          "2022-10-01T00:00:00",
          "2022-11-01T00:00:00",
          "2022-12-01T00:00:00",
          "2023-01-01T00:00:00",
          "2023-02-01T00:00:00"
         ],
         "xaxis": "x",
         "y": [
          320.6709899902344,
          445.2090148925781,
          755.7570190429688,
          1119.3699951171875,
          856.0120239257812,
          397.2539978027344,
          670.4630126953125,
          578.6719970703125,
          455.24200439453125,
          433.8689880371094,
          283.4960021972656,
          233.22000122070312,
          197.53700256347656,
          113.39775848388672,
          133.41815185546875,
          107.1476821899414,
          136.83624267578125,
          141.46548461914062,
          162.18655395507812,
          268.433349609375,
          290.26849365234375,
          218.55459594726562,
          172.45840454101562,
          180.20912170410156,
          183.80369567871094,
          152.49192810058594,
          129.6306610107422,
          180.11376953125,
          219.752685546875,
          133.61231994628906,
          207.9017333984375,
          230.86026000976562,
          226.13458251953125,
          345.7986145019531,
          434.87445068359375,
          360.30914306640625,
          386.59033203125,
          615.0703125,
          737.7083740234375,
          1314.855224609375,
          1417.151123046875,
          1919.1572265625,
          2772.83837890625,
          2707.560546875,
          2274.3974609375,
          2530.462890625,
          3430.762451171875,
          3001.12939453125,
          4288.21728515625,
          4623.6796875,
          3683.047119140625,
          2687.89892578125,
          2919.77587890625,
          3282.576171875,
          2729.994140625,
          1942.0506591796875,
          1068.3167724609375,
          1681.445556640625,
          1553.75634765625,
          1328.1937255859375,
          1572.6453857421875,
          1295.76953125,
          1196.713623046875,
          1567.419921875
         ],
         "yaxis": "y"
        },
        {
         "hovertemplate": "variable=Close<br>Year_Month=%{x}<br>Etherum value=%{y}<extra></extra>",
         "legendgroup": "Close",
         "line": {
          "color": "#EF553B",
          "dash": "solid"
         },
         "marker": {
          "symbol": "circle"
         },
         "mode": "lines",
         "name": "Etherum Close Price",
         "orientation": "v",
         "showlegend": true,
         "type": "scatter",
         "x": [
          "2017-11-01T00:00:00",
          "2017-12-01T00:00:00",
          "2018-01-01T00:00:00",
          "2018-02-01T00:00:00",
          "2018-03-01T00:00:00",
          "2018-04-01T00:00:00",
          "2018-05-01T00:00:00",
          "2018-06-01T00:00:00",
          "2018-07-01T00:00:00",
          "2018-08-01T00:00:00",
          "2018-09-01T00:00:00",
          "2018-10-01T00:00:00",
          "2018-11-01T00:00:00",
          "2018-12-01T00:00:00",
          "2019-01-01T00:00:00",
          "2019-02-01T00:00:00",
          "2019-03-01T00:00:00",
          "2019-04-01T00:00:00",
          "2019-05-01T00:00:00",
          "2019-06-01T00:00:00",
          "2019-07-01T00:00:00",
          "2019-08-01T00:00:00",
          "2019-09-01T00:00:00",
          "2019-10-01T00:00:00",
          "2019-11-01T00:00:00",
          "2019-12-01T00:00:00",
          "2020-01-01T00:00:00",
          "2020-02-01T00:00:00",
          "2020-03-01T00:00:00",
          "2020-04-01T00:00:00",
          "2020-05-01T00:00:00",
          "2020-06-01T00:00:00",
          "2020-07-01T00:00:00",
          "2020-08-01T00:00:00",
          "2020-09-01T00:00:00",
          "2020-10-01T00:00:00",
          "2020-11-01T00:00:00",
          "2020-12-01T00:00:00",
          "2021-01-01T00:00:00",
          "2021-02-01T00:00:00",
          "2021-03-01T00:00:00",
          "2021-04-01T00:00:00",
          "2021-05-01T00:00:00",
          "2021-06-01T00:00:00",
          "2021-07-01T00:00:00",
          "2021-08-01T00:00:00",
          "2021-09-01T00:00:00",
          "2021-10-01T00:00:00",
          "2021-11-01T00:00:00",
          "2021-12-01T00:00:00",
          "2022-01-01T00:00:00",
          "2022-02-01T00:00:00",
          "2022-03-01T00:00:00",
          "2022-04-01T00:00:00",
          "2022-05-01T00:00:00",
          "2022-06-01T00:00:00",
          "2022-07-01T00:00:00",
          "2022-08-01T00:00:00",
          "2022-09-01T00:00:00",
          "2022-10-01T00:00:00",
          "2022-11-01T00:00:00",
          "2022-12-01T00:00:00",
          "2023-01-01T00:00:00",
          "2023-02-01T00:00:00"
         ],
         "xaxis": "x",
         "y": [
          447.114013671875,
          756.7329711914062,
          1118.31005859375,
          855.198974609375,
          396.4570007324219,
          669.9240112304688,
          577.64501953125,
          455.17999267578125,
          433.86700439453125,
          283.0039978027344,
          232.84800720214844,
          197.38099670410156,
          113.17141723632812,
          133.36825561523438,
          107.0610122680664,
          136.74624633789062,
          141.51409912109375,
          162.16603088378906,
          268.1135559082031,
          290.69598388671875,
          218.65414428710938,
          172.46978759765625,
          179.87220764160156,
          183.9669189453125,
          152.53968811035156,
          129.61085510253906,
          180.16017150878906,
          219.8485107421875,
          133.59356689453125,
          207.60205078125,
          230.9757080078125,
          226.31500244140625,
          345.5546569824219,
          435.0797424316406,
          359.9378662109375,
          386.59033203125,
          614.842529296875,
          737.8034057617188,
          1314.9862060546875,
          1416.0489501953125,
          1918.362060546875,
          2773.20703125,
          2714.9453125,
          2274.547607421875,
          2536.2099609375,
          3433.732666015625,
          3001.678955078125,
          4288.07421875,
          4631.47900390625,
          3682.6328125,
          2688.27880859375,
          2919.201171875,
          3281.642822265625,
          2730.186767578125,
          1942.3280029296875,
          1067.298828125,
          1681.517333984375,
          1553.6849365234375,
          1327.9786376953125,
          1572.7144775390625,
          1295.6885986328125,
          1196.771240234375,
          1586.535400390625,
          1586.535400390625
         ],
         "yaxis": "y"
        },
        {
         "hovertemplate": "variable=High<br>Year_Month=%{x}<br>Etherum value=%{y}<extra></extra>",
         "legendgroup": "High",
         "line": {
          "color": "#00cc96",
          "dash": "solid"
         },
         "marker": {
          "symbol": "circle"
         },
         "mode": "lines",
         "name": "Etherum High Price",
         "orientation": "v",
         "showlegend": true,
         "type": "scatter",
         "x": [
          "2017-11-01T00:00:00",
          "2017-12-01T00:00:00",
          "2018-01-01T00:00:00",
          "2018-02-01T00:00:00",
          "2018-03-01T00:00:00",
          "2018-04-01T00:00:00",
          "2018-05-01T00:00:00",
          "2018-06-01T00:00:00",
          "2018-07-01T00:00:00",
          "2018-08-01T00:00:00",
          "2018-09-01T00:00:00",
          "2018-10-01T00:00:00",
          "2018-11-01T00:00:00",
          "2018-12-01T00:00:00",
          "2019-01-01T00:00:00",
          "2019-02-01T00:00:00",
          "2019-03-01T00:00:00",
          "2019-04-01T00:00:00",
          "2019-05-01T00:00:00",
          "2019-06-01T00:00:00",
          "2019-07-01T00:00:00",
          "2019-08-01T00:00:00",
          "2019-09-01T00:00:00",
          "2019-10-01T00:00:00",
          "2019-11-01T00:00:00",
          "2019-12-01T00:00:00",
          "2020-01-01T00:00:00",
          "2020-02-01T00:00:00",
          "2020-03-01T00:00:00",
          "2020-04-01T00:00:00",
          "2020-05-01T00:00:00",
          "2020-06-01T00:00:00",
          "2020-07-01T00:00:00",
          "2020-08-01T00:00:00",
          "2020-09-01T00:00:00",
          "2020-10-01T00:00:00",
          "2020-11-01T00:00:00",
          "2020-12-01T00:00:00",
          "2021-01-01T00:00:00",
          "2021-02-01T00:00:00",
          "2021-03-01T00:00:00",
          "2021-04-01T00:00:00",
          "2021-05-01T00:00:00",
          "2021-06-01T00:00:00",
          "2021-07-01T00:00:00",
          "2021-08-01T00:00:00",
          "2021-09-01T00:00:00",
          "2021-10-01T00:00:00",
          "2021-11-01T00:00:00",
          "2021-12-01T00:00:00",
          "2022-01-01T00:00:00",
          "2022-02-01T00:00:00",
          "2022-03-01T00:00:00",
          "2022-04-01T00:00:00",
          "2022-05-01T00:00:00",
          "2022-06-01T00:00:00",
          "2022-07-01T00:00:00",
          "2022-08-01T00:00:00",
          "2022-09-01T00:00:00",
          "2022-10-01T00:00:00",
          "2022-11-01T00:00:00",
          "2022-12-01T00:00:00",
          "2023-01-01T00:00:00",
          "2023-02-01T00:00:00"
         ],
         "xaxis": "x",
         "y": [
          522.3070068359375,
          881.9439697265625,
          1432.8800048828125,
          1161.3499755859375,
          880.302001953125,
          708.875,
          835.0570068359375,
          624.5130004882812,
          513.4329833984375,
          435.4570007324219,
          301.1440124511719,
          234.14500427246094,
          221.65199279785156,
          157.668701171875,
          160.82489013671875,
          165.54962158203125,
          149.6132354736328,
          184.3778533935547,
          287.2016296386719,
          361.398681640625,
          318.2231140136719,
          239.11590576171875,
          222.87168884277344,
          195.9425048828125,
          193.54725646972656,
          153.1553955078125,
          186.26048278808594,
          287.1236877441406,
          249.97848510742188,
          227.52969360351562,
          244.04525756835938,
          252.2220001220703,
          348.6113586425781,
          444.5777587890625,
          487.2118835449219,
          420.14166259765625,
          621.1734008789062,
          754.30322265625,
          1467.784912109375,
          2036.2864990234375,
          1947.8377685546875,
          2797.972412109375,
          4362.3505859375,
          2891.2548828125,
          2551.1611328125,
          3466.9921875,
          4022.46923828125,
          4455.7353515625,
          4891.70458984375,
          4780.732421875,
          3876.78515625,
          3271.316162109375,
          3470.186279296875,
          3573.960205078125,
          2956.686767578125,
          1965.1666259765625,
          1774.576416015625,
          2022.79150390625,
          1784.497802734375,
          1652.3822021484375,
          1661.334716796875,
          1346.1744384765625,
          1674.1793212890625,
          1598.517578125
         ],
         "yaxis": "y"
        },
        {
         "hovertemplate": "variable=Low<br>Year_Month=%{x}<br>Etherum value=%{y}<extra></extra>",
         "legendgroup": "Low",
         "line": {
          "color": "#ab63fa",
          "dash": "solid"
         },
         "marker": {
          "symbol": "circle"
         },
         "mode": "lines",
         "name": "Etherum Low Price",
         "orientation": "v",
         "showlegend": true,
         "type": "scatter",
         "x": [
          "2017-11-01T00:00:00",
          "2017-12-01T00:00:00",
          "2018-01-01T00:00:00",
          "2018-02-01T00:00:00",
          "2018-03-01T00:00:00",
          "2018-04-01T00:00:00",
          "2018-05-01T00:00:00",
          "2018-06-01T00:00:00",
          "2018-07-01T00:00:00",
          "2018-08-01T00:00:00",
          "2018-09-01T00:00:00",
          "2018-10-01T00:00:00",
          "2018-11-01T00:00:00",
          "2018-12-01T00:00:00",
          "2019-01-01T00:00:00",
          "2019-02-01T00:00:00",
          "2019-03-01T00:00:00",
          "2019-04-01T00:00:00",
          "2019-05-01T00:00:00",
          "2019-06-01T00:00:00",
          "2019-07-01T00:00:00",
          "2019-08-01T00:00:00",
          "2019-09-01T00:00:00",
          "2019-10-01T00:00:00",
          "2019-11-01T00:00:00",
          "2019-12-01T00:00:00",
          "2020-01-01T00:00:00",
          "2020-02-01T00:00:00",
          "2020-03-01T00:00:00",
          "2020-04-01T00:00:00",
          "2020-05-01T00:00:00",
          "2020-06-01T00:00:00",
          "2020-07-01T00:00:00",
          "2020-08-01T00:00:00",
          "2020-09-01T00:00:00",
          "2020-10-01T00:00:00",
          "2020-11-01T00:00:00",
          "2020-12-01T00:00:00",
          "2021-01-01T00:00:00",
          "2021-02-01T00:00:00",
          "2021-03-01T00:00:00",
          "2021-04-01T00:00:00",
          "2021-05-01T00:00:00",
          "2021-06-01T00:00:00",
          "2021-07-01T00:00:00",
          "2021-08-01T00:00:00",
          "2021-09-01T00:00:00",
          "2021-10-01T00:00:00",
          "2021-11-01T00:00:00",
          "2021-12-01T00:00:00",
          "2022-01-01T00:00:00",
          "2022-02-01T00:00:00",
          "2022-03-01T00:00:00",
          "2022-04-01T00:00:00",
          "2022-05-01T00:00:00",
          "2022-06-01T00:00:00",
          "2022-07-01T00:00:00",
          "2022-08-01T00:00:00",
          "2022-09-01T00:00:00",
          "2022-10-01T00:00:00",
          "2022-11-01T00:00:00",
          "2022-12-01T00:00:00",
          "2023-01-01T00:00:00",
          "2023-02-01T00:00:00"
         ],
         "xaxis": "x",
         "y": [
          294.5419921875,
          414.4110107421875,
          742.0040283203125,
          574.4190063476562,
          368.63299560546875,
          363.80499267578125,
          512.552001953125,
          407.9469909667969,
          422.80999755859375,
          254.64999389648438,
          170.2570037841797,
          188.70700073242188,
          101.7699966430664,
          82.82988739013672,
          103.33646392822266,
          102.93456268310547,
          125.40270233154297,
          140.73756408691406,
          159.66021728515625,
          229.25743103027344,
          193.99041748046875,
          167.0714111328125,
          157.1303253173828,
          157.4634246826172,
          133.80233764648438,
          119.78005981445312,
          126.49002075195312,
          179.74517822265625,
          95.1843032836914,
          129.73094177246094,
          180.7183380126953,
          219.47267150878906,
          224.54449462890625,
          343.5874328613281,
          316.77435302734375,
          334.5455627441406,
          371.312744140625,
          532.9984130859375,
          718.1094970703125,
          1274.3577880859375,
          1416.4161376953125,
          1912.178466796875,
          1737.46875,
          1707.6005859375,
          1722.05078125,
          2449.353515625,
          2676.407470703125,
          2978.654296875,
          3933.506591796875,
          3525.494140625,
          2172.30126953125,
          2308.914794921875,
          2455.59375,
          2727.40625,
          1721.2647705078125,
          896.1090087890625,
          1019.2203369140625,
          1427.7283935546875,
          1229.4267578125,
          1209.2781982421875,
          1081.13818359375,
          1160.377197265625,
          1192.8853759765625,
          1563.8043212890625
         ],
         "yaxis": "y"
        }
       ],
       "layout": {
        "font": {
         "color": "black",
         "size": 15
        },
        "legend": {
         "title": {
          "text": "Ethreum Parameters"
         },
         "tracegroupgap": 0
        },
        "margin": {
         "t": 60
        },
        "template": {
         "data": {
          "bar": [
           {
            "error_x": {
             "color": "#2a3f5f"
            },
            "error_y": {
             "color": "#2a3f5f"
            },
            "marker": {
             "line": {
              "color": "#E5ECF6",
              "width": 0.5
             },
             "pattern": {
              "fillmode": "overlay",
              "size": 10,
              "solidity": 0.2
             }
            },
            "type": "bar"
           }
          ],
          "barpolar": [
           {
            "marker": {
             "line": {
              "color": "#E5ECF6",
              "width": 0.5
             },
             "pattern": {
              "fillmode": "overlay",
              "size": 10,
              "solidity": 0.2
             }
            },
            "type": "barpolar"
           }
          ],
          "carpet": [
           {
            "aaxis": {
             "endlinecolor": "#2a3f5f",
             "gridcolor": "white",
             "linecolor": "white",
             "minorgridcolor": "white",
             "startlinecolor": "#2a3f5f"
            },
            "baxis": {
             "endlinecolor": "#2a3f5f",
             "gridcolor": "white",
             "linecolor": "white",
             "minorgridcolor": "white",
             "startlinecolor": "#2a3f5f"
            },
            "type": "carpet"
           }
          ],
          "choropleth": [
           {
            "colorbar": {
             "outlinewidth": 0,
             "ticks": ""
            },
            "type": "choropleth"
           }
          ],
          "contour": [
           {
            "colorbar": {
             "outlinewidth": 0,
             "ticks": ""
            },
            "colorscale": [
             [
              0,
              "#0d0887"
             ],
             [
              0.1111111111111111,
              "#46039f"
             ],
             [
              0.2222222222222222,
              "#7201a8"
             ],
             [
              0.3333333333333333,
              "#9c179e"
             ],
             [
              0.4444444444444444,
              "#bd3786"
             ],
             [
              0.5555555555555556,
              "#d8576b"
             ],
             [
              0.6666666666666666,
              "#ed7953"
             ],
             [
              0.7777777777777778,
              "#fb9f3a"
             ],
             [
              0.8888888888888888,
              "#fdca26"
             ],
             [
              1,
              "#f0f921"
             ]
            ],
            "type": "contour"
           }
          ],
          "contourcarpet": [
           {
            "colorbar": {
             "outlinewidth": 0,
             "ticks": ""
            },
            "type": "contourcarpet"
           }
          ],
          "heatmap": [
           {
            "colorbar": {
             "outlinewidth": 0,
             "ticks": ""
            },
            "colorscale": [
             [
              0,
              "#0d0887"
             ],
             [
              0.1111111111111111,
              "#46039f"
             ],
             [
              0.2222222222222222,
              "#7201a8"
             ],
             [
              0.3333333333333333,
              "#9c179e"
             ],
             [
              0.4444444444444444,
              "#bd3786"
             ],
             [
              0.5555555555555556,
              "#d8576b"
             ],
             [
              0.6666666666666666,
              "#ed7953"
             ],
             [
              0.7777777777777778,
              "#fb9f3a"
             ],
             [
              0.8888888888888888,
              "#fdca26"
             ],
             [
              1,
              "#f0f921"
             ]
            ],
            "type": "heatmap"
           }
          ],
          "heatmapgl": [
           {
            "colorbar": {
             "outlinewidth": 0,
             "ticks": ""
            },
            "colorscale": [
             [
              0,
              "#0d0887"
             ],
             [
              0.1111111111111111,
              "#46039f"
             ],
             [
              0.2222222222222222,
              "#7201a8"
             ],
             [
              0.3333333333333333,
              "#9c179e"
             ],
             [
              0.4444444444444444,
              "#bd3786"
             ],
             [
              0.5555555555555556,
              "#d8576b"
             ],
             [
              0.6666666666666666,
              "#ed7953"
             ],
             [
              0.7777777777777778,
              "#fb9f3a"
             ],
             [
              0.8888888888888888,
              "#fdca26"
             ],
             [
              1,
              "#f0f921"
             ]
            ],
            "type": "heatmapgl"
           }
          ],
          "histogram": [
           {
            "marker": {
             "pattern": {
              "fillmode": "overlay",
              "size": 10,
              "solidity": 0.2
             }
            },
            "type": "histogram"
           }
          ],
          "histogram2d": [
           {
            "colorbar": {
             "outlinewidth": 0,
             "ticks": ""
            },
            "colorscale": [
             [
              0,
              "#0d0887"
             ],
             [
              0.1111111111111111,
              "#46039f"
             ],
             [
              0.2222222222222222,
              "#7201a8"
             ],
             [
              0.3333333333333333,
              "#9c179e"
             ],
             [
              0.4444444444444444,
              "#bd3786"
             ],
             [
              0.5555555555555556,
              "#d8576b"
             ],
             [
              0.6666666666666666,
              "#ed7953"
             ],
             [
              0.7777777777777778,
              "#fb9f3a"
             ],
             [
              0.8888888888888888,
              "#fdca26"
             ],
             [
              1,
              "#f0f921"
             ]
            ],
            "type": "histogram2d"
           }
          ],
          "histogram2dcontour": [
           {
            "colorbar": {
             "outlinewidth": 0,
             "ticks": ""
            },
            "colorscale": [
             [
              0,
              "#0d0887"
             ],
             [
              0.1111111111111111,
              "#46039f"
             ],
             [
              0.2222222222222222,
              "#7201a8"
             ],
             [
              0.3333333333333333,
              "#9c179e"
             ],
             [
              0.4444444444444444,
              "#bd3786"
             ],
             [
              0.5555555555555556,
              "#d8576b"
             ],
             [
              0.6666666666666666,
              "#ed7953"
             ],
             [
              0.7777777777777778,
              "#fb9f3a"
             ],
             [
              0.8888888888888888,
              "#fdca26"
             ],
             [
              1,
              "#f0f921"
             ]
            ],
            "type": "histogram2dcontour"
           }
          ],
          "mesh3d": [
           {
            "colorbar": {
             "outlinewidth": 0,
             "ticks": ""
            },
            "type": "mesh3d"
           }
          ],
          "parcoords": [
           {
            "line": {
             "colorbar": {
              "outlinewidth": 0,
              "ticks": ""
             }
            },
            "type": "parcoords"
           }
          ],
          "pie": [
           {
            "automargin": true,
            "type": "pie"
           }
          ],
          "scatter": [
           {
            "fillpattern": {
             "fillmode": "overlay",
             "size": 10,
             "solidity": 0.2
            },
            "type": "scatter"
           }
          ],
          "scatter3d": [
           {
            "line": {
             "colorbar": {
              "outlinewidth": 0,
              "ticks": ""
             }
            },
            "marker": {
             "colorbar": {
              "outlinewidth": 0,
              "ticks": ""
             }
            },
            "type": "scatter3d"
           }
          ],
          "scattercarpet": [
           {
            "marker": {
             "colorbar": {
              "outlinewidth": 0,
              "ticks": ""
             }
            },
            "type": "scattercarpet"
           }
          ],
          "scattergeo": [
           {
            "marker": {
             "colorbar": {
              "outlinewidth": 0,
              "ticks": ""
             }
            },
            "type": "scattergeo"
           }
          ],
          "scattergl": [
           {
            "marker": {
             "colorbar": {
              "outlinewidth": 0,
              "ticks": ""
             }
            },
            "type": "scattergl"
           }
          ],
          "scattermapbox": [
           {
            "marker": {
             "colorbar": {
              "outlinewidth": 0,
              "ticks": ""
             }
            },
            "type": "scattermapbox"
           }
          ],
          "scatterpolar": [
           {
            "marker": {
             "colorbar": {
              "outlinewidth": 0,
              "ticks": ""
             }
            },
            "type": "scatterpolar"
           }
          ],
          "scatterpolargl": [
           {
            "marker": {
             "colorbar": {
              "outlinewidth": 0,
              "ticks": ""
             }
            },
            "type": "scatterpolargl"
           }
          ],
          "scatterternary": [
           {
            "marker": {
             "colorbar": {
              "outlinewidth": 0,
              "ticks": ""
             }
            },
            "type": "scatterternary"
           }
          ],
          "surface": [
           {
            "colorbar": {
             "outlinewidth": 0,
             "ticks": ""
            },
            "colorscale": [
             [
              0,
              "#0d0887"
             ],
             [
              0.1111111111111111,
              "#46039f"
             ],
             [
              0.2222222222222222,
              "#7201a8"
             ],
             [
              0.3333333333333333,
              "#9c179e"
             ],
             [
              0.4444444444444444,
              "#bd3786"
             ],
             [
              0.5555555555555556,
              "#d8576b"
             ],
             [
              0.6666666666666666,
              "#ed7953"
             ],
             [
              0.7777777777777778,
              "#fb9f3a"
             ],
             [
              0.8888888888888888,
              "#fdca26"
             ],
             [
              1,
              "#f0f921"
             ]
            ],
            "type": "surface"
           }
          ],
          "table": [
           {
            "cells": {
             "fill": {
              "color": "#EBF0F8"
             },
             "line": {
              "color": "white"
             }
            },
            "header": {
             "fill": {
              "color": "#C8D4E3"
             },
             "line": {
              "color": "white"
             }
            },
            "type": "table"
           }
          ]
         },
         "layout": {
          "annotationdefaults": {
           "arrowcolor": "#2a3f5f",
           "arrowhead": 0,
           "arrowwidth": 1
          },
          "autotypenumbers": "strict",
          "coloraxis": {
           "colorbar": {
            "outlinewidth": 0,
            "ticks": ""
           }
          },
          "colorscale": {
           "diverging": [
            [
             0,
             "#8e0152"
            ],
            [
             0.1,
             "#c51b7d"
            ],
            [
             0.2,
             "#de77ae"
            ],
            [
             0.3,
             "#f1b6da"
            ],
            [
             0.4,
             "#fde0ef"
            ],
            [
             0.5,
             "#f7f7f7"
            ],
            [
             0.6,
             "#e6f5d0"
            ],
            [
             0.7,
             "#b8e186"
            ],
            [
             0.8,
             "#7fbc41"
            ],
            [
             0.9,
             "#4d9221"
            ],
            [
             1,
             "#276419"
            ]
           ],
           "sequential": [
            [
             0,
             "#0d0887"
            ],
            [
             0.1111111111111111,
             "#46039f"
            ],
            [
             0.2222222222222222,
             "#7201a8"
            ],
            [
             0.3333333333333333,
             "#9c179e"
            ],
            [
             0.4444444444444444,
             "#bd3786"
            ],
            [
             0.5555555555555556,
             "#d8576b"
            ],
            [
             0.6666666666666666,
             "#ed7953"
            ],
            [
             0.7777777777777778,
             "#fb9f3a"
            ],
            [
             0.8888888888888888,
             "#fdca26"
            ],
            [
             1,
             "#f0f921"
            ]
           ],
           "sequentialminus": [
            [
             0,
             "#0d0887"
            ],
            [
             0.1111111111111111,
             "#46039f"
            ],
            [
             0.2222222222222222,
             "#7201a8"
            ],
            [
             0.3333333333333333,
             "#9c179e"
            ],
            [
             0.4444444444444444,
             "#bd3786"
            ],
            [
             0.5555555555555556,
             "#d8576b"
            ],
            [
             0.6666666666666666,
             "#ed7953"
            ],
            [
             0.7777777777777778,
             "#fb9f3a"
            ],
            [
             0.8888888888888888,
             "#fdca26"
            ],
            [
             1,
             "#f0f921"
            ]
           ]
          },
          "colorway": [
           "#636efa",
           "#EF553B",
           "#00cc96",
           "#ab63fa",
           "#FFA15A",
           "#19d3f3",
           "#FF6692",
           "#B6E880",
           "#FF97FF",
           "#FECB52"
          ],
          "font": {
           "color": "#2a3f5f"
          },
          "geo": {
           "bgcolor": "white",
           "lakecolor": "white",
           "landcolor": "#E5ECF6",
           "showlakes": true,
           "showland": true,
           "subunitcolor": "white"
          },
          "hoverlabel": {
           "align": "left"
          },
          "hovermode": "closest",
          "mapbox": {
           "style": "light"
          },
          "paper_bgcolor": "white",
          "plot_bgcolor": "#E5ECF6",
          "polar": {
           "angularaxis": {
            "gridcolor": "white",
            "linecolor": "white",
            "ticks": ""
           },
           "bgcolor": "#E5ECF6",
           "radialaxis": {
            "gridcolor": "white",
            "linecolor": "white",
            "ticks": ""
           }
          },
          "scene": {
           "xaxis": {
            "backgroundcolor": "#E5ECF6",
            "gridcolor": "white",
            "gridwidth": 2,
            "linecolor": "white",
            "showbackground": true,
            "ticks": "",
            "zerolinecolor": "white"
           },
           "yaxis": {
            "backgroundcolor": "#E5ECF6",
            "gridcolor": "white",
            "gridwidth": 2,
            "linecolor": "white",
            "showbackground": true,
            "ticks": "",
            "zerolinecolor": "white"
           },
           "zaxis": {
            "backgroundcolor": "#E5ECF6",
            "gridcolor": "white",
            "gridwidth": 2,
            "linecolor": "white",
            "showbackground": true,
            "ticks": "",
            "zerolinecolor": "white"
           }
          },
          "shapedefaults": {
           "line": {
            "color": "#2a3f5f"
           }
          },
          "ternary": {
           "aaxis": {
            "gridcolor": "white",
            "linecolor": "white",
            "ticks": ""
           },
           "baxis": {
            "gridcolor": "white",
            "linecolor": "white",
            "ticks": ""
           },
           "bgcolor": "#E5ECF6",
           "caxis": {
            "gridcolor": "white",
            "linecolor": "white",
            "ticks": ""
           }
          },
          "title": {
           "x": 0.05
          },
          "xaxis": {
           "automargin": true,
           "gridcolor": "white",
           "linecolor": "white",
           "ticks": "",
           "title": {
            "standoff": 15
           },
           "zerolinecolor": "white",
           "zerolinewidth": 2
          },
          "yaxis": {
           "automargin": true,
           "gridcolor": "white",
           "linecolor": "white",
           "ticks": "",
           "title": {
            "standoff": 15
           },
           "zerolinecolor": "white",
           "zerolinewidth": 2
          }
         }
        },
        "title": {
         "text": "Etherum analysis chart"
        },
        "xaxis": {
         "anchor": "y",
         "domain": [
          0,
          1
         ],
         "showgrid": false,
         "title": {
          "text": "Year_Month"
         }
        },
        "yaxis": {
         "anchor": "x",
         "domain": [
          0,
          1
         ],
         "showgrid": false,
         "title": {
          "text": "Etherum value"
         }
        }
       }
      }
     },
     "metadata": {},
     "output_type": "display_data"
    }
   ],
   "source": [
    "names = cycle(['Etherum Open Price','Etherum Close Price','Etherum High Price','Etherum Low Price'])\n",
    "\n",
    "fig = px.line(monthly_df, x=monthly_df['Year_Month'], y=[monthly_df['Open'], monthly_df['Close'], \n",
    "                                          monthly_df['High'], monthly_df['Low']],\n",
    "             labels={'Year_Month':'Year_Month','value':'Etherum value'})\n",
    "fig.update_layout(title_text='Etherum analysis chart', font_size=15, font_color='black',legend_title_text='Ethreum Parameters')\n",
    "fig.for_each_trace(lambda t:  t.update(name = next(names)))\n",
    "fig.update_xaxes(showgrid=False)\n",
    "fig.update_yaxes(showgrid=False)\n",
    "\n"
   ]
  },
  {
   "cell_type": "code",
   "execution_count": 33,
   "metadata": {},
   "outputs": [],
   "source": [
    "monthly_df_copy = monthly_df.copy()\n",
    "\n"
   ]
  },
  {
   "cell_type": "code",
   "execution_count": 34,
   "metadata": {},
   "outputs": [
    {
     "data": {
      "text/html": [
       "<div>\n",
       "<style scoped>\n",
       "    .dataframe tbody tr th:only-of-type {\n",
       "        vertical-align: middle;\n",
       "    }\n",
       "\n",
       "    .dataframe tbody tr th {\n",
       "        vertical-align: top;\n",
       "    }\n",
       "\n",
       "    .dataframe thead th {\n",
       "        text-align: right;\n",
       "    }\n",
       "</style>\n",
       "<table border=\"1\" class=\"dataframe\">\n",
       "  <thead>\n",
       "    <tr style=\"text-align: right;\">\n",
       "      <th></th>\n",
       "      <th>Year</th>\n",
       "      <th>Month</th>\n",
       "      <th>Open</th>\n",
       "      <th>High</th>\n",
       "      <th>Low</th>\n",
       "      <th>Close</th>\n",
       "      <th>Volume</th>\n",
       "      <th>BTC-USD</th>\n",
       "      <th>nasdaq</th>\n",
       "      <th>gold</th>\n",
       "      <th>oil</th>\n",
       "      <th>sp500</th>\n",
       "      <th>vix</th>\n",
       "      <th>ftse100</th>\n",
       "      <th>tnx</th>\n",
       "      <th>gbp_usd</th>\n",
       "      <th>eur_usd</th>\n",
       "      <th>usd_jpy</th>\n",
       "      <th>cpi_value</th>\n",
       "      <th>Year_Month</th>\n",
       "    </tr>\n",
       "  </thead>\n",
       "  <tbody>\n",
       "    <tr>\n",
       "      <th>0</th>\n",
       "      <td>2017</td>\n",
       "      <td>11</td>\n",
       "      <td>320.670990</td>\n",
       "      <td>522.307007</td>\n",
       "      <td>294.541992</td>\n",
       "      <td>447.114014</td>\n",
       "      <td>2.606425e+10</td>\n",
       "      <td>24.141592</td>\n",
       "      <td>1273.199951</td>\n",
       "      <td>57.400002</td>\n",
       "      <td>2647.580078</td>\n",
       "      <td>11.280000</td>\n",
       "      <td>7326.700195</td>\n",
       "      <td>2.417</td>\n",
       "      <td>1.341724</td>\n",
       "      <td>1.185199</td>\n",
       "      <td>112.001999</td>\n",
       "      <td>259.101</td>\n",
       "      <td>10233.599609</td>\n",
       "      <td>2017-11-01</td>\n",
       "    </tr>\n",
       "    <tr>\n",
       "      <th>1</th>\n",
       "      <td>2017</td>\n",
       "      <td>12</td>\n",
       "      <td>445.209015</td>\n",
       "      <td>881.943970</td>\n",
       "      <td>414.411011</td>\n",
       "      <td>756.732971</td>\n",
       "      <td>7.986228e+10</td>\n",
       "      <td>23.545406</td>\n",
       "      <td>1306.300049</td>\n",
       "      <td>60.419998</td>\n",
       "      <td>2673.610107</td>\n",
       "      <td>11.040000</td>\n",
       "      <td>7687.799805</td>\n",
       "      <td>2.405</td>\n",
       "      <td>1.344086</td>\n",
       "      <td>1.194172</td>\n",
       "      <td>112.875000</td>\n",
       "      <td>259.101</td>\n",
       "      <td>14156.400391</td>\n",
       "      <td>2017-12-01</td>\n",
       "    </tr>\n",
       "    <tr>\n",
       "      <th>2</th>\n",
       "      <td>2018</td>\n",
       "      <td>1</td>\n",
       "      <td>755.757019</td>\n",
       "      <td>1432.880005</td>\n",
       "      <td>742.004028</td>\n",
       "      <td>1118.310059</td>\n",
       "      <td>1.636102e+11</td>\n",
       "      <td>24.795763</td>\n",
       "      <td>1339.000000</td>\n",
       "      <td>64.730003</td>\n",
       "      <td>2823.810059</td>\n",
       "      <td>13.540000</td>\n",
       "      <td>7533.600098</td>\n",
       "      <td>2.720</td>\n",
       "      <td>1.415588</td>\n",
       "      <td>1.240957</td>\n",
       "      <td>108.732002</td>\n",
       "      <td>247.867</td>\n",
       "      <td>10221.099609</td>\n",
       "      <td>2018-01-01</td>\n",
       "    </tr>\n",
       "    <tr>\n",
       "      <th>3</th>\n",
       "      <td>2018</td>\n",
       "      <td>2</td>\n",
       "      <td>1119.369995</td>\n",
       "      <td>1161.349976</td>\n",
       "      <td>574.419006</td>\n",
       "      <td>855.198975</td>\n",
       "      <td>8.339344e+10</td>\n",
       "      <td>24.746735</td>\n",
       "      <td>1315.500000</td>\n",
       "      <td>61.639999</td>\n",
       "      <td>2713.830078</td>\n",
       "      <td>19.850000</td>\n",
       "      <td>7231.899902</td>\n",
       "      <td>2.868</td>\n",
       "      <td>1.390608</td>\n",
       "      <td>1.223032</td>\n",
       "      <td>107.426003</td>\n",
       "      <td>248.991</td>\n",
       "      <td>10397.900391</td>\n",
       "      <td>2018-02-01</td>\n",
       "    </tr>\n",
       "    <tr>\n",
       "      <th>4</th>\n",
       "      <td>2018</td>\n",
       "      <td>3</td>\n",
       "      <td>856.012024</td>\n",
       "      <td>880.302002</td>\n",
       "      <td>368.632996</td>\n",
       "      <td>396.457001</td>\n",
       "      <td>5.371618e+10</td>\n",
       "      <td>26.542622</td>\n",
       "      <td>1322.800049</td>\n",
       "      <td>64.940002</td>\n",
       "      <td>2640.870117</td>\n",
       "      <td>19.969999</td>\n",
       "      <td>7056.600098</td>\n",
       "      <td>2.741</td>\n",
       "      <td>1.402938</td>\n",
       "      <td>1.230285</td>\n",
       "      <td>106.478996</td>\n",
       "      <td>249.554</td>\n",
       "      <td>6973.529785</td>\n",
       "      <td>2018-03-01</td>\n",
       "    </tr>\n",
       "    <tr>\n",
       "      <th>...</th>\n",
       "      <td>...</td>\n",
       "      <td>...</td>\n",
       "      <td>...</td>\n",
       "      <td>...</td>\n",
       "      <td>...</td>\n",
       "      <td>...</td>\n",
       "      <td>...</td>\n",
       "      <td>...</td>\n",
       "      <td>...</td>\n",
       "      <td>...</td>\n",
       "      <td>...</td>\n",
       "      <td>...</td>\n",
       "      <td>...</td>\n",
       "      <td>...</td>\n",
       "      <td>...</td>\n",
       "      <td>...</td>\n",
       "      <td>...</td>\n",
       "      <td>...</td>\n",
       "      <td>...</td>\n",
       "      <td>...</td>\n",
       "    </tr>\n",
       "    <tr>\n",
       "      <th>59</th>\n",
       "      <td>2022</td>\n",
       "      <td>10</td>\n",
       "      <td>1328.193726</td>\n",
       "      <td>1652.382202</td>\n",
       "      <td>1209.278198</td>\n",
       "      <td>1572.714478</td>\n",
       "      <td>3.820716e+11</td>\n",
       "      <td>61.819077</td>\n",
       "      <td>1635.900024</td>\n",
       "      <td>86.529999</td>\n",
       "      <td>3871.979980</td>\n",
       "      <td>25.879999</td>\n",
       "      <td>7094.500000</td>\n",
       "      <td>4.077</td>\n",
       "      <td>1.159595</td>\n",
       "      <td>0.995500</td>\n",
       "      <td>147.811996</td>\n",
       "      <td>298.012</td>\n",
       "      <td>20495.773438</td>\n",
       "      <td>2022-10-01</td>\n",
       "    </tr>\n",
       "    <tr>\n",
       "      <th>60</th>\n",
       "      <td>2022</td>\n",
       "      <td>11</td>\n",
       "      <td>1572.645386</td>\n",
       "      <td>1661.334717</td>\n",
       "      <td>1081.138184</td>\n",
       "      <td>1295.688599</td>\n",
       "      <td>4.217979e+11</td>\n",
       "      <td>67.997009</td>\n",
       "      <td>1746.000000</td>\n",
       "      <td>80.550003</td>\n",
       "      <td>4080.110107</td>\n",
       "      <td>20.580000</td>\n",
       "      <td>7573.100098</td>\n",
       "      <td>3.703</td>\n",
       "      <td>1.194686</td>\n",
       "      <td>1.032450</td>\n",
       "      <td>138.744995</td>\n",
       "      <td>297.711</td>\n",
       "      <td>17168.566406</td>\n",
       "      <td>2022-11-01</td>\n",
       "    </tr>\n",
       "    <tr>\n",
       "      <th>61</th>\n",
       "      <td>2022</td>\n",
       "      <td>12</td>\n",
       "      <td>1295.769531</td>\n",
       "      <td>1346.174438</td>\n",
       "      <td>1160.377197</td>\n",
       "      <td>1196.771240</td>\n",
       "      <td>1.611306e+11</td>\n",
       "      <td>61.113628</td>\n",
       "      <td>1819.699951</td>\n",
       "      <td>80.260002</td>\n",
       "      <td>3839.500000</td>\n",
       "      <td>21.670000</td>\n",
       "      <td>7451.700195</td>\n",
       "      <td>3.879</td>\n",
       "      <td>1.205633</td>\n",
       "      <td>1.066075</td>\n",
       "      <td>132.916000</td>\n",
       "      <td>296.797</td>\n",
       "      <td>16547.496094</td>\n",
       "      <td>2022-12-01</td>\n",
       "    </tr>\n",
       "    <tr>\n",
       "      <th>62</th>\n",
       "      <td>2023</td>\n",
       "      <td>1</td>\n",
       "      <td>1196.713623</td>\n",
       "      <td>1674.179321</td>\n",
       "      <td>1192.885376</td>\n",
       "      <td>1586.535400</td>\n",
       "      <td>2.249530e+11</td>\n",
       "      <td>59.958096</td>\n",
       "      <td>1929.500000</td>\n",
       "      <td>78.870003</td>\n",
       "      <td>4076.600098</td>\n",
       "      <td>19.400000</td>\n",
       "      <td>7771.700195</td>\n",
       "      <td>3.529</td>\n",
       "      <td>1.235361</td>\n",
       "      <td>1.085069</td>\n",
       "      <td>130.479004</td>\n",
       "      <td>299.170</td>\n",
       "      <td>23139.283203</td>\n",
       "      <td>2023-01-01</td>\n",
       "    </tr>\n",
       "    <tr>\n",
       "      <th>63</th>\n",
       "      <td>2023</td>\n",
       "      <td>2</td>\n",
       "      <td>1567.419922</td>\n",
       "      <td>1598.517578</td>\n",
       "      <td>1563.804321</td>\n",
       "      <td>1586.535400</td>\n",
       "      <td>6.585191e+09</td>\n",
       "      <td>59.958096</td>\n",
       "      <td>1929.500000</td>\n",
       "      <td>78.870003</td>\n",
       "      <td>4076.600098</td>\n",
       "      <td>19.400000</td>\n",
       "      <td>7771.700195</td>\n",
       "      <td>3.529</td>\n",
       "      <td>1.235361</td>\n",
       "      <td>1.085069</td>\n",
       "      <td>130.479004</td>\n",
       "      <td>300.840</td>\n",
       "      <td>23139.283203</td>\n",
       "      <td>2023-02-01</td>\n",
       "    </tr>\n",
       "  </tbody>\n",
       "</table>\n",
       "<p>64 rows × 20 columns</p>\n",
       "</div>"
      ],
      "text/plain": [
       "    Year  Month         Open         High          Low        Close  \\\n",
       "0   2017     11   320.670990   522.307007   294.541992   447.114014   \n",
       "1   2017     12   445.209015   881.943970   414.411011   756.732971   \n",
       "2   2018      1   755.757019  1432.880005   742.004028  1118.310059   \n",
       "3   2018      2  1119.369995  1161.349976   574.419006   855.198975   \n",
       "4   2018      3   856.012024   880.302002   368.632996   396.457001   \n",
       "..   ...    ...          ...          ...          ...          ...   \n",
       "59  2022     10  1328.193726  1652.382202  1209.278198  1572.714478   \n",
       "60  2022     11  1572.645386  1661.334717  1081.138184  1295.688599   \n",
       "61  2022     12  1295.769531  1346.174438  1160.377197  1196.771240   \n",
       "62  2023      1  1196.713623  1674.179321  1192.885376  1586.535400   \n",
       "63  2023      2  1567.419922  1598.517578  1563.804321  1586.535400   \n",
       "\n",
       "          Volume    BTC-USD       nasdaq       gold          oil      sp500  \\\n",
       "0   2.606425e+10  24.141592  1273.199951  57.400002  2647.580078  11.280000   \n",
       "1   7.986228e+10  23.545406  1306.300049  60.419998  2673.610107  11.040000   \n",
       "2   1.636102e+11  24.795763  1339.000000  64.730003  2823.810059  13.540000   \n",
       "3   8.339344e+10  24.746735  1315.500000  61.639999  2713.830078  19.850000   \n",
       "4   5.371618e+10  26.542622  1322.800049  64.940002  2640.870117  19.969999   \n",
       "..           ...        ...          ...        ...          ...        ...   \n",
       "59  3.820716e+11  61.819077  1635.900024  86.529999  3871.979980  25.879999   \n",
       "60  4.217979e+11  67.997009  1746.000000  80.550003  4080.110107  20.580000   \n",
       "61  1.611306e+11  61.113628  1819.699951  80.260002  3839.500000  21.670000   \n",
       "62  2.249530e+11  59.958096  1929.500000  78.870003  4076.600098  19.400000   \n",
       "63  6.585191e+09  59.958096  1929.500000  78.870003  4076.600098  19.400000   \n",
       "\n",
       "            vix  ftse100       tnx   gbp_usd     eur_usd  usd_jpy  \\\n",
       "0   7326.700195    2.417  1.341724  1.185199  112.001999  259.101   \n",
       "1   7687.799805    2.405  1.344086  1.194172  112.875000  259.101   \n",
       "2   7533.600098    2.720  1.415588  1.240957  108.732002  247.867   \n",
       "3   7231.899902    2.868  1.390608  1.223032  107.426003  248.991   \n",
       "4   7056.600098    2.741  1.402938  1.230285  106.478996  249.554   \n",
       "..          ...      ...       ...       ...         ...      ...   \n",
       "59  7094.500000    4.077  1.159595  0.995500  147.811996  298.012   \n",
       "60  7573.100098    3.703  1.194686  1.032450  138.744995  297.711   \n",
       "61  7451.700195    3.879  1.205633  1.066075  132.916000  296.797   \n",
       "62  7771.700195    3.529  1.235361  1.085069  130.479004  299.170   \n",
       "63  7771.700195    3.529  1.235361  1.085069  130.479004  300.840   \n",
       "\n",
       "       cpi_value Year_Month  \n",
       "0   10233.599609 2017-11-01  \n",
       "1   14156.400391 2017-12-01  \n",
       "2   10221.099609 2018-01-01  \n",
       "3   10397.900391 2018-02-01  \n",
       "4    6973.529785 2018-03-01  \n",
       "..           ...        ...  \n",
       "59  20495.773438 2022-10-01  \n",
       "60  17168.566406 2022-11-01  \n",
       "61  16547.496094 2022-12-01  \n",
       "62  23139.283203 2023-01-01  \n",
       "63  23139.283203 2023-02-01  \n",
       "\n",
       "[64 rows x 20 columns]"
      ]
     },
     "execution_count": 34,
     "metadata": {},
     "output_type": "execute_result"
    }
   ],
   "source": [
    "monthly_df_copy"
   ]
  },
  {
   "cell_type": "code",
   "execution_count": 35,
   "metadata": {},
   "outputs": [],
   "source": [
    "monthly_df_copy = monthly_df_copy.fillna(monthly_df_copy.median())\n"
   ]
  },
  {
   "cell_type": "code",
   "execution_count": 36,
   "metadata": {},
   "outputs": [],
   "source": [
    "from sklearn.preprocessing import StandardScaler\n",
    "\n",
    "# Select the columns to normalize\n",
    "cols_to_normalize = ['Open', 'High', 'Low', 'Close', 'Volume','BTC-USD', 'nasdaq', 'gold', 'oil', 'sp500', 'vix', 'ftse100', 'tnx', 'gbp_usd', 'eur_usd', 'usd_jpy', 'cpi_value']\n",
    "\n",
    "# Create a StandardScaler object\n",
    "scaler = StandardScaler()\n",
    "\n",
    "# Normalize the selected columns\n",
    "monthly_df[cols_to_normalize] = scaler.fit_transform(monthly_df[cols_to_normalize])\n",
    "\n"
   ]
  },
  {
   "cell_type": "code",
   "execution_count": 37,
   "metadata": {},
   "outputs": [
    {
     "data": {
      "application/vnd.plotly.v1+json": {
       "config": {
        "plotlyServerURL": "https://plot.ly"
       },
       "data": [
        {
         "marker": {
          "color": "crimson"
         },
         "name": "Ethereum Open Price",
         "type": "bar",
         "x": [
          "2017-11-01T00:00:00",
          "2017-12-01T00:00:00",
          "2018-01-01T00:00:00",
          "2018-02-01T00:00:00",
          "2018-03-01T00:00:00",
          "2018-04-01T00:00:00",
          "2018-05-01T00:00:00",
          "2018-06-01T00:00:00",
          "2018-07-01T00:00:00",
          "2018-08-01T00:00:00",
          "2018-09-01T00:00:00",
          "2018-10-01T00:00:00",
          "2018-11-01T00:00:00",
          "2018-12-01T00:00:00",
          "2019-01-01T00:00:00",
          "2019-02-01T00:00:00",
          "2019-03-01T00:00:00",
          "2019-04-01T00:00:00",
          "2019-05-01T00:00:00",
          "2019-06-01T00:00:00",
          "2019-07-01T00:00:00",
          "2019-08-01T00:00:00",
          "2019-09-01T00:00:00",
          "2019-10-01T00:00:00",
          "2019-11-01T00:00:00",
          "2019-12-01T00:00:00",
          "2020-01-01T00:00:00",
          "2020-02-01T00:00:00",
          "2020-03-01T00:00:00",
          "2020-04-01T00:00:00",
          "2020-05-01T00:00:00",
          "2020-06-01T00:00:00",
          "2020-07-01T00:00:00",
          "2020-08-01T00:00:00",
          "2020-09-01T00:00:00",
          "2020-10-01T00:00:00",
          "2020-11-01T00:00:00",
          "2020-12-01T00:00:00",
          "2021-01-01T00:00:00",
          "2021-02-01T00:00:00",
          "2021-03-01T00:00:00",
          "2021-04-01T00:00:00",
          "2021-05-01T00:00:00",
          "2021-06-01T00:00:00",
          "2021-07-01T00:00:00",
          "2021-08-01T00:00:00",
          "2021-09-01T00:00:00",
          "2021-10-01T00:00:00",
          "2021-11-01T00:00:00",
          "2021-12-01T00:00:00",
          "2022-01-01T00:00:00",
          "2022-02-01T00:00:00",
          "2022-03-01T00:00:00",
          "2022-04-01T00:00:00",
          "2022-05-01T00:00:00",
          "2022-06-01T00:00:00",
          "2022-07-01T00:00:00",
          "2022-08-01T00:00:00",
          "2022-09-01T00:00:00",
          "2022-10-01T00:00:00",
          "2022-11-01T00:00:00",
          "2022-12-01T00:00:00",
          "2023-01-01T00:00:00",
          "2023-02-01T00:00:00"
         ],
         "y": [
          -0.6874816573092118,
          -0.5810472669357508,
          -0.31564248370299675,
          -0.00488658829927087,
          -0.2299611800613353,
          -0.6220312396084245,
          -0.3885376141279539,
          -0.4669853074928408,
          -0.5724727362082797,
          -0.5907388358049932,
          -0.7192526538862662,
          -0.7622202175564948,
          -0.7927161099697321,
          -0.8646243416693858,
          -0.8475142392310975,
          -0.8699658673652954,
          -0.8445930236988425,
          -0.8406367176267086,
          -0.8229277939113524,
          -0.7321257040800244,
          -0.7134646545993341,
          -0.7747537668165063,
          -0.8141491244569522,
          -0.8075251005344831,
          -0.8044530565548242,
          -0.83121314767002,
          -0.8507511564651682,
          -0.8076065917127494,
          -0.7737298390944535,
          -0.847348296641333,
          -0.7838580619264206,
          -0.7642369318686273,
          -0.7682756550069546,
          -0.6660067431331184,
          -0.5898795335645268,
          -0.6536055567246675,
          -0.6311447675162606,
          -0.43587808127484395,
          -0.3310674635934933,
          0.16218167253377477,
          0.24960719254212924,
          0.6786385155725025,
          1.4082231793269602,
          1.3524345455936455,
          0.9822387839361368,
          1.201080924124876,
          1.970507249582027,
          1.603328369848798,
          2.7033170287596526,
          2.9900144957756227,
          2.186118223474384,
          1.3356310620270142,
          1.5338009155064434,
          1.8438622645580394,
          1.371607050349036,
          0.6982040141106153,
          -0.048518391792858113,
          0.47548211661217177,
          0.36635461819409104,
          0.17358120469312516,
          0.382497826302573,
          0.14587039620549844,
          0.06121388097044179,
          0.3780319688942933
         ]
        },
        {
         "marker": {
          "color": "lightsalmon"
         },
         "name": "Ethereum Close Price",
         "type": "bar",
         "x": [
          "2017-11-01T00:00:00",
          "2017-12-01T00:00:00",
          "2018-01-01T00:00:00",
          "2018-02-01T00:00:00",
          "2018-03-01T00:00:00",
          "2018-04-01T00:00:00",
          "2018-05-01T00:00:00",
          "2018-06-01T00:00:00",
          "2018-07-01T00:00:00",
          "2018-08-01T00:00:00",
          "2018-09-01T00:00:00",
          "2018-10-01T00:00:00",
          "2018-11-01T00:00:00",
          "2018-12-01T00:00:00",
          "2019-01-01T00:00:00",
          "2019-02-01T00:00:00",
          "2019-03-01T00:00:00",
          "2019-04-01T00:00:00",
          "2019-05-01T00:00:00",
          "2019-06-01T00:00:00",
          "2019-07-01T00:00:00",
          "2019-08-01T00:00:00",
          "2019-09-01T00:00:00",
          "2019-10-01T00:00:00",
          "2019-11-01T00:00:00",
          "2019-12-01T00:00:00",
          "2020-01-01T00:00:00",
          "2020-02-01T00:00:00",
          "2020-03-01T00:00:00",
          "2020-04-01T00:00:00",
          "2020-05-01T00:00:00",
          "2020-06-01T00:00:00",
          "2020-07-01T00:00:00",
          "2020-08-01T00:00:00",
          "2020-09-01T00:00:00",
          "2020-10-01T00:00:00",
          "2020-11-01T00:00:00",
          "2020-12-01T00:00:00",
          "2021-01-01T00:00:00",
          "2021-02-01T00:00:00",
          "2021-03-01T00:00:00",
          "2021-04-01T00:00:00",
          "2021-05-01T00:00:00",
          "2021-06-01T00:00:00",
          "2021-07-01T00:00:00",
          "2021-08-01T00:00:00",
          "2021-09-01T00:00:00",
          "2021-10-01T00:00:00",
          "2021-11-01T00:00:00",
          "2021-12-01T00:00:00",
          "2022-01-01T00:00:00",
          "2022-02-01T00:00:00",
          "2022-03-01T00:00:00",
          "2022-04-01T00:00:00",
          "2022-05-01T00:00:00",
          "2022-06-01T00:00:00",
          "2022-07-01T00:00:00",
          "2022-08-01T00:00:00",
          "2022-09-01T00:00:00",
          "2022-10-01T00:00:00",
          "2022-11-01T00:00:00",
          "2022-12-01T00:00:00",
          "2023-01-01T00:00:00",
          "2023-02-01T00:00:00"
         ],
         "y": [
          -0.5979651035334111,
          -0.33284359823402665,
          -0.02323122029095653,
          -0.24852881577972735,
          -0.6413418516242673,
          -0.40717665045634066,
          -0.4861935988460819,
          -0.5910583413882219,
          -0.6093082947529046,
          -0.7384897496678062,
          -0.7814374807574644,
          -0.8118072852650521,
          -0.8839145316946119,
          -0.8666203187168221,
          -0.8891467686873101,
          -0.8637278020813655,
          -0.8596451699419916,
          -0.8419612681546775,
          -0.7512401845936202,
          -0.7319032313691028,
          -0.7935914468201235,
          -0.833138334597559,
          -0.8267997668282218,
          -0.8232935344149892,
          -0.8502041435492199,
          -0.8698377175735301,
          -0.8265531882125188,
          -0.7925687309147854,
          -0.866427388458266,
          -0.8030551685846351,
          -0.7830406990640885,
          -0.7870315828440162,
          -0.6849286723615453,
          -0.6082698475708972,
          -0.6726125722356042,
          -0.649790514068265,
          -0.4543419969239711,
          -0.349052666701888,
          0.14517925653857738,
          0.23171758439454804,
          0.6618398515028896,
          1.3938292207782643,
          1.3439406910187293,
          0.9668355439821769,
          1.1908926159392972,
          1.9594262112882757,
          1.5894658860820605,
          2.69098451222488,
          2.9850362534264616,
          2.172555220034493,
          1.321106612274533,
          1.5188415476637986,
          1.829194236351132,
          1.3569916926293477,
          0.6823614848400497,
          -0.0669112788939434,
          0.4590336960545106,
          0.349572964346133,
          0.1563044572099367,
          0.3658676402265678,
          0.12865503990355,
          0.04395376977160681,
          0.3777022639860053,
          0.3777022639860053
         ]
        },
        {
         "marker": {
          "color": "orange"
         },
         "name": "BTC Close Price",
         "type": "scatter",
         "x": [
          "2017-11-01T00:00:00",
          "2017-12-01T00:00:00",
          "2018-01-01T00:00:00",
          "2018-02-01T00:00:00",
          "2018-03-01T00:00:00",
          "2018-04-01T00:00:00",
          "2018-05-01T00:00:00",
          "2018-06-01T00:00:00",
          "2018-07-01T00:00:00",
          "2018-08-01T00:00:00",
          "2018-09-01T00:00:00",
          "2018-10-01T00:00:00",
          "2018-11-01T00:00:00",
          "2018-12-01T00:00:00",
          "2019-01-01T00:00:00",
          "2019-02-01T00:00:00",
          "2019-03-01T00:00:00",
          "2019-04-01T00:00:00",
          "2019-05-01T00:00:00",
          "2019-06-01T00:00:00",
          "2019-07-01T00:00:00",
          "2019-08-01T00:00:00",
          "2019-09-01T00:00:00",
          "2019-10-01T00:00:00",
          "2019-11-01T00:00:00",
          "2019-12-01T00:00:00",
          "2020-01-01T00:00:00",
          "2020-02-01T00:00:00",
          "2020-03-01T00:00:00",
          "2020-04-01T00:00:00",
          "2020-05-01T00:00:00",
          "2020-06-01T00:00:00",
          "2020-07-01T00:00:00",
          "2020-08-01T00:00:00",
          "2020-09-01T00:00:00",
          "2020-10-01T00:00:00",
          "2020-11-01T00:00:00",
          "2020-12-01T00:00:00",
          "2021-01-01T00:00:00",
          "2021-02-01T00:00:00",
          "2021-03-01T00:00:00",
          "2021-04-01T00:00:00",
          "2021-05-01T00:00:00",
          "2021-06-01T00:00:00",
          "2021-07-01T00:00:00",
          "2021-08-01T00:00:00",
          "2021-09-01T00:00:00",
          "2021-10-01T00:00:00",
          "2021-11-01T00:00:00",
          "2021-12-01T00:00:00",
          "2022-01-01T00:00:00",
          "2022-02-01T00:00:00",
          "2022-03-01T00:00:00",
          "2022-04-01T00:00:00",
          "2022-05-01T00:00:00",
          "2022-06-01T00:00:00",
          "2022-07-01T00:00:00",
          "2022-08-01T00:00:00",
          "2022-09-01T00:00:00",
          "2022-10-01T00:00:00",
          "2022-11-01T00:00:00",
          "2022-12-01T00:00:00",
          "2023-01-01T00:00:00",
          "2023-02-01T00:00:00"
         ],
         "y": [
          -1.261654670196555,
          -1.3033141505972765,
          -1.2159433687375132,
          -1.2193693106573225,
          -1.093878677477028,
          -1.0487044912071257,
          -0.9725543521906546,
          -0.9761403624335796,
          -0.9733307035496466,
          -0.8860218965193993,
          -1.085395589468705,
          -1.065634548559688,
          -0.9655258734067159,
          -1.1682989857143822,
          -1.0270892700223497,
          -0.9500458937856271,
          -1.0291632277042853,
          -0.9258314615788661,
          -0.960056094904908,
          -0.8282938755359909,
          -0.8238843330961196,
          -0.7473799379573822,
          -0.747647029480716,
          -0.7383428083011057,
          -0.6269112651559406,
          -0.5651750054136782,
          -0.3568769370140541,
          -0.6664314810651291,
          -0.8255158038232305,
          -0.4963784131578977,
          -0.2998347708106238,
          -0.26629905768623513,
          -0.0004718208744672183,
          0.06935155436323152,
          -0.18306726148372435,
          -0.22183018495998702,
          -0.064071057319904,
          0.05435417873714868,
          0.1115898663437131,
          0.17991091840226028,
          0.39870845587633424,
          0.7183202486054411,
          0.8527027371104582,
          1.054800656974407,
          1.3037027677641333,
          1.5097931994409517,
          1.4589362545024314,
          1.8436981204861131,
          1.6920765001561728,
          1.859941123545868,
          1.1547238074764408,
          0.9701768927730444,
          1.1447030773001023,
          0.66623366973764,
          0.617766420913579,
          0.5690003601158083,
          1.2229848838935207,
          1.1697161184927998,
          0.9852358433910336,
          1.3711231189670465,
          1.8028165907948228,
          1.3218287394075514,
          1.2410839331378802,
          1.2410839331378802
         ]
        },
        {
         "line": {
          "color": "darkblue"
         },
         "name": "Nasdaq",
         "type": "scatter",
         "x": [
          "2017-11-01T00:00:00",
          "2017-12-01T00:00:00",
          "2018-01-01T00:00:00",
          "2018-02-01T00:00:00",
          "2018-03-01T00:00:00",
          "2018-04-01T00:00:00",
          "2018-05-01T00:00:00",
          "2018-06-01T00:00:00",
          "2018-07-01T00:00:00",
          "2018-08-01T00:00:00",
          "2018-09-01T00:00:00",
          "2018-10-01T00:00:00",
          "2018-11-01T00:00:00",
          "2018-12-01T00:00:00",
          "2019-01-01T00:00:00",
          "2019-02-01T00:00:00",
          "2019-03-01T00:00:00",
          "2019-04-01T00:00:00",
          "2019-05-01T00:00:00",
          "2019-06-01T00:00:00",
          "2019-07-01T00:00:00",
          "2019-08-01T00:00:00",
          "2019-09-01T00:00:00",
          "2019-10-01T00:00:00",
          "2019-11-01T00:00:00",
          "2019-12-01T00:00:00",
          "2020-01-01T00:00:00",
          "2020-02-01T00:00:00",
          "2020-03-01T00:00:00",
          "2020-04-01T00:00:00",
          "2020-05-01T00:00:00",
          "2020-06-01T00:00:00",
          "2020-07-01T00:00:00",
          "2020-08-01T00:00:00",
          "2020-09-01T00:00:00",
          "2020-10-01T00:00:00",
          "2020-11-01T00:00:00",
          "2020-12-01T00:00:00",
          "2021-01-01T00:00:00",
          "2021-02-01T00:00:00",
          "2021-03-01T00:00:00",
          "2021-04-01T00:00:00",
          "2021-05-01T00:00:00",
          "2021-06-01T00:00:00",
          "2021-07-01T00:00:00",
          "2021-08-01T00:00:00",
          "2021-09-01T00:00:00",
          "2021-10-01T00:00:00",
          "2021-11-01T00:00:00",
          "2021-12-01T00:00:00",
          "2022-01-01T00:00:00",
          "2022-02-01T00:00:00",
          "2022-03-01T00:00:00",
          "2022-04-01T00:00:00",
          "2022-05-01T00:00:00",
          "2022-06-01T00:00:00",
          "2022-07-01T00:00:00",
          "2022-08-01T00:00:00",
          "2022-09-01T00:00:00",
          "2022-10-01T00:00:00",
          "2022-11-01T00:00:00",
          "2022-12-01T00:00:00",
          "2023-01-01T00:00:00",
          "2023-02-01T00:00:00"
         ],
         "y": [
          -1.3319594718173544,
          -1.1994941379573636,
          -1.0686301751324707,
          -1.1626762827312498,
          -1.133461764536944,
          -1.159875104721716,
          -1.2243065956277923,
          -1.4196020493587616,
          -1.5300565920786124,
          -1.6237021126582396,
          -1.6589195738907654,
          -1.57567856835248,
          -1.5440634591677924,
          -1.3115490746708025,
          -1.145868237632536,
          -1.1734813847917438,
          -1.252720428304549,
          -1.2935402455561427,
          -1.2014951189701035,
          -0.7856916553393394,
          -0.720059380417317,
          -0.34787691204768045,
          -0.5615817819124616,
          -0.3786918242355742,
          -0.5619818804108585,
          -0.34627602953333747,
          -0.09255153941375682,
          -0.16778862090108215,
          -0.09055055840101683,
          0.3128469206549104,
          0.5237506125101574,
          0.7482605844354323,
          1.4277939317702322,
          1.4470030563800829,
          1.1264459958432889,
          1.0860262770900921,
          0.679026445986327,
          1.1488568854818255,
          0.9655673178272963,
          0.48853315127763175,
          0.43130538742572133,
          0.6454103557888994,
          1.1864754262254882,
          0.6594172228780792,
          0.8266989424306886,
          0.8363037489959916,
          0.5973868114831398,
          0.7082409641806328,
          0.6706224234369701,
          0.8863282743144911,
          0.7562645084863923,
          1.1740694416506514,
          1.3733668574071005,
          1.213688963407054,
          0.9471579016934845,
          0.7926822652141089,
          0.6278016251726365,
          0.42730342540024135,
          0.22560444161190024,
          0.11955244793668121,
          0.560168369237874,
          0.8551127751074453,
          1.2945284009134472,
          1.2945284009134472
         ]
        },
        {
         "line": {
          "color": "pink"
         },
         "name": "CPI_Value",
         "type": "scatter",
         "x": [
          "2017-11-01T00:00:00",
          "2017-12-01T00:00:00",
          "2018-01-01T00:00:00",
          "2018-02-01T00:00:00",
          "2018-03-01T00:00:00",
          "2018-04-01T00:00:00",
          "2018-05-01T00:00:00",
          "2018-06-01T00:00:00",
          "2018-07-01T00:00:00",
          "2018-08-01T00:00:00",
          "2018-09-01T00:00:00",
          "2018-10-01T00:00:00",
          "2018-11-01T00:00:00",
          "2018-12-01T00:00:00",
          "2019-01-01T00:00:00",
          "2019-02-01T00:00:00",
          "2019-03-01T00:00:00",
          "2019-04-01T00:00:00",
          "2019-05-01T00:00:00",
          "2019-06-01T00:00:00",
          "2019-07-01T00:00:00",
          "2019-08-01T00:00:00",
          "2019-09-01T00:00:00",
          "2019-10-01T00:00:00",
          "2019-11-01T00:00:00",
          "2019-12-01T00:00:00",
          "2020-01-01T00:00:00",
          "2020-02-01T00:00:00",
          "2020-03-01T00:00:00",
          "2020-04-01T00:00:00",
          "2020-05-01T00:00:00",
          "2020-06-01T00:00:00",
          "2020-07-01T00:00:00",
          "2020-08-01T00:00:00",
          "2020-09-01T00:00:00",
          "2020-10-01T00:00:00",
          "2020-11-01T00:00:00",
          "2020-12-01T00:00:00",
          "2021-01-01T00:00:00",
          "2021-02-01T00:00:00",
          "2021-03-01T00:00:00",
          "2021-04-01T00:00:00",
          "2021-05-01T00:00:00",
          "2021-06-01T00:00:00",
          "2021-07-01T00:00:00",
          "2021-08-01T00:00:00",
          "2021-09-01T00:00:00",
          "2021-10-01T00:00:00",
          "2021-11-01T00:00:00",
          "2021-12-01T00:00:00",
          "2022-01-01T00:00:00",
          "2022-02-01T00:00:00",
          "2022-03-01T00:00:00",
          "2022-04-01T00:00:00",
          "2022-05-01T00:00:00",
          "2022-06-01T00:00:00",
          "2022-07-01T00:00:00",
          "2022-08-01T00:00:00",
          "2022-09-01T00:00:00",
          "2022-10-01T00:00:00",
          "2022-11-01T00:00:00",
          "2022-12-01T00:00:00",
          "2023-01-01T00:00:00",
          "2023-02-01T00:00:00"
         ],
         "y": [
          -0.60757676813686,
          -0.36773533266139313,
          -0.6083410225842878,
          -0.5975313599139668,
          -0.8068985971035927,
          -0.6682921865168339,
          -0.7750664739038573,
          -0.8417198508034512,
          -0.7575638230564985,
          -0.8029825394027593,
          -0.8281735899912412,
          -0.8470017744995468,
          -0.9876454605551089,
          -1.004432652810287,
          -1.0218520118643517,
          -0.997579738419387,
          -0.9822568099195776,
          -0.9061173635208017,
          -0.7090145891373405,
          -0.5718979672103468,
          -0.616623809280422,
          -0.6444404619937798,
          -0.7261726388485017,
          -0.6707967916387635,
          -0.7704528250439207,
          -0.7934434796049764,
          -0.6615680012344225,
          -0.7074856622908341,
          -0.8396016718365023,
          -0.7038756347595547,
          -0.6548102006978002,
          -0.6745625360137063,
          -0.5409419005246647,
          -0.5190931794350371,
          -0.5738950596132814,
          -0.3906877446463881,
          -0.03333209733190458,
          0.5399128331240094,
          0.791361024775513,
          1.5264765995884693,
          2.369055664060844,
          2.297603605134706,
          1.0492813768639127,
          0.9091464872359877,
          1.3117777024562862,
          1.6505253660751291,
          1.4441281828781298,
          2.515800160511445,
          2.252069325156961,
          1.5979298526621815,
          1.1196092652637877,
          1.4075870282809761,
          1.5509881503535954,
          1.0726381869248787,
          0.7105304890466196,
          -0.023617467987038683,
          0.1935634648779234,
          -0.007413004821179736,
          -0.045196192310161,
          0.019856190936829176,
          -0.18357043075482435,
          -0.22154289063430138,
          0.18148131855263525,
          0.18148131855263525
         ]
        },
        {
         "line": {
          "color": "blue"
         },
         "name": "SP500",
         "type": "scatter",
         "x": [
          "2017-11-01T00:00:00",
          "2017-12-01T00:00:00",
          "2018-01-01T00:00:00",
          "2018-02-01T00:00:00",
          "2018-03-01T00:00:00",
          "2018-04-01T00:00:00",
          "2018-05-01T00:00:00",
          "2018-06-01T00:00:00",
          "2018-07-01T00:00:00",
          "2018-08-01T00:00:00",
          "2018-09-01T00:00:00",
          "2018-10-01T00:00:00",
          "2018-11-01T00:00:00",
          "2018-12-01T00:00:00",
          "2019-01-01T00:00:00",
          "2019-02-01T00:00:00",
          "2019-03-01T00:00:00",
          "2019-04-01T00:00:00",
          "2019-05-01T00:00:00",
          "2019-06-01T00:00:00",
          "2019-07-01T00:00:00",
          "2019-08-01T00:00:00",
          "2019-09-01T00:00:00",
          "2019-10-01T00:00:00",
          "2019-11-01T00:00:00",
          "2019-12-01T00:00:00",
          "2020-01-01T00:00:00",
          "2020-02-01T00:00:00",
          "2020-03-01T00:00:00",
          "2020-04-01T00:00:00",
          "2020-05-01T00:00:00",
          "2020-06-01T00:00:00",
          "2020-07-01T00:00:00",
          "2020-08-01T00:00:00",
          "2020-09-01T00:00:00",
          "2020-10-01T00:00:00",
          "2020-11-01T00:00:00",
          "2020-12-01T00:00:00",
          "2021-01-01T00:00:00",
          "2021-02-01T00:00:00",
          "2021-03-01T00:00:00",
          "2021-04-01T00:00:00",
          "2021-05-01T00:00:00",
          "2021-06-01T00:00:00",
          "2021-07-01T00:00:00",
          "2021-08-01T00:00:00",
          "2021-09-01T00:00:00",
          "2021-10-01T00:00:00",
          "2021-11-01T00:00:00",
          "2021-12-01T00:00:00",
          "2022-01-01T00:00:00",
          "2022-02-01T00:00:00",
          "2022-03-01T00:00:00",
          "2022-04-01T00:00:00",
          "2022-05-01T00:00:00",
          "2022-06-01T00:00:00",
          "2022-07-01T00:00:00",
          "2022-08-01T00:00:00",
          "2022-09-01T00:00:00",
          "2022-10-01T00:00:00",
          "2022-11-01T00:00:00",
          "2022-12-01T00:00:00",
          "2023-01-01T00:00:00",
          "2023-02-01T00:00:00"
         ],
         "y": [
          -1.289677403127925,
          -1.3201726777828062,
          -1.0025132638508365,
          -0.20074084976846723,
          -0.18549333361847645,
          -0.6988308205079916,
          -0.7623627032943855,
          -0.6785006374047375,
          -1.0927285422546138,
          -1.088916663217116,
          -1.1829438206583913,
          -0.025392959914175804,
          -0.42691443973579346,
          0.5070042856951772,
          -0.6175100880949752,
          -0.8449542236231675,
          -0.9809124140092665,
          -1.0558800550856033,
          -0.3455937073227771,
          -0.8068350697158412,
          -0.6746886371897901,
          -0.31128643245294846,
          -0.6594411210397992,
          -1.0431736300573446,
          -1.1194119378719973,
          -0.9720179891959554,
          -0.32907528207957093,
          2.373571069818803,
          4.080037480238127,
          1.6162711433353387,
          0.7725675751306957,
          1.1435937802974323,
          0.3850229447207531,
          0.6327973845296492,
          0.6277149599312855,
          2.108007780383284,
          -0.10925502580382382,
          0.16774402192163762,
          1.481583377332656,
          0.8284756998420943,
          -0.2579196412181816,
          -0.3582998899961362,
          -0.5933679047767737,
          -0.7115372455362503,
          -0.40531358989422356,
          -0.6289458463849181,
          0.21729881294145703,
          -0.6568997875631676,
          0.7319072089241876,
          -0.534918688943643,
          0.4320366446188404,
          1.1080158386892878,
          -0.11052569254213965,
          1.520973319155748,
          0.6048434433513997,
          0.9250439484051015,
          -0.012686534885917108,
          0.5641830771448916,
          1.2947997291884217,
          0.5654535015283079,
          -0.107984359065508,
          0.030515164797222726,
          -0.2579196412181816,
          -0.2579196412181816
         ]
        },
        {
         "line": {
          "color": "gold"
         },
         "name": "Gold",
         "type": "scatter",
         "x": [
          "2017-11-01T00:00:00",
          "2017-12-01T00:00:00",
          "2018-01-01T00:00:00",
          "2018-02-01T00:00:00",
          "2018-03-01T00:00:00",
          "2018-04-01T00:00:00",
          "2018-05-01T00:00:00",
          "2018-06-01T00:00:00",
          "2018-07-01T00:00:00",
          "2018-08-01T00:00:00",
          "2018-09-01T00:00:00",
          "2018-10-01T00:00:00",
          "2018-11-01T00:00:00",
          "2018-12-01T00:00:00",
          "2019-01-01T00:00:00",
          "2019-02-01T00:00:00",
          "2019-03-01T00:00:00",
          "2019-04-01T00:00:00",
          "2019-05-01T00:00:00",
          "2019-06-01T00:00:00",
          "2019-07-01T00:00:00",
          "2019-08-01T00:00:00",
          "2019-09-01T00:00:00",
          "2019-10-01T00:00:00",
          "2019-11-01T00:00:00",
          "2019-12-01T00:00:00",
          "2020-01-01T00:00:00",
          "2020-02-01T00:00:00",
          "2020-03-01T00:00:00",
          "2020-04-01T00:00:00",
          "2020-05-01T00:00:00",
          "2020-06-01T00:00:00",
          "2020-07-01T00:00:00",
          "2020-08-01T00:00:00",
          "2020-09-01T00:00:00",
          "2020-10-01T00:00:00",
          "2020-11-01T00:00:00",
          "2020-12-01T00:00:00",
          "2021-01-01T00:00:00",
          "2021-02-01T00:00:00",
          "2021-03-01T00:00:00",
          "2021-04-01T00:00:00",
          "2021-05-01T00:00:00",
          "2021-06-01T00:00:00",
          "2021-07-01T00:00:00",
          "2021-08-01T00:00:00",
          "2021-09-01T00:00:00",
          "2021-10-01T00:00:00",
          "2021-11-01T00:00:00",
          "2021-12-01T00:00:00",
          "2022-01-01T00:00:00",
          "2022-02-01T00:00:00",
          "2022-03-01T00:00:00",
          "2022-04-01T00:00:00",
          "2022-05-01T00:00:00",
          "2022-06-01T00:00:00",
          "2022-07-01T00:00:00",
          "2022-08-01T00:00:00",
          "2022-09-01T00:00:00",
          "2022-10-01T00:00:00",
          "2022-11-01T00:00:00",
          "2022-12-01T00:00:00",
          "2023-01-01T00:00:00",
          "2023-02-01T00:00:00"
         ],
         "y": [
          -0.3786664547722728,
          -0.22220370363554479,
          0.0010929913043207296,
          -0.15899676338293597,
          0.011972816143935115,
          0.20003903740696755,
          0.12077145981073617,
          0.48913288121611737,
          0.20988285785404318,
          0.2637641774911743,
          0.4425047781387291,
          0.03114186193583118,
          -0.7138702018272128,
          -0.9998554395527606,
          -0.5656966716427665,
          -0.38799207538775043,
          -0.2367101367550306,
          -0.04139050129692665,
          -0.5807213045938503,
          -0.3232309309110049,
          -0.31753191857539875,
          -0.4978271187177475,
          -0.5511902385232806,
          -0.5454912261876744,
          -0.494200510437876,
          -0.18904583164977504,
          -0.6812305296730411,
          -1.0335313137347997,
          -2.2914517208077996,
          -2.3764183107396373,
          -1.5137997872552553,
          -1.317962149600882,
          -1.2661532340194857,
          -1.144920363653605,
          -1.2687436402714898,
          -1.4982571521079022,
          -1.003482047832632,
          -0.8387296804729651,
          -0.6480728553226,
          -0.1662499799426789,
          -0.2874828503085597,
          -0.058487340668416606,
          0.0834689773488256,
          0.4539028028099415,
          0.47877086093744375,
          0.19641242912709608,
          0.5347245846303096,
          0.977172771127914,
          0.07621576078908267,
          0.5440502052457873,
          1.2144576993556673,
          1.606651174496012,
          1.8428997030605694,
          2.0713772105044432,
          2.5884299666552115,
          2.126812734365711,
          1.756897108736193,
          1.2869902602237537,
          0.7657923006908588,
          1.1305271138163686,
          0.820710019991186,
          0.8056853870401021,
          0.7336710260036137,
          0.7336710260036137
         ]
        },
        {
         "line": {
          "color": "black"
         },
         "name": "Oil",
         "type": "scatter",
         "x": [
          "2017-11-01T00:00:00",
          "2017-12-01T00:00:00",
          "2018-01-01T00:00:00",
          "2018-02-01T00:00:00",
          "2018-03-01T00:00:00",
          "2018-04-01T00:00:00",
          "2018-05-01T00:00:00",
          "2018-06-01T00:00:00",
          "2018-07-01T00:00:00",
          "2018-08-01T00:00:00",
          "2018-09-01T00:00:00",
          "2018-10-01T00:00:00",
          "2018-11-01T00:00:00",
          "2018-12-01T00:00:00",
          "2019-01-01T00:00:00",
          "2019-02-01T00:00:00",
          "2019-03-01T00:00:00",
          "2019-04-01T00:00:00",
          "2019-05-01T00:00:00",
          "2019-06-01T00:00:00",
          "2019-07-01T00:00:00",
          "2019-08-01T00:00:00",
          "2019-09-01T00:00:00",
          "2019-10-01T00:00:00",
          "2019-11-01T00:00:00",
          "2019-12-01T00:00:00",
          "2020-01-01T00:00:00",
          "2020-02-01T00:00:00",
          "2020-03-01T00:00:00",
          "2020-04-01T00:00:00",
          "2020-05-01T00:00:00",
          "2020-06-01T00:00:00",
          "2020-07-01T00:00:00",
          "2020-08-01T00:00:00",
          "2020-09-01T00:00:00",
          "2020-10-01T00:00:00",
          "2020-11-01T00:00:00",
          "2020-12-01T00:00:00",
          "2021-01-01T00:00:00",
          "2021-02-01T00:00:00",
          "2021-03-01T00:00:00",
          "2021-04-01T00:00:00",
          "2021-05-01T00:00:00",
          "2021-06-01T00:00:00",
          "2021-07-01T00:00:00",
          "2021-08-01T00:00:00",
          "2021-09-01T00:00:00",
          "2021-10-01T00:00:00",
          "2021-11-01T00:00:00",
          "2021-12-01T00:00:00",
          "2022-01-01T00:00:00",
          "2022-02-01T00:00:00",
          "2022-03-01T00:00:00",
          "2022-04-01T00:00:00",
          "2022-05-01T00:00:00",
          "2022-06-01T00:00:00",
          "2022-07-01T00:00:00",
          "2022-08-01T00:00:00",
          "2022-09-01T00:00:00",
          "2022-10-01T00:00:00",
          "2022-11-01T00:00:00",
          "2022-12-01T00:00:00",
          "2023-01-01T00:00:00",
          "2023-02-01T00:00:00"
         ],
         "y": [
          -1.1940679682652988,
          -1.1550834254626205,
          -0.9301326058289635,
          -1.0948469519836346,
          -1.2041173138264913,
          -1.1933641045553112,
          -1.107667143879521,
          -1.0880474457234126,
          -0.9413951564757347,
          -0.813748284328176,
          -0.7950873033915936,
          -1.0979772258647789,
          -1.0254448932484115,
          -1.4048358427318364,
          -1.1094193074630325,
          -0.9890213174196306,
          -0.9142724539929027,
          -0.7473861855331275,
          -1.0375908385566528,
          -0.753481828083362,
          -0.6956417820097048,
          -0.7763963396891831,
          -0.7010931607381221,
          -0.6100044212220848,
          -0.45511491552838196,
          -0.32062356297185923,
          -0.3285013518714335,
          -0.7348208471467795,
          -1.288406547082307,
          -0.7974087738823523,
          -0.599895110129236,
          -0.5160552527173554,
          -0.260207192897905,
          0.0830450170321054,
          -0.12260092348663772,
          -0.26194473074198843,
          0.26474277181093153,
          0.46609057315517965,
          0.4034426808879508,
          0.5485823030352556,
          0.790816358951348,
          1.102752301260944,
          1.1371088944650187,
          1.2769770344788745,
          1.423389461599928,
          1.61422391579962,
          1.2920137571851213,
          1.7380812588613035,
          1.680600640334097,
          1.9789079530009066,
          1.6035449321560387,
          1.3914592785670101,
          1.6258009198441001,
          1.0290071292024838,
          1.029336208339621,
          0.5099871705448562,
          1.026550736265499,
          0.7640231012491389,
          0.21081182024297626,
          0.639686033934207,
          0.9513974711435783,
          0.5910415558826149,
          0.9461406147495575,
          0.9461406147495575
         ]
        }
       ],
       "layout": {
        "barmode": "group",
        "template": {
         "data": {
          "bar": [
           {
            "error_x": {
             "color": "#2a3f5f"
            },
            "error_y": {
             "color": "#2a3f5f"
            },
            "marker": {
             "line": {
              "color": "#E5ECF6",
              "width": 0.5
             },
             "pattern": {
              "fillmode": "overlay",
              "size": 10,
              "solidity": 0.2
             }
            },
            "type": "bar"
           }
          ],
          "barpolar": [
           {
            "marker": {
             "line": {
              "color": "#E5ECF6",
              "width": 0.5
             },
             "pattern": {
              "fillmode": "overlay",
              "size": 10,
              "solidity": 0.2
             }
            },
            "type": "barpolar"
           }
          ],
          "carpet": [
           {
            "aaxis": {
             "endlinecolor": "#2a3f5f",
             "gridcolor": "white",
             "linecolor": "white",
             "minorgridcolor": "white",
             "startlinecolor": "#2a3f5f"
            },
            "baxis": {
             "endlinecolor": "#2a3f5f",
             "gridcolor": "white",
             "linecolor": "white",
             "minorgridcolor": "white",
             "startlinecolor": "#2a3f5f"
            },
            "type": "carpet"
           }
          ],
          "choropleth": [
           {
            "colorbar": {
             "outlinewidth": 0,
             "ticks": ""
            },
            "type": "choropleth"
           }
          ],
          "contour": [
           {
            "colorbar": {
             "outlinewidth": 0,
             "ticks": ""
            },
            "colorscale": [
             [
              0,
              "#0d0887"
             ],
             [
              0.1111111111111111,
              "#46039f"
             ],
             [
              0.2222222222222222,
              "#7201a8"
             ],
             [
              0.3333333333333333,
              "#9c179e"
             ],
             [
              0.4444444444444444,
              "#bd3786"
             ],
             [
              0.5555555555555556,
              "#d8576b"
             ],
             [
              0.6666666666666666,
              "#ed7953"
             ],
             [
              0.7777777777777778,
              "#fb9f3a"
             ],
             [
              0.8888888888888888,
              "#fdca26"
             ],
             [
              1,
              "#f0f921"
             ]
            ],
            "type": "contour"
           }
          ],
          "contourcarpet": [
           {
            "colorbar": {
             "outlinewidth": 0,
             "ticks": ""
            },
            "type": "contourcarpet"
           }
          ],
          "heatmap": [
           {
            "colorbar": {
             "outlinewidth": 0,
             "ticks": ""
            },
            "colorscale": [
             [
              0,
              "#0d0887"
             ],
             [
              0.1111111111111111,
              "#46039f"
             ],
             [
              0.2222222222222222,
              "#7201a8"
             ],
             [
              0.3333333333333333,
              "#9c179e"
             ],
             [
              0.4444444444444444,
              "#bd3786"
             ],
             [
              0.5555555555555556,
              "#d8576b"
             ],
             [
              0.6666666666666666,
              "#ed7953"
             ],
             [
              0.7777777777777778,
              "#fb9f3a"
             ],
             [
              0.8888888888888888,
              "#fdca26"
             ],
             [
              1,
              "#f0f921"
             ]
            ],
            "type": "heatmap"
           }
          ],
          "heatmapgl": [
           {
            "colorbar": {
             "outlinewidth": 0,
             "ticks": ""
            },
            "colorscale": [
             [
              0,
              "#0d0887"
             ],
             [
              0.1111111111111111,
              "#46039f"
             ],
             [
              0.2222222222222222,
              "#7201a8"
             ],
             [
              0.3333333333333333,
              "#9c179e"
             ],
             [
              0.4444444444444444,
              "#bd3786"
             ],
             [
              0.5555555555555556,
              "#d8576b"
             ],
             [
              0.6666666666666666,
              "#ed7953"
             ],
             [
              0.7777777777777778,
              "#fb9f3a"
             ],
             [
              0.8888888888888888,
              "#fdca26"
             ],
             [
              1,
              "#f0f921"
             ]
            ],
            "type": "heatmapgl"
           }
          ],
          "histogram": [
           {
            "marker": {
             "pattern": {
              "fillmode": "overlay",
              "size": 10,
              "solidity": 0.2
             }
            },
            "type": "histogram"
           }
          ],
          "histogram2d": [
           {
            "colorbar": {
             "outlinewidth": 0,
             "ticks": ""
            },
            "colorscale": [
             [
              0,
              "#0d0887"
             ],
             [
              0.1111111111111111,
              "#46039f"
             ],
             [
              0.2222222222222222,
              "#7201a8"
             ],
             [
              0.3333333333333333,
              "#9c179e"
             ],
             [
              0.4444444444444444,
              "#bd3786"
             ],
             [
              0.5555555555555556,
              "#d8576b"
             ],
             [
              0.6666666666666666,
              "#ed7953"
             ],
             [
              0.7777777777777778,
              "#fb9f3a"
             ],
             [
              0.8888888888888888,
              "#fdca26"
             ],
             [
              1,
              "#f0f921"
             ]
            ],
            "type": "histogram2d"
           }
          ],
          "histogram2dcontour": [
           {
            "colorbar": {
             "outlinewidth": 0,
             "ticks": ""
            },
            "colorscale": [
             [
              0,
              "#0d0887"
             ],
             [
              0.1111111111111111,
              "#46039f"
             ],
             [
              0.2222222222222222,
              "#7201a8"
             ],
             [
              0.3333333333333333,
              "#9c179e"
             ],
             [
              0.4444444444444444,
              "#bd3786"
             ],
             [
              0.5555555555555556,
              "#d8576b"
             ],
             [
              0.6666666666666666,
              "#ed7953"
             ],
             [
              0.7777777777777778,
              "#fb9f3a"
             ],
             [
              0.8888888888888888,
              "#fdca26"
             ],
             [
              1,
              "#f0f921"
             ]
            ],
            "type": "histogram2dcontour"
           }
          ],
          "mesh3d": [
           {
            "colorbar": {
             "outlinewidth": 0,
             "ticks": ""
            },
            "type": "mesh3d"
           }
          ],
          "parcoords": [
           {
            "line": {
             "colorbar": {
              "outlinewidth": 0,
              "ticks": ""
             }
            },
            "type": "parcoords"
           }
          ],
          "pie": [
           {
            "automargin": true,
            "type": "pie"
           }
          ],
          "scatter": [
           {
            "fillpattern": {
             "fillmode": "overlay",
             "size": 10,
             "solidity": 0.2
            },
            "type": "scatter"
           }
          ],
          "scatter3d": [
           {
            "line": {
             "colorbar": {
              "outlinewidth": 0,
              "ticks": ""
             }
            },
            "marker": {
             "colorbar": {
              "outlinewidth": 0,
              "ticks": ""
             }
            },
            "type": "scatter3d"
           }
          ],
          "scattercarpet": [
           {
            "marker": {
             "colorbar": {
              "outlinewidth": 0,
              "ticks": ""
             }
            },
            "type": "scattercarpet"
           }
          ],
          "scattergeo": [
           {
            "marker": {
             "colorbar": {
              "outlinewidth": 0,
              "ticks": ""
             }
            },
            "type": "scattergeo"
           }
          ],
          "scattergl": [
           {
            "marker": {
             "colorbar": {
              "outlinewidth": 0,
              "ticks": ""
             }
            },
            "type": "scattergl"
           }
          ],
          "scattermapbox": [
           {
            "marker": {
             "colorbar": {
              "outlinewidth": 0,
              "ticks": ""
             }
            },
            "type": "scattermapbox"
           }
          ],
          "scatterpolar": [
           {
            "marker": {
             "colorbar": {
              "outlinewidth": 0,
              "ticks": ""
             }
            },
            "type": "scatterpolar"
           }
          ],
          "scatterpolargl": [
           {
            "marker": {
             "colorbar": {
              "outlinewidth": 0,
              "ticks": ""
             }
            },
            "type": "scatterpolargl"
           }
          ],
          "scatterternary": [
           {
            "marker": {
             "colorbar": {
              "outlinewidth": 0,
              "ticks": ""
             }
            },
            "type": "scatterternary"
           }
          ],
          "surface": [
           {
            "colorbar": {
             "outlinewidth": 0,
             "ticks": ""
            },
            "colorscale": [
             [
              0,
              "#0d0887"
             ],
             [
              0.1111111111111111,
              "#46039f"
             ],
             [
              0.2222222222222222,
              "#7201a8"
             ],
             [
              0.3333333333333333,
              "#9c179e"
             ],
             [
              0.4444444444444444,
              "#bd3786"
             ],
             [
              0.5555555555555556,
              "#d8576b"
             ],
             [
              0.6666666666666666,
              "#ed7953"
             ],
             [
              0.7777777777777778,
              "#fb9f3a"
             ],
             [
              0.8888888888888888,
              "#fdca26"
             ],
             [
              1,
              "#f0f921"
             ]
            ],
            "type": "surface"
           }
          ],
          "table": [
           {
            "cells": {
             "fill": {
              "color": "#EBF0F8"
             },
             "line": {
              "color": "white"
             }
            },
            "header": {
             "fill": {
              "color": "#C8D4E3"
             },
             "line": {
              "color": "white"
             }
            },
            "type": "table"
           }
          ]
         },
         "layout": {
          "annotationdefaults": {
           "arrowcolor": "#2a3f5f",
           "arrowhead": 0,
           "arrowwidth": 1
          },
          "autotypenumbers": "strict",
          "coloraxis": {
           "colorbar": {
            "outlinewidth": 0,
            "ticks": ""
           }
          },
          "colorscale": {
           "diverging": [
            [
             0,
             "#8e0152"
            ],
            [
             0.1,
             "#c51b7d"
            ],
            [
             0.2,
             "#de77ae"
            ],
            [
             0.3,
             "#f1b6da"
            ],
            [
             0.4,
             "#fde0ef"
            ],
            [
             0.5,
             "#f7f7f7"
            ],
            [
             0.6,
             "#e6f5d0"
            ],
            [
             0.7,
             "#b8e186"
            ],
            [
             0.8,
             "#7fbc41"
            ],
            [
             0.9,
             "#4d9221"
            ],
            [
             1,
             "#276419"
            ]
           ],
           "sequential": [
            [
             0,
             "#0d0887"
            ],
            [
             0.1111111111111111,
             "#46039f"
            ],
            [
             0.2222222222222222,
             "#7201a8"
            ],
            [
             0.3333333333333333,
             "#9c179e"
            ],
            [
             0.4444444444444444,
             "#bd3786"
            ],
            [
             0.5555555555555556,
             "#d8576b"
            ],
            [
             0.6666666666666666,
             "#ed7953"
            ],
            [
             0.7777777777777778,
             "#fb9f3a"
            ],
            [
             0.8888888888888888,
             "#fdca26"
            ],
            [
             1,
             "#f0f921"
            ]
           ],
           "sequentialminus": [
            [
             0,
             "#0d0887"
            ],
            [
             0.1111111111111111,
             "#46039f"
            ],
            [
             0.2222222222222222,
             "#7201a8"
            ],
            [
             0.3333333333333333,
             "#9c179e"
            ],
            [
             0.4444444444444444,
             "#bd3786"
            ],
            [
             0.5555555555555556,
             "#d8576b"
            ],
            [
             0.6666666666666666,
             "#ed7953"
            ],
            [
             0.7777777777777778,
             "#fb9f3a"
            ],
            [
             0.8888888888888888,
             "#fdca26"
            ],
            [
             1,
             "#f0f921"
            ]
           ]
          },
          "colorway": [
           "#636efa",
           "#EF553B",
           "#00cc96",
           "#ab63fa",
           "#FFA15A",
           "#19d3f3",
           "#FF6692",
           "#B6E880",
           "#FF97FF",
           "#FECB52"
          ],
          "font": {
           "color": "#2a3f5f"
          },
          "geo": {
           "bgcolor": "white",
           "lakecolor": "white",
           "landcolor": "#E5ECF6",
           "showlakes": true,
           "showland": true,
           "subunitcolor": "white"
          },
          "hoverlabel": {
           "align": "left"
          },
          "hovermode": "closest",
          "mapbox": {
           "style": "light"
          },
          "paper_bgcolor": "white",
          "plot_bgcolor": "#E5ECF6",
          "polar": {
           "angularaxis": {
            "gridcolor": "white",
            "linecolor": "white",
            "ticks": ""
           },
           "bgcolor": "#E5ECF6",
           "radialaxis": {
            "gridcolor": "white",
            "linecolor": "white",
            "ticks": ""
           }
          },
          "scene": {
           "xaxis": {
            "backgroundcolor": "#E5ECF6",
            "gridcolor": "white",
            "gridwidth": 2,
            "linecolor": "white",
            "showbackground": true,
            "ticks": "",
            "zerolinecolor": "white"
           },
           "yaxis": {
            "backgroundcolor": "#E5ECF6",
            "gridcolor": "white",
            "gridwidth": 2,
            "linecolor": "white",
            "showbackground": true,
            "ticks": "",
            "zerolinecolor": "white"
           },
           "zaxis": {
            "backgroundcolor": "#E5ECF6",
            "gridcolor": "white",
            "gridwidth": 2,
            "linecolor": "white",
            "showbackground": true,
            "ticks": "",
            "zerolinecolor": "white"
           }
          },
          "shapedefaults": {
           "line": {
            "color": "#2a3f5f"
           }
          },
          "ternary": {
           "aaxis": {
            "gridcolor": "white",
            "linecolor": "white",
            "ticks": ""
           },
           "baxis": {
            "gridcolor": "white",
            "linecolor": "white",
            "ticks": ""
           },
           "bgcolor": "#E5ECF6",
           "caxis": {
            "gridcolor": "white",
            "linecolor": "white",
            "ticks": ""
           }
          },
          "title": {
           "x": 0.05
          },
          "xaxis": {
           "automargin": true,
           "gridcolor": "white",
           "linecolor": "white",
           "ticks": "",
           "title": {
            "standoff": 15
           },
           "zerolinecolor": "white",
           "zerolinewidth": 2
          },
          "yaxis": {
           "automargin": true,
           "gridcolor": "white",
           "linecolor": "white",
           "ticks": "",
           "title": {
            "standoff": 15
           },
           "zerolinecolor": "white",
           "zerolinewidth": 2
          }
         }
        },
        "title": {
         "text": "Comparision between Ethereum open and close price with other financial measures in normalized data"
        },
        "xaxis": {
         "tickangle": -45
        }
       }
      }
     },
     "metadata": {},
     "output_type": "display_data"
    }
   ],
   "source": [
    "fig = go.Figure()\n",
    "\n",
    "fig.add_trace(go.Bar(\n",
    "    x=monthly_df['Year_Month'],\n",
    "    y=monthly_df['Open'],\n",
    "    name='Ethereum Open Price',\n",
    "    marker_color='crimson'\n",
    "))\n",
    "fig.add_trace(go.Bar(\n",
    "    x=monthly_df['Year_Month'],\n",
    "    y=monthly_df['Close'],\n",
    "    name='Ethereum Close Price',\n",
    "    marker_color='lightsalmon'\n",
    "))\n",
    "\n",
    "fig.add_trace(go.Scatter(\n",
    "    x=monthly_df['Year_Month'],\n",
    "    y=monthly_df['BTC-USD'],\n",
    "    name='BTC Close Price',\n",
    "    marker_color='orange'\n",
    "))\n",
    "\n",
    "\n",
    "fig.add_trace(go.Scatter(\n",
    "    x=monthly_df['Year_Month'],\n",
    "    y=monthly_df['nasdaq'],\n",
    "    name='Nasdaq',\n",
    "    line=dict(color='darkblue')\n",
    "))\n",
    "\n",
    "fig.add_trace(go.Scatter(\n",
    "    x=monthly_df['Year_Month'],\n",
    "    y=monthly_df['cpi_value'],\n",
    "    name='CPI_Value',\n",
    "    line=dict(color='pink')\n",
    "))\n",
    "\n",
    "fig.add_trace(go.Scatter(\n",
    "    x=monthly_df['Year_Month'],\n",
    "    y=monthly_df['sp500'],\n",
    "    name='SP500',\n",
    "    line=dict(color='blue')\n",
    "))\n",
    "\n",
    "fig.add_trace(go.Scatter(\n",
    "    x=monthly_df['Year_Month'],\n",
    "    y=monthly_df['gold'],\n",
    "    name='Gold',\n",
    "    line=dict(color='gold')\n",
    "))\n",
    "\n",
    "fig.add_trace(go.Scatter(\n",
    "    x=monthly_df['Year_Month'],\n",
    "    y=monthly_df['oil'],\n",
    "    name='Oil',\n",
    "    line=dict(color='black')\n",
    "))\n",
    "\n",
    "fig.update_layout(barmode='group', xaxis_tickangle=-45, \n",
    "                  title='Comparision between Ethereum open and close price with other financial measures in normalized data')\n",
    "\n",
    "fig.show()\n",
    "\n",
    "# repeat for sp500, vix, ftse100, tnx, gbp_usd, eur_usd, usd_jpy, and cpi_value"
   ]
  },
  {
   "cell_type": "code",
   "execution_count": 38,
   "metadata": {},
   "outputs": [
    {
     "data": {
      "text/plain": [
       "Open         1.000000\n",
       "High         0.978536\n",
       "Low          0.970332\n",
       "Close        0.945017\n",
       "oil          0.863792\n",
       "cpi_value    0.837566\n",
       "BTC-USD      0.807667\n",
       "gold         0.635702\n",
       "Year         0.634370\n",
       "usd_jpy      0.629228\n",
       "nasdaq       0.552906\n",
       "Volume       0.515203\n",
       "eur_usd      0.348459\n",
       "vix          0.251721\n",
       "tnx          0.212930\n",
       "sp500        0.093956\n",
       "ftse100      0.027448\n",
       "Month       -0.003880\n",
       "gbp_usd     -0.088920\n",
       "Name: Open, dtype: float64"
      ]
     },
     "execution_count": 38,
     "metadata": {},
     "output_type": "execute_result"
    }
   ],
   "source": [
    "corr_matrix = monthly_df.corr()\n",
    "corr_matrix[\"Open\"].sort_values(ascending=False)"
   ]
  },
  {
   "cell_type": "code",
   "execution_count": 39,
   "metadata": {},
   "outputs": [
    {
     "data": {
      "text/plain": [
       "Text(0.5, 1.0, 'Correlation Matrix Heatmap with Ethereum open price')"
      ]
     },
     "execution_count": 39,
     "metadata": {},
     "output_type": "execute_result"
    },
    {
     "data": {
      "image/png": "[encoded data removed]",
      "text/plain": [
       "<Figure size 1000x1000 with 2 Axes>"
      ]
     },
     "metadata": {},
     "output_type": "display_data"
    }
   ],
   "source": [
    "plt.figure(figsize=(10,10)) #to increase the size of the figure\n",
    "sns.heatmap(corr_matrix, annot=True, annot_kws={'size': 8})\n",
    "plt.title(\"Correlation Matrix Heatmap with Ethereum open price\", loc=\"center\")"
   ]
  },
  {
   "cell_type": "code",
   "execution_count": 40,
   "metadata": {},
   "outputs": [
    {
     "data": {
      "text/html": [
       "<div>\n",
       "<style scoped>\n",
       "    .dataframe tbody tr th:only-of-type {\n",
       "        vertical-align: middle;\n",
       "    }\n",
       "\n",
       "    .dataframe tbody tr th {\n",
       "        vertical-align: top;\n",
       "    }\n",
       "\n",
       "    .dataframe thead th {\n",
       "        text-align: right;\n",
       "    }\n",
       "</style>\n",
       "<table border=\"1\" class=\"dataframe\">\n",
       "  <thead>\n",
       "    <tr style=\"text-align: right;\">\n",
       "      <th></th>\n",
       "      <th>Year</th>\n",
       "      <th>Month</th>\n",
       "      <th>Open</th>\n",
       "      <th>High</th>\n",
       "      <th>Low</th>\n",
       "      <th>Close</th>\n",
       "      <th>Volume</th>\n",
       "      <th>BTC-USD</th>\n",
       "      <th>nasdaq</th>\n",
       "      <th>gold</th>\n",
       "      <th>oil</th>\n",
       "      <th>sp500</th>\n",
       "      <th>vix</th>\n",
       "      <th>ftse100</th>\n",
       "      <th>tnx</th>\n",
       "      <th>gbp_usd</th>\n",
       "      <th>eur_usd</th>\n",
       "      <th>usd_jpy</th>\n",
       "      <th>cpi_value</th>\n",
       "      <th>Year_Month</th>\n",
       "    </tr>\n",
       "  </thead>\n",
       "  <tbody>\n",
       "    <tr>\n",
       "      <th>0</th>\n",
       "      <td>2017</td>\n",
       "      <td>11</td>\n",
       "      <td>-0.687482</td>\n",
       "      <td>-0.624182</td>\n",
       "      <td>-0.646047</td>\n",
       "      <td>-0.597965</td>\n",
       "      <td>-1.191978</td>\n",
       "      <td>-1.261655</td>\n",
       "      <td>-1.331959</td>\n",
       "      <td>-0.378666</td>\n",
       "      <td>-1.194068</td>\n",
       "      <td>-1.289677</td>\n",
       "      <td>0.469585</td>\n",
       "      <td>0.333770</td>\n",
       "      <td>0.616338</td>\n",
       "      <td>0.822966</td>\n",
       "      <td>-0.199250</td>\n",
       "      <td>-0.471607</td>\n",
       "      <td>-0.607577</td>\n",
       "      <td>2017-11-01</td>\n",
       "    </tr>\n",
       "    <tr>\n",
       "      <th>1</th>\n",
       "      <td>2017</td>\n",
       "      <td>12</td>\n",
       "      <td>-0.581047</td>\n",
       "      <td>-0.362679</td>\n",
       "      <td>-0.519326</td>\n",
       "      <td>-0.332844</td>\n",
       "      <td>-1.011984</td>\n",
       "      <td>-1.303314</td>\n",
       "      <td>-1.199494</td>\n",
       "      <td>-0.222204</td>\n",
       "      <td>-1.155083</td>\n",
       "      <td>-1.320173</td>\n",
       "      <td>1.117247</td>\n",
       "      <td>0.320902</td>\n",
       "      <td>0.651431</td>\n",
       "      <td>0.973177</td>\n",
       "      <td>-0.117028</td>\n",
       "      <td>-0.471607</td>\n",
       "      <td>-0.367735</td>\n",
       "      <td>2017-12-01</td>\n",
       "    </tr>\n",
       "    <tr>\n",
       "      <th>2</th>\n",
       "      <td>2018</td>\n",
       "      <td>1</td>\n",
       "      <td>-0.315642</td>\n",
       "      <td>0.037921</td>\n",
       "      <td>-0.173008</td>\n",
       "      <td>-0.023231</td>\n",
       "      <td>-0.731786</td>\n",
       "      <td>-1.215943</td>\n",
       "      <td>-1.068630</td>\n",
       "      <td>0.001093</td>\n",
       "      <td>-0.930133</td>\n",
       "      <td>-1.002513</td>\n",
       "      <td>0.840677</td>\n",
       "      <td>0.658694</td>\n",
       "      <td>1.713575</td>\n",
       "      <td>1.756349</td>\n",
       "      <td>-0.507228</td>\n",
       "      <td>-1.169077</td>\n",
       "      <td>-0.608341</td>\n",
       "      <td>2018-01-01</td>\n",
       "    </tr>\n",
       "    <tr>\n",
       "      <th>3</th>\n",
       "      <td>2018</td>\n",
       "      <td>2</td>\n",
       "      <td>-0.004887</td>\n",
       "      <td>-0.159516</td>\n",
       "      <td>-0.350172</td>\n",
       "      <td>-0.248529</td>\n",
       "      <td>-1.000170</td>\n",
       "      <td>-1.219369</td>\n",
       "      <td>-1.162676</td>\n",
       "      <td>-0.158997</td>\n",
       "      <td>-1.094847</td>\n",
       "      <td>-0.200741</td>\n",
       "      <td>0.299553</td>\n",
       "      <td>0.817402</td>\n",
       "      <td>1.342496</td>\n",
       "      <td>1.456292</td>\n",
       "      <td>-0.630230</td>\n",
       "      <td>-1.099292</td>\n",
       "      <td>-0.597531</td>\n",
       "      <td>2018-02-01</td>\n",
       "    </tr>\n",
       "    <tr>\n",
       "      <th>4</th>\n",
       "      <td>2018</td>\n",
       "      <td>3</td>\n",
       "      <td>-0.229961</td>\n",
       "      <td>-0.363873</td>\n",
       "      <td>-0.567721</td>\n",
       "      <td>-0.641342</td>\n",
       "      <td>-1.099462</td>\n",
       "      <td>-1.093879</td>\n",
       "      <td>-1.133462</td>\n",
       "      <td>0.011973</td>\n",
       "      <td>-1.204117</td>\n",
       "      <td>-0.185493</td>\n",
       "      <td>-0.014861</td>\n",
       "      <td>0.681213</td>\n",
       "      <td>1.525653</td>\n",
       "      <td>1.577701</td>\n",
       "      <td>-0.719422</td>\n",
       "      <td>-1.064338</td>\n",
       "      <td>-0.806899</td>\n",
       "      <td>2018-03-01</td>\n",
       "    </tr>\n",
       "    <tr>\n",
       "      <th>...</th>\n",
       "      <td>...</td>\n",
       "      <td>...</td>\n",
       "      <td>...</td>\n",
       "      <td>...</td>\n",
       "      <td>...</td>\n",
       "      <td>...</td>\n",
       "      <td>...</td>\n",
       "      <td>...</td>\n",
       "      <td>...</td>\n",
       "      <td>...</td>\n",
       "      <td>...</td>\n",
       "      <td>...</td>\n",
       "      <td>...</td>\n",
       "      <td>...</td>\n",
       "      <td>...</td>\n",
       "      <td>...</td>\n",
       "      <td>...</td>\n",
       "      <td>...</td>\n",
       "      <td>...</td>\n",
       "      <td>...</td>\n",
       "    </tr>\n",
       "    <tr>\n",
       "      <th>59</th>\n",
       "      <td>2022</td>\n",
       "      <td>10</td>\n",
       "      <td>0.173581</td>\n",
       "      <td>0.197528</td>\n",
       "      <td>0.320976</td>\n",
       "      <td>0.365868</td>\n",
       "      <td>-0.000873</td>\n",
       "      <td>1.371123</td>\n",
       "      <td>0.119552</td>\n",
       "      <td>1.130527</td>\n",
       "      <td>0.639686</td>\n",
       "      <td>0.565454</td>\n",
       "      <td>0.053115</td>\n",
       "      <td>2.113879</td>\n",
       "      <td>-2.089114</td>\n",
       "      <td>-2.352612</td>\n",
       "      <td>3.173438</td>\n",
       "      <td>1.944205</td>\n",
       "      <td>0.019856</td>\n",
       "      <td>2022-10-01</td>\n",
       "    </tr>\n",
       "    <tr>\n",
       "      <th>60</th>\n",
       "      <td>2022</td>\n",
       "      <td>11</td>\n",
       "      <td>0.382498</td>\n",
       "      <td>0.204037</td>\n",
       "      <td>0.185512</td>\n",
       "      <td>0.128655</td>\n",
       "      <td>0.132040</td>\n",
       "      <td>1.802817</td>\n",
       "      <td>0.560168</td>\n",
       "      <td>0.820710</td>\n",
       "      <td>0.951397</td>\n",
       "      <td>-0.107984</td>\n",
       "      <td>0.911524</td>\n",
       "      <td>1.712819</td>\n",
       "      <td>-1.567850</td>\n",
       "      <td>-1.734071</td>\n",
       "      <td>2.319482</td>\n",
       "      <td>1.925518</td>\n",
       "      <td>-0.183570</td>\n",
       "      <td>2022-11-01</td>\n",
       "    </tr>\n",
       "    <tr>\n",
       "      <th>61</th>\n",
       "      <td>2022</td>\n",
       "      <td>12</td>\n",
       "      <td>0.145870</td>\n",
       "      <td>-0.025125</td>\n",
       "      <td>0.269280</td>\n",
       "      <td>0.043954</td>\n",
       "      <td>-0.740082</td>\n",
       "      <td>1.321829</td>\n",
       "      <td>0.855113</td>\n",
       "      <td>0.805685</td>\n",
       "      <td>0.591042</td>\n",
       "      <td>0.030515</td>\n",
       "      <td>0.693783</td>\n",
       "      <td>1.901553</td>\n",
       "      <td>-1.405241</td>\n",
       "      <td>-1.171179</td>\n",
       "      <td>1.770491</td>\n",
       "      <td>1.868771</td>\n",
       "      <td>-0.221543</td>\n",
       "      <td>2022-12-01</td>\n",
       "    </tr>\n",
       "    <tr>\n",
       "      <th>62</th>\n",
       "      <td>2023</td>\n",
       "      <td>1</td>\n",
       "      <td>0.061214</td>\n",
       "      <td>0.213377</td>\n",
       "      <td>0.303646</td>\n",
       "      <td>0.377702</td>\n",
       "      <td>-0.526550</td>\n",
       "      <td>1.241084</td>\n",
       "      <td>1.294528</td>\n",
       "      <td>0.733671</td>\n",
       "      <td>0.946141</td>\n",
       "      <td>-0.257920</td>\n",
       "      <td>1.267729</td>\n",
       "      <td>1.526229</td>\n",
       "      <td>-0.963639</td>\n",
       "      <td>-0.853216</td>\n",
       "      <td>1.540967</td>\n",
       "      <td>2.016101</td>\n",
       "      <td>0.181481</td>\n",
       "      <td>2023-01-01</td>\n",
       "    </tr>\n",
       "    <tr>\n",
       "      <th>63</th>\n",
       "      <td>2023</td>\n",
       "      <td>2</td>\n",
       "      <td>0.378032</td>\n",
       "      <td>0.158361</td>\n",
       "      <td>0.695767</td>\n",
       "      <td>0.377702</td>\n",
       "      <td>-1.257149</td>\n",
       "      <td>1.241084</td>\n",
       "      <td>1.294528</td>\n",
       "      <td>0.733671</td>\n",
       "      <td>0.946141</td>\n",
       "      <td>-0.257920</td>\n",
       "      <td>1.267729</td>\n",
       "      <td>1.526229</td>\n",
       "      <td>-0.963639</td>\n",
       "      <td>-0.853216</td>\n",
       "      <td>1.540967</td>\n",
       "      <td>2.119783</td>\n",
       "      <td>0.181481</td>\n",
       "      <td>2023-02-01</td>\n",
       "    </tr>\n",
       "  </tbody>\n",
       "</table>\n",
       "<p>64 rows × 20 columns</p>\n",
       "</div>"
      ],
      "text/plain": [
       "    Year  Month      Open      High       Low     Close    Volume   BTC-USD  \\\n",
       "0   2017     11 -0.687482 -0.624182 -0.646047 -0.597965 -1.191978 -1.261655   \n",
       "1   2017     12 -0.581047 -0.362679 -0.519326 -0.332844 -1.011984 -1.303314   \n",
       "2   2018      1 -0.315642  0.037921 -0.173008 -0.023231 -0.731786 -1.215943   \n",
       "3   2018      2 -0.004887 -0.159516 -0.350172 -0.248529 -1.000170 -1.219369   \n",
       "4   2018      3 -0.229961 -0.363873 -0.567721 -0.641342 -1.099462 -1.093879   \n",
       "..   ...    ...       ...       ...       ...       ...       ...       ...   \n",
       "59  2022     10  0.173581  0.197528  0.320976  0.365868 -0.000873  1.371123   \n",
       "60  2022     11  0.382498  0.204037  0.185512  0.128655  0.132040  1.802817   \n",
       "61  2022     12  0.145870 -0.025125  0.269280  0.043954 -0.740082  1.321829   \n",
       "62  2023      1  0.061214  0.213377  0.303646  0.377702 -0.526550  1.241084   \n",
       "63  2023      2  0.378032  0.158361  0.695767  0.377702 -1.257149  1.241084   \n",
       "\n",
       "      nasdaq      gold       oil     sp500       vix   ftse100       tnx  \\\n",
       "0  -1.331959 -0.378666 -1.194068 -1.289677  0.469585  0.333770  0.616338   \n",
       "1  -1.199494 -0.222204 -1.155083 -1.320173  1.117247  0.320902  0.651431   \n",
       "2  -1.068630  0.001093 -0.930133 -1.002513  0.840677  0.658694  1.713575   \n",
       "3  -1.162676 -0.158997 -1.094847 -0.200741  0.299553  0.817402  1.342496   \n",
       "4  -1.133462  0.011973 -1.204117 -0.185493 -0.014861  0.681213  1.525653   \n",
       "..       ...       ...       ...       ...       ...       ...       ...   \n",
       "59  0.119552  1.130527  0.639686  0.565454  0.053115  2.113879 -2.089114   \n",
       "60  0.560168  0.820710  0.951397 -0.107984  0.911524  1.712819 -1.567850   \n",
       "61  0.855113  0.805685  0.591042  0.030515  0.693783  1.901553 -1.405241   \n",
       "62  1.294528  0.733671  0.946141 -0.257920  1.267729  1.526229 -0.963639   \n",
       "63  1.294528  0.733671  0.946141 -0.257920  1.267729  1.526229 -0.963639   \n",
       "\n",
       "     gbp_usd   eur_usd   usd_jpy  cpi_value Year_Month  \n",
       "0   0.822966 -0.199250 -0.471607  -0.607577 2017-11-01  \n",
       "1   0.973177 -0.117028 -0.471607  -0.367735 2017-12-01  \n",
       "2   1.756349 -0.507228 -1.169077  -0.608341 2018-01-01  \n",
       "3   1.456292 -0.630230 -1.099292  -0.597531 2018-02-01  \n",
       "4   1.577701 -0.719422 -1.064338  -0.806899 2018-03-01  \n",
       "..       ...       ...       ...        ...        ...  \n",
       "59 -2.352612  3.173438  1.944205   0.019856 2022-10-01  \n",
       "60 -1.734071  2.319482  1.925518  -0.183570 2022-11-01  \n",
       "61 -1.171179  1.770491  1.868771  -0.221543 2022-12-01  \n",
       "62 -0.853216  1.540967  2.016101   0.181481 2023-01-01  \n",
       "63 -0.853216  1.540967  2.119783   0.181481 2023-02-01  \n",
       "\n",
       "[64 rows x 20 columns]"
      ]
     },
     "execution_count": 40,
     "metadata": {},
     "output_type": "execute_result"
    }
   ],
   "source": [
    "monthly_df"
   ]
  },
  {
   "cell_type": "code",
   "execution_count": 41,
   "metadata": {},
   "outputs": [],
   "source": [
    "# Assuming your DataFrame is called \"df\"\n",
    "cpi_data_df = cpi_data_df.reset_index()\n",
    "\n",
    "# This will make \"date\" a regular column in the DataFrame"
   ]
  },
  {
   "cell_type": "code",
   "execution_count": 42,
   "metadata": {},
   "outputs": [
    {
     "data": {
      "text/html": [
       "<div>\n",
       "<style scoped>\n",
       "    .dataframe tbody tr th:only-of-type {\n",
       "        vertical-align: middle;\n",
       "    }\n",
       "\n",
       "    .dataframe tbody tr th {\n",
       "        vertical-align: top;\n",
       "    }\n",
       "\n",
       "    .dataframe thead th {\n",
       "        text-align: right;\n",
       "    }\n",
       "</style>\n",
       "<table border=\"1\" class=\"dataframe\">\n",
       "  <thead>\n",
       "    <tr style=\"text-align: right;\">\n",
       "      <th></th>\n",
       "      <th>date</th>\n",
       "      <th>year</th>\n",
       "      <th>period</th>\n",
       "      <th>value</th>\n",
       "      <th>inflation_rate</th>\n",
       "      <th>cpi_value</th>\n",
       "      <th>cpi_Data_df</th>\n",
       "    </tr>\n",
       "  </thead>\n",
       "  <tbody>\n",
       "    <tr>\n",
       "      <th>0</th>\n",
       "      <td>2018-01-01</td>\n",
       "      <td>2018</td>\n",
       "      <td>M01</td>\n",
       "      <td>247.867</td>\n",
       "      <td>NaN</td>\n",
       "      <td>247.867</td>\n",
       "      <td>247.867</td>\n",
       "    </tr>\n",
       "    <tr>\n",
       "      <th>1</th>\n",
       "      <td>2018-02-01</td>\n",
       "      <td>2018</td>\n",
       "      <td>M02</td>\n",
       "      <td>248.991</td>\n",
       "      <td>0.453469</td>\n",
       "      <td>248.991</td>\n",
       "      <td>248.991</td>\n",
       "    </tr>\n",
       "    <tr>\n",
       "      <th>2</th>\n",
       "      <td>2018-03-01</td>\n",
       "      <td>2018</td>\n",
       "      <td>M03</td>\n",
       "      <td>249.554</td>\n",
       "      <td>0.226113</td>\n",
       "      <td>249.554</td>\n",
       "      <td>249.554</td>\n",
       "    </tr>\n",
       "    <tr>\n",
       "      <th>3</th>\n",
       "      <td>2018-04-01</td>\n",
       "      <td>2018</td>\n",
       "      <td>M04</td>\n",
       "      <td>250.546</td>\n",
       "      <td>0.397509</td>\n",
       "      <td>250.546</td>\n",
       "      <td>250.546</td>\n",
       "    </tr>\n",
       "    <tr>\n",
       "      <th>4</th>\n",
       "      <td>2018-05-01</td>\n",
       "      <td>2018</td>\n",
       "      <td>M05</td>\n",
       "      <td>251.588</td>\n",
       "      <td>0.415892</td>\n",
       "      <td>251.588</td>\n",
       "      <td>251.588</td>\n",
       "    </tr>\n",
       "    <tr>\n",
       "      <th>...</th>\n",
       "      <td>...</td>\n",
       "      <td>...</td>\n",
       "      <td>...</td>\n",
       "      <td>...</td>\n",
       "      <td>...</td>\n",
       "      <td>...</td>\n",
       "      <td>...</td>\n",
       "    </tr>\n",
       "    <tr>\n",
       "      <th>57</th>\n",
       "      <td>2022-10-01</td>\n",
       "      <td>2022</td>\n",
       "      <td>M10</td>\n",
       "      <td>298.012</td>\n",
       "      <td>0.405649</td>\n",
       "      <td>298.012</td>\n",
       "      <td>298.012</td>\n",
       "    </tr>\n",
       "    <tr>\n",
       "      <th>58</th>\n",
       "      <td>2022-11-01</td>\n",
       "      <td>2022</td>\n",
       "      <td>M11</td>\n",
       "      <td>297.711</td>\n",
       "      <td>-0.101003</td>\n",
       "      <td>297.711</td>\n",
       "      <td>297.711</td>\n",
       "    </tr>\n",
       "    <tr>\n",
       "      <th>59</th>\n",
       "      <td>2022-12-01</td>\n",
       "      <td>2022</td>\n",
       "      <td>M12</td>\n",
       "      <td>296.797</td>\n",
       "      <td>-0.307009</td>\n",
       "      <td>296.797</td>\n",
       "      <td>296.797</td>\n",
       "    </tr>\n",
       "    <tr>\n",
       "      <th>60</th>\n",
       "      <td>2023-01-01</td>\n",
       "      <td>2023</td>\n",
       "      <td>M01</td>\n",
       "      <td>299.170</td>\n",
       "      <td>0.799536</td>\n",
       "      <td>299.170</td>\n",
       "      <td>299.170</td>\n",
       "    </tr>\n",
       "    <tr>\n",
       "      <th>61</th>\n",
       "      <td>2023-02-01</td>\n",
       "      <td>2023</td>\n",
       "      <td>M02</td>\n",
       "      <td>300.840</td>\n",
       "      <td>0.558211</td>\n",
       "      <td>300.840</td>\n",
       "      <td>300.840</td>\n",
       "    </tr>\n",
       "  </tbody>\n",
       "</table>\n",
       "<p>62 rows × 7 columns</p>\n",
       "</div>"
      ],
      "text/plain": [
       "         date  year period    value  inflation_rate  cpi_value  cpi_Data_df\n",
       "0  2018-01-01  2018    M01  247.867             NaN    247.867      247.867\n",
       "1  2018-02-01  2018    M02  248.991        0.453469    248.991      248.991\n",
       "2  2018-03-01  2018    M03  249.554        0.226113    249.554      249.554\n",
       "3  2018-04-01  2018    M04  250.546        0.397509    250.546      250.546\n",
       "4  2018-05-01  2018    M05  251.588        0.415892    251.588      251.588\n",
       "..        ...   ...    ...      ...             ...        ...          ...\n",
       "57 2022-10-01  2022    M10  298.012        0.405649    298.012      298.012\n",
       "58 2022-11-01  2022    M11  297.711       -0.101003    297.711      297.711\n",
       "59 2022-12-01  2022    M12  296.797       -0.307009    296.797      296.797\n",
       "60 2023-01-01  2023    M01  299.170        0.799536    299.170      299.170\n",
       "61 2023-02-01  2023    M02  300.840        0.558211    300.840      300.840\n",
       "\n",
       "[62 rows x 7 columns]"
      ]
     },
     "execution_count": 42,
     "metadata": {},
     "output_type": "execute_result"
    }
   ],
   "source": [
    "cpi_data_df"
   ]
  },
  {
   "cell_type": "code",
   "execution_count": 43,
   "metadata": {},
   "outputs": [
    {
     "name": "stdout",
     "output_type": "stream",
     "text": [
      "<class 'pandas.core.frame.DataFrame'>\n",
      "RangeIndex: 62 entries, 0 to 61\n",
      "Data columns (total 7 columns):\n",
      " #   Column          Non-Null Count  Dtype         \n",
      "---  ------          --------------  -----         \n",
      " 0   date            62 non-null     datetime64[ns]\n",
      " 1   year            62 non-null     int64         \n",
      " 2   period          62 non-null     object        \n",
      " 3   value           62 non-null     float64       \n",
      " 4   inflation_rate  61 non-null     float64       \n",
      " 5   cpi_value       62 non-null     float64       \n",
      " 6   cpi_Data_df     62 non-null     float64       \n",
      "dtypes: datetime64[ns](1), float64(4), int64(1), object(1)\n",
      "memory usage: 3.5+ KB\n"
     ]
    }
   ],
   "source": [
    "cpi_data_df.info()"
   ]
  },
  {
   "cell_type": "code",
   "execution_count": 44,
   "metadata": {},
   "outputs": [
    {
     "name": "stdout",
     "output_type": "stream",
     "text": [
      "<class 'pandas.core.frame.DataFrame'>\n",
      "DatetimeIndex: 1910 entries, 2017-11-09 to 2023-01-31\n",
      "Data columns (total 8 columns):\n",
      " #   Column        Non-Null Count  Dtype  \n",
      "---  ------        --------------  -----  \n",
      " 0   Open          1910 non-null   float64\n",
      " 1   High          1910 non-null   float64\n",
      " 2   Low           1910 non-null   float64\n",
      " 3   Close         1910 non-null   float64\n",
      " 4   Volume        1910 non-null   int64  \n",
      " 5   Dividends     1910 non-null   float64\n",
      " 6   Stock Splits  1910 non-null   float64\n",
      " 7   eth_usd       1910 non-null   float64\n",
      "dtypes: float64(7), int64(1)\n",
      "memory usage: 198.8 KB\n"
     ]
    }
   ],
   "source": [
    "eth_usd.info()"
   ]
  },
  {
   "attachments": {},
   "cell_type": "markdown",
   "metadata": {},
   "source": [
    "# 2.2 Features description\n",
    "\n",
    "Close- Ethereum closing price in USD\n",
    "\n",
    "Open- Ethereum opening price in USD\n",
    "\n",
    "High- Ethereum highest price of the day in USD\n",
    "\n",
    "Low- Ethereum lowest price of the day in USD\n",
    "\n",
    "Volume- Ethereum total transactions volume of the day\n",
    "\n",
    "Nasdak- National Association of Securities Dealers Automated Quotations closing price in USD\n",
    "\n",
    "SP500- Standard and Poor's 500 closing price in USD. Index of 500 large listed limited liability companies traded in the United \n",
    "States\n",
    "\n",
    "Gold- Gold closing price in USD\n",
    "\n",
    "Oil- Oil closing price in USD\n",
    "\n",
    "Vix- Volatility Index closing price in USD. Measure of stock market expectations of volatility based on S&P 500 index\n",
    "\n",
    "Ftse100- Financial Times Stock Exchange 100 Index closing price in GBP. Share index of the 100 companies listed on the London \n",
    "Stock Exchange with the highest market capitalisation. \n",
    "\n",
    "Tnx- Treasury Yield 10 Years\n",
    "\n",
    "Gbp_usd- British pound sterling closing price in USD\n",
    "\n",
    "Eur_usd- Euro closing price in USD\n",
    "\n",
    "Usd_jpy- US Dollar closing price in Japanese yen\n",
    "\n"
   ]
  },
  {
   "attachments": {},
   "cell_type": "markdown",
   "metadata": {},
   "source": [
    "2.3 Descriptive statistics"
   ]
  },
  {
   "cell_type": "code",
   "execution_count": 45,
   "metadata": {},
   "outputs": [],
   "source": [
    "pd.set_option('display.float_format', lambda x: '%.3f' % x)"
   ]
  },
  {
   "cell_type": "code",
   "execution_count": 46,
   "metadata": {},
   "outputs": [
    {
     "data": {
      "text/html": [
       "<div>\n",
       "<style scoped>\n",
       "    .dataframe tbody tr th:only-of-type {\n",
       "        vertical-align: middle;\n",
       "    }\n",
       "\n",
       "    .dataframe tbody tr th {\n",
       "        vertical-align: top;\n",
       "    }\n",
       "\n",
       "    .dataframe thead th {\n",
       "        text-align: right;\n",
       "    }\n",
       "</style>\n",
       "<table border=\"1\" class=\"dataframe\">\n",
       "  <thead>\n",
       "    <tr style=\"text-align: right;\">\n",
       "      <th></th>\n",
       "      <th>count</th>\n",
       "      <th>mean</th>\n",
       "      <th>standard deviation</th>\n",
       "      <th>minimum</th>\n",
       "      <th>25% percentile</th>\n",
       "      <th>median</th>\n",
       "      <th>75% percentil</th>\n",
       "      <th>maximum</th>\n",
       "    </tr>\n",
       "  </thead>\n",
       "  <tbody>\n",
       "    <tr>\n",
       "      <th>Year</th>\n",
       "      <td>64.000</td>\n",
       "      <td>2020.000</td>\n",
       "      <td>1.574</td>\n",
       "      <td>2017.000</td>\n",
       "      <td>2019.000</td>\n",
       "      <td>2020.000</td>\n",
       "      <td>2021.000</td>\n",
       "      <td>2023.000</td>\n",
       "    </tr>\n",
       "    <tr>\n",
       "      <th>Month</th>\n",
       "      <td>64.000</td>\n",
       "      <td>6.500</td>\n",
       "      <td>3.599</td>\n",
       "      <td>1.000</td>\n",
       "      <td>3.000</td>\n",
       "      <td>6.500</td>\n",
       "      <td>10.000</td>\n",
       "      <td>12.000</td>\n",
       "    </tr>\n",
       "    <tr>\n",
       "      <th>Open</th>\n",
       "      <td>64.000</td>\n",
       "      <td>0.000</td>\n",
       "      <td>1.008</td>\n",
       "      <td>-0.870</td>\n",
       "      <td>-0.774</td>\n",
       "      <td>-0.520</td>\n",
       "      <td>0.406</td>\n",
       "      <td>2.990</td>\n",
       "    </tr>\n",
       "    <tr>\n",
       "      <th>High</th>\n",
       "      <td>64.000</td>\n",
       "      <td>-0.000</td>\n",
       "      <td>1.008</td>\n",
       "      <td>-0.895</td>\n",
       "      <td>-0.821</td>\n",
       "      <td>-0.472</td>\n",
       "      <td>0.435</td>\n",
       "      <td>2.553</td>\n",
       "    </tr>\n",
       "    <tr>\n",
       "      <th>Low</th>\n",
       "      <td>64.000</td>\n",
       "      <td>-0.000</td>\n",
       "      <td>1.008</td>\n",
       "      <td>-0.870</td>\n",
       "      <td>-0.770</td>\n",
       "      <td>-0.523</td>\n",
       "      <td>0.543</td>\n",
       "      <td>3.201</td>\n",
       "    </tr>\n",
       "    <tr>\n",
       "      <th>Close</th>\n",
       "      <td>64.000</td>\n",
       "      <td>0.000</td>\n",
       "      <td>1.008</td>\n",
       "      <td>-0.889</td>\n",
       "      <td>-0.793</td>\n",
       "      <td>-0.470</td>\n",
       "      <td>0.398</td>\n",
       "      <td>2.985</td>\n",
       "    </tr>\n",
       "    <tr>\n",
       "      <th>Volume</th>\n",
       "      <td>64.000</td>\n",
       "      <td>-0.000</td>\n",
       "      <td>1.008</td>\n",
       "      <td>-1.257</td>\n",
       "      <td>-0.846</td>\n",
       "      <td>-0.105</td>\n",
       "      <td>0.525</td>\n",
       "      <td>3.774</td>\n",
       "    </tr>\n",
       "    <tr>\n",
       "      <th>BTC-USD</th>\n",
       "      <td>64.000</td>\n",
       "      <td>0.000</td>\n",
       "      <td>1.008</td>\n",
       "      <td>-1.303</td>\n",
       "      <td>-0.953</td>\n",
       "      <td>-0.244</td>\n",
       "      <td>1.003</td>\n",
       "      <td>1.860</td>\n",
       "    </tr>\n",
       "    <tr>\n",
       "      <th>nasdaq</th>\n",
       "      <td>64.000</td>\n",
       "      <td>-0.000</td>\n",
       "      <td>1.008</td>\n",
       "      <td>-1.659</td>\n",
       "      <td>-1.149</td>\n",
       "      <td>0.370</td>\n",
       "      <td>0.829</td>\n",
       "      <td>1.447</td>\n",
       "    </tr>\n",
       "    <tr>\n",
       "      <th>gold</th>\n",
       "      <td>64.000</td>\n",
       "      <td>0.000</td>\n",
       "      <td>1.008</td>\n",
       "      <td>-2.376</td>\n",
       "      <td>-0.569</td>\n",
       "      <td>-0.050</td>\n",
       "      <td>0.537</td>\n",
       "      <td>2.588</td>\n",
       "    </tr>\n",
       "    <tr>\n",
       "      <th>oil</th>\n",
       "      <td>64.000</td>\n",
       "      <td>0.000</td>\n",
       "      <td>1.008</td>\n",
       "      <td>-1.405</td>\n",
       "      <td>-0.918</td>\n",
       "      <td>-0.291</td>\n",
       "      <td>0.947</td>\n",
       "      <td>1.979</td>\n",
       "    </tr>\n",
       "    <tr>\n",
       "      <th>sp500</th>\n",
       "      <td>64.000</td>\n",
       "      <td>0.000</td>\n",
       "      <td>1.008</td>\n",
       "      <td>-1.320</td>\n",
       "      <td>-0.684</td>\n",
       "      <td>-0.258</td>\n",
       "      <td>0.575</td>\n",
       "      <td>4.080</td>\n",
       "    </tr>\n",
       "    <tr>\n",
       "      <th>vix</th>\n",
       "      <td>64.000</td>\n",
       "      <td>-0.000</td>\n",
       "      <td>1.008</td>\n",
       "      <td>-2.668</td>\n",
       "      <td>-0.206</td>\n",
       "      <td>0.277</td>\n",
       "      <td>0.708</td>\n",
       "      <td>1.268</td>\n",
       "    </tr>\n",
       "    <tr>\n",
       "      <th>ftse100</th>\n",
       "      <td>64.000</td>\n",
       "      <td>-0.000</td>\n",
       "      <td>1.008</td>\n",
       "      <td>-1.683</td>\n",
       "      <td>-0.697</td>\n",
       "      <td>-0.102</td>\n",
       "      <td>0.798</td>\n",
       "      <td>2.114</td>\n",
       "    </tr>\n",
       "    <tr>\n",
       "      <th>tnx</th>\n",
       "      <td>64.000</td>\n",
       "      <td>0.000</td>\n",
       "      <td>1.008</td>\n",
       "      <td>-2.723</td>\n",
       "      <td>-0.791</td>\n",
       "      <td>0.111</td>\n",
       "      <td>0.635</td>\n",
       "      <td>1.750</td>\n",
       "    </tr>\n",
       "    <tr>\n",
       "      <th>gbp_usd</th>\n",
       "      <td>64.000</td>\n",
       "      <td>0.000</td>\n",
       "      <td>1.008</td>\n",
       "      <td>-2.563</td>\n",
       "      <td>-0.553</td>\n",
       "      <td>-0.001</td>\n",
       "      <td>0.754</td>\n",
       "      <td>1.756</td>\n",
       "    </tr>\n",
       "    <tr>\n",
       "      <th>eur_usd</th>\n",
       "      <td>64.000</td>\n",
       "      <td>-0.000</td>\n",
       "      <td>1.008</td>\n",
       "      <td>-1.036</td>\n",
       "      <td>-0.575</td>\n",
       "      <td>-0.376</td>\n",
       "      <td>-0.043</td>\n",
       "      <td>3.173</td>\n",
       "    </tr>\n",
       "    <tr>\n",
       "      <th>usd_jpy</th>\n",
       "      <td>64.000</td>\n",
       "      <td>0.000</td>\n",
       "      <td>1.008</td>\n",
       "      <td>-1.169</td>\n",
       "      <td>-0.667</td>\n",
       "      <td>-0.472</td>\n",
       "      <td>0.635</td>\n",
       "      <td>2.120</td>\n",
       "    </tr>\n",
       "    <tr>\n",
       "      <th>cpi_value</th>\n",
       "      <td>64.000</td>\n",
       "      <td>0.000</td>\n",
       "      <td>1.008</td>\n",
       "      <td>-1.022</td>\n",
       "      <td>-0.734</td>\n",
       "      <td>-0.556</td>\n",
       "      <td>0.731</td>\n",
       "      <td>2.516</td>\n",
       "    </tr>\n",
       "  </tbody>\n",
       "</table>\n",
       "</div>"
      ],
      "text/plain": [
       "           count     mean  standard deviation  minimum  25% percentile  \\\n",
       "Year      64.000 2020.000               1.574 2017.000        2019.000   \n",
       "Month     64.000    6.500               3.599    1.000           3.000   \n",
       "Open      64.000    0.000               1.008   -0.870          -0.774   \n",
       "High      64.000   -0.000               1.008   -0.895          -0.821   \n",
       "Low       64.000   -0.000               1.008   -0.870          -0.770   \n",
       "Close     64.000    0.000               1.008   -0.889          -0.793   \n",
       "Volume    64.000   -0.000               1.008   -1.257          -0.846   \n",
       "BTC-USD   64.000    0.000               1.008   -1.303          -0.953   \n",
       "nasdaq    64.000   -0.000               1.008   -1.659          -1.149   \n",
       "gold      64.000    0.000               1.008   -2.376          -0.569   \n",
       "oil       64.000    0.000               1.008   -1.405          -0.918   \n",
       "sp500     64.000    0.000               1.008   -1.320          -0.684   \n",
       "vix       64.000   -0.000               1.008   -2.668          -0.206   \n",
       "ftse100   64.000   -0.000               1.008   -1.683          -0.697   \n",
       "tnx       64.000    0.000               1.008   -2.723          -0.791   \n",
       "gbp_usd   64.000    0.000               1.008   -2.563          -0.553   \n",
       "eur_usd   64.000   -0.000               1.008   -1.036          -0.575   \n",
       "usd_jpy   64.000    0.000               1.008   -1.169          -0.667   \n",
       "cpi_value 64.000    0.000               1.008   -1.022          -0.734   \n",
       "\n",
       "            median  75% percentil  maximum  \n",
       "Year      2020.000       2021.000 2023.000  \n",
       "Month        6.500         10.000   12.000  \n",
       "Open        -0.520          0.406    2.990  \n",
       "High        -0.472          0.435    2.553  \n",
       "Low         -0.523          0.543    3.201  \n",
       "Close       -0.470          0.398    2.985  \n",
       "Volume      -0.105          0.525    3.774  \n",
       "BTC-USD     -0.244          1.003    1.860  \n",
       "nasdaq       0.370          0.829    1.447  \n",
       "gold        -0.050          0.537    2.588  \n",
       "oil         -0.291          0.947    1.979  \n",
       "sp500       -0.258          0.575    4.080  \n",
       "vix          0.277          0.708    1.268  \n",
       "ftse100     -0.102          0.798    2.114  \n",
       "tnx          0.111          0.635    1.750  \n",
       "gbp_usd     -0.001          0.754    1.756  \n",
       "eur_usd     -0.376         -0.043    3.173  \n",
       "usd_jpy     -0.472          0.635    2.120  \n",
       "cpi_value   -0.556          0.731    2.516  "
      ]
     },
     "execution_count": 46,
     "metadata": {},
     "output_type": "execute_result"
    }
   ],
   "source": [
    "monthly_df.describe().transpose().rename(columns={'count': 'count', 'mean':'mean', 'std':'standard deviation', 'min':'minimum', '25%':'25% percentile', '50%':'median', '75%':'75% percentil', 'max':'maximum'})"
   ]
  },
  {
   "cell_type": "code",
   "execution_count": 47,
   "metadata": {},
   "outputs": [
    {
     "data": {
      "text/plain": [
       "Text(0.5, 1.0, 'Inflation in the USA by month Base year: 1982-84=100')"
      ]
     },
     "execution_count": 47,
     "metadata": {},
     "output_type": "execute_result"
    },
    {
     "data": {
      "image/png": "[encoded data removed]",
      "text/plain": [
       "<Figure size 640x480 with 1 Axes>"
      ]
     },
     "metadata": {},
     "output_type": "display_data"
    }
   ],
   "source": [
    "sns.lineplot(x=\"date\", y=\"inflation_rate\",\n",
    "             data=cpi_data_df)\n",
    "# Add title\n",
    "plt.title(\"Inflation in the USA by month Base year: 1982-84=100\")"
   ]
  },
  {
   "cell_type": "code",
   "execution_count": 48,
   "metadata": {},
   "outputs": [
    {
     "data": {
      "text/plain": [
       "Text(0.5, 1.0, 'Consumer Price Index in the USA, Base year: 1982-84=100')"
      ]
     },
     "execution_count": 48,
     "metadata": {},
     "output_type": "execute_result"
    },
    {
     "data": {
      "image/png": "[encoded data removed]",
      "text/plain": [
       "<Figure size 640x480 with 1 Axes>"
      ]
     },
     "metadata": {},
     "output_type": "display_data"
    }
   ],
   "source": [
    "sns.lineplot(x=\"date\", y=\"value\",\n",
    "             data=cpi_data_df)\n",
    "# Add title\n",
    "plt.title(\"Consumer Price Index in the USA, Base year: 1982-84=100\")"
   ]
  },
  {
   "cell_type": "code",
   "execution_count": 49,
   "metadata": {},
   "outputs": [
    {
     "data": {
      "image/png": "[encoded data removed]",
      "text/plain": [
       "<Figure size 640x480 with 1 Axes>"
      ]
     },
     "metadata": {},
     "output_type": "display_data"
    }
   ],
   "source": [
    "import seaborn as sns\n",
    "import matplotlib.pyplot as plt\n",
    "\n",
    "# Calculate inflation rate as a percentage\n",
    "cpi_data_df['inflation_rate'] = cpi_data_df['value'].pct_change() * 100\n",
    "\n",
    "# Create line plot\n",
    "sns.lineplot(x=\"date\", y=\"inflation_rate\", data=cpi_data_df)\n",
    "\n",
    "# Add title\n",
    "plt.title(\"Percentage in change in the consumer price index\")\n",
    "\n",
    "# Show plot\n",
    "plt.show()\n"
   ]
  },
  {
   "attachments": {},
   "cell_type": "markdown",
   "metadata": {},
   "source": [
    "Build LSTM model\n",
    "\n",
    "1. Prepare data for training and testing\n",
    "2."
   ]
  },
  {
   "cell_type": "code",
   "execution_count": 50,
   "metadata": {},
   "outputs": [],
   "source": [
    "monthly_df_copy['Year_Month'] = pd.to_datetime(monthly_df_copy['Year_Month'], format='%Y-%m-%d')\n",
    "\n",
    "y_overall = monthly_df_copy.loc[(monthly_df_copy['Year_Month'] >= '2017-11-10')\n",
    "                     & (monthly_df_copy['Year_Month'] <= '2023-02-01')]\n"
   ]
  },
  {
   "cell_type": "code",
   "execution_count": 51,
   "metadata": {},
   "outputs": [
    {
     "data": {
      "text/html": [
       "<div>\n",
       "<style scoped>\n",
       "    .dataframe tbody tr th:only-of-type {\n",
       "        vertical-align: middle;\n",
       "    }\n",
       "\n",
       "    .dataframe tbody tr th {\n",
       "        vertical-align: top;\n",
       "    }\n",
       "\n",
       "    .dataframe thead th {\n",
       "        text-align: right;\n",
       "    }\n",
       "</style>\n",
       "<table border=\"1\" class=\"dataframe\">\n",
       "  <thead>\n",
       "    <tr style=\"text-align: right;\">\n",
       "      <th></th>\n",
       "      <th>Year</th>\n",
       "      <th>Month</th>\n",
       "      <th>Open</th>\n",
       "      <th>High</th>\n",
       "      <th>Low</th>\n",
       "      <th>Close</th>\n",
       "      <th>Volume</th>\n",
       "      <th>BTC-USD</th>\n",
       "      <th>nasdaq</th>\n",
       "      <th>gold</th>\n",
       "      <th>oil</th>\n",
       "      <th>sp500</th>\n",
       "      <th>vix</th>\n",
       "      <th>ftse100</th>\n",
       "      <th>tnx</th>\n",
       "      <th>gbp_usd</th>\n",
       "      <th>eur_usd</th>\n",
       "      <th>usd_jpy</th>\n",
       "      <th>cpi_value</th>\n",
       "      <th>Year_Month</th>\n",
       "    </tr>\n",
       "  </thead>\n",
       "  <tbody>\n",
       "    <tr>\n",
       "      <th>0</th>\n",
       "      <td>2017</td>\n",
       "      <td>11</td>\n",
       "      <td>320.671</td>\n",
       "      <td>522.307</td>\n",
       "      <td>294.542</td>\n",
       "      <td>447.114</td>\n",
       "      <td>26064246848.000</td>\n",
       "      <td>24.142</td>\n",
       "      <td>1273.200</td>\n",
       "      <td>57.400</td>\n",
       "      <td>2647.580</td>\n",
       "      <td>11.280</td>\n",
       "      <td>7326.700</td>\n",
       "      <td>2.417</td>\n",
       "      <td>1.342</td>\n",
       "      <td>1.185</td>\n",
       "      <td>112.002</td>\n",
       "      <td>259.101</td>\n",
       "      <td>10233.600</td>\n",
       "      <td>2017-11-01</td>\n",
       "    </tr>\n",
       "    <tr>\n",
       "      <th>1</th>\n",
       "      <td>2017</td>\n",
       "      <td>12</td>\n",
       "      <td>445.209</td>\n",
       "      <td>881.944</td>\n",
       "      <td>414.411</td>\n",
       "      <td>756.733</td>\n",
       "      <td>79862276544.000</td>\n",
       "      <td>23.545</td>\n",
       "      <td>1306.300</td>\n",
       "      <td>60.420</td>\n",
       "      <td>2673.610</td>\n",
       "      <td>11.040</td>\n",
       "      <td>7687.800</td>\n",
       "      <td>2.405</td>\n",
       "      <td>1.344</td>\n",
       "      <td>1.194</td>\n",
       "      <td>112.875</td>\n",
       "      <td>259.101</td>\n",
       "      <td>14156.400</td>\n",
       "      <td>2017-12-01</td>\n",
       "    </tr>\n",
       "    <tr>\n",
       "      <th>2</th>\n",
       "      <td>2018</td>\n",
       "      <td>1</td>\n",
       "      <td>755.757</td>\n",
       "      <td>1432.880</td>\n",
       "      <td>742.004</td>\n",
       "      <td>1118.310</td>\n",
       "      <td>163610220288.000</td>\n",
       "      <td>24.796</td>\n",
       "      <td>1339.000</td>\n",
       "      <td>64.730</td>\n",
       "      <td>2823.810</td>\n",
       "      <td>13.540</td>\n",
       "      <td>7533.600</td>\n",
       "      <td>2.720</td>\n",
       "      <td>1.416</td>\n",
       "      <td>1.241</td>\n",
       "      <td>108.732</td>\n",
       "      <td>247.867</td>\n",
       "      <td>10221.100</td>\n",
       "      <td>2018-01-01</td>\n",
       "    </tr>\n",
       "    <tr>\n",
       "      <th>3</th>\n",
       "      <td>2018</td>\n",
       "      <td>2</td>\n",
       "      <td>1119.370</td>\n",
       "      <td>1161.350</td>\n",
       "      <td>574.419</td>\n",
       "      <td>855.199</td>\n",
       "      <td>83393441152.000</td>\n",
       "      <td>24.747</td>\n",
       "      <td>1315.500</td>\n",
       "      <td>61.640</td>\n",
       "      <td>2713.830</td>\n",
       "      <td>19.850</td>\n",
       "      <td>7231.900</td>\n",
       "      <td>2.868</td>\n",
       "      <td>1.391</td>\n",
       "      <td>1.223</td>\n",
       "      <td>107.426</td>\n",
       "      <td>248.991</td>\n",
       "      <td>10397.900</td>\n",
       "      <td>2018-02-01</td>\n",
       "    </tr>\n",
       "    <tr>\n",
       "      <th>4</th>\n",
       "      <td>2018</td>\n",
       "      <td>3</td>\n",
       "      <td>856.012</td>\n",
       "      <td>880.302</td>\n",
       "      <td>368.633</td>\n",
       "      <td>396.457</td>\n",
       "      <td>53716179584.000</td>\n",
       "      <td>26.543</td>\n",
       "      <td>1322.800</td>\n",
       "      <td>64.940</td>\n",
       "      <td>2640.870</td>\n",
       "      <td>19.970</td>\n",
       "      <td>7056.600</td>\n",
       "      <td>2.741</td>\n",
       "      <td>1.403</td>\n",
       "      <td>1.230</td>\n",
       "      <td>106.479</td>\n",
       "      <td>249.554</td>\n",
       "      <td>6973.530</td>\n",
       "      <td>2018-03-01</td>\n",
       "    </tr>\n",
       "    <tr>\n",
       "      <th>...</th>\n",
       "      <td>...</td>\n",
       "      <td>...</td>\n",
       "      <td>...</td>\n",
       "      <td>...</td>\n",
       "      <td>...</td>\n",
       "      <td>...</td>\n",
       "      <td>...</td>\n",
       "      <td>...</td>\n",
       "      <td>...</td>\n",
       "      <td>...</td>\n",
       "      <td>...</td>\n",
       "      <td>...</td>\n",
       "      <td>...</td>\n",
       "      <td>...</td>\n",
       "      <td>...</td>\n",
       "      <td>...</td>\n",
       "      <td>...</td>\n",
       "      <td>...</td>\n",
       "      <td>...</td>\n",
       "      <td>...</td>\n",
       "    </tr>\n",
       "    <tr>\n",
       "      <th>59</th>\n",
       "      <td>2022</td>\n",
       "      <td>10</td>\n",
       "      <td>1328.194</td>\n",
       "      <td>1652.382</td>\n",
       "      <td>1209.278</td>\n",
       "      <td>1572.714</td>\n",
       "      <td>382071643030.000</td>\n",
       "      <td>61.819</td>\n",
       "      <td>1635.900</td>\n",
       "      <td>86.530</td>\n",
       "      <td>3871.980</td>\n",
       "      <td>25.880</td>\n",
       "      <td>7094.500</td>\n",
       "      <td>4.077</td>\n",
       "      <td>1.160</td>\n",
       "      <td>0.996</td>\n",
       "      <td>147.812</td>\n",
       "      <td>298.012</td>\n",
       "      <td>20495.773</td>\n",
       "      <td>2022-10-01</td>\n",
       "    </tr>\n",
       "    <tr>\n",
       "      <th>60</th>\n",
       "      <td>2022</td>\n",
       "      <td>11</td>\n",
       "      <td>1572.645</td>\n",
       "      <td>1661.335</td>\n",
       "      <td>1081.138</td>\n",
       "      <td>1295.689</td>\n",
       "      <td>421797905717.000</td>\n",
       "      <td>67.997</td>\n",
       "      <td>1746.000</td>\n",
       "      <td>80.550</td>\n",
       "      <td>4080.110</td>\n",
       "      <td>20.580</td>\n",
       "      <td>7573.100</td>\n",
       "      <td>3.703</td>\n",
       "      <td>1.195</td>\n",
       "      <td>1.032</td>\n",
       "      <td>138.745</td>\n",
       "      <td>297.711</td>\n",
       "      <td>17168.566</td>\n",
       "      <td>2022-11-01</td>\n",
       "    </tr>\n",
       "    <tr>\n",
       "      <th>61</th>\n",
       "      <td>2022</td>\n",
       "      <td>12</td>\n",
       "      <td>1295.770</td>\n",
       "      <td>1346.174</td>\n",
       "      <td>1160.377</td>\n",
       "      <td>1196.771</td>\n",
       "      <td>161130639970.000</td>\n",
       "      <td>61.114</td>\n",
       "      <td>1819.700</td>\n",
       "      <td>80.260</td>\n",
       "      <td>3839.500</td>\n",
       "      <td>21.670</td>\n",
       "      <td>7451.700</td>\n",
       "      <td>3.879</td>\n",
       "      <td>1.206</td>\n",
       "      <td>1.066</td>\n",
       "      <td>132.916</td>\n",
       "      <td>296.797</td>\n",
       "      <td>16547.496</td>\n",
       "      <td>2022-12-01</td>\n",
       "    </tr>\n",
       "    <tr>\n",
       "      <th>62</th>\n",
       "      <td>2023</td>\n",
       "      <td>1</td>\n",
       "      <td>1196.714</td>\n",
       "      <td>1674.179</td>\n",
       "      <td>1192.885</td>\n",
       "      <td>1586.535</td>\n",
       "      <td>224952954314.000</td>\n",
       "      <td>59.958</td>\n",
       "      <td>1929.500</td>\n",
       "      <td>78.870</td>\n",
       "      <td>4076.600</td>\n",
       "      <td>19.400</td>\n",
       "      <td>7771.700</td>\n",
       "      <td>3.529</td>\n",
       "      <td>1.235</td>\n",
       "      <td>1.085</td>\n",
       "      <td>130.479</td>\n",
       "      <td>299.170</td>\n",
       "      <td>23139.283</td>\n",
       "      <td>2023-01-01</td>\n",
       "    </tr>\n",
       "    <tr>\n",
       "      <th>63</th>\n",
       "      <td>2023</td>\n",
       "      <td>2</td>\n",
       "      <td>1567.420</td>\n",
       "      <td>1598.518</td>\n",
       "      <td>1563.804</td>\n",
       "      <td>1586.535</td>\n",
       "      <td>6585191019.000</td>\n",
       "      <td>59.958</td>\n",
       "      <td>1929.500</td>\n",
       "      <td>78.870</td>\n",
       "      <td>4076.600</td>\n",
       "      <td>19.400</td>\n",
       "      <td>7771.700</td>\n",
       "      <td>3.529</td>\n",
       "      <td>1.235</td>\n",
       "      <td>1.085</td>\n",
       "      <td>130.479</td>\n",
       "      <td>300.840</td>\n",
       "      <td>23139.283</td>\n",
       "      <td>2023-02-01</td>\n",
       "    </tr>\n",
       "  </tbody>\n",
       "</table>\n",
       "<p>64 rows × 20 columns</p>\n",
       "</div>"
      ],
      "text/plain": [
       "    Year  Month     Open     High      Low    Close           Volume  BTC-USD  \\\n",
       "0   2017     11  320.671  522.307  294.542  447.114  26064246848.000   24.142   \n",
       "1   2017     12  445.209  881.944  414.411  756.733  79862276544.000   23.545   \n",
       "2   2018      1  755.757 1432.880  742.004 1118.310 163610220288.000   24.796   \n",
       "3   2018      2 1119.370 1161.350  574.419  855.199  83393441152.000   24.747   \n",
       "4   2018      3  856.012  880.302  368.633  396.457  53716179584.000   26.543   \n",
       "..   ...    ...      ...      ...      ...      ...              ...      ...   \n",
       "59  2022     10 1328.194 1652.382 1209.278 1572.714 382071643030.000   61.819   \n",
       "60  2022     11 1572.645 1661.335 1081.138 1295.689 421797905717.000   67.997   \n",
       "61  2022     12 1295.770 1346.174 1160.377 1196.771 161130639970.000   61.114   \n",
       "62  2023      1 1196.714 1674.179 1192.885 1586.535 224952954314.000   59.958   \n",
       "63  2023      2 1567.420 1598.518 1563.804 1586.535   6585191019.000   59.958   \n",
       "\n",
       "     nasdaq   gold      oil  sp500      vix  ftse100   tnx  gbp_usd  eur_usd  \\\n",
       "0  1273.200 57.400 2647.580 11.280 7326.700    2.417 1.342    1.185  112.002   \n",
       "1  1306.300 60.420 2673.610 11.040 7687.800    2.405 1.344    1.194  112.875   \n",
       "2  1339.000 64.730 2823.810 13.540 7533.600    2.720 1.416    1.241  108.732   \n",
       "3  1315.500 61.640 2713.830 19.850 7231.900    2.868 1.391    1.223  107.426   \n",
       "4  1322.800 64.940 2640.870 19.970 7056.600    2.741 1.403    1.230  106.479   \n",
       "..      ...    ...      ...    ...      ...      ...   ...      ...      ...   \n",
       "59 1635.900 86.530 3871.980 25.880 7094.500    4.077 1.160    0.996  147.812   \n",
       "60 1746.000 80.550 4080.110 20.580 7573.100    3.703 1.195    1.032  138.745   \n",
       "61 1819.700 80.260 3839.500 21.670 7451.700    3.879 1.206    1.066  132.916   \n",
       "62 1929.500 78.870 4076.600 19.400 7771.700    3.529 1.235    1.085  130.479   \n",
       "63 1929.500 78.870 4076.600 19.400 7771.700    3.529 1.235    1.085  130.479   \n",
       "\n",
       "    usd_jpy  cpi_value Year_Month  \n",
       "0   259.101  10233.600 2017-11-01  \n",
       "1   259.101  14156.400 2017-12-01  \n",
       "2   247.867  10221.100 2018-01-01  \n",
       "3   248.991  10397.900 2018-02-01  \n",
       "4   249.554   6973.530 2018-03-01  \n",
       "..      ...        ...        ...  \n",
       "59  298.012  20495.773 2022-10-01  \n",
       "60  297.711  17168.566 2022-11-01  \n",
       "61  296.797  16547.496 2022-12-01  \n",
       "62  299.170  23139.283 2023-01-01  \n",
       "63  300.840  23139.283 2023-02-01  \n",
       "\n",
       "[64 rows x 20 columns]"
      ]
     },
     "execution_count": 51,
     "metadata": {},
     "output_type": "execute_result"
    }
   ],
   "source": [
    "monthly_df_copy"
   ]
  },
  {
   "cell_type": "code",
   "execution_count": 52,
   "metadata": {},
   "outputs": [
    {
     "data": {
      "application/vnd.plotly.v1+json": {
       "config": {
        "plotlyServerURL": "https://plot.ly"
       },
       "data": [
        {
         "hovertemplate": "variable=Open<br>Year_Month=%{x}<br>value=%{y}<extra></extra>",
         "legendgroup": "Open",
         "line": {
          "color": "#636efa",
          "dash": "solid"
         },
         "marker": {
          "symbol": "circle"
         },
         "mode": "lines",
         "name": "Ethereum Open Price",
         "orientation": "v",
         "showlegend": true,
         "type": "scatter",
         "x": [
          "2017-12-01T00:00:00",
          "2018-01-01T00:00:00",
          "2018-02-01T00:00:00",
          "2018-03-01T00:00:00",
          "2018-04-01T00:00:00",
          "2018-05-01T00:00:00",
          "2018-06-01T00:00:00",
          "2018-07-01T00:00:00",
          "2018-08-01T00:00:00",
          "2018-09-01T00:00:00",
          "2018-10-01T00:00:00",
          "2018-11-01T00:00:00",
          "2018-12-01T00:00:00",
          "2019-01-01T00:00:00",
          "2019-02-01T00:00:00",
          "2019-03-01T00:00:00",
          "2019-04-01T00:00:00",
          "2019-05-01T00:00:00",
          "2019-06-01T00:00:00",
          "2019-07-01T00:00:00",
          "2019-08-01T00:00:00",
          "2019-09-01T00:00:00",
          "2019-10-01T00:00:00",
          "2019-11-01T00:00:00",
          "2019-12-01T00:00:00",
          "2020-01-01T00:00:00",
          "2020-02-01T00:00:00",
          "2020-03-01T00:00:00",
          "2020-04-01T00:00:00",
          "2020-05-01T00:00:00",
          "2020-06-01T00:00:00",
          "2020-07-01T00:00:00",
          "2020-08-01T00:00:00",
          "2020-09-01T00:00:00",
          "2020-10-01T00:00:00",
          "2020-11-01T00:00:00",
          "2020-12-01T00:00:00",
          "2021-01-01T00:00:00",
          "2021-02-01T00:00:00",
          "2021-03-01T00:00:00",
          "2021-04-01T00:00:00",
          "2021-05-01T00:00:00",
          "2021-06-01T00:00:00",
          "2021-07-01T00:00:00",
          "2021-08-01T00:00:00",
          "2021-09-01T00:00:00",
          "2021-10-01T00:00:00",
          "2021-11-01T00:00:00",
          "2021-12-01T00:00:00",
          "2022-01-01T00:00:00",
          "2022-02-01T00:00:00",
          "2022-03-01T00:00:00",
          "2022-04-01T00:00:00",
          "2022-05-01T00:00:00",
          "2022-06-01T00:00:00",
          "2022-07-01T00:00:00",
          "2022-08-01T00:00:00",
          "2022-09-01T00:00:00",
          "2022-10-01T00:00:00",
          "2022-11-01T00:00:00",
          "2022-12-01T00:00:00",
          "2023-01-01T00:00:00",
          "2023-02-01T00:00:00"
         ],
         "xaxis": "x",
         "y": [
          445.2090148925781,
          755.7570190429688,
          1119.3699951171875,
          856.0120239257812,
          397.2539978027344,
          670.4630126953125,
          578.6719970703125,
          455.24200439453125,
          433.8689880371094,
          283.4960021972656,
          233.22000122070312,
          197.53700256347656,
          113.39775848388672,
          133.41815185546875,
          107.1476821899414,
          136.83624267578125,
          141.46548461914062,
          162.18655395507812,
          268.433349609375,
          290.26849365234375,
          218.55459594726562,
          172.45840454101562,
          180.20912170410156,
          183.80369567871094,
          152.49192810058594,
          129.6306610107422,
          180.11376953125,
          219.752685546875,
          133.61231994628906,
          207.9017333984375,
          230.86026000976562,
          226.13458251953125,
          345.7986145019531,
          434.87445068359375,
          360.30914306640625,
          386.59033203125,
          615.0703125,
          737.7083740234375,
          1314.855224609375,
          1417.151123046875,
          1919.1572265625,
          2772.83837890625,
          2707.560546875,
          2274.3974609375,
          2530.462890625,
          3430.762451171875,
          3001.12939453125,
          4288.21728515625,
          4623.6796875,
          3683.047119140625,
          2687.89892578125,
          2919.77587890625,
          3282.576171875,
          2729.994140625,
          1942.0506591796875,
          1068.3167724609375,
          1681.445556640625,
          1553.75634765625,
          1328.1937255859375,
          1572.6453857421875,
          1295.76953125,
          1196.713623046875,
          1567.419921875
         ],
         "yaxis": "y"
        },
        {
         "hovertemplate": "variable=Close<br>Year_Month=%{x}<br>value=%{y}<extra></extra>",
         "legendgroup": "Close",
         "line": {
          "color": "#EF553B",
          "dash": "solid"
         },
         "marker": {
          "symbol": "circle"
         },
         "mode": "lines",
         "name": "Ethereum Close Price",
         "orientation": "v",
         "showlegend": true,
         "type": "scatter",
         "x": [
          "2017-12-01T00:00:00",
          "2018-01-01T00:00:00",
          "2018-02-01T00:00:00",
          "2018-03-01T00:00:00",
          "2018-04-01T00:00:00",
          "2018-05-01T00:00:00",
          "2018-06-01T00:00:00",
          "2018-07-01T00:00:00",
          "2018-08-01T00:00:00",
          "2018-09-01T00:00:00",
          "2018-10-01T00:00:00",
          "2018-11-01T00:00:00",
          "2018-12-01T00:00:00",
          "2019-01-01T00:00:00",
          "2019-02-01T00:00:00",
          "2019-03-01T00:00:00",
          "2019-04-01T00:00:00",
          "2019-05-01T00:00:00",
          "2019-06-01T00:00:00",
          "2019-07-01T00:00:00",
          "2019-08-01T00:00:00",
          "2019-09-01T00:00:00",
          "2019-10-01T00:00:00",
          "2019-11-01T00:00:00",
          "2019-12-01T00:00:00",
          "2020-01-01T00:00:00",
          "2020-02-01T00:00:00",
          "2020-03-01T00:00:00",
          "2020-04-01T00:00:00",
          "2020-05-01T00:00:00",
          "2020-06-01T00:00:00",
          "2020-07-01T00:00:00",
          "2020-08-01T00:00:00",
          "2020-09-01T00:00:00",
          "2020-10-01T00:00:00",
          "2020-11-01T00:00:00",
          "2020-12-01T00:00:00",
          "2021-01-01T00:00:00",
          "2021-02-01T00:00:00",
          "2021-03-01T00:00:00",
          "2021-04-01T00:00:00",
          "2021-05-01T00:00:00",
          "2021-06-01T00:00:00",
          "2021-07-01T00:00:00",
          "2021-08-01T00:00:00",
          "2021-09-01T00:00:00",
          "2021-10-01T00:00:00",
          "2021-11-01T00:00:00",
          "2021-12-01T00:00:00",
          "2022-01-01T00:00:00",
          "2022-02-01T00:00:00",
          "2022-03-01T00:00:00",
          "2022-04-01T00:00:00",
          "2022-05-01T00:00:00",
          "2022-06-01T00:00:00",
          "2022-07-01T00:00:00",
          "2022-08-01T00:00:00",
          "2022-09-01T00:00:00",
          "2022-10-01T00:00:00",
          "2022-11-01T00:00:00",
          "2022-12-01T00:00:00",
          "2023-01-01T00:00:00",
          "2023-02-01T00:00:00"
         ],
         "xaxis": "x",
         "y": [
          756.7329711914062,
          1118.31005859375,
          855.198974609375,
          396.4570007324219,
          669.9240112304688,
          577.64501953125,
          455.17999267578125,
          433.86700439453125,
          283.0039978027344,
          232.84800720214844,
          197.38099670410156,
          113.17141723632812,
          133.36825561523438,
          107.0610122680664,
          136.74624633789062,
          141.51409912109375,
          162.16603088378906,
          268.1135559082031,
          290.69598388671875,
          218.65414428710938,
          172.46978759765625,
          179.87220764160156,
          183.9669189453125,
          152.53968811035156,
          129.61085510253906,
          180.16017150878906,
          219.8485107421875,
          133.59356689453125,
          207.60205078125,
          230.9757080078125,
          226.31500244140625,
          345.5546569824219,
          435.0797424316406,
          359.9378662109375,
          386.59033203125,
          614.842529296875,
          737.8034057617188,
          1314.9862060546875,
          1416.0489501953125,
          1918.362060546875,
          2773.20703125,
          2714.9453125,
          2274.547607421875,
          2536.2099609375,
          3433.732666015625,
          3001.678955078125,
          4288.07421875,
          4631.47900390625,
          3682.6328125,
          2688.27880859375,
          2919.201171875,
          3281.642822265625,
          2730.186767578125,
          1942.3280029296875,
          1067.298828125,
          1681.517333984375,
          1553.6849365234375,
          1327.9786376953125,
          1572.7144775390625,
          1295.6885986328125,
          1196.771240234375,
          1586.535400390625,
          1586.535400390625
         ],
         "yaxis": "y"
        },
        {
         "hovertemplate": "variable=High<br>Year_Month=%{x}<br>value=%{y}<extra></extra>",
         "legendgroup": "High",
         "line": {
          "color": "#00cc96",
          "dash": "solid"
         },
         "marker": {
          "symbol": "circle"
         },
         "mode": "lines",
         "name": "Ethereum High Price",
         "orientation": "v",
         "showlegend": true,
         "type": "scatter",
         "x": [
          "2017-12-01T00:00:00",
          "2018-01-01T00:00:00",
          "2018-02-01T00:00:00",
          "2018-03-01T00:00:00",
          "2018-04-01T00:00:00",
          "2018-05-01T00:00:00",
          "2018-06-01T00:00:00",
          "2018-07-01T00:00:00",
          "2018-08-01T00:00:00",
          "2018-09-01T00:00:00",
          "2018-10-01T00:00:00",
          "2018-11-01T00:00:00",
          "2018-12-01T00:00:00",
          "2019-01-01T00:00:00",
          "2019-02-01T00:00:00",
          "2019-03-01T00:00:00",
          "2019-04-01T00:00:00",
          "2019-05-01T00:00:00",
          "2019-06-01T00:00:00",
          "2019-07-01T00:00:00",
          "2019-08-01T00:00:00",
          "2019-09-01T00:00:00",
          "2019-10-01T00:00:00",
          "2019-11-01T00:00:00",
          "2019-12-01T00:00:00",
          "2020-01-01T00:00:00",
          "2020-02-01T00:00:00",
          "2020-03-01T00:00:00",
          "2020-04-01T00:00:00",
          "2020-05-01T00:00:00",
          "2020-06-01T00:00:00",
          "2020-07-01T00:00:00",
          "2020-08-01T00:00:00",
          "2020-09-01T00:00:00",
          "2020-10-01T00:00:00",
          "2020-11-01T00:00:00",
          "2020-12-01T00:00:00",
          "2021-01-01T00:00:00",
          "2021-02-01T00:00:00",
          "2021-03-01T00:00:00",
          "2021-04-01T00:00:00",
          "2021-05-01T00:00:00",
          "2021-06-01T00:00:00",
          "2021-07-01T00:00:00",
          "2021-08-01T00:00:00",
          "2021-09-01T00:00:00",
          "2021-10-01T00:00:00",
          "2021-11-01T00:00:00",
          "2021-12-01T00:00:00",
          "2022-01-01T00:00:00",
          "2022-02-01T00:00:00",
          "2022-03-01T00:00:00",
          "2022-04-01T00:00:00",
          "2022-05-01T00:00:00",
          "2022-06-01T00:00:00",
          "2022-07-01T00:00:00",
          "2022-08-01T00:00:00",
          "2022-09-01T00:00:00",
          "2022-10-01T00:00:00",
          "2022-11-01T00:00:00",
          "2022-12-01T00:00:00",
          "2023-01-01T00:00:00",
          "2023-02-01T00:00:00"
         ],
         "xaxis": "x",
         "y": [
          881.9439697265625,
          1432.8800048828125,
          1161.3499755859375,
          880.302001953125,
          708.875,
          835.0570068359375,
          624.5130004882812,
          513.4329833984375,
          435.4570007324219,
          301.1440124511719,
          234.14500427246094,
          221.65199279785156,
          157.668701171875,
          160.82489013671875,
          165.54962158203125,
          149.6132354736328,
          184.3778533935547,
          287.2016296386719,
          361.398681640625,
          318.2231140136719,
          239.11590576171875,
          222.87168884277344,
          195.9425048828125,
          193.54725646972656,
          153.1553955078125,
          186.26048278808594,
          287.1236877441406,
          249.97848510742188,
          227.52969360351562,
          244.04525756835938,
          252.2220001220703,
          348.6113586425781,
          444.5777587890625,
          487.2118835449219,
          420.14166259765625,
          621.1734008789062,
          754.30322265625,
          1467.784912109375,
          2036.2864990234375,
          1947.8377685546875,
          2797.972412109375,
          4362.3505859375,
          2891.2548828125,
          2551.1611328125,
          3466.9921875,
          4022.46923828125,
          4455.7353515625,
          4891.70458984375,
          4780.732421875,
          3876.78515625,
          3271.316162109375,
          3470.186279296875,
          3573.960205078125,
          2956.686767578125,
          1965.1666259765625,
          1774.576416015625,
          2022.79150390625,
          1784.497802734375,
          1652.3822021484375,
          1661.334716796875,
          1346.1744384765625,
          1674.1793212890625,
          1598.517578125
         ],
         "yaxis": "y"
        },
        {
         "hovertemplate": "variable=Low<br>Year_Month=%{x}<br>value=%{y}<extra></extra>",
         "legendgroup": "Low",
         "line": {
          "color": "#ab63fa",
          "dash": "solid"
         },
         "marker": {
          "symbol": "circle"
         },
         "mode": "lines",
         "name": "Ethereum Low Price",
         "orientation": "v",
         "showlegend": true,
         "type": "scatter",
         "x": [
          "2017-12-01T00:00:00",
          "2018-01-01T00:00:00",
          "2018-02-01T00:00:00",
          "2018-03-01T00:00:00",
          "2018-04-01T00:00:00",
          "2018-05-01T00:00:00",
          "2018-06-01T00:00:00",
          "2018-07-01T00:00:00",
          "2018-08-01T00:00:00",
          "2018-09-01T00:00:00",
          "2018-10-01T00:00:00",
          "2018-11-01T00:00:00",
          "2018-12-01T00:00:00",
          "2019-01-01T00:00:00",
          "2019-02-01T00:00:00",
          "2019-03-01T00:00:00",
          "2019-04-01T00:00:00",
          "2019-05-01T00:00:00",
          "2019-06-01T00:00:00",
          "2019-07-01T00:00:00",
          "2019-08-01T00:00:00",
          "2019-09-01T00:00:00",
          "2019-10-01T00:00:00",
          "2019-11-01T00:00:00",
          "2019-12-01T00:00:00",
          "2020-01-01T00:00:00",
          "2020-02-01T00:00:00",
          "2020-03-01T00:00:00",
          "2020-04-01T00:00:00",
          "2020-05-01T00:00:00",
          "2020-06-01T00:00:00",
          "2020-07-01T00:00:00",
          "2020-08-01T00:00:00",
          "2020-09-01T00:00:00",
          "2020-10-01T00:00:00",
          "2020-11-01T00:00:00",
          "2020-12-01T00:00:00",
          "2021-01-01T00:00:00",
          "2021-02-01T00:00:00",
          "2021-03-01T00:00:00",
          "2021-04-01T00:00:00",
          "2021-05-01T00:00:00",
          "2021-06-01T00:00:00",
          "2021-07-01T00:00:00",
          "2021-08-01T00:00:00",
          "2021-09-01T00:00:00",
          "2021-10-01T00:00:00",
          "2021-11-01T00:00:00",
          "2021-12-01T00:00:00",
          "2022-01-01T00:00:00",
          "2022-02-01T00:00:00",
          "2022-03-01T00:00:00",
          "2022-04-01T00:00:00",
          "2022-05-01T00:00:00",
          "2022-06-01T00:00:00",
          "2022-07-01T00:00:00",
          "2022-08-01T00:00:00",
          "2022-09-01T00:00:00",
          "2022-10-01T00:00:00",
          "2022-11-01T00:00:00",
          "2022-12-01T00:00:00",
          "2023-01-01T00:00:00",
          "2023-02-01T00:00:00"
         ],
         "xaxis": "x",
         "y": [
          414.4110107421875,
          742.0040283203125,
          574.4190063476562,
          368.63299560546875,
          363.80499267578125,
          512.552001953125,
          407.9469909667969,
          422.80999755859375,
          254.64999389648438,
          170.2570037841797,
          188.70700073242188,
          101.7699966430664,
          82.82988739013672,
          103.33646392822266,
          102.93456268310547,
          125.40270233154297,
          140.73756408691406,
          159.66021728515625,
          229.25743103027344,
          193.99041748046875,
          167.0714111328125,
          157.1303253173828,
          157.4634246826172,
          133.80233764648438,
          119.78005981445312,
          126.49002075195312,
          179.74517822265625,
          95.1843032836914,
          129.73094177246094,
          180.7183380126953,
          219.47267150878906,
          224.54449462890625,
          343.5874328613281,
          316.77435302734375,
          334.5455627441406,
          371.312744140625,
          532.9984130859375,
          718.1094970703125,
          1274.3577880859375,
          1416.4161376953125,
          1912.178466796875,
          1737.46875,
          1707.6005859375,
          1722.05078125,
          2449.353515625,
          2676.407470703125,
          2978.654296875,
          3933.506591796875,
          3525.494140625,
          2172.30126953125,
          2308.914794921875,
          2455.59375,
          2727.40625,
          1721.2647705078125,
          896.1090087890625,
          1019.2203369140625,
          1427.7283935546875,
          1229.4267578125,
          1209.2781982421875,
          1081.13818359375,
          1160.377197265625,
          1192.8853759765625,
          1563.8043212890625
         ],
         "yaxis": "y"
        }
       ],
       "layout": {
        "font": {
         "color": "black",
         "size": 15
        },
        "legend": {
         "title": {
          "text": "Stock Parameters"
         },
         "tracegroupgap": 0
        },
        "margin": {
         "t": 60
        },
        "template": {
         "data": {
          "bar": [
           {
            "error_x": {
             "color": "#2a3f5f"
            },
            "error_y": {
             "color": "#2a3f5f"
            },
            "marker": {
             "line": {
              "color": "#E5ECF6",
              "width": 0.5
             },
             "pattern": {
              "fillmode": "overlay",
              "size": 10,
              "solidity": 0.2
             }
            },
            "type": "bar"
           }
          ],
          "barpolar": [
           {
            "marker": {
             "line": {
              "color": "#E5ECF6",
              "width": 0.5
             },
             "pattern": {
              "fillmode": "overlay",
              "size": 10,
              "solidity": 0.2
             }
            },
            "type": "barpolar"
           }
          ],
          "carpet": [
           {
            "aaxis": {
             "endlinecolor": "#2a3f5f",
             "gridcolor": "white",
             "linecolor": "white",
             "minorgridcolor": "white",
             "startlinecolor": "#2a3f5f"
            },
            "baxis": {
             "endlinecolor": "#2a3f5f",
             "gridcolor": "white",
             "linecolor": "white",
             "minorgridcolor": "white",
             "startlinecolor": "#2a3f5f"
            },
            "type": "carpet"
           }
          ],
          "choropleth": [
           {
            "colorbar": {
             "outlinewidth": 0,
             "ticks": ""
            },
            "type": "choropleth"
           }
          ],
          "contour": [
           {
            "colorbar": {
             "outlinewidth": 0,
             "ticks": ""
            },
            "colorscale": [
             [
              0,
              "#0d0887"
             ],
             [
              0.1111111111111111,
              "#46039f"
             ],
             [
              0.2222222222222222,
              "#7201a8"
             ],
             [
              0.3333333333333333,
              "#9c179e"
             ],
             [
              0.4444444444444444,
              "#bd3786"
             ],
             [
              0.5555555555555556,
              "#d8576b"
             ],
             [
              0.6666666666666666,
              "#ed7953"
             ],
             [
              0.7777777777777778,
              "#fb9f3a"
             ],
             [
              0.8888888888888888,
              "#fdca26"
             ],
             [
              1,
              "#f0f921"
             ]
            ],
            "type": "contour"
           }
          ],
          "contourcarpet": [
           {
            "colorbar": {
             "outlinewidth": 0,
             "ticks": ""
            },
            "type": "contourcarpet"
           }
          ],
          "heatmap": [
           {
            "colorbar": {
             "outlinewidth": 0,
             "ticks": ""
            },
            "colorscale": [
             [
              0,
              "#0d0887"
             ],
             [
              0.1111111111111111,
              "#46039f"
             ],
             [
              0.2222222222222222,
              "#7201a8"
             ],
             [
              0.3333333333333333,
              "#9c179e"
             ],
             [
              0.4444444444444444,
              "#bd3786"
             ],
             [
              0.5555555555555556,
              "#d8576b"
             ],
             [
              0.6666666666666666,
              "#ed7953"
             ],
             [
              0.7777777777777778,
              "#fb9f3a"
             ],
             [
              0.8888888888888888,
              "#fdca26"
             ],
             [
              1,
              "#f0f921"
             ]
            ],
            "type": "heatmap"
           }
          ],
          "heatmapgl": [
           {
            "colorbar": {
             "outlinewidth": 0,
             "ticks": ""
            },
            "colorscale": [
             [
              0,
              "#0d0887"
             ],
             [
              0.1111111111111111,
              "#46039f"
             ],
             [
              0.2222222222222222,
              "#7201a8"
             ],
             [
              0.3333333333333333,
              "#9c179e"
             ],
             [
              0.4444444444444444,
              "#bd3786"
             ],
             [
              0.5555555555555556,
              "#d8576b"
             ],
             [
              0.6666666666666666,
              "#ed7953"
             ],
             [
              0.7777777777777778,
              "#fb9f3a"
             ],
             [
              0.8888888888888888,
              "#fdca26"
             ],
             [
              1,
              "#f0f921"
             ]
            ],
            "type": "heatmapgl"
           }
          ],
          "histogram": [
           {
            "marker": {
             "pattern": {
              "fillmode": "overlay",
              "size": 10,
              "solidity": 0.2
             }
            },
            "type": "histogram"
           }
          ],
          "histogram2d": [
           {
            "colorbar": {
             "outlinewidth": 0,
             "ticks": ""
            },
            "colorscale": [
             [
              0,
              "#0d0887"
             ],
             [
              0.1111111111111111,
              "#46039f"
             ],
             [
              0.2222222222222222,
              "#7201a8"
             ],
             [
              0.3333333333333333,
              "#9c179e"
             ],
             [
              0.4444444444444444,
              "#bd3786"
             ],
             [
              0.5555555555555556,
              "#d8576b"
             ],
             [
              0.6666666666666666,
              "#ed7953"
             ],
             [
              0.7777777777777778,
              "#fb9f3a"
             ],
             [
              0.8888888888888888,
              "#fdca26"
             ],
             [
              1,
              "#f0f921"
             ]
            ],
            "type": "histogram2d"
           }
          ],
          "histogram2dcontour": [
           {
            "colorbar": {
             "outlinewidth": 0,
             "ticks": ""
            },
            "colorscale": [
             [
              0,
              "#0d0887"
             ],
             [
              0.1111111111111111,
              "#46039f"
             ],
             [
              0.2222222222222222,
              "#7201a8"
             ],
             [
              0.3333333333333333,
              "#9c179e"
             ],
             [
              0.4444444444444444,
              "#bd3786"
             ],
             [
              0.5555555555555556,
              "#d8576b"
             ],
             [
              0.6666666666666666,
              "#ed7953"
             ],
             [
              0.7777777777777778,
              "#fb9f3a"
             ],
             [
              0.8888888888888888,
              "#fdca26"
             ],
             [
              1,
              "#f0f921"
             ]
            ],
            "type": "histogram2dcontour"
           }
          ],
          "mesh3d": [
           {
            "colorbar": {
             "outlinewidth": 0,
             "ticks": ""
            },
            "type": "mesh3d"
           }
          ],
          "parcoords": [
           {
            "line": {
             "colorbar": {
              "outlinewidth": 0,
              "ticks": ""
             }
            },
            "type": "parcoords"
           }
          ],
          "pie": [
           {
            "automargin": true,
            "type": "pie"
           }
          ],
          "scatter": [
           {
            "fillpattern": {
             "fillmode": "overlay",
             "size": 10,
             "solidity": 0.2
            },
            "type": "scatter"
           }
          ],
          "scatter3d": [
           {
            "line": {
             "colorbar": {
              "outlinewidth": 0,
              "ticks": ""
             }
            },
            "marker": {
             "colorbar": {
              "outlinewidth": 0,
              "ticks": ""
             }
            },
            "type": "scatter3d"
           }
          ],
          "scattercarpet": [
           {
            "marker": {
             "colorbar": {
              "outlinewidth": 0,
              "ticks": ""
             }
            },
            "type": "scattercarpet"
           }
          ],
          "scattergeo": [
           {
            "marker": {
             "colorbar": {
              "outlinewidth": 0,
              "ticks": ""
             }
            },
            "type": "scattergeo"
           }
          ],
          "scattergl": [
           {
            "marker": {
             "colorbar": {
              "outlinewidth": 0,
              "ticks": ""
             }
            },
            "type": "scattergl"
           }
          ],
          "scattermapbox": [
           {
            "marker": {
             "colorbar": {
              "outlinewidth": 0,
              "ticks": ""
             }
            },
            "type": "scattermapbox"
           }
          ],
          "scatterpolar": [
           {
            "marker": {
             "colorbar": {
              "outlinewidth": 0,
              "ticks": ""
             }
            },
            "type": "scatterpolar"
           }
          ],
          "scatterpolargl": [
           {
            "marker": {
             "colorbar": {
              "outlinewidth": 0,
              "ticks": ""
             }
            },
            "type": "scatterpolargl"
           }
          ],
          "scatterternary": [
           {
            "marker": {
             "colorbar": {
              "outlinewidth": 0,
              "ticks": ""
             }
            },
            "type": "scatterternary"
           }
          ],
          "surface": [
           {
            "colorbar": {
             "outlinewidth": 0,
             "ticks": ""
            },
            "colorscale": [
             [
              0,
              "#0d0887"
             ],
             [
              0.1111111111111111,
              "#46039f"
             ],
             [
              0.2222222222222222,
              "#7201a8"
             ],
             [
              0.3333333333333333,
              "#9c179e"
             ],
             [
              0.4444444444444444,
              "#bd3786"
             ],
             [
              0.5555555555555556,
              "#d8576b"
             ],
             [
              0.6666666666666666,
              "#ed7953"
             ],
             [
              0.7777777777777778,
              "#fb9f3a"
             ],
             [
              0.8888888888888888,
              "#fdca26"
             ],
             [
              1,
              "#f0f921"
             ]
            ],
            "type": "surface"
           }
          ],
          "table": [
           {
            "cells": {
             "fill": {
              "color": "#EBF0F8"
             },
             "line": {
              "color": "white"
             }
            },
            "header": {
             "fill": {
              "color": "#C8D4E3"
             },
             "line": {
              "color": "white"
             }
            },
            "type": "table"
           }
          ]
         },
         "layout": {
          "annotationdefaults": {
           "arrowcolor": "#2a3f5f",
           "arrowhead": 0,
           "arrowwidth": 1
          },
          "autotypenumbers": "strict",
          "coloraxis": {
           "colorbar": {
            "outlinewidth": 0,
            "ticks": ""
           }
          },
          "colorscale": {
           "diverging": [
            [
             0,
             "#8e0152"
            ],
            [
             0.1,
             "#c51b7d"
            ],
            [
             0.2,
             "#de77ae"
            ],
            [
             0.3,
             "#f1b6da"
            ],
            [
             0.4,
             "#fde0ef"
            ],
            [
             0.5,
             "#f7f7f7"
            ],
            [
             0.6,
             "#e6f5d0"
            ],
            [
             0.7,
             "#b8e186"
            ],
            [
             0.8,
             "#7fbc41"
            ],
            [
             0.9,
             "#4d9221"
            ],
            [
             1,
             "#276419"
            ]
           ],
           "sequential": [
            [
             0,
             "#0d0887"
            ],
            [
             0.1111111111111111,
             "#46039f"
            ],
            [
             0.2222222222222222,
             "#7201a8"
            ],
            [
             0.3333333333333333,
             "#9c179e"
            ],
            [
             0.4444444444444444,
             "#bd3786"
            ],
            [
             0.5555555555555556,
             "#d8576b"
            ],
            [
             0.6666666666666666,
             "#ed7953"
            ],
            [
             0.7777777777777778,
             "#fb9f3a"
            ],
            [
             0.8888888888888888,
             "#fdca26"
            ],
            [
             1,
             "#f0f921"
            ]
           ],
           "sequentialminus": [
            [
             0,
             "#0d0887"
            ],
            [
             0.1111111111111111,
             "#46039f"
            ],
            [
             0.2222222222222222,
             "#7201a8"
            ],
            [
             0.3333333333333333,
             "#9c179e"
            ],
            [
             0.4444444444444444,
             "#bd3786"
            ],
            [
             0.5555555555555556,
             "#d8576b"
            ],
            [
             0.6666666666666666,
             "#ed7953"
            ],
            [
             0.7777777777777778,
             "#fb9f3a"
            ],
            [
             0.8888888888888888,
             "#fdca26"
            ],
            [
             1,
             "#f0f921"
            ]
           ]
          },
          "colorway": [
           "#636efa",
           "#EF553B",
           "#00cc96",
           "#ab63fa",
           "#FFA15A",
           "#19d3f3",
           "#FF6692",
           "#B6E880",
           "#FF97FF",
           "#FECB52"
          ],
          "font": {
           "color": "#2a3f5f"
          },
          "geo": {
           "bgcolor": "white",
           "lakecolor": "white",
           "landcolor": "#E5ECF6",
           "showlakes": true,
           "showland": true,
           "subunitcolor": "white"
          },
          "hoverlabel": {
           "align": "left"
          },
          "hovermode": "closest",
          "mapbox": {
           "style": "light"
          },
          "paper_bgcolor": "white",
          "plot_bgcolor": "#E5ECF6",
          "polar": {
           "angularaxis": {
            "gridcolor": "white",
            "linecolor": "white",
            "ticks": ""
           },
           "bgcolor": "#E5ECF6",
           "radialaxis": {
            "gridcolor": "white",
            "linecolor": "white",
            "ticks": ""
           }
          },
          "scene": {
           "xaxis": {
            "backgroundcolor": "#E5ECF6",
            "gridcolor": "white",
            "gridwidth": 2,
            "linecolor": "white",
            "showbackground": true,
            "ticks": "",
            "zerolinecolor": "white"
           },
           "yaxis": {
            "backgroundcolor": "#E5ECF6",
            "gridcolor": "white",
            "gridwidth": 2,
            "linecolor": "white",
            "showbackground": true,
            "ticks": "",
            "zerolinecolor": "white"
           },
           "zaxis": {
            "backgroundcolor": "#E5ECF6",
            "gridcolor": "white",
            "gridwidth": 2,
            "linecolor": "white",
            "showbackground": true,
            "ticks": "",
            "zerolinecolor": "white"
           }
          },
          "shapedefaults": {
           "line": {
            "color": "#2a3f5f"
           }
          },
          "ternary": {
           "aaxis": {
            "gridcolor": "white",
            "linecolor": "white",
            "ticks": ""
           },
           "baxis": {
            "gridcolor": "white",
            "linecolor": "white",
            "ticks": ""
           },
           "bgcolor": "#E5ECF6",
           "caxis": {
            "gridcolor": "white",
            "linecolor": "white",
            "ticks": ""
           }
          },
          "title": {
           "x": 0.05
          },
          "xaxis": {
           "automargin": true,
           "gridcolor": "white",
           "linecolor": "white",
           "ticks": "",
           "title": {
            "standoff": 15
           },
           "zerolinecolor": "white",
           "zerolinewidth": 2
          },
          "yaxis": {
           "automargin": true,
           "gridcolor": "white",
           "linecolor": "white",
           "ticks": "",
           "title": {
            "standoff": 15
           },
           "zerolinecolor": "white",
           "zerolinewidth": 2
          }
         }
        },
        "title": {
         "text": "Ethereum analysis chart"
        },
        "xaxis": {
         "anchor": "y",
         "domain": [
          0,
          1
         ],
         "showgrid": false,
         "title": {
          "text": "Year_Month"
         }
        },
        "yaxis": {
         "anchor": "x",
         "domain": [
          0,
          1
         ],
         "showgrid": false,
         "title": {
          "text": "value"
         }
        }
       }
      }
     },
     "metadata": {},
     "output_type": "display_data"
    }
   ],
   "source": [
    "names = cycle(['Ethereum Open Price','Ethereum Close Price','Ethereum High Price','Ethereum Low Price'])\n",
    "\n",
    "fig = px.line(y_overall, x=y_overall['Year_Month'], y=[y_overall['Open'], y_overall['Close'], \n",
    "                                          y_overall['High'], y_overall['Low']],\n",
    "             labels={'Year_Month':'Year_Month','Close':'Ethereum close value'})\n",
    "fig.update_layout(title_text='Ethereum analysis chart', font_size=15, font_color='black',legend_title_text='Stock Parameters')\n",
    "fig.for_each_trace(lambda t:  t.update(name = next(names)))\n",
    "fig.update_xaxes(showgrid=False)\n",
    "fig.update_yaxes(showgrid=False)\n",
    "\n",
    "fig.show()"
   ]
  },
  {
   "cell_type": "code",
   "execution_count": 53,
   "metadata": {},
   "outputs": [
    {
     "name": "stdout",
     "output_type": "stream",
     "text": [
      "Shae of close dataframe: (64, 2)\n"
     ]
    }
   ],
   "source": [
    "# Create a new table which only has the data and the close ethereum price\n",
    "closedf = monthly_df_copy[['Year_Month','Close']]\n",
    "print('Shae of close dataframe:', closedf.shape)"
   ]
  },
  {
   "cell_type": "code",
   "execution_count": 54,
   "metadata": {},
   "outputs": [
    {
     "data": {
      "text/html": [
       "<div>\n",
       "<style scoped>\n",
       "    .dataframe tbody tr th:only-of-type {\n",
       "        vertical-align: middle;\n",
       "    }\n",
       "\n",
       "    .dataframe tbody tr th {\n",
       "        vertical-align: top;\n",
       "    }\n",
       "\n",
       "    .dataframe thead th {\n",
       "        text-align: right;\n",
       "    }\n",
       "</style>\n",
       "<table border=\"1\" class=\"dataframe\">\n",
       "  <thead>\n",
       "    <tr style=\"text-align: right;\">\n",
       "      <th></th>\n",
       "      <th>Year_Month</th>\n",
       "      <th>Close</th>\n",
       "    </tr>\n",
       "  </thead>\n",
       "  <tbody>\n",
       "    <tr>\n",
       "      <th>0</th>\n",
       "      <td>2017-11-01</td>\n",
       "      <td>447.114</td>\n",
       "    </tr>\n",
       "    <tr>\n",
       "      <th>1</th>\n",
       "      <td>2017-12-01</td>\n",
       "      <td>756.733</td>\n",
       "    </tr>\n",
       "    <tr>\n",
       "      <th>2</th>\n",
       "      <td>2018-01-01</td>\n",
       "      <td>1118.310</td>\n",
       "    </tr>\n",
       "    <tr>\n",
       "      <th>3</th>\n",
       "      <td>2018-02-01</td>\n",
       "      <td>855.199</td>\n",
       "    </tr>\n",
       "    <tr>\n",
       "      <th>4</th>\n",
       "      <td>2018-03-01</td>\n",
       "      <td>396.457</td>\n",
       "    </tr>\n",
       "    <tr>\n",
       "      <th>...</th>\n",
       "      <td>...</td>\n",
       "      <td>...</td>\n",
       "    </tr>\n",
       "    <tr>\n",
       "      <th>59</th>\n",
       "      <td>2022-10-01</td>\n",
       "      <td>1572.714</td>\n",
       "    </tr>\n",
       "    <tr>\n",
       "      <th>60</th>\n",
       "      <td>2022-11-01</td>\n",
       "      <td>1295.689</td>\n",
       "    </tr>\n",
       "    <tr>\n",
       "      <th>61</th>\n",
       "      <td>2022-12-01</td>\n",
       "      <td>1196.771</td>\n",
       "    </tr>\n",
       "    <tr>\n",
       "      <th>62</th>\n",
       "      <td>2023-01-01</td>\n",
       "      <td>1586.535</td>\n",
       "    </tr>\n",
       "    <tr>\n",
       "      <th>63</th>\n",
       "      <td>2023-02-01</td>\n",
       "      <td>1586.535</td>\n",
       "    </tr>\n",
       "  </tbody>\n",
       "</table>\n",
       "<p>64 rows × 2 columns</p>\n",
       "</div>"
      ],
      "text/plain": [
       "   Year_Month    Close\n",
       "0  2017-11-01  447.114\n",
       "1  2017-12-01  756.733\n",
       "2  2018-01-01 1118.310\n",
       "3  2018-02-01  855.199\n",
       "4  2018-03-01  396.457\n",
       "..        ...      ...\n",
       "59 2022-10-01 1572.714\n",
       "60 2022-11-01 1295.689\n",
       "61 2022-12-01 1196.771\n",
       "62 2023-01-01 1586.535\n",
       "63 2023-02-01 1586.535\n",
       "\n",
       "[64 rows x 2 columns]"
      ]
     },
     "execution_count": 54,
     "metadata": {},
     "output_type": "execute_result"
    }
   ],
   "source": [
    "closedf"
   ]
  },
  {
   "attachments": {},
   "cell_type": "markdown",
   "metadata": {},
   "source": [
    "Normalizing the data"
   ]
  },
  {
   "cell_type": "code",
   "execution_count": 55,
   "metadata": {},
   "outputs": [
    {
     "name": "stdout",
     "output_type": "stream",
     "text": [
      "(64, 1)\n"
     ]
    }
   ],
   "source": [
    "# deleting date column and normalizing using MinMax Scaler\n",
    "\n",
    "del closedf['Year_Month']\n",
    "scaler=MinMaxScaler(feature_range=(0,1))\n",
    "closedf=scaler.fit_transform(np.array(closedf).reshape(-1,1))\n",
    "print(closedf.shape)"
   ]
  },
  {
   "cell_type": "code",
   "execution_count": 56,
   "metadata": {},
   "outputs": [
    {
     "name": "stdout",
     "output_type": "stream",
     "text": [
      "train_data:  (38, 1)\n",
      "test_data:  (26, 1)\n"
     ]
    }
   ],
   "source": [
    "# we keep the training set as 60% and 40% testing set\n",
    "\n",
    "training_size=int(len(closedf)*0.60)\n",
    "test_size=len(closedf)-training_size\n",
    "train_data,test_data=closedf[0:training_size,:],closedf[training_size:len(closedf),:1]\n",
    "print(\"train_data: \", train_data.shape)\n",
    "print(\"test_data: \", test_data.shape)"
   ]
  },
  {
   "cell_type": "code",
   "execution_count": 57,
   "metadata": {},
   "outputs": [],
   "source": [
    "# convert an array of values into a dataset matrix\n",
    "\n",
    "def create_dataset(dataset, time_step=1):\n",
    "    dataX, dataY = [], []\n",
    "    for i in range(len(dataset)-time_step-1):\n",
    "        a = dataset[i:(i+time_step), 0]   ###i=0, 0,1,2,3-----99   100 \n",
    "        dataX.append(a)\n",
    "        dataY.append(dataset[i + time_step, 0])\n",
    "    return np.array(dataX), np.array(dataY)"
   ]
  },
  {
   "cell_type": "code",
   "execution_count": 58,
   "metadata": {},
   "outputs": [
    {
     "name": "stdout",
     "output_type": "stream",
     "text": [
      "X_train:  (22, 15)\n",
      "y_train:  (22,)\n",
      "X_test:  (10, 15)\n",
      "y_test (10,)\n"
     ]
    }
   ],
   "source": [
    "time_step = 15\n",
    "X_train, y_train = create_dataset(train_data, time_step)\n",
    "X_test, y_test = create_dataset(test_data, time_step)\n",
    "\n",
    "print(\"X_train: \", X_train.shape)\n",
    "print(\"y_train: \", y_train.shape)\n",
    "print(\"X_test: \", X_test.shape)\n",
    "print(\"y_test\", y_test.shape)"
   ]
  },
  {
   "cell_type": "code",
   "execution_count": 59,
   "metadata": {},
   "outputs": [
    {
     "name": "stdout",
     "output_type": "stream",
     "text": [
      "X_train:  (22, 15, 1)\n",
      "X_test:  (10, 15, 1)\n"
     ]
    }
   ],
   "source": [
    "# reshape input to be [samples, time steps, features] which is required for LSTM\n",
    "X_train =X_train.reshape(X_train.shape[0],X_train.shape[1] , 1)\n",
    "X_test = X_test.reshape(X_test.shape[0],X_test.shape[1] , 1)\n",
    "\n",
    "print(\"X_train: \", X_train.shape)\n",
    "print(\"X_test: \", X_test.shape)"
   ]
  },
  {
   "cell_type": "code",
   "execution_count": 60,
   "metadata": {},
   "outputs": [],
   "source": [
    "from tensorflow.keras.layers import Dropout\n",
    "#Initialising the LSTM\n",
    "model_simple_lSTM = Sequential()\n",
    "\n",
    "# Adding the first LSTM layer and some Dropout regularisation\n",
    "model_simple_lSTM.add(LSTM(units = 6, activation='sigmoid', input_shape = (X_train.shape[1], X_train.shape[2])))\n",
    "model_simple_lSTM.add(Dropout(0.7))\n",
    "\n",
    "#Adding the output layer\n",
    "model_simple_lSTM.add(Dense(units = 1))\n",
    "\n",
    "# Compiling the RNN\n",
    "model_simple_lSTM.compile(optimizer = 'Adam', metrics=[\"mae\"], loss = 'mean_squared_error')"
   ]
  },
  {
   "cell_type": "code",
   "execution_count": 61,
   "metadata": {},
   "outputs": [
    {
     "name": "stdout",
     "output_type": "stream",
     "text": [
      "You must install pydot (`pip install pydot`) and install graphviz (see instructions at https://graphviz.gitlab.io/download/) for plot_model to work.\n"
     ]
    }
   ],
   "source": [
    "tf.keras.utils.plot_model(\n",
    "    model_simple_lSTM,\n",
    "    to_file=\"model.png\",\n",
    "    show_shapes=True,\n",
    "    show_dtype=False,\n",
    "    show_layer_names=True,\n",
    "    rankdir=\"TB\",\n",
    "    expand_nested=False,\n",
    "    dpi=96,\n",
    "    layer_range=None,\n",
    "    show_layer_activations=False,\n",
    ")"
   ]
  },
  {
   "cell_type": "code",
   "execution_count": 62,
   "metadata": {},
   "outputs": [],
   "source": [
    "from tensorflow.keras.callbacks import EarlyStopping, ModelCheckpoint\n",
    "\n",
    "\n",
    "#early_stop and ModelCheckpoint\n",
    "# the model stops learning when \n",
    "callbacks  = [keras.callbacks.EarlyStopping(monitor = 'val_loss', patience = 30, mode='min', min_delta=0),\n",
    "              keras.callbacks.ModelCheckpoint(\"model_simple_lSTM.keras\", monitor='val_loss', save_best_only=True, mode='min')]"
   ]
  },
  {
   "cell_type": "code",
   "execution_count": 63,
   "metadata": {},
   "outputs": [
    {
     "name": "stdout",
     "output_type": "stream",
     "text": [
      "Epoch 1/300\n",
      "1/1 [==============================] - 1s 1s/step - loss: 0.1979 - mae: 0.3514 - val_loss: 0.0910 - val_mae: 0.2792\n",
      "Epoch 2/300\n",
      "1/1 [==============================] - 0s 25ms/step - loss: 0.2905 - mae: 0.4378 - val_loss: 0.0922 - val_mae: 0.2814\n",
      "Epoch 3/300\n",
      "1/1 [==============================] - 0s 25ms/step - loss: 0.2178 - mae: 0.4050 - val_loss: 0.0930 - val_mae: 0.2828\n",
      "Epoch 4/300\n",
      "1/1 [==============================] - 0s 24ms/step - loss: 0.3909 - mae: 0.4909 - val_loss: 0.0939 - val_mae: 0.2845\n",
      "Epoch 5/300\n",
      "1/1 [==============================] - 0s 24ms/step - loss: 0.1320 - mae: 0.3152 - val_loss: 0.0945 - val_mae: 0.2855\n",
      "Epoch 6/300\n",
      "1/1 [==============================] - 0s 27ms/step - loss: 0.2253 - mae: 0.3964 - val_loss: 0.0953 - val_mae: 0.2869\n",
      "Epoch 7/300\n",
      "1/1 [==============================] - 0s 27ms/step - loss: 0.3667 - mae: 0.5066 - val_loss: 0.0956 - val_mae: 0.2875\n",
      "Epoch 8/300\n",
      "1/1 [==============================] - 0s 30ms/step - loss: 0.2657 - mae: 0.3920 - val_loss: 0.0960 - val_mae: 0.2882\n",
      "Epoch 9/300\n",
      "1/1 [==============================] - 0s 26ms/step - loss: 0.1730 - mae: 0.3680 - val_loss: 0.0963 - val_mae: 0.2887\n",
      "Epoch 10/300\n",
      "1/1 [==============================] - 0s 24ms/step - loss: 0.2552 - mae: 0.3946 - val_loss: 0.0968 - val_mae: 0.2895\n",
      "Epoch 11/300\n",
      "1/1 [==============================] - 0s 24ms/step - loss: 0.3162 - mae: 0.4296 - val_loss: 0.0976 - val_mae: 0.2909\n",
      "Epoch 12/300\n",
      "1/1 [==============================] - 0s 24ms/step - loss: 0.2445 - mae: 0.4260 - val_loss: 0.0980 - val_mae: 0.2917\n",
      "Epoch 13/300\n",
      "1/1 [==============================] - 0s 24ms/step - loss: 0.2835 - mae: 0.4473 - val_loss: 0.0985 - val_mae: 0.2926\n",
      "Epoch 14/300\n",
      "1/1 [==============================] - 0s 24ms/step - loss: 0.2656 - mae: 0.4238 - val_loss: 0.0992 - val_mae: 0.2938\n",
      "Epoch 15/300\n",
      "1/1 [==============================] - 0s 25ms/step - loss: 0.2222 - mae: 0.3774 - val_loss: 0.0998 - val_mae: 0.2948\n",
      "Epoch 16/300\n",
      "1/1 [==============================] - 0s 25ms/step - loss: 0.1888 - mae: 0.3266 - val_loss: 0.1004 - val_mae: 0.2958\n",
      "Epoch 17/300\n",
      "1/1 [==============================] - 0s 26ms/step - loss: 0.2126 - mae: 0.3520 - val_loss: 0.1008 - val_mae: 0.2965\n",
      "Epoch 18/300\n",
      "1/1 [==============================] - 0s 28ms/step - loss: 0.1680 - mae: 0.3189 - val_loss: 0.1011 - val_mae: 0.2970\n",
      "Epoch 19/300\n",
      "1/1 [==============================] - 0s 28ms/step - loss: 0.3099 - mae: 0.4250 - val_loss: 0.1016 - val_mae: 0.2978\n",
      "Epoch 20/300\n",
      "1/1 [==============================] - 0s 24ms/step - loss: 0.1693 - mae: 0.3107 - val_loss: 0.1020 - val_mae: 0.2986\n",
      "Epoch 21/300\n",
      "1/1 [==============================] - 0s 26ms/step - loss: 0.3051 - mae: 0.4380 - val_loss: 0.1025 - val_mae: 0.2993\n",
      "Epoch 22/300\n",
      "1/1 [==============================] - 0s 25ms/step - loss: 0.2653 - mae: 0.4052 - val_loss: 0.1030 - val_mae: 0.3003\n",
      "Epoch 23/300\n",
      "1/1 [==============================] - 0s 25ms/step - loss: 0.1510 - mae: 0.3154 - val_loss: 0.1036 - val_mae: 0.3013\n",
      "Epoch 24/300\n",
      "1/1 [==============================] - 0s 26ms/step - loss: 0.2088 - mae: 0.3670 - val_loss: 0.1042 - val_mae: 0.3022\n",
      "Epoch 25/300\n",
      "1/1 [==============================] - 0s 24ms/step - loss: 0.2187 - mae: 0.3479 - val_loss: 0.1047 - val_mae: 0.3031\n",
      "Epoch 26/300\n",
      "1/1 [==============================] - 0s 24ms/step - loss: 0.2756 - mae: 0.4282 - val_loss: 0.1052 - val_mae: 0.3039\n",
      "Epoch 27/300\n",
      "1/1 [==============================] - 0s 26ms/step - loss: 0.1930 - mae: 0.3228 - val_loss: 0.1056 - val_mae: 0.3047\n",
      "Epoch 28/300\n",
      "1/1 [==============================] - 0s 26ms/step - loss: 0.1567 - mae: 0.3036 - val_loss: 0.1061 - val_mae: 0.3054\n",
      "Epoch 29/300\n",
      "1/1 [==============================] - 0s 26ms/step - loss: 0.2840 - mae: 0.4328 - val_loss: 0.1068 - val_mae: 0.3066\n",
      "Epoch 30/300\n",
      "1/1 [==============================] - 0s 24ms/step - loss: 0.2785 - mae: 0.3856 - val_loss: 0.1077 - val_mae: 0.3081\n",
      "Epoch 31/300\n",
      "1/1 [==============================] - 0s 25ms/step - loss: 0.1590 - mae: 0.3067 - val_loss: 0.1085 - val_mae: 0.3094\n"
     ]
    }
   ],
   "source": [
    "history_simple_lSTM = model_simple_lSTM.fit(X_train, y_train, epochs=300, validation_data=(X_test, y_test), batch_size=32, \n",
    "                             callbacks = [callbacks])"
   ]
  },
  {
   "cell_type": "code",
   "execution_count": 64,
   "metadata": {},
   "outputs": [
    {
     "data": {
      "image/png": "[encoded data removed]",
      "text/plain": [
       "<Figure size 640x480 with 1 Axes>"
      ]
     },
     "metadata": {},
     "output_type": "display_data"
    },
    {
     "data": {
      "text/plain": [
       "<Figure size 640x480 with 0 Axes>"
      ]
     },
     "metadata": {},
     "output_type": "display_data"
    }
   ],
   "source": [
    "import matplotlib.pyplot as plt\n",
    "\n",
    "loss = history_simple_lSTM.history['loss']\n",
    "val_loss = history_simple_lSTM.history['val_loss']\n",
    "\n",
    "epochs = range(len(loss))\n",
    "\n",
    "plt.plot(epochs, loss, 'r', label='Training loss')\n",
    "plt.plot(epochs, val_loss, 'b', label='Validation loss')\n",
    "plt.title('Training and validation loss')\n",
    "plt.legend(loc=0)\n",
    "plt.figure()\n",
    "\n",
    "\n",
    "plt.show()"
   ]
  },
  {
   "cell_type": "code",
   "execution_count": 65,
   "metadata": {},
   "outputs": [
    {
     "name": "stdout",
     "output_type": "stream",
     "text": [
      "1/1 [==============================] - 0s 126ms/step\n",
      "1/1 [==============================] - 0s 15ms/step\n"
     ]
    },
    {
     "data": {
      "text/plain": [
       "((22, 1), (10, 1))"
      ]
     },
     "execution_count": 65,
     "metadata": {},
     "output_type": "execute_result"
    }
   ],
   "source": [
    "### Lets Do the prediction and check performance metrics\n",
    "train_predict=model_simple_lSTM.predict(X_train)\n",
    "test_predict=model_simple_lSTM.predict(X_test)\n",
    "train_predict.shape, test_predict.shape"
   ]
  },
  {
   "cell_type": "code",
   "execution_count": 66,
   "metadata": {},
   "outputs": [],
   "source": [
    "# Transform back to original form\n",
    "\n",
    "train_predict = scaler.inverse_transform(train_predict)\n",
    "test_predict = scaler.inverse_transform(test_predict)\n",
    "original_ytrain = scaler.inverse_transform(y_train.reshape(-1,1)) \n",
    "original_ytest = scaler.inverse_transform(y_test.reshape(-1,1)) "
   ]
  },
  {
   "cell_type": "code",
   "execution_count": 67,
   "metadata": {},
   "outputs": [
    {
     "name": "stdout",
     "output_type": "stream",
     "text": [
      "Train data RMSE:  201.9106286851993\n",
      "Train data MSE:  40767.90197605243\n",
      "Train data MAE:  183.41051621870562\n",
      "-------------------------------------------------------------------------------------\n",
      "Test data RMSE:  1490.1740394821866\n",
      "Test data MSE:  2220618.6679466576\n",
      "Test data MAE:  1399.6776193618775\n"
     ]
    }
   ],
   "source": [
    "# Evaluation metrices RMSE and MAE\n",
    "from sklearn.metrics import mean_absolute_error\n",
    "print(\"Train data RMSE: \", math.sqrt(mean_squared_error(original_ytrain,train_predict)))\n",
    "print(\"Train data MSE: \", mean_squared_error(original_ytrain,train_predict))\n",
    "print(\"Train data MAE: \", mean_absolute_error(original_ytrain,train_predict))\n",
    "print(\"-------------------------------------------------------------------------------------\")\n",
    "print(\"Test data RMSE: \", math.sqrt(mean_squared_error(original_ytest,test_predict)))\n",
    "print(\"Test data MSE: \", mean_squared_error(original_ytest,test_predict))\n",
    "print(\"Test data MAE: \", mean_absolute_error(original_ytest,test_predict))"
   ]
  },
  {
   "cell_type": "code",
   "execution_count": 68,
   "metadata": {},
   "outputs": [
    {
     "name": "stdout",
     "output_type": "stream",
     "text": [
      "Train data explained variance regression score: -0.14826123436179306\n",
      "Test data explained variance regression score: -0.2965939186801507\n"
     ]
    }
   ],
   "source": [
    "from sklearn.metrics import explained_variance_score\n",
    "print(\"Train data explained variance regression score:\", \n",
    "      explained_variance_score(original_ytrain, train_predict))\n",
    "print(\"Test data explained variance regression score:\", \n",
    "      explained_variance_score(original_ytest, test_predict))"
   ]
  },
  {
   "cell_type": "code",
   "execution_count": 69,
   "metadata": {},
   "outputs": [
    {
     "name": "stdout",
     "output_type": "stream",
     "text": [
      "Train data R2 score: -1.9584314565805023\n",
      "Test data R2 score: -10.009586727332831\n"
     ]
    }
   ],
   "source": [
    "from sklearn.metrics import r2_score\n",
    "print(\"Train data R2 score:\", r2_score(original_ytrain, train_predict))\n",
    "print(\"Test data R2 score:\", r2_score(original_ytest, test_predict))"
   ]
  },
  {
   "cell_type": "code",
   "execution_count": 70,
   "metadata": {},
   "outputs": [
    {
     "name": "stdout",
     "output_type": "stream",
     "text": [
      "Train data MGD:  0.4105028329826702\n",
      "Test data MGD:  40.662493814461534\n",
      "----------------------------------------------------------------------\n",
      "Train data MPD:  126.1022222140372\n",
      "Test data MPD:  5318.173776185145\n"
     ]
    }
   ],
   "source": [
    "from sklearn.metrics import mean_gamma_deviance\n",
    "from sklearn.metrics import mean_poisson_deviance\n",
    "print(\"Train data MGD: \", mean_gamma_deviance(original_ytrain, train_predict))\n",
    "print(\"Test data MGD: \", mean_gamma_deviance(original_ytest, test_predict))\n",
    "print(\"----------------------------------------------------------------------\")\n",
    "print(\"Train data MPD: \", mean_poisson_deviance(original_ytrain, train_predict))\n",
    "print(\"Test data MPD: \", mean_poisson_deviance(original_ytest, test_predict))"
   ]
  },
  {
   "cell_type": "code",
   "execution_count": 71,
   "metadata": {},
   "outputs": [
    {
     "data": {
      "text/html": [
       "<div>\n",
       "<style scoped>\n",
       "    .dataframe tbody tr th:only-of-type {\n",
       "        vertical-align: middle;\n",
       "    }\n",
       "\n",
       "    .dataframe tbody tr th {\n",
       "        vertical-align: top;\n",
       "    }\n",
       "\n",
       "    .dataframe thead th {\n",
       "        text-align: right;\n",
       "    }\n",
       "</style>\n",
       "<table border=\"1\" class=\"dataframe\">\n",
       "  <thead>\n",
       "    <tr style=\"text-align: right;\">\n",
       "      <th></th>\n",
       "      <th>Year</th>\n",
       "      <th>Month</th>\n",
       "      <th>Open</th>\n",
       "      <th>High</th>\n",
       "      <th>Low</th>\n",
       "      <th>Close</th>\n",
       "      <th>Volume</th>\n",
       "      <th>BTC-USD</th>\n",
       "      <th>nasdaq</th>\n",
       "      <th>gold</th>\n",
       "      <th>oil</th>\n",
       "      <th>sp500</th>\n",
       "      <th>vix</th>\n",
       "      <th>ftse100</th>\n",
       "      <th>tnx</th>\n",
       "      <th>gbp_usd</th>\n",
       "      <th>eur_usd</th>\n",
       "      <th>usd_jpy</th>\n",
       "      <th>cpi_value</th>\n",
       "      <th>Year_Month</th>\n",
       "    </tr>\n",
       "  </thead>\n",
       "  <tbody>\n",
       "    <tr>\n",
       "      <th>0</th>\n",
       "      <td>2017</td>\n",
       "      <td>11</td>\n",
       "      <td>320.671</td>\n",
       "      <td>522.307</td>\n",
       "      <td>294.542</td>\n",
       "      <td>447.114</td>\n",
       "      <td>26064246848.000</td>\n",
       "      <td>24.142</td>\n",
       "      <td>1273.200</td>\n",
       "      <td>57.400</td>\n",
       "      <td>2647.580</td>\n",
       "      <td>11.280</td>\n",
       "      <td>7326.700</td>\n",
       "      <td>2.417</td>\n",
       "      <td>1.342</td>\n",
       "      <td>1.185</td>\n",
       "      <td>112.002</td>\n",
       "      <td>259.101</td>\n",
       "      <td>10233.600</td>\n",
       "      <td>2017-11-01</td>\n",
       "    </tr>\n",
       "    <tr>\n",
       "      <th>1</th>\n",
       "      <td>2017</td>\n",
       "      <td>12</td>\n",
       "      <td>445.209</td>\n",
       "      <td>881.944</td>\n",
       "      <td>414.411</td>\n",
       "      <td>756.733</td>\n",
       "      <td>79862276544.000</td>\n",
       "      <td>23.545</td>\n",
       "      <td>1306.300</td>\n",
       "      <td>60.420</td>\n",
       "      <td>2673.610</td>\n",
       "      <td>11.040</td>\n",
       "      <td>7687.800</td>\n",
       "      <td>2.405</td>\n",
       "      <td>1.344</td>\n",
       "      <td>1.194</td>\n",
       "      <td>112.875</td>\n",
       "      <td>259.101</td>\n",
       "      <td>14156.400</td>\n",
       "      <td>2017-12-01</td>\n",
       "    </tr>\n",
       "    <tr>\n",
       "      <th>2</th>\n",
       "      <td>2018</td>\n",
       "      <td>1</td>\n",
       "      <td>755.757</td>\n",
       "      <td>1432.880</td>\n",
       "      <td>742.004</td>\n",
       "      <td>1118.310</td>\n",
       "      <td>163610220288.000</td>\n",
       "      <td>24.796</td>\n",
       "      <td>1339.000</td>\n",
       "      <td>64.730</td>\n",
       "      <td>2823.810</td>\n",
       "      <td>13.540</td>\n",
       "      <td>7533.600</td>\n",
       "      <td>2.720</td>\n",
       "      <td>1.416</td>\n",
       "      <td>1.241</td>\n",
       "      <td>108.732</td>\n",
       "      <td>247.867</td>\n",
       "      <td>10221.100</td>\n",
       "      <td>2018-01-01</td>\n",
       "    </tr>\n",
       "    <tr>\n",
       "      <th>3</th>\n",
       "      <td>2018</td>\n",
       "      <td>2</td>\n",
       "      <td>1119.370</td>\n",
       "      <td>1161.350</td>\n",
       "      <td>574.419</td>\n",
       "      <td>855.199</td>\n",
       "      <td>83393441152.000</td>\n",
       "      <td>24.747</td>\n",
       "      <td>1315.500</td>\n",
       "      <td>61.640</td>\n",
       "      <td>2713.830</td>\n",
       "      <td>19.850</td>\n",
       "      <td>7231.900</td>\n",
       "      <td>2.868</td>\n",
       "      <td>1.391</td>\n",
       "      <td>1.223</td>\n",
       "      <td>107.426</td>\n",
       "      <td>248.991</td>\n",
       "      <td>10397.900</td>\n",
       "      <td>2018-02-01</td>\n",
       "    </tr>\n",
       "    <tr>\n",
       "      <th>4</th>\n",
       "      <td>2018</td>\n",
       "      <td>3</td>\n",
       "      <td>856.012</td>\n",
       "      <td>880.302</td>\n",
       "      <td>368.633</td>\n",
       "      <td>396.457</td>\n",
       "      <td>53716179584.000</td>\n",
       "      <td>26.543</td>\n",
       "      <td>1322.800</td>\n",
       "      <td>64.940</td>\n",
       "      <td>2640.870</td>\n",
       "      <td>19.970</td>\n",
       "      <td>7056.600</td>\n",
       "      <td>2.741</td>\n",
       "      <td>1.403</td>\n",
       "      <td>1.230</td>\n",
       "      <td>106.479</td>\n",
       "      <td>249.554</td>\n",
       "      <td>6973.530</td>\n",
       "      <td>2018-03-01</td>\n",
       "    </tr>\n",
       "    <tr>\n",
       "      <th>...</th>\n",
       "      <td>...</td>\n",
       "      <td>...</td>\n",
       "      <td>...</td>\n",
       "      <td>...</td>\n",
       "      <td>...</td>\n",
       "      <td>...</td>\n",
       "      <td>...</td>\n",
       "      <td>...</td>\n",
       "      <td>...</td>\n",
       "      <td>...</td>\n",
       "      <td>...</td>\n",
       "      <td>...</td>\n",
       "      <td>...</td>\n",
       "      <td>...</td>\n",
       "      <td>...</td>\n",
       "      <td>...</td>\n",
       "      <td>...</td>\n",
       "      <td>...</td>\n",
       "      <td>...</td>\n",
       "      <td>...</td>\n",
       "    </tr>\n",
       "    <tr>\n",
       "      <th>59</th>\n",
       "      <td>2022</td>\n",
       "      <td>10</td>\n",
       "      <td>1328.194</td>\n",
       "      <td>1652.382</td>\n",
       "      <td>1209.278</td>\n",
       "      <td>1572.714</td>\n",
       "      <td>382071643030.000</td>\n",
       "      <td>61.819</td>\n",
       "      <td>1635.900</td>\n",
       "      <td>86.530</td>\n",
       "      <td>3871.980</td>\n",
       "      <td>25.880</td>\n",
       "      <td>7094.500</td>\n",
       "      <td>4.077</td>\n",
       "      <td>1.160</td>\n",
       "      <td>0.996</td>\n",
       "      <td>147.812</td>\n",
       "      <td>298.012</td>\n",
       "      <td>20495.773</td>\n",
       "      <td>2022-10-01</td>\n",
       "    </tr>\n",
       "    <tr>\n",
       "      <th>60</th>\n",
       "      <td>2022</td>\n",
       "      <td>11</td>\n",
       "      <td>1572.645</td>\n",
       "      <td>1661.335</td>\n",
       "      <td>1081.138</td>\n",
       "      <td>1295.689</td>\n",
       "      <td>421797905717.000</td>\n",
       "      <td>67.997</td>\n",
       "      <td>1746.000</td>\n",
       "      <td>80.550</td>\n",
       "      <td>4080.110</td>\n",
       "      <td>20.580</td>\n",
       "      <td>7573.100</td>\n",
       "      <td>3.703</td>\n",
       "      <td>1.195</td>\n",
       "      <td>1.032</td>\n",
       "      <td>138.745</td>\n",
       "      <td>297.711</td>\n",
       "      <td>17168.566</td>\n",
       "      <td>2022-11-01</td>\n",
       "    </tr>\n",
       "    <tr>\n",
       "      <th>61</th>\n",
       "      <td>2022</td>\n",
       "      <td>12</td>\n",
       "      <td>1295.770</td>\n",
       "      <td>1346.174</td>\n",
       "      <td>1160.377</td>\n",
       "      <td>1196.771</td>\n",
       "      <td>161130639970.000</td>\n",
       "      <td>61.114</td>\n",
       "      <td>1819.700</td>\n",
       "      <td>80.260</td>\n",
       "      <td>3839.500</td>\n",
       "      <td>21.670</td>\n",
       "      <td>7451.700</td>\n",
       "      <td>3.879</td>\n",
       "      <td>1.206</td>\n",
       "      <td>1.066</td>\n",
       "      <td>132.916</td>\n",
       "      <td>296.797</td>\n",
       "      <td>16547.496</td>\n",
       "      <td>2022-12-01</td>\n",
       "    </tr>\n",
       "    <tr>\n",
       "      <th>62</th>\n",
       "      <td>2023</td>\n",
       "      <td>1</td>\n",
       "      <td>1196.714</td>\n",
       "      <td>1674.179</td>\n",
       "      <td>1192.885</td>\n",
       "      <td>1586.535</td>\n",
       "      <td>224952954314.000</td>\n",
       "      <td>59.958</td>\n",
       "      <td>1929.500</td>\n",
       "      <td>78.870</td>\n",
       "      <td>4076.600</td>\n",
       "      <td>19.400</td>\n",
       "      <td>7771.700</td>\n",
       "      <td>3.529</td>\n",
       "      <td>1.235</td>\n",
       "      <td>1.085</td>\n",
       "      <td>130.479</td>\n",
       "      <td>299.170</td>\n",
       "      <td>23139.283</td>\n",
       "      <td>2023-01-01</td>\n",
       "    </tr>\n",
       "    <tr>\n",
       "      <th>63</th>\n",
       "      <td>2023</td>\n",
       "      <td>2</td>\n",
       "      <td>1567.420</td>\n",
       "      <td>1598.518</td>\n",
       "      <td>1563.804</td>\n",
       "      <td>1586.535</td>\n",
       "      <td>6585191019.000</td>\n",
       "      <td>59.958</td>\n",
       "      <td>1929.500</td>\n",
       "      <td>78.870</td>\n",
       "      <td>4076.600</td>\n",
       "      <td>19.400</td>\n",
       "      <td>7771.700</td>\n",
       "      <td>3.529</td>\n",
       "      <td>1.235</td>\n",
       "      <td>1.085</td>\n",
       "      <td>130.479</td>\n",
       "      <td>300.840</td>\n",
       "      <td>23139.283</td>\n",
       "      <td>2023-02-01</td>\n",
       "    </tr>\n",
       "  </tbody>\n",
       "</table>\n",
       "<p>64 rows × 20 columns</p>\n",
       "</div>"
      ],
      "text/plain": [
       "    Year  Month     Open     High      Low    Close           Volume  BTC-USD  \\\n",
       "0   2017     11  320.671  522.307  294.542  447.114  26064246848.000   24.142   \n",
       "1   2017     12  445.209  881.944  414.411  756.733  79862276544.000   23.545   \n",
       "2   2018      1  755.757 1432.880  742.004 1118.310 163610220288.000   24.796   \n",
       "3   2018      2 1119.370 1161.350  574.419  855.199  83393441152.000   24.747   \n",
       "4   2018      3  856.012  880.302  368.633  396.457  53716179584.000   26.543   \n",
       "..   ...    ...      ...      ...      ...      ...              ...      ...   \n",
       "59  2022     10 1328.194 1652.382 1209.278 1572.714 382071643030.000   61.819   \n",
       "60  2022     11 1572.645 1661.335 1081.138 1295.689 421797905717.000   67.997   \n",
       "61  2022     12 1295.770 1346.174 1160.377 1196.771 161130639970.000   61.114   \n",
       "62  2023      1 1196.714 1674.179 1192.885 1586.535 224952954314.000   59.958   \n",
       "63  2023      2 1567.420 1598.518 1563.804 1586.535   6585191019.000   59.958   \n",
       "\n",
       "     nasdaq   gold      oil  sp500      vix  ftse100   tnx  gbp_usd  eur_usd  \\\n",
       "0  1273.200 57.400 2647.580 11.280 7326.700    2.417 1.342    1.185  112.002   \n",
       "1  1306.300 60.420 2673.610 11.040 7687.800    2.405 1.344    1.194  112.875   \n",
       "2  1339.000 64.730 2823.810 13.540 7533.600    2.720 1.416    1.241  108.732   \n",
       "3  1315.500 61.640 2713.830 19.850 7231.900    2.868 1.391    1.223  107.426   \n",
       "4  1322.800 64.940 2640.870 19.970 7056.600    2.741 1.403    1.230  106.479   \n",
       "..      ...    ...      ...    ...      ...      ...   ...      ...      ...   \n",
       "59 1635.900 86.530 3871.980 25.880 7094.500    4.077 1.160    0.996  147.812   \n",
       "60 1746.000 80.550 4080.110 20.580 7573.100    3.703 1.195    1.032  138.745   \n",
       "61 1819.700 80.260 3839.500 21.670 7451.700    3.879 1.206    1.066  132.916   \n",
       "62 1929.500 78.870 4076.600 19.400 7771.700    3.529 1.235    1.085  130.479   \n",
       "63 1929.500 78.870 4076.600 19.400 7771.700    3.529 1.235    1.085  130.479   \n",
       "\n",
       "    usd_jpy  cpi_value Year_Month  \n",
       "0   259.101  10233.600 2017-11-01  \n",
       "1   259.101  14156.400 2017-12-01  \n",
       "2   247.867  10221.100 2018-01-01  \n",
       "3   248.991  10397.900 2018-02-01  \n",
       "4   249.554   6973.530 2018-03-01  \n",
       "..      ...        ...        ...  \n",
       "59  298.012  20495.773 2022-10-01  \n",
       "60  297.711  17168.566 2022-11-01  \n",
       "61  296.797  16547.496 2022-12-01  \n",
       "62  299.170  23139.283 2023-01-01  \n",
       "63  300.840  23139.283 2023-02-01  \n",
       "\n",
       "[64 rows x 20 columns]"
      ]
     },
     "execution_count": 71,
     "metadata": {},
     "output_type": "execute_result"
    }
   ],
   "source": [
    "monthly_df_copy"
   ]
  },
  {
   "cell_type": "code",
   "execution_count": 72,
   "metadata": {},
   "outputs": [
    {
     "name": "stdout",
     "output_type": "stream",
     "text": [
      "Train predicted data:  (64, 1)\n",
      "Test predicted data:  (64, 1)\n"
     ]
    },
    {
     "data": {
      "application/vnd.plotly.v1+json": {
       "config": {
        "plotlyServerURL": "https://plot.ly"
       },
       "data": [
        {
         "hovertemplate": "variable=original_close<br>Date=%{x}<br>Ethereum price ($)=%{y}<extra></extra>",
         "legendgroup": "original_close",
         "line": {
          "color": "#636efa",
          "dash": "solid"
         },
         "marker": {
          "symbol": "circle"
         },
         "mode": "lines",
         "name": "Original close price",
         "orientation": "v",
         "showlegend": true,
         "type": "scatter",
         "x": [
          "2017-11-01T00:00:00",
          "2017-12-01T00:00:00",
          "2018-01-01T00:00:00",
          "2018-02-01T00:00:00",
          "2018-03-01T00:00:00",
          "2018-04-01T00:00:00",
          "2018-05-01T00:00:00",
          "2018-06-01T00:00:00",
          "2018-07-01T00:00:00",
          "2018-08-01T00:00:00",
          "2018-09-01T00:00:00",
          "2018-10-01T00:00:00",
          "2018-11-01T00:00:00",
          "2018-12-01T00:00:00",
          "2019-01-01T00:00:00",
          "2019-02-01T00:00:00",
          "2019-03-01T00:00:00",
          "2019-04-01T00:00:00",
          "2019-05-01T00:00:00",
          "2019-06-01T00:00:00",
          "2019-07-01T00:00:00",
          "2019-08-01T00:00:00",
          "2019-09-01T00:00:00",
          "2019-10-01T00:00:00",
          "2019-11-01T00:00:00",
          "2019-12-01T00:00:00",
          "2020-01-01T00:00:00",
          "2020-02-01T00:00:00",
          "2020-03-01T00:00:00",
          "2020-04-01T00:00:00",
          "2020-05-01T00:00:00",
          "2020-06-01T00:00:00",
          "2020-07-01T00:00:00",
          "2020-08-01T00:00:00",
          "2020-09-01T00:00:00",
          "2020-10-01T00:00:00",
          "2020-11-01T00:00:00",
          "2020-12-01T00:00:00",
          "2021-01-01T00:00:00",
          "2021-02-01T00:00:00",
          "2021-03-01T00:00:00",
          "2021-04-01T00:00:00",
          "2021-05-01T00:00:00",
          "2021-06-01T00:00:00",
          "2021-07-01T00:00:00",
          "2021-08-01T00:00:00",
          "2021-09-01T00:00:00",
          "2021-10-01T00:00:00",
          "2021-11-01T00:00:00",
          "2021-12-01T00:00:00",
          "2022-01-01T00:00:00",
          "2022-02-01T00:00:00",
          "2022-03-01T00:00:00",
          "2022-04-01T00:00:00",
          "2022-05-01T00:00:00",
          "2022-06-01T00:00:00",
          "2022-07-01T00:00:00",
          "2022-08-01T00:00:00",
          "2022-09-01T00:00:00",
          "2022-10-01T00:00:00",
          "2022-11-01T00:00:00",
          "2022-12-01T00:00:00",
          "2023-01-01T00:00:00",
          "2023-02-01T00:00:00"
         ],
         "xaxis": "x",
         "y": [
          447.114013671875,
          756.7329711914062,
          1118.31005859375,
          855.198974609375,
          396.4570007324219,
          669.9240112304688,
          577.64501953125,
          455.17999267578125,
          433.86700439453125,
          283.0039978027344,
          232.84800720214844,
          197.38099670410156,
          113.17141723632812,
          133.36825561523438,
          107.0610122680664,
          136.74624633789062,
          141.51409912109375,
          162.16603088378906,
          268.1135559082031,
          290.69598388671875,
          218.65414428710938,
          172.46978759765625,
          179.87220764160156,
          183.9669189453125,
          152.53968811035156,
          129.61085510253906,
          180.16017150878906,
          219.8485107421875,
          133.59356689453125,
          207.60205078125,
          230.9757080078125,
          226.31500244140625,
          345.5546569824219,
          435.0797424316406,
          359.9378662109375,
          386.59033203125,
          614.842529296875,
          737.8034057617188,
          1314.9862060546875,
          1416.0489501953125,
          1918.362060546875,
          2773.20703125,
          2714.9453125,
          2274.547607421875,
          2536.2099609375,
          3433.732666015625,
          3001.678955078125,
          4288.07421875,
          4631.47900390625,
          3682.6328125,
          2688.27880859375,
          2919.201171875,
          3281.642822265625,
          2730.186767578125,
          1942.3280029296875,
          1067.298828125,
          1681.517333984375,
          1553.6849365234375,
          1327.9786376953125,
          1572.7144775390625,
          1295.6885986328125,
          1196.771240234375,
          1586.535400390625,
          1586.535400390625
         ],
         "yaxis": "y"
        },
        {
         "hovertemplate": "variable=train_predicted_close<br>Date=%{x}<br>Ethereum price ($)=%{y}<extra></extra>",
         "legendgroup": "train_predicted_close",
         "line": {
          "color": "#EF553B",
          "dash": "solid"
         },
         "marker": {
          "symbol": "circle"
         },
         "mode": "lines",
         "name": "Train predicted close price",
         "orientation": "v",
         "showlegend": true,
         "type": "scatter",
         "x": [
          "2017-11-01T00:00:00",
          "2017-12-01T00:00:00",
          "2018-01-01T00:00:00",
          "2018-02-01T00:00:00",
          "2018-03-01T00:00:00",
          "2018-04-01T00:00:00",
          "2018-05-01T00:00:00",
          "2018-06-01T00:00:00",
          "2018-07-01T00:00:00",
          "2018-08-01T00:00:00",
          "2018-09-01T00:00:00",
          "2018-10-01T00:00:00",
          "2018-11-01T00:00:00",
          "2018-12-01T00:00:00",
          "2019-01-01T00:00:00",
          "2019-02-01T00:00:00",
          "2019-03-01T00:00:00",
          "2019-04-01T00:00:00",
          "2019-05-01T00:00:00",
          "2019-06-01T00:00:00",
          "2019-07-01T00:00:00",
          "2019-08-01T00:00:00",
          "2019-09-01T00:00:00",
          "2019-10-01T00:00:00",
          "2019-11-01T00:00:00",
          "2019-12-01T00:00:00",
          "2020-01-01T00:00:00",
          "2020-02-01T00:00:00",
          "2020-03-01T00:00:00",
          "2020-04-01T00:00:00",
          "2020-05-01T00:00:00",
          "2020-06-01T00:00:00",
          "2020-07-01T00:00:00",
          "2020-08-01T00:00:00",
          "2020-09-01T00:00:00",
          "2020-10-01T00:00:00",
          "2020-11-01T00:00:00",
          "2020-12-01T00:00:00",
          "2021-01-01T00:00:00",
          "2021-02-01T00:00:00",
          "2021-03-01T00:00:00",
          "2021-04-01T00:00:00",
          "2021-05-01T00:00:00",
          "2021-06-01T00:00:00",
          "2021-07-01T00:00:00",
          "2021-08-01T00:00:00",
          "2021-09-01T00:00:00",
          "2021-10-01T00:00:00",
          "2021-11-01T00:00:00",
          "2021-12-01T00:00:00",
          "2022-01-01T00:00:00",
          "2022-02-01T00:00:00",
          "2022-03-01T00:00:00",
          "2022-04-01T00:00:00",
          "2022-05-01T00:00:00",
          "2022-06-01T00:00:00",
          "2022-07-01T00:00:00",
          "2022-08-01T00:00:00",
          "2022-09-01T00:00:00",
          "2022-10-01T00:00:00",
          "2022-11-01T00:00:00",
          "2022-12-01T00:00:00",
          "2023-01-01T00:00:00",
          "2023-02-01T00:00:00"
         ],
         "xaxis": "x",
         "y": [
          null,
          null,
          null,
          null,
          null,
          null,
          null,
          null,
          null,
          null,
          null,
          null,
          null,
          null,
          null,
          414.4669494628906,
          411.8245544433594,
          411.56280517578125,
          409.4953308105469,
          397.87884521484375,
          394.81463623046875,
          402.2987060546875,
          407.5001525878906,
          406.9578857421875,
          406.6011657714844,
          410.0977478027344,
          412.83319091796875,
          407.5319519042969,
          403.0353698730469,
          412.2418518066406,
          404.4590148925781,
          401.6250305175781,
          401.8878479003906,
          388.6688537597656,
          378.0636901855469,
          385.3659973144531,
          382.28607177734375,
          null,
          null,
          null,
          null,
          null,
          null,
          null,
          null,
          null,
          null,
          null,
          null,
          null,
          null,
          null,
          null,
          null,
          null,
          null,
          null,
          null,
          null,
          null,
          null,
          null,
          null,
          null
         ],
         "yaxis": "y"
        },
        {
         "hovertemplate": "variable=test_predicted_close<br>Date=%{x}<br>Ethereum price ($)=%{y}<extra></extra>",
         "legendgroup": "test_predicted_close",
         "line": {
          "color": "#00cc96",
          "dash": "solid"
         },
         "marker": {
          "symbol": "circle"
         },
         "mode": "lines",
         "name": "Test predicted close price",
         "orientation": "v",
         "showlegend": true,
         "type": "scatter",
         "x": [
          "2017-11-01T00:00:00",
          "2017-12-01T00:00:00",
          "2018-01-01T00:00:00",
          "2018-02-01T00:00:00",
          "2018-03-01T00:00:00",
          "2018-04-01T00:00:00",
          "2018-05-01T00:00:00",
          "2018-06-01T00:00:00",
          "2018-07-01T00:00:00",
          "2018-08-01T00:00:00",
          "2018-09-01T00:00:00",
          "2018-10-01T00:00:00",
          "2018-11-01T00:00:00",
          "2018-12-01T00:00:00",
          "2019-01-01T00:00:00",
          "2019-02-01T00:00:00",
          "2019-03-01T00:00:00",
          "2019-04-01T00:00:00",
          "2019-05-01T00:00:00",
          "2019-06-01T00:00:00",
          "2019-07-01T00:00:00",
          "2019-08-01T00:00:00",
          "2019-09-01T00:00:00",
          "2019-10-01T00:00:00",
          "2019-11-01T00:00:00",
          "2019-12-01T00:00:00",
          "2020-01-01T00:00:00",
          "2020-02-01T00:00:00",
          "2020-03-01T00:00:00",
          "2020-04-01T00:00:00",
          "2020-05-01T00:00:00",
          "2020-06-01T00:00:00",
          "2020-07-01T00:00:00",
          "2020-08-01T00:00:00",
          "2020-09-01T00:00:00",
          "2020-10-01T00:00:00",
          "2020-11-01T00:00:00",
          "2020-12-01T00:00:00",
          "2021-01-01T00:00:00",
          "2021-02-01T00:00:00",
          "2021-03-01T00:00:00",
          "2021-04-01T00:00:00",
          "2021-05-01T00:00:00",
          "2021-06-01T00:00:00",
          "2021-07-01T00:00:00",
          "2021-08-01T00:00:00",
          "2021-09-01T00:00:00",
          "2021-10-01T00:00:00",
          "2021-11-01T00:00:00",
          "2021-12-01T00:00:00",
          "2022-01-01T00:00:00",
          "2022-02-01T00:00:00",
          "2022-03-01T00:00:00",
          "2022-04-01T00:00:00",
          "2022-05-01T00:00:00",
          "2022-06-01T00:00:00",
          "2022-07-01T00:00:00",
          "2022-08-01T00:00:00",
          "2022-09-01T00:00:00",
          "2022-10-01T00:00:00",
          "2022-11-01T00:00:00",
          "2022-12-01T00:00:00",
          "2023-01-01T00:00:00",
          "2023-02-01T00:00:00"
         ],
         "xaxis": "x",
         "y": [
          null,
          null,
          null,
          null,
          null,
          null,
          null,
          null,
          null,
          null,
          null,
          null,
          null,
          null,
          null,
          null,
          null,
          null,
          null,
          null,
          null,
          null,
          null,
          null,
          null,
          null,
          null,
          null,
          null,
          null,
          null,
          null,
          null,
          null,
          null,
          null,
          null,
          null,
          null,
          null,
          null,
          null,
          null,
          null,
          null,
          null,
          null,
          null,
          null,
          null,
          null,
          null,
          null,
          16.912092208862305,
          75.24300384521484,
          163.38699340820312,
          265.0367736816406,
          206.90048217773438,
          222.9109649658203,
          250.45347595214844,
          227.14967346191406,
          258.302734375,
          271.6318359375,
          null
         ],
         "yaxis": "y"
        }
       ],
       "layout": {
        "font": {
         "color": "black",
         "size": 15
        },
        "legend": {
         "title": {
          "text": "Close Price"
         },
         "tracegroupgap": 0
        },
        "margin": {
         "t": 60
        },
        "plot_bgcolor": "white",
        "template": {
         "data": {
          "bar": [
           {
            "error_x": {
             "color": "#2a3f5f"
            },
            "error_y": {
             "color": "#2a3f5f"
            },
            "marker": {
             "line": {
              "color": "#E5ECF6",
              "width": 0.5
             },
             "pattern": {
              "fillmode": "overlay",
              "size": 10,
              "solidity": 0.2
             }
            },
            "type": "bar"
           }
          ],
          "barpolar": [
           {
            "marker": {
             "line": {
              "color": "#E5ECF6",
              "width": 0.5
             },
             "pattern": {
              "fillmode": "overlay",
              "size": 10,
              "solidity": 0.2
             }
            },
            "type": "barpolar"
           }
          ],
          "carpet": [
           {
            "aaxis": {
             "endlinecolor": "#2a3f5f",
             "gridcolor": "white",
             "linecolor": "white",
             "minorgridcolor": "white",
             "startlinecolor": "#2a3f5f"
            },
            "baxis": {
             "endlinecolor": "#2a3f5f",
             "gridcolor": "white",
             "linecolor": "white",
             "minorgridcolor": "white",
             "startlinecolor": "#2a3f5f"
            },
            "type": "carpet"
           }
          ],
          "choropleth": [
           {
            "colorbar": {
             "outlinewidth": 0,
             "ticks": ""
            },
            "type": "choropleth"
           }
          ],
          "contour": [
           {
            "colorbar": {
             "outlinewidth": 0,
             "ticks": ""
            },
            "colorscale": [
             [
              0,
              "#0d0887"
             ],
             [
              0.1111111111111111,
              "#46039f"
             ],
             [
              0.2222222222222222,
              "#7201a8"
             ],
             [
              0.3333333333333333,
              "#9c179e"
             ],
             [
              0.4444444444444444,
              "#bd3786"
             ],
             [
              0.5555555555555556,
              "#d8576b"
             ],
             [
              0.6666666666666666,
              "#ed7953"
             ],
             [
              0.7777777777777778,
              "#fb9f3a"
             ],
             [
              0.8888888888888888,
              "#fdca26"
             ],
             [
              1,
              "#f0f921"
             ]
            ],
            "type": "contour"
           }
          ],
          "contourcarpet": [
           {
            "colorbar": {
             "outlinewidth": 0,
             "ticks": ""
            },
            "type": "contourcarpet"
           }
          ],
          "heatmap": [
           {
            "colorbar": {
             "outlinewidth": 0,
             "ticks": ""
            },
            "colorscale": [
             [
              0,
              "#0d0887"
             ],
             [
              0.1111111111111111,
              "#46039f"
             ],
             [
              0.2222222222222222,
              "#7201a8"
             ],
             [
              0.3333333333333333,
              "#9c179e"
             ],
             [
              0.4444444444444444,
              "#bd3786"
             ],
             [
              0.5555555555555556,
              "#d8576b"
             ],
             [
              0.6666666666666666,
              "#ed7953"
             ],
             [
              0.7777777777777778,
              "#fb9f3a"
             ],
             [
              0.8888888888888888,
              "#fdca26"
             ],
             [
              1,
              "#f0f921"
             ]
            ],
            "type": "heatmap"
           }
          ],
          "heatmapgl": [
           {
            "colorbar": {
             "outlinewidth": 0,
             "ticks": ""
            },
            "colorscale": [
             [
              0,
              "#0d0887"
             ],
             [
              0.1111111111111111,
              "#46039f"
             ],
             [
              0.2222222222222222,
              "#7201a8"
             ],
             [
              0.3333333333333333,
              "#9c179e"
             ],
             [
              0.4444444444444444,
              "#bd3786"
             ],
             [
              0.5555555555555556,
              "#d8576b"
             ],
             [
              0.6666666666666666,
              "#ed7953"
             ],
             [
              0.7777777777777778,
              "#fb9f3a"
             ],
             [
              0.8888888888888888,
              "#fdca26"
             ],
             [
              1,
              "#f0f921"
             ]
            ],
            "type": "heatmapgl"
           }
          ],
          "histogram": [
           {
            "marker": {
             "pattern": {
              "fillmode": "overlay",
              "size": 10,
              "solidity": 0.2
             }
            },
            "type": "histogram"
           }
          ],
          "histogram2d": [
           {
            "colorbar": {
             "outlinewidth": 0,
             "ticks": ""
            },
            "colorscale": [
             [
              0,
              "#0d0887"
             ],
             [
              0.1111111111111111,
              "#46039f"
             ],
             [
              0.2222222222222222,
              "#7201a8"
             ],
             [
              0.3333333333333333,
              "#9c179e"
             ],
             [
              0.4444444444444444,
              "#bd3786"
             ],
             [
              0.5555555555555556,
              "#d8576b"
             ],
             [
              0.6666666666666666,
              "#ed7953"
             ],
             [
              0.7777777777777778,
              "#fb9f3a"
             ],
             [
              0.8888888888888888,
              "#fdca26"
             ],
             [
              1,
              "#f0f921"
             ]
            ],
            "type": "histogram2d"
           }
          ],
          "histogram2dcontour": [
           {
            "colorbar": {
             "outlinewidth": 0,
             "ticks": ""
            },
            "colorscale": [
             [
              0,
              "#0d0887"
             ],
             [
              0.1111111111111111,
              "#46039f"
             ],
             [
              0.2222222222222222,
              "#7201a8"
             ],
             [
              0.3333333333333333,
              "#9c179e"
             ],
             [
              0.4444444444444444,
              "#bd3786"
             ],
             [
              0.5555555555555556,
              "#d8576b"
             ],
             [
              0.6666666666666666,
              "#ed7953"
             ],
             [
              0.7777777777777778,
              "#fb9f3a"
             ],
             [
              0.8888888888888888,
              "#fdca26"
             ],
             [
              1,
              "#f0f921"
             ]
            ],
            "type": "histogram2dcontour"
           }
          ],
          "mesh3d": [
           {
            "colorbar": {
             "outlinewidth": 0,
             "ticks": ""
            },
            "type": "mesh3d"
           }
          ],
          "parcoords": [
           {
            "line": {
             "colorbar": {
              "outlinewidth": 0,
              "ticks": ""
             }
            },
            "type": "parcoords"
           }
          ],
          "pie": [
           {
            "automargin": true,
            "type": "pie"
           }
          ],
          "scatter": [
           {
            "fillpattern": {
             "fillmode": "overlay",
             "size": 10,
             "solidity": 0.2
            },
            "type": "scatter"
           }
          ],
          "scatter3d": [
           {
            "line": {
             "colorbar": {
              "outlinewidth": 0,
              "ticks": ""
             }
            },
            "marker": {
             "colorbar": {
              "outlinewidth": 0,
              "ticks": ""
             }
            },
            "type": "scatter3d"
           }
          ],
          "scattercarpet": [
           {
            "marker": {
             "colorbar": {
              "outlinewidth": 0,
              "ticks": ""
             }
            },
            "type": "scattercarpet"
           }
          ],
          "scattergeo": [
           {
            "marker": {
             "colorbar": {
              "outlinewidth": 0,
              "ticks": ""
             }
            },
            "type": "scattergeo"
           }
          ],
          "scattergl": [
           {
            "marker": {
             "colorbar": {
              "outlinewidth": 0,
              "ticks": ""
             }
            },
            "type": "scattergl"
           }
          ],
          "scattermapbox": [
           {
            "marker": {
             "colorbar": {
              "outlinewidth": 0,
              "ticks": ""
             }
            },
            "type": "scattermapbox"
           }
          ],
          "scatterpolar": [
           {
            "marker": {
             "colorbar": {
              "outlinewidth": 0,
              "ticks": ""
             }
            },
            "type": "scatterpolar"
           }
          ],
          "scatterpolargl": [
           {
            "marker": {
             "colorbar": {
              "outlinewidth": 0,
              "ticks": ""
             }
            },
            "type": "scatterpolargl"
           }
          ],
          "scatterternary": [
           {
            "marker": {
             "colorbar": {
              "outlinewidth": 0,
              "ticks": ""
             }
            },
            "type": "scatterternary"
           }
          ],
          "surface": [
           {
            "colorbar": {
             "outlinewidth": 0,
             "ticks": ""
            },
            "colorscale": [
             [
              0,
              "#0d0887"
             ],
             [
              0.1111111111111111,
              "#46039f"
             ],
             [
              0.2222222222222222,
              "#7201a8"
             ],
             [
              0.3333333333333333,
              "#9c179e"
             ],
             [
              0.4444444444444444,
              "#bd3786"
             ],
             [
              0.5555555555555556,
              "#d8576b"
             ],
             [
              0.6666666666666666,
              "#ed7953"
             ],
             [
              0.7777777777777778,
              "#fb9f3a"
             ],
             [
              0.8888888888888888,
              "#fdca26"
             ],
             [
              1,
              "#f0f921"
             ]
            ],
            "type": "surface"
           }
          ],
          "table": [
           {
            "cells": {
             "fill": {
              "color": "#EBF0F8"
             },
             "line": {
              "color": "white"
             }
            },
            "header": {
             "fill": {
              "color": "#C8D4E3"
             },
             "line": {
              "color": "white"
             }
            },
            "type": "table"
           }
          ]
         },
         "layout": {
          "annotationdefaults": {
           "arrowcolor": "#2a3f5f",
           "arrowhead": 0,
           "arrowwidth": 1
          },
          "autotypenumbers": "strict",
          "coloraxis": {
           "colorbar": {
            "outlinewidth": 0,
            "ticks": ""
           }
          },
          "colorscale": {
           "diverging": [
            [
             0,
             "#8e0152"
            ],
            [
             0.1,
             "#c51b7d"
            ],
            [
             0.2,
             "#de77ae"
            ],
            [
             0.3,
             "#f1b6da"
            ],
            [
             0.4,
             "#fde0ef"
            ],
            [
             0.5,
             "#f7f7f7"
            ],
            [
             0.6,
             "#e6f5d0"
            ],
            [
             0.7,
             "#b8e186"
            ],
            [
             0.8,
             "#7fbc41"
            ],
            [
             0.9,
             "#4d9221"
            ],
            [
             1,
             "#276419"
            ]
           ],
           "sequential": [
            [
             0,
             "#0d0887"
            ],
            [
             0.1111111111111111,
             "#46039f"
            ],
            [
             0.2222222222222222,
             "#7201a8"
            ],
            [
             0.3333333333333333,
             "#9c179e"
            ],
            [
             0.4444444444444444,
             "#bd3786"
            ],
            [
             0.5555555555555556,
             "#d8576b"
            ],
            [
             0.6666666666666666,
             "#ed7953"
            ],
            [
             0.7777777777777778,
             "#fb9f3a"
            ],
            [
             0.8888888888888888,
             "#fdca26"
            ],
            [
             1,
             "#f0f921"
            ]
           ],
           "sequentialminus": [
            [
             0,
             "#0d0887"
            ],
            [
             0.1111111111111111,
             "#46039f"
            ],
            [
             0.2222222222222222,
             "#7201a8"
            ],
            [
             0.3333333333333333,
             "#9c179e"
            ],
            [
             0.4444444444444444,
             "#bd3786"
            ],
            [
             0.5555555555555556,
             "#d8576b"
            ],
            [
             0.6666666666666666,
             "#ed7953"
            ],
            [
             0.7777777777777778,
             "#fb9f3a"
            ],
            [
             0.8888888888888888,
             "#fdca26"
            ],
            [
             1,
             "#f0f921"
            ]
           ]
          },
          "colorway": [
           "#636efa",
           "#EF553B",
           "#00cc96",
           "#ab63fa",
           "#FFA15A",
           "#19d3f3",
           "#FF6692",
           "#B6E880",
           "#FF97FF",
           "#FECB52"
          ],
          "font": {
           "color": "#2a3f5f"
          },
          "geo": {
           "bgcolor": "white",
           "lakecolor": "white",
           "landcolor": "#E5ECF6",
           "showlakes": true,
           "showland": true,
           "subunitcolor": "white"
          },
          "hoverlabel": {
           "align": "left"
          },
          "hovermode": "closest",
          "mapbox": {
           "style": "light"
          },
          "paper_bgcolor": "white",
          "plot_bgcolor": "#E5ECF6",
          "polar": {
           "angularaxis": {
            "gridcolor": "white",
            "linecolor": "white",
            "ticks": ""
           },
           "bgcolor": "#E5ECF6",
           "radialaxis": {
            "gridcolor": "white",
            "linecolor": "white",
            "ticks": ""
           }
          },
          "scene": {
           "xaxis": {
            "backgroundcolor": "#E5ECF6",
            "gridcolor": "white",
            "gridwidth": 2,
            "linecolor": "white",
            "showbackground": true,
            "ticks": "",
            "zerolinecolor": "white"
           },
           "yaxis": {
            "backgroundcolor": "#E5ECF6",
            "gridcolor": "white",
            "gridwidth": 2,
            "linecolor": "white",
            "showbackground": true,
            "ticks": "",
            "zerolinecolor": "white"
           },
           "zaxis": {
            "backgroundcolor": "#E5ECF6",
            "gridcolor": "white",
            "gridwidth": 2,
            "linecolor": "white",
            "showbackground": true,
            "ticks": "",
            "zerolinecolor": "white"
           }
          },
          "shapedefaults": {
           "line": {
            "color": "#2a3f5f"
           }
          },
          "ternary": {
           "aaxis": {
            "gridcolor": "white",
            "linecolor": "white",
            "ticks": ""
           },
           "baxis": {
            "gridcolor": "white",
            "linecolor": "white",
            "ticks": ""
           },
           "bgcolor": "#E5ECF6",
           "caxis": {
            "gridcolor": "white",
            "linecolor": "white",
            "ticks": ""
           }
          },
          "title": {
           "x": 0.05
          },
          "xaxis": {
           "automargin": true,
           "gridcolor": "white",
           "linecolor": "white",
           "ticks": "",
           "title": {
            "standoff": 15
           },
           "zerolinecolor": "white",
           "zerolinewidth": 2
          },
          "yaxis": {
           "automargin": true,
           "gridcolor": "white",
           "linecolor": "white",
           "ticks": "",
           "title": {
            "standoff": 15
           },
           "zerolinecolor": "white",
           "zerolinewidth": 2
          }
         }
        },
        "title": {
         "text": "Comparision between original close price vs predicted close price"
        },
        "xaxis": {
         "anchor": "y",
         "domain": [
          0,
          1
         ],
         "showgrid": false,
         "title": {
          "text": "Date"
         }
        },
        "yaxis": {
         "anchor": "x",
         "domain": [
          0,
          1
         ],
         "showgrid": false,
         "title": {
          "text": "Ethereum price ($)"
         }
        }
       }
      }
     },
     "metadata": {},
     "output_type": "display_data"
    }
   ],
   "source": [
    "# shift train predictions for plotting\n",
    "\n",
    "look_back=time_step\n",
    "trainPredictPlot = np.empty_like(closedf)\n",
    "trainPredictPlot[:, :] = np.nan\n",
    "trainPredictPlot[look_back:len(train_predict)+look_back, :] = train_predict\n",
    "print(\"Train predicted data: \", trainPredictPlot.shape)\n",
    "\n",
    "# shift test predictions for plotting\n",
    "testPredictPlot = np.empty_like(closedf)\n",
    "testPredictPlot[:, :] = np.nan\n",
    "testPredictPlot[len(train_predict)+(look_back*2)+1:len(closedf)-1, :] = test_predict\n",
    "print(\"Test predicted data: \", testPredictPlot.shape)\n",
    "\n",
    "names = cycle(['Original close price','Train predicted close price','Test predicted close price'])\n",
    "\n",
    "\n",
    "plotdf = pd.DataFrame({'Year_Month': monthly_df_copy['Year_Month'],\n",
    "                       'original_close': monthly_df_copy['Close'],\n",
    "                      'train_predicted_close': trainPredictPlot.reshape(1,-1)[0].tolist(),\n",
    "                      'test_predicted_close': testPredictPlot.reshape(1,-1)[0].tolist()})\n",
    "\n",
    "fig = px.line(plotdf,x=plotdf['Year_Month'], y=[plotdf['original_close'],plotdf['train_predicted_close'],\n",
    "                                          plotdf['test_predicted_close']],\n",
    "              labels={'value':'Ethereum price ($)','Year_Month': 'Date'})\n",
    "fig.update_layout(title_text='Comparision between original close price vs predicted close price',\n",
    "                  plot_bgcolor='white', font_size=15, font_color='black', legend_title_text='Close Price')\n",
    "fig.for_each_trace(lambda t:  t.update(name = next(names)))\n",
    "\n",
    "fig.update_xaxes(showgrid=False)\n",
    "fig.update_yaxes(showgrid=False)\n",
    "fig.show()"
   ]
  },
  {
   "cell_type": "code",
   "execution_count": 73,
   "metadata": {},
   "outputs": [
    {
     "name": "stdout",
     "output_type": "stream",
     "text": [
      "Output of predicted next days:  30\n"
     ]
    }
   ],
   "source": [
    "x_input=test_data[len(test_data)-time_step:].reshape(1,-1)\n",
    "temp_input=list(x_input)\n",
    "temp_input=temp_input[0].tolist()\n",
    "\n",
    "from numpy import array\n",
    "\n",
    "lst_output=[]\n",
    "n_steps=time_step\n",
    "i=0\n",
    "pred_days = 30\n",
    "while(i<pred_days):\n",
    "    \n",
    "    if(len(temp_input)>time_step):\n",
    "        \n",
    "        x_input=np.array(temp_input[1:])\n",
    "        #print(\"{} day input {}\".format(i,x_input))\n",
    "        x_input = x_input.reshape(1,-1)\n",
    "        x_input = x_input.reshape((1, n_steps, 1))\n",
    "        \n",
    "        yhat = model_simple_lSTM.predict(x_input, verbose=0)\n",
    "        #print(\"{} day output {}\".format(i,yhat))\n",
    "        temp_input.extend(yhat[0].tolist())\n",
    "        temp_input=temp_input[1:]\n",
    "        #print(temp_input)\n",
    "       \n",
    "        lst_output.extend(yhat.tolist())\n",
    "        i=i+1\n",
    "        \n",
    "    else:\n",
    "        \n",
    "        x_input = x_input.reshape((1, n_steps,1))\n",
    "        yhat = model_simple_lSTM.predict(x_input, verbose=0)\n",
    "        temp_input.extend(yhat[0].tolist())\n",
    "        \n",
    "        lst_output.extend(yhat.tolist())\n",
    "        i=i+1\n",
    "               \n",
    "print(\"Output of predicted next days: \", len(lst_output))"
   ]
  },
  {
   "cell_type": "code",
   "execution_count": 74,
   "metadata": {},
   "outputs": [
    {
     "name": "stdout",
     "output_type": "stream",
     "text": [
      "[ 1  2  3  4  5  6  7  8  9 10 11 12 13 14 15]\n",
      "[16 17 18 19 20 21 22 23 24 25 26 27 28 29 30 31 32 33 34 35 36 37 38 39\n",
      " 40 41 42 43 44 45]\n"
     ]
    }
   ],
   "source": [
    "last_days=np.arange(1,time_step+1)\n",
    "day_pred=np.arange(time_step+1,time_step+pred_days+1)\n",
    "print(last_days)\n",
    "print(day_pred)"
   ]
  },
  {
   "cell_type": "code",
   "execution_count": 75,
   "metadata": {},
   "outputs": [
    {
     "data": {
      "application/vnd.plotly.v1+json": {
       "config": {
        "plotlyServerURL": "https://plot.ly"
       },
       "data": [
        {
         "hovertemplate": "variable=last_original_days_value<br>Timestamp=%{x}<br>Ethereum price ($)=%{y}<extra></extra>",
         "legendgroup": "last_original_days_value",
         "line": {
          "color": "#636efa",
          "dash": "solid"
         },
         "marker": {
          "symbol": "circle"
         },
         "mode": "lines",
         "name": "Last 15 days close price",
         "orientation": "v",
         "showlegend": true,
         "type": "scatter",
         "x": [
          0,
          1,
          2,
          3,
          4,
          5,
          6,
          7,
          8,
          9,
          10,
          11,
          12,
          13,
          14,
          15,
          16,
          17,
          18,
          19,
          20,
          21,
          22,
          23,
          24,
          25,
          26,
          27,
          28,
          29,
          30,
          31,
          32,
          33,
          34,
          35,
          36,
          37,
          38,
          39,
          40,
          41,
          42,
          43,
          44,
          45
         ],
         "xaxis": "x",
         "y": [
          3682.6328125,
          2688.27880859375,
          2919.201171875,
          3281.642822265625,
          2730.186767578125,
          1942.3280029296875,
          1067.298828125,
          1681.517333984375,
          1553.6849365234375,
          1327.9786376953125,
          1572.7144775390625,
          1295.6885986328125,
          1196.771240234375,
          1586.535400390625,
          1586.535400390625,
          null,
          230.49668769505007,
          378.7648672316114,
          370.2163973354773,
          374.42510093603306,
          376.4813155119045,
          378.0458427241958,
          379.1478750353271,
          379.92656543013726,
          380.5158756241663,
          380.9327278069465,
          381.22445017390265,
          381.438236082296,
          381.5771868098894,
          381.6705622381848,
          381.74135227407663,
          381.7788372835584,
          381.764342180971,
          381.7629263802532,
          381.76103864596274,
          381.7597576834085,
          381.7588812353451,
          381.7585441399361,
          381.75800478728166,
          381.75800478728166,
          381.75800478728166,
          381.75786994911806,
          381.75786994911806,
          381.75786994911806,
          381.75786994911806,
          381.75786994911806
         ],
         "yaxis": "y"
        },
        {
         "hovertemplate": "variable=next_predicted_days_value<br>Timestamp=%{x}<br>Ethereum price ($)=%{y}<extra></extra>",
         "legendgroup": "next_predicted_days_value",
         "line": {
          "color": "#EF553B",
          "dash": "solid"
         },
         "marker": {
          "symbol": "circle"
         },
         "mode": "lines",
         "name": "Predicted next 30 days close price",
         "orientation": "v",
         "showlegend": true,
         "type": "scatter",
         "x": [
          0,
          1,
          2,
          3,
          4,
          5,
          6,
          7,
          8,
          9,
          10,
          11,
          12,
          13,
          14,
          15,
          16,
          17,
          18,
          19,
          20,
          21,
          22,
          23,
          24,
          25,
          26,
          27,
          28,
          29,
          30,
          31,
          32,
          33,
          34,
          35,
          36,
          37,
          38,
          39,
          40,
          41,
          42,
          43,
          44,
          45
         ],
         "xaxis": "x",
         "y": [
          3682.6328125,
          2688.27880859375,
          2919.201171875,
          3281.642822265625,
          2730.186767578125,
          1942.3280029296875,
          1067.298828125,
          1681.517333984375,
          1553.6849365234375,
          1327.9786376953125,
          1572.7144775390625,
          1295.6885986328125,
          1196.771240234375,
          1586.535400390625,
          1586.535400390625,
          null,
          230.49668769505007,
          378.7648672316114,
          370.2163973354773,
          374.42510093603306,
          376.4813155119045,
          378.0458427241958,
          379.1478750353271,
          379.92656543013726,
          380.5158756241663,
          380.9327278069465,
          381.22445017390265,
          381.438236082296,
          381.5771868098894,
          381.6705622381848,
          381.74135227407663,
          381.7788372835584,
          381.764342180971,
          381.7629263802532,
          381.76103864596274,
          381.7597576834085,
          381.7588812353451,
          381.7585441399361,
          381.75800478728166,
          381.75800478728166,
          381.75800478728166,
          381.75786994911806,
          381.75786994911806,
          381.75786994911806,
          381.75786994911806,
          381.75786994911806
         ],
         "yaxis": "y"
        }
       ],
       "layout": {
        "font": {
         "color": "black",
         "size": 15
        },
        "legend": {
         "title": {
          "text": "Close Price"
         },
         "tracegroupgap": 0
        },
        "margin": {
         "t": 60
        },
        "plot_bgcolor": "white",
        "template": {
         "data": {
          "bar": [
           {
            "error_x": {
             "color": "#2a3f5f"
            },
            "error_y": {
             "color": "#2a3f5f"
            },
            "marker": {
             "line": {
              "color": "#E5ECF6",
              "width": 0.5
             },
             "pattern": {
              "fillmode": "overlay",
              "size": 10,
              "solidity": 0.2
             }
            },
            "type": "bar"
           }
          ],
          "barpolar": [
           {
            "marker": {
             "line": {
              "color": "#E5ECF6",
              "width": 0.5
             },
             "pattern": {
              "fillmode": "overlay",
              "size": 10,
              "solidity": 0.2
             }
            },
            "type": "barpolar"
           }
          ],
          "carpet": [
           {
            "aaxis": {
             "endlinecolor": "#2a3f5f",
             "gridcolor": "white",
             "linecolor": "white",
             "minorgridcolor": "white",
             "startlinecolor": "#2a3f5f"
            },
            "baxis": {
             "endlinecolor": "#2a3f5f",
             "gridcolor": "white",
             "linecolor": "white",
             "minorgridcolor": "white",
             "startlinecolor": "#2a3f5f"
            },
            "type": "carpet"
           }
          ],
          "choropleth": [
           {
            "colorbar": {
             "outlinewidth": 0,
             "ticks": ""
            },
            "type": "choropleth"
           }
          ],
          "contour": [
           {
            "colorbar": {
             "outlinewidth": 0,
             "ticks": ""
            },
            "colorscale": [
             [
              0,
              "#0d0887"
             ],
             [
              0.1111111111111111,
              "#46039f"
             ],
             [
              0.2222222222222222,
              "#7201a8"
             ],
             [
              0.3333333333333333,
              "#9c179e"
             ],
             [
              0.4444444444444444,
              "#bd3786"
             ],
             [
              0.5555555555555556,
              "#d8576b"
             ],
             [
              0.6666666666666666,
              "#ed7953"
             ],
             [
              0.7777777777777778,
              "#fb9f3a"
             ],
             [
              0.8888888888888888,
              "#fdca26"
             ],
             [
              1,
              "#f0f921"
             ]
            ],
            "type": "contour"
           }
          ],
          "contourcarpet": [
           {
            "colorbar": {
             "outlinewidth": 0,
             "ticks": ""
            },
            "type": "contourcarpet"
           }
          ],
          "heatmap": [
           {
            "colorbar": {
             "outlinewidth": 0,
             "ticks": ""
            },
            "colorscale": [
             [
              0,
              "#0d0887"
             ],
             [
              0.1111111111111111,
              "#46039f"
             ],
             [
              0.2222222222222222,
              "#7201a8"
             ],
             [
              0.3333333333333333,
              "#9c179e"
             ],
             [
              0.4444444444444444,
              "#bd3786"
             ],
             [
              0.5555555555555556,
              "#d8576b"
             ],
             [
              0.6666666666666666,
              "#ed7953"
             ],
             [
              0.7777777777777778,
              "#fb9f3a"
             ],
             [
              0.8888888888888888,
              "#fdca26"
             ],
             [
              1,
              "#f0f921"
             ]
            ],
            "type": "heatmap"
           }
          ],
          "heatmapgl": [
           {
            "colorbar": {
             "outlinewidth": 0,
             "ticks": ""
            },
            "colorscale": [
             [
              0,
              "#0d0887"
             ],
             [
              0.1111111111111111,
              "#46039f"
             ],
             [
              0.2222222222222222,
              "#7201a8"
             ],
             [
              0.3333333333333333,
              "#9c179e"
             ],
             [
              0.4444444444444444,
              "#bd3786"
             ],
             [
              0.5555555555555556,
              "#d8576b"
             ],
             [
              0.6666666666666666,
              "#ed7953"
             ],
             [
              0.7777777777777778,
              "#fb9f3a"
             ],
             [
              0.8888888888888888,
              "#fdca26"
             ],
             [
              1,
              "#f0f921"
             ]
            ],
            "type": "heatmapgl"
           }
          ],
          "histogram": [
           {
            "marker": {
             "pattern": {
              "fillmode": "overlay",
              "size": 10,
              "solidity": 0.2
             }
            },
            "type": "histogram"
           }
          ],
          "histogram2d": [
           {
            "colorbar": {
             "outlinewidth": 0,
             "ticks": ""
            },
            "colorscale": [
             [
              0,
              "#0d0887"
             ],
             [
              0.1111111111111111,
              "#46039f"
             ],
             [
              0.2222222222222222,
              "#7201a8"
             ],
             [
              0.3333333333333333,
              "#9c179e"
             ],
             [
              0.4444444444444444,
              "#bd3786"
             ],
             [
              0.5555555555555556,
              "#d8576b"
             ],
             [
              0.6666666666666666,
              "#ed7953"
             ],
             [
              0.7777777777777778,
              "#fb9f3a"
             ],
             [
              0.8888888888888888,
              "#fdca26"
             ],
             [
              1,
              "#f0f921"
             ]
            ],
            "type": "histogram2d"
           }
          ],
          "histogram2dcontour": [
           {
            "colorbar": {
             "outlinewidth": 0,
             "ticks": ""
            },
            "colorscale": [
             [
              0,
              "#0d0887"
             ],
             [
              0.1111111111111111,
              "#46039f"
             ],
             [
              0.2222222222222222,
              "#7201a8"
             ],
             [
              0.3333333333333333,
              "#9c179e"
             ],
             [
              0.4444444444444444,
              "#bd3786"
             ],
             [
              0.5555555555555556,
              "#d8576b"
             ],
             [
              0.6666666666666666,
              "#ed7953"
             ],
             [
              0.7777777777777778,
              "#fb9f3a"
             ],
             [
              0.8888888888888888,
              "#fdca26"
             ],
             [
              1,
              "#f0f921"
             ]
            ],
            "type": "histogram2dcontour"
           }
          ],
          "mesh3d": [
           {
            "colorbar": {
             "outlinewidth": 0,
             "ticks": ""
            },
            "type": "mesh3d"
           }
          ],
          "parcoords": [
           {
            "line": {
             "colorbar": {
              "outlinewidth": 0,
              "ticks": ""
             }
            },
            "type": "parcoords"
           }
          ],
          "pie": [
           {
            "automargin": true,
            "type": "pie"
           }
          ],
          "scatter": [
           {
            "fillpattern": {
             "fillmode": "overlay",
             "size": 10,
             "solidity": 0.2
            },
            "type": "scatter"
           }
          ],
          "scatter3d": [
           {
            "line": {
             "colorbar": {
              "outlinewidth": 0,
              "ticks": ""
             }
            },
            "marker": {
             "colorbar": {
              "outlinewidth": 0,
              "ticks": ""
             }
            },
            "type": "scatter3d"
           }
          ],
          "scattercarpet": [
           {
            "marker": {
             "colorbar": {
              "outlinewidth": 0,
              "ticks": ""
             }
            },
            "type": "scattercarpet"
           }
          ],
          "scattergeo": [
           {
            "marker": {
             "colorbar": {
              "outlinewidth": 0,
              "ticks": ""
             }
            },
            "type": "scattergeo"
           }
          ],
          "scattergl": [
           {
            "marker": {
             "colorbar": {
              "outlinewidth": 0,
              "ticks": ""
             }
            },
            "type": "scattergl"
           }
          ],
          "scattermapbox": [
           {
            "marker": {
             "colorbar": {
              "outlinewidth": 0,
              "ticks": ""
             }
            },
            "type": "scattermapbox"
           }
          ],
          "scatterpolar": [
           {
            "marker": {
             "colorbar": {
              "outlinewidth": 0,
              "ticks": ""
             }
            },
            "type": "scatterpolar"
           }
          ],
          "scatterpolargl": [
           {
            "marker": {
             "colorbar": {
              "outlinewidth": 0,
              "ticks": ""
             }
            },
            "type": "scatterpolargl"
           }
          ],
          "scatterternary": [
           {
            "marker": {
             "colorbar": {
              "outlinewidth": 0,
              "ticks": ""
             }
            },
            "type": "scatterternary"
           }
          ],
          "surface": [
           {
            "colorbar": {
             "outlinewidth": 0,
             "ticks": ""
            },
            "colorscale": [
             [
              0,
              "#0d0887"
             ],
             [
              0.1111111111111111,
              "#46039f"
             ],
             [
              0.2222222222222222,
              "#7201a8"
             ],
             [
              0.3333333333333333,
              "#9c179e"
             ],
             [
              0.4444444444444444,
              "#bd3786"
             ],
             [
              0.5555555555555556,
              "#d8576b"
             ],
             [
              0.6666666666666666,
              "#ed7953"
             ],
             [
              0.7777777777777778,
              "#fb9f3a"
             ],
             [
              0.8888888888888888,
              "#fdca26"
             ],
             [
              1,
              "#f0f921"
             ]
            ],
            "type": "surface"
           }
          ],
          "table": [
           {
            "cells": {
             "fill": {
              "color": "#EBF0F8"
             },
             "line": {
              "color": "white"
             }
            },
            "header": {
             "fill": {
              "color": "#C8D4E3"
             },
             "line": {
              "color": "white"
             }
            },
            "type": "table"
           }
          ]
         },
         "layout": {
          "annotationdefaults": {
           "arrowcolor": "#2a3f5f",
           "arrowhead": 0,
           "arrowwidth": 1
          },
          "autotypenumbers": "strict",
          "coloraxis": {
           "colorbar": {
            "outlinewidth": 0,
            "ticks": ""
           }
          },
          "colorscale": {
           "diverging": [
            [
             0,
             "#8e0152"
            ],
            [
             0.1,
             "#c51b7d"
            ],
            [
             0.2,
             "#de77ae"
            ],
            [
             0.3,
             "#f1b6da"
            ],
            [
             0.4,
             "#fde0ef"
            ],
            [
             0.5,
             "#f7f7f7"
            ],
            [
             0.6,
             "#e6f5d0"
            ],
            [
             0.7,
             "#b8e186"
            ],
            [
             0.8,
             "#7fbc41"
            ],
            [
             0.9,
             "#4d9221"
            ],
            [
             1,
             "#276419"
            ]
           ],
           "sequential": [
            [
             0,
             "#0d0887"
            ],
            [
             0.1111111111111111,
             "#46039f"
            ],
            [
             0.2222222222222222,
             "#7201a8"
            ],
            [
             0.3333333333333333,
             "#9c179e"
            ],
            [
             0.4444444444444444,
             "#bd3786"
            ],
            [
             0.5555555555555556,
             "#d8576b"
            ],
            [
             0.6666666666666666,
             "#ed7953"
            ],
            [
             0.7777777777777778,
             "#fb9f3a"
            ],
            [
             0.8888888888888888,
             "#fdca26"
            ],
            [
             1,
             "#f0f921"
            ]
           ],
           "sequentialminus": [
            [
             0,
             "#0d0887"
            ],
            [
             0.1111111111111111,
             "#46039f"
            ],
            [
             0.2222222222222222,
             "#7201a8"
            ],
            [
             0.3333333333333333,
             "#9c179e"
            ],
            [
             0.4444444444444444,
             "#bd3786"
            ],
            [
             0.5555555555555556,
             "#d8576b"
            ],
            [
             0.6666666666666666,
             "#ed7953"
            ],
            [
             0.7777777777777778,
             "#fb9f3a"
            ],
            [
             0.8888888888888888,
             "#fdca26"
            ],
            [
             1,
             "#f0f921"
            ]
           ]
          },
          "colorway": [
           "#636efa",
           "#EF553B",
           "#00cc96",
           "#ab63fa",
           "#FFA15A",
           "#19d3f3",
           "#FF6692",
           "#B6E880",
           "#FF97FF",
           "#FECB52"
          ],
          "font": {
           "color": "#2a3f5f"
          },
          "geo": {
           "bgcolor": "white",
           "lakecolor": "white",
           "landcolor": "#E5ECF6",
           "showlakes": true,
           "showland": true,
           "subunitcolor": "white"
          },
          "hoverlabel": {
           "align": "left"
          },
          "hovermode": "closest",
          "mapbox": {
           "style": "light"
          },
          "paper_bgcolor": "white",
          "plot_bgcolor": "#E5ECF6",
          "polar": {
           "angularaxis": {
            "gridcolor": "white",
            "linecolor": "white",
            "ticks": ""
           },
           "bgcolor": "#E5ECF6",
           "radialaxis": {
            "gridcolor": "white",
            "linecolor": "white",
            "ticks": ""
           }
          },
          "scene": {
           "xaxis": {
            "backgroundcolor": "#E5ECF6",
            "gridcolor": "white",
            "gridwidth": 2,
            "linecolor": "white",
            "showbackground": true,
            "ticks": "",
            "zerolinecolor": "white"
           },
           "yaxis": {
            "backgroundcolor": "#E5ECF6",
            "gridcolor": "white",
            "gridwidth": 2,
            "linecolor": "white",
            "showbackground": true,
            "ticks": "",
            "zerolinecolor": "white"
           },
           "zaxis": {
            "backgroundcolor": "#E5ECF6",
            "gridcolor": "white",
            "gridwidth": 2,
            "linecolor": "white",
            "showbackground": true,
            "ticks": "",
            "zerolinecolor": "white"
           }
          },
          "shapedefaults": {
           "line": {
            "color": "#2a3f5f"
           }
          },
          "ternary": {
           "aaxis": {
            "gridcolor": "white",
            "linecolor": "white",
            "ticks": ""
           },
           "baxis": {
            "gridcolor": "white",
            "linecolor": "white",
            "ticks": ""
           },
           "bgcolor": "#E5ECF6",
           "caxis": {
            "gridcolor": "white",
            "linecolor": "white",
            "ticks": ""
           }
          },
          "title": {
           "x": 0.05
          },
          "xaxis": {
           "automargin": true,
           "gridcolor": "white",
           "linecolor": "white",
           "ticks": "",
           "title": {
            "standoff": 15
           },
           "zerolinecolor": "white",
           "zerolinewidth": 2
          },
          "yaxis": {
           "automargin": true,
           "gridcolor": "white",
           "linecolor": "white",
           "ticks": "",
           "title": {
            "standoff": 15
           },
           "zerolinecolor": "white",
           "zerolinewidth": 2
          }
         }
        },
        "title": {
         "text": "Compare last 15 days vs next 30 days"
        },
        "xaxis": {
         "anchor": "y",
         "domain": [
          0,
          1
         ],
         "showgrid": false,
         "title": {
          "text": "Timestamp"
         }
        },
        "yaxis": {
         "anchor": "x",
         "domain": [
          0,
          1
         ],
         "showgrid": false,
         "title": {
          "text": "Ethereum price ($)"
         }
        }
       }
      }
     },
     "metadata": {},
     "output_type": "display_data"
    }
   ],
   "source": [
    "temp_mat = np.empty((len(last_days)+pred_days+1,1))\n",
    "temp_mat[:] = np.nan\n",
    "temp_mat = temp_mat.reshape(1,-1).tolist()[0]\n",
    "\n",
    "last_original_days_value = temp_mat\n",
    "next_predicted_days_value = temp_mat\n",
    "\n",
    "last_original_days_value[0:time_step+1] = scaler.inverse_transform(closedf[len(closedf)-time_step:]).reshape(1,-1).tolist()[0]\n",
    "next_predicted_days_value[time_step+1:] = scaler.inverse_transform(np.array(lst_output).reshape(-1,1)).reshape(1,-1).tolist()[0]\n",
    "\n",
    "new_pred_plot = pd.DataFrame({\n",
    "    'last_original_days_value':last_original_days_value,\n",
    "    'next_predicted_days_value':next_predicted_days_value\n",
    "})\n",
    "\n",
    "names = cycle(['Last 15 days close price','Predicted next 30 days close price'])\n",
    "\n",
    "fig = px.line(new_pred_plot,x=new_pred_plot.index, y=[new_pred_plot['last_original_days_value'],\n",
    "                                                      new_pred_plot['next_predicted_days_value']],\n",
    "              labels={'value': 'Ethereum price ($)','index': 'Timestamp'})\n",
    "fig.update_layout(title_text='Compare last 15 days vs next 30 days',\n",
    "                  plot_bgcolor='white', font_size=15, font_color='black',legend_title_text='Close Price')\n",
    "\n",
    "fig.for_each_trace(lambda t:  t.update(name = next(names)))\n",
    "fig.update_xaxes(showgrid=False)\n",
    "fig.update_yaxes(showgrid=False)\n",
    "fig.show()\n"
   ]
  },
  {
   "cell_type": "code",
   "execution_count": 76,
   "metadata": {},
   "outputs": [
    {
     "data": {
      "application/vnd.plotly.v1+json": {
       "config": {
        "plotlyServerURL": "https://plot.ly"
       },
       "data": [
        {
         "hovertemplate": "variable=0<br>Timestamp=%{x}<br>Ethereum price ($)=%{y}<extra></extra>",
         "legendgroup": "0",
         "line": {
          "color": "#636efa",
          "dash": "solid"
         },
         "marker": {
          "symbol": "circle"
         },
         "mode": "lines",
         "name": "Close price",
         "orientation": "v",
         "showlegend": true,
         "type": "scatter",
         "x": [
          0,
          1,
          2,
          3,
          4,
          5,
          6,
          7,
          8,
          9,
          10,
          11,
          12,
          13,
          14,
          15,
          16,
          17,
          18,
          19,
          20,
          21,
          22,
          23,
          24,
          25,
          26,
          27,
          28,
          29,
          30,
          31,
          32,
          33,
          34,
          35,
          36,
          37,
          38,
          39,
          40,
          41,
          42,
          43,
          44,
          45,
          46,
          47,
          48,
          49,
          50,
          51,
          52,
          53,
          54,
          55,
          56,
          57,
          58,
          59,
          60,
          61,
          62,
          63,
          64,
          65,
          66,
          67,
          68,
          69,
          70,
          71,
          72,
          73,
          74,
          75,
          76,
          77,
          78,
          79,
          80,
          81,
          82,
          83,
          84,
          85,
          86,
          87,
          88,
          89,
          90,
          91,
          92,
          93
         ],
         "xaxis": "x",
         "y": [
          447.114013671875,
          756.7329711914062,
          1118.31005859375,
          855.198974609375,
          396.4570007324219,
          669.9240112304688,
          577.6450195312501,
          455.17999267578125,
          433.8670043945312,
          283.0039978027344,
          232.84800720214844,
          197.38099670410156,
          113.17141723632812,
          133.36825561523438,
          107.0610122680664,
          136.74624633789062,
          141.51409912109375,
          162.16603088378906,
          268.1135559082031,
          290.6959838867187,
          218.65414428710938,
          172.46978759765625,
          179.87220764160156,
          183.9669189453125,
          152.53968811035156,
          129.61085510253906,
          180.16017150878906,
          219.8485107421875,
          133.59356689453125,
          207.60205078125,
          230.97570800781253,
          226.31500244140625,
          345.5546569824219,
          435.0797424316406,
          359.9378662109375,
          386.59033203125,
          614.8425292968749,
          737.8034057617188,
          1314.9862060546875,
          1416.0489501953125,
          1918.362060546875,
          2773.20703125,
          2714.9453125,
          2274.547607421875,
          2536.2099609375,
          3433.732666015625,
          3001.678955078125,
          4288.07421875,
          4631.47900390625,
          3682.6328125,
          2688.27880859375,
          2919.201171875,
          3281.642822265625,
          2730.186767578125,
          1942.3280029296875,
          1067.298828125,
          1681.517333984375,
          1553.6849365234375,
          1327.9786376953125,
          1572.7144775390625,
          1295.6885986328125,
          1196.771240234375,
          1586.535400390625,
          1586.535400390625,
          230.49668769505007,
          378.7648672316114,
          370.2163973354773,
          374.42510093603306,
          376.4813155119045,
          378.0458427241958,
          379.1478750353271,
          379.92656543013726,
          380.5158756241663,
          380.9327278069465,
          381.22445017390265,
          381.438236082296,
          381.5771868098894,
          381.6705622381848,
          381.74135227407663,
          381.7788372835584,
          381.764342180971,
          381.7629263802532,
          381.76103864596274,
          381.7597576834085,
          381.7588812353451,
          381.7585441399361,
          381.75800478728166,
          381.75800478728166,
          381.75800478728166,
          381.75786994911806,
          381.75786994911806,
          381.75786994911806,
          381.75786994911806,
          381.75786994911806
         ],
         "yaxis": "y"
        }
       ],
       "layout": {
        "font": {
         "color": "black",
         "size": 15
        },
        "legend": {
         "title": {
          "text": "Stock"
         },
         "tracegroupgap": 0
        },
        "margin": {
         "t": 60
        },
        "plot_bgcolor": "white",
        "template": {
         "data": {
          "bar": [
           {
            "error_x": {
             "color": "#2a3f5f"
            },
            "error_y": {
             "color": "#2a3f5f"
            },
            "marker": {
             "line": {
              "color": "#E5ECF6",
              "width": 0.5
             },
             "pattern": {
              "fillmode": "overlay",
              "size": 10,
              "solidity": 0.2
             }
            },
            "type": "bar"
           }
          ],
          "barpolar": [
           {
            "marker": {
             "line": {
              "color": "#E5ECF6",
              "width": 0.5
             },
             "pattern": {
              "fillmode": "overlay",
              "size": 10,
              "solidity": 0.2
             }
            },
            "type": "barpolar"
           }
          ],
          "carpet": [
           {
            "aaxis": {
             "endlinecolor": "#2a3f5f",
             "gridcolor": "white",
             "linecolor": "white",
             "minorgridcolor": "white",
             "startlinecolor": "#2a3f5f"
            },
            "baxis": {
             "endlinecolor": "#2a3f5f",
             "gridcolor": "white",
             "linecolor": "white",
             "minorgridcolor": "white",
             "startlinecolor": "#2a3f5f"
            },
            "type": "carpet"
           }
          ],
          "choropleth": [
           {
            "colorbar": {
             "outlinewidth": 0,
             "ticks": ""
            },
            "type": "choropleth"
           }
          ],
          "contour": [
           {
            "colorbar": {
             "outlinewidth": 0,
             "ticks": ""
            },
            "colorscale": [
             [
              0,
              "#0d0887"
             ],
             [
              0.1111111111111111,
              "#46039f"
             ],
             [
              0.2222222222222222,
              "#7201a8"
             ],
             [
              0.3333333333333333,
              "#9c179e"
             ],
             [
              0.4444444444444444,
              "#bd3786"
             ],
             [
              0.5555555555555556,
              "#d8576b"
             ],
             [
              0.6666666666666666,
              "#ed7953"
             ],
             [
              0.7777777777777778,
              "#fb9f3a"
             ],
             [
              0.8888888888888888,
              "#fdca26"
             ],
             [
              1,
              "#f0f921"
             ]
            ],
            "type": "contour"
           }
          ],
          "contourcarpet": [
           {
            "colorbar": {
             "outlinewidth": 0,
             "ticks": ""
            },
            "type": "contourcarpet"
           }
          ],
          "heatmap": [
           {
            "colorbar": {
             "outlinewidth": 0,
             "ticks": ""
            },
            "colorscale": [
             [
              0,
              "#0d0887"
             ],
             [
              0.1111111111111111,
              "#46039f"
             ],
             [
              0.2222222222222222,
              "#7201a8"
             ],
             [
              0.3333333333333333,
              "#9c179e"
             ],
             [
              0.4444444444444444,
              "#bd3786"
             ],
             [
              0.5555555555555556,
              "#d8576b"
             ],
             [
              0.6666666666666666,
              "#ed7953"
             ],
             [
              0.7777777777777778,
              "#fb9f3a"
             ],
             [
              0.8888888888888888,
              "#fdca26"
             ],
             [
              1,
              "#f0f921"
             ]
            ],
            "type": "heatmap"
           }
          ],
          "heatmapgl": [
           {
            "colorbar": {
             "outlinewidth": 0,
             "ticks": ""
            },
            "colorscale": [
             [
              0,
              "#0d0887"
             ],
             [
              0.1111111111111111,
              "#46039f"
             ],
             [
              0.2222222222222222,
              "#7201a8"
             ],
             [
              0.3333333333333333,
              "#9c179e"
             ],
             [
              0.4444444444444444,
              "#bd3786"
             ],
             [
              0.5555555555555556,
              "#d8576b"
             ],
             [
              0.6666666666666666,
              "#ed7953"
             ],
             [
              0.7777777777777778,
              "#fb9f3a"
             ],
             [
              0.8888888888888888,
              "#fdca26"
             ],
             [
              1,
              "#f0f921"
             ]
            ],
            "type": "heatmapgl"
           }
          ],
          "histogram": [
           {
            "marker": {
             "pattern": {
              "fillmode": "overlay",
              "size": 10,
              "solidity": 0.2
             }
            },
            "type": "histogram"
           }
          ],
          "histogram2d": [
           {
            "colorbar": {
             "outlinewidth": 0,
             "ticks": ""
            },
            "colorscale": [
             [
              0,
              "#0d0887"
             ],
             [
              0.1111111111111111,
              "#46039f"
             ],
             [
              0.2222222222222222,
              "#7201a8"
             ],
             [
              0.3333333333333333,
              "#9c179e"
             ],
             [
              0.4444444444444444,
              "#bd3786"
             ],
             [
              0.5555555555555556,
              "#d8576b"
             ],
             [
              0.6666666666666666,
              "#ed7953"
             ],
             [
              0.7777777777777778,
              "#fb9f3a"
             ],
             [
              0.8888888888888888,
              "#fdca26"
             ],
             [
              1,
              "#f0f921"
             ]
            ],
            "type": "histogram2d"
           }
          ],
          "histogram2dcontour": [
           {
            "colorbar": {
             "outlinewidth": 0,
             "ticks": ""
            },
            "colorscale": [
             [
              0,
              "#0d0887"
             ],
             [
              0.1111111111111111,
              "#46039f"
             ],
             [
              0.2222222222222222,
              "#7201a8"
             ],
             [
              0.3333333333333333,
              "#9c179e"
             ],
             [
              0.4444444444444444,
              "#bd3786"
             ],
             [
              0.5555555555555556,
              "#d8576b"
             ],
             [
              0.6666666666666666,
              "#ed7953"
             ],
             [
              0.7777777777777778,
              "#fb9f3a"
             ],
             [
              0.8888888888888888,
              "#fdca26"
             ],
             [
              1,
              "#f0f921"
             ]
            ],
            "type": "histogram2dcontour"
           }
          ],
          "mesh3d": [
           {
            "colorbar": {
             "outlinewidth": 0,
             "ticks": ""
            },
            "type": "mesh3d"
           }
          ],
          "parcoords": [
           {
            "line": {
             "colorbar": {
              "outlinewidth": 0,
              "ticks": ""
             }
            },
            "type": "parcoords"
           }
          ],
          "pie": [
           {
            "automargin": true,
            "type": "pie"
           }
          ],
          "scatter": [
           {
            "fillpattern": {
             "fillmode": "overlay",
             "size": 10,
             "solidity": 0.2
            },
            "type": "scatter"
           }
          ],
          "scatter3d": [
           {
            "line": {
             "colorbar": {
              "outlinewidth": 0,
              "ticks": ""
             }
            },
            "marker": {
             "colorbar": {
              "outlinewidth": 0,
              "ticks": ""
             }
            },
            "type": "scatter3d"
           }
          ],
          "scattercarpet": [
           {
            "marker": {
             "colorbar": {
              "outlinewidth": 0,
              "ticks": ""
             }
            },
            "type": "scattercarpet"
           }
          ],
          "scattergeo": [
           {
            "marker": {
             "colorbar": {
              "outlinewidth": 0,
              "ticks": ""
             }
            },
            "type": "scattergeo"
           }
          ],
          "scattergl": [
           {
            "marker": {
             "colorbar": {
              "outlinewidth": 0,
              "ticks": ""
             }
            },
            "type": "scattergl"
           }
          ],
          "scattermapbox": [
           {
            "marker": {
             "colorbar": {
              "outlinewidth": 0,
              "ticks": ""
             }
            },
            "type": "scattermapbox"
           }
          ],
          "scatterpolar": [
           {
            "marker": {
             "colorbar": {
              "outlinewidth": 0,
              "ticks": ""
             }
            },
            "type": "scatterpolar"
           }
          ],
          "scatterpolargl": [
           {
            "marker": {
             "colorbar": {
              "outlinewidth": 0,
              "ticks": ""
             }
            },
            "type": "scatterpolargl"
           }
          ],
          "scatterternary": [
           {
            "marker": {
             "colorbar": {
              "outlinewidth": 0,
              "ticks": ""
             }
            },
            "type": "scatterternary"
           }
          ],
          "surface": [
           {
            "colorbar": {
             "outlinewidth": 0,
             "ticks": ""
            },
            "colorscale": [
             [
              0,
              "#0d0887"
             ],
             [
              0.1111111111111111,
              "#46039f"
             ],
             [
              0.2222222222222222,
              "#7201a8"
             ],
             [
              0.3333333333333333,
              "#9c179e"
             ],
             [
              0.4444444444444444,
              "#bd3786"
             ],
             [
              0.5555555555555556,
              "#d8576b"
             ],
             [
              0.6666666666666666,
              "#ed7953"
             ],
             [
              0.7777777777777778,
              "#fb9f3a"
             ],
             [
              0.8888888888888888,
              "#fdca26"
             ],
             [
              1,
              "#f0f921"
             ]
            ],
            "type": "surface"
           }
          ],
          "table": [
           {
            "cells": {
             "fill": {
              "color": "#EBF0F8"
             },
             "line": {
              "color": "white"
             }
            },
            "header": {
             "fill": {
              "color": "#C8D4E3"
             },
             "line": {
              "color": "white"
             }
            },
            "type": "table"
           }
          ]
         },
         "layout": {
          "annotationdefaults": {
           "arrowcolor": "#2a3f5f",
           "arrowhead": 0,
           "arrowwidth": 1
          },
          "autotypenumbers": "strict",
          "coloraxis": {
           "colorbar": {
            "outlinewidth": 0,
            "ticks": ""
           }
          },
          "colorscale": {
           "diverging": [
            [
             0,
             "#8e0152"
            ],
            [
             0.1,
             "#c51b7d"
            ],
            [
             0.2,
             "#de77ae"
            ],
            [
             0.3,
             "#f1b6da"
            ],
            [
             0.4,
             "#fde0ef"
            ],
            [
             0.5,
             "#f7f7f7"
            ],
            [
             0.6,
             "#e6f5d0"
            ],
            [
             0.7,
             "#b8e186"
            ],
            [
             0.8,
             "#7fbc41"
            ],
            [
             0.9,
             "#4d9221"
            ],
            [
             1,
             "#276419"
            ]
           ],
           "sequential": [
            [
             0,
             "#0d0887"
            ],
            [
             0.1111111111111111,
             "#46039f"
            ],
            [
             0.2222222222222222,
             "#7201a8"
            ],
            [
             0.3333333333333333,
             "#9c179e"
            ],
            [
             0.4444444444444444,
             "#bd3786"
            ],
            [
             0.5555555555555556,
             "#d8576b"
            ],
            [
             0.6666666666666666,
             "#ed7953"
            ],
            [
             0.7777777777777778,
             "#fb9f3a"
            ],
            [
             0.8888888888888888,
             "#fdca26"
            ],
            [
             1,
             "#f0f921"
            ]
           ],
           "sequentialminus": [
            [
             0,
             "#0d0887"
            ],
            [
             0.1111111111111111,
             "#46039f"
            ],
            [
             0.2222222222222222,
             "#7201a8"
            ],
            [
             0.3333333333333333,
             "#9c179e"
            ],
            [
             0.4444444444444444,
             "#bd3786"
            ],
            [
             0.5555555555555556,
             "#d8576b"
            ],
            [
             0.6666666666666666,
             "#ed7953"
            ],
            [
             0.7777777777777778,
             "#fb9f3a"
            ],
            [
             0.8888888888888888,
             "#fdca26"
            ],
            [
             1,
             "#f0f921"
            ]
           ]
          },
          "colorway": [
           "#636efa",
           "#EF553B",
           "#00cc96",
           "#ab63fa",
           "#FFA15A",
           "#19d3f3",
           "#FF6692",
           "#B6E880",
           "#FF97FF",
           "#FECB52"
          ],
          "font": {
           "color": "#2a3f5f"
          },
          "geo": {
           "bgcolor": "white",
           "lakecolor": "white",
           "landcolor": "#E5ECF6",
           "showlakes": true,
           "showland": true,
           "subunitcolor": "white"
          },
          "hoverlabel": {
           "align": "left"
          },
          "hovermode": "closest",
          "mapbox": {
           "style": "light"
          },
          "paper_bgcolor": "white",
          "plot_bgcolor": "#E5ECF6",
          "polar": {
           "angularaxis": {
            "gridcolor": "white",
            "linecolor": "white",
            "ticks": ""
           },
           "bgcolor": "#E5ECF6",
           "radialaxis": {
            "gridcolor": "white",
            "linecolor": "white",
            "ticks": ""
           }
          },
          "scene": {
           "xaxis": {
            "backgroundcolor": "#E5ECF6",
            "gridcolor": "white",
            "gridwidth": 2,
            "linecolor": "white",
            "showbackground": true,
            "ticks": "",
            "zerolinecolor": "white"
           },
           "yaxis": {
            "backgroundcolor": "#E5ECF6",
            "gridcolor": "white",
            "gridwidth": 2,
            "linecolor": "white",
            "showbackground": true,
            "ticks": "",
            "zerolinecolor": "white"
           },
           "zaxis": {
            "backgroundcolor": "#E5ECF6",
            "gridcolor": "white",
            "gridwidth": 2,
            "linecolor": "white",
            "showbackground": true,
            "ticks": "",
            "zerolinecolor": "white"
           }
          },
          "shapedefaults": {
           "line": {
            "color": "#2a3f5f"
           }
          },
          "ternary": {
           "aaxis": {
            "gridcolor": "white",
            "linecolor": "white",
            "ticks": ""
           },
           "baxis": {
            "gridcolor": "white",
            "linecolor": "white",
            "ticks": ""
           },
           "bgcolor": "#E5ECF6",
           "caxis": {
            "gridcolor": "white",
            "linecolor": "white",
            "ticks": ""
           }
          },
          "title": {
           "x": 0.05
          },
          "xaxis": {
           "automargin": true,
           "gridcolor": "white",
           "linecolor": "white",
           "ticks": "",
           "title": {
            "standoff": 15
           },
           "zerolinecolor": "white",
           "zerolinewidth": 2
          },
          "yaxis": {
           "automargin": true,
           "gridcolor": "white",
           "linecolor": "white",
           "ticks": "",
           "title": {
            "standoff": 15
           },
           "zerolinecolor": "white",
           "zerolinewidth": 2
          }
         }
        },
        "title": {
         "text": "Plotting whole closing Ethereum price ($) with prediction"
        },
        "xaxis": {
         "anchor": "y",
         "domain": [
          0,
          1
         ],
         "showgrid": false,
         "title": {
          "text": "Timestamp"
         }
        },
        "yaxis": {
         "anchor": "x",
         "domain": [
          0,
          1
         ],
         "showgrid": false,
         "title": {
          "text": "Ethereum price ($)"
         }
        }
       }
      }
     },
     "metadata": {},
     "output_type": "display_data"
    }
   ],
   "source": [
    "lstmdf=closedf.tolist()\n",
    "lstmdf.extend((np.array(lst_output).reshape(-1,1)).tolist())\n",
    "lstmdf=scaler.inverse_transform(lstmdf).reshape(1,-1).tolist()[0]\n",
    "\n",
    "names = cycle(['Close price'])\n",
    "\n",
    "fig = px.line(lstmdf,labels={'value': 'Ethereum price ($)','index': 'Timestamp'})\n",
    "fig.update_layout(title_text='Plotting whole closing Ethereum price ($) with prediction',\n",
    "                  plot_bgcolor='white', font_size=15, font_color='black',legend_title_text='Stock')\n",
    "\n",
    "fig.for_each_trace(lambda t:  t.update(name = next(names)))\n",
    "\n",
    "fig.update_xaxes(showgrid=False)\n",
    "fig.update_yaxes(showgrid=False)\n",
    "fig.show()"
   ]
  },
  {
   "cell_type": "code",
   "execution_count": null,
   "metadata": {},
   "outputs": [],
   "source": []
  }
 ],
 "metadata": {
  "kernelspec": {
   "display_name": "Python 3",
   "language": "python",
   "name": "python3"
  },
  "language_info": {
   "codemirror_mode": {
    "name": "ipython",
    "version": 3
   },
   "file_extension": ".py",
   "mimetype": "text/x-python",
   "name": "python",
   "nbconvert_exporter": "python",
   "pygments_lexer": "ipython3",
   "version": "3.10.10"
  },
  "orig_nbformat": 4
 },
 "nbformat": 4,
 "nbformat_minor": 2
}
