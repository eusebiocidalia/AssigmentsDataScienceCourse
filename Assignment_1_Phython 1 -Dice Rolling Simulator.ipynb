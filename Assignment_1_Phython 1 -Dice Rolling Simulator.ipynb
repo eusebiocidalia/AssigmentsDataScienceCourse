{
 "cells": [
  {
   "cell_type": "code",
   "execution_count": 90,
   "metadata": {},
   "outputs": [],
   "source": [
    "#Goal: writing a program that simulates rolling a dice\n",
    "#When the programme runs, it randomly choose a number between 1 and 6\n",
    "#The programme will print what number it is\n",
    "#It should then asked you if you would like to roll again\n",
    "# you will need to set the min and max number that your dice can produce\n",
    "#For the average of die and minimum of 1 and maximum of 6\n",
    "#o want a function that randomly grabs a number within that range and prints it.\n",
    "\n",
    "#Concepts to keep in mind\n",
    "##Random\n",
    "##Integer\n",
    "##Print\n",
    "#While loops\n"
   ]
  },
  {
   "cell_type": "code",
   "execution_count": 2,
   "metadata": {},
   "outputs": [
    {
     "name": "stdout",
     "output_type": "stream",
     "text": [
      "The number from the dice is 6\n",
      "The number from the dice is 4\n"
     ]
    }
   ],
   "source": [
    "#When the programme runs, it randomly choose a number between 1 and 6\n",
    "#The programme will print what number it is\n",
    "from numpy import random\n",
    "\n",
    "# you will need to set the min and max number that your dice can produce\n",
    "#For the average of die and minimum of 1 and maximum of 6\n",
    "\n",
    "\n",
    "#It should then asked you if you would like to roll again\n",
    "ask_roll_again = \"yes\"\n",
    "while ask_roll_again == \"yes\" or ask_roll_again ==\"Yes\" or ask_roll_again == \"y\":\n",
    "    x = random.randint(1,7)\n",
    "    print(\"The number from the dice is\", x)\n",
    "    ask_roll_again = str(input(\"Would you like to roll the dice again, yes or no?\"))\n",
    "\n"
   ]
  }
 ],
 "metadata": {
  "kernelspec": {
   "display_name": "Python 3",
   "language": "python",
   "name": "python3"
  },
  "language_info": {
   "codemirror_mode": {
    "name": "ipython",
    "version": 3
   },
   "file_extension": ".py",
   "mimetype": "text/x-python",
   "name": "python",
   "nbconvert_exporter": "python",
   "pygments_lexer": "ipython3",
   "version": "3.10.9 (tags/v3.10.9:1dd9be6, Dec  6 2022, 20:01:21) [MSC v.1934 64 bit (AMD64)]"
  },
  "orig_nbformat": 4,
  "vscode": {
   "interpreter": {
    "hash": "636a78e958b28501b33f5ce2654d9c758b43eb34d00efcfe3f00ed7f640d0f50"
   }
  }
 },
 "nbformat": 4,
 "nbformat_minor": 2
}
