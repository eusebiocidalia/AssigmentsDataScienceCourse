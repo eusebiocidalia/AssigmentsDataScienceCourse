{
 "cells": [
  {
   "cell_type": "code",
   "execution_count": null,
   "metadata": {},
   "outputs": [],
   "source": [
    "#Random module in Phython\n",
    "#The program will first generate a number unknown to the user\n",
    "#The user needs to guess what that number is\n",
    "#If the user guess is wrong, the program should return some sort of indication as to how wrong ( the number is too high or too low)\n",
    "#if the user guesses correctly, a positive indication should appear\n",
    "#you will need functions to check if the user input is an actual number, to see the difference between the inputted number and the randomly generated number, and to then compare the numbers."
   ]
  },
  {
   "cell_type": "code",
   "execution_count": 1,
   "metadata": {},
   "outputs": [
    {
     "name": "stdout",
     "output_type": "stream",
     "text": [
      "Too high!\n",
      "Too high!\n",
      "you guessed it right!!\n"
     ]
    }
   ],
   "source": [
    "## task 2\n",
    "import random\n",
    "n = random.randrange(1,10)\n",
    "guess = int(input(\"Enter any number: \"))\n",
    "while n!= guess:\n",
    "    if guess < n:\n",
    "        print(\"Too low\")\n",
    "        guess = int(input(\"Enter number again: \"))\n",
    "    elif guess > n:\n",
    "        print(\"Too high!\")\n",
    "        guess = int(input(\"Enter number again: \"))\n",
    "    else:\n",
    "      break\n",
    "print(\"you guessed it right!!\")"
   ]
  }
 ],
 "metadata": {
  "kernelspec": {
   "display_name": "Python 3",
   "language": "python",
   "name": "python3"
  },
  "language_info": {
   "codemirror_mode": {
    "name": "ipython",
    "version": 3
   },
   "file_extension": ".py",
   "mimetype": "text/x-python",
   "name": "python",
   "nbconvert_exporter": "python",
   "pygments_lexer": "ipython3",
   "version": "3.10.9"
  },
  "orig_nbformat": 4,
  "vscode": {
   "interpreter": {
    "hash": "636a78e958b28501b33f5ce2654d9c758b43eb34d00efcfe3f00ed7f640d0f50"
   }
  }
 },
 "nbformat": 4,
 "nbformat_minor": 2
}
