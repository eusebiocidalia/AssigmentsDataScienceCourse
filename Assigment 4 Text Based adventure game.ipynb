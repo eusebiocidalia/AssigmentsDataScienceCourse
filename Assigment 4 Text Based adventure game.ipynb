{
 "cells": [
  {
   "cell_type": "code",
   "execution_count": null,
   "metadata": {},
   "outputs": [],
   "source": [
    "### TEXT BASED ADVENTURE GAME ###\n",
    "\n",
    "## Project Brief ##\n",
    "\n",
    "##Remember Adventure? Well, we’re going to build a more basic version of that. \n",
    "# A complete text game, the program will let users move through rooms based on user input and get descriptions of each room. \n",
    "# To create this, you’ll need to establish the direction in which the user can move, a way to track how far the user has moved (and therefore which room he/she is in), and to print out a description.\n",
    "# You’ll also need to set limits for how far the user can move. In other words, create “walls” around the rooms that tell the user, “You can’t move further in this direction.”\n",
    "\n",
    "\n",
    "#Concepts to keep in mind:\n",
    "#● Strings\n",
    "#● Variables\n",
    "#● Input/Output\n",
    "#● If/Else Statements\n",
    "#● Print\n",
    "#● List\n",
    "#● Integers\n",
    "\n",
    "#Deliverables\n",
    "#The tricky parts here will involve setting up the directions and keeping track of just how far the user has “walked” in the game.\n",
    "# I suggest sticking to just a few basic descriptions or rooms,perhaps 6 at most.\n",
    "# This project also continues to build on using user inputted data. It can be a relatively basic game, but if you want to build this into a vast, complex word, the coding will get\n",
    "#substantially harder, especially if you want your user to start interacting with actual objects within the game.\n",
    "# That complexity could be great, if you’d like to make this into a long term project. *Hint hint.\n"
   ]
  },
  {
   "cell_type": "code",
   "execution_count": 183,
   "metadata": {},
   "outputs": [
    {
     "name": "stdout",
     "output_type": "stream",
     "text": [
      "Welcome to Grandma Sofia's Game\n",
      "Your telephone is ringing, please answer the phone\n",
      "Hello, my name is nurse Anna and I am calling from Frity Hospital. You grandma, Sofia is not eating. Can you come and bring her favourite soup?\n",
      "Great, Sofia is excited to see you at 20.00\n",
      "....................................           ROOM 1           ....................................................\n",
      "You arrive to the hospital and enter an open door by mistake, and it locked itself.\n",
      "You entered ward 13- the hunted ward. You goal is to leave ward 13 and reach ward 14 to feed Sofia.\n",
      "You have to pass the first 4 rooms sequentialy to enter ward 14! To do it, you have to answer questions to unlock a new room. If you answer incorrectly, you loose!\n",
      "Your pathway ['Ward 13 Room 1']\n",
      "....................................           ROOM 2           ....................................................\n",
      "Congratulations, you have moved to room 2! \n",
      "Someone touches in the back. The Ghost, Dr Hamed, died in 1879 but it still thinks he needs to save John who is in a cardiac arrest.\n",
      "Your pathway ['Ward 13 Room 1', 'Ward 13 Room 2']\n",
      "AH AH AH, you answer is INCORRECT! You LOST\n"
     ]
    }
   ],
   "source": [
    "Question1 = \"\"\n",
    "Question2 = \"\"\n",
    "Question3 = \"\"\n",
    "Question4 = \"\"\n",
    "Question5 = \"\"\n",
    "Question_6 =\"\"\n",
    "Number_of_options = 5 \n",
    "n = 30\n",
    "gamer_pathway = []\n",
    "\n",
    "print (\"Welcome to Grandma Sofia's Game\")\n",
    "print (\"Your telephone is ringing, please answer the phone\")\n",
    "Question1= str(input(\"Please input green to answer the phone\"))\n",
    "if Question1 == \"green\" or Question1 ==\"Green\":\n",
    "    print(\"Hello, my name is nurse Anna and I am calling from Frity Hospital. You grandma, Sofia is not eating. Can you come and bring her favourite soup?\")\n",
    "    Question2= str(input(\"Please answer yes if you are able to come?\"))\n",
    "    if Question2 == \"Yes\" or Question2 == \"yes\" or Question2 == \"y\":\n",
    "        print (\"Great, Sofia is excited to see you at 20.00\")\n",
    "        print (\"....................................           ROOM 1           ....................................................\")\n",
    "        print (\"You arrive to the hospital and enter an open door by mistake, and it locked itself.\")\n",
    "        print (\"You entered ward 13- the hunted ward. You goal is to leave ward 13 and reach ward 14 to feed Sofia.\")\n",
    "        print (\"You have to pass the first 4 rooms sequentialy to enter ward 14! To do it, you have to answer questions to unlock a new room. If you answer incorrectly, you loose!\")\n",
    "        gamer_pathway +=[\"Ward 13 Room 1\"]\n",
    "        print (\"Your pathway\",gamer_pathway)\n",
    "        Question3 = str(input(\"Please answer correctly to this question to unlock room 2: What is the first name of the inventor of the world first vaccine?\")) \n",
    "        if Question3 == \"Jenner\" or Question3 == \"jenner\":\n",
    "            print (\"....................................           ROOM 2           ....................................................\")\n",
    "            print (\"Congratulations, you have moved to room 2! \")\n",
    "            print (\"Someone touches in the back. The Ghost, Dr Hamed, died in 1879 but it still thinks he needs to save John who is in a cardiac arrest.\")\n",
    "            gamer_pathway +=[\"Ward 13 Room 2\"]\n",
    "            print (\"Your pathway\",gamer_pathway)\n",
    "            Question4 = int(input(\" How many chest compressions is recommended per cycle?\"))\n",
    "            if Question4 == 30:\n",
    "                print (\".............................................      ROOM 3        .......................................................\")\n",
    "                gamer_pathway +=[\"Ward 13 Room 3\"]\n",
    "                print (\"Your pathway\",gamer_pathway)\n",
    "                print (\"Congratulations, you enter room number 3, this is the medication room. Ghost Nurse Maria has a question for you\")\n",
    "                Question5 = str(input(\"Should I give Paracetamol and Cocodamol at the same time? Yes or no?\"))\n",
    "                if Question5 ==\"no\":\n",
    "                    print (\"....................................           ROOM 4           ....................................................\")\n",
    "                    print (\"Congratulations, you have moved to room 4!\")\n",
    "                    gamer_pathway +=[\"Ward 13 Room 4\"]\n",
    "                    print (\"Your pathway\",gamer_pathway)\n",
    "                    Question_6 = str(input(\"Please introduce the name of your grandmother\"))\n",
    "                    if Question_6 == \"Sofia\":\n",
    "                        print (\"*************************************     WARD 14      *****************************************************\")\n",
    "                        gamer_pathway +=[\"Ward 14\"]\n",
    "                        print (\"Your pathway\",gamer_pathway)\n",
    "                        print (\"Hello my darling! Thanks for coming and bring my favourite food: canja! Thank you!\")\n",
    "                        print(\"Congratulations! You helped Grandma Sofia! You won the Game!\")\n",
    "                else:\n",
    "                   print (\"AH AH AH, you answer is INCORRECT! You Killed the patient! You were locker in room 5 FOREVER! You LOST!\")\n",
    "            else:\n",
    "                print (\"AH AH AH, you answer is INCORRECT! You LOST\")\n",
    "        else:\n",
    "            print (\"AH AH AH, you answer is INCORRECT! You LOST\")\n",
    "    else:\n",
    "        print (\"You decided not to help your Gradma Sofia. She is very sad. You have exited the game Goodbye!\")\n",
    "else:\n",
    "    print (\"You decided not to help your Gradma Sofia. She is very sad. You have exited the game Goodbye!\")  \n",
    "    \n",
    "\n",
    "\n",
    "         "
   ]
  },
  {
   "cell_type": "code",
   "execution_count": 184,
   "metadata": {},
   "outputs": [
    {
     "name": "stdout",
     "output_type": "stream",
     "text": [
      "['ola', 'oi']\n"
     ]
    }
   ],
   "source": [
    "####Please ignore this\n",
    "\n",
    "list=[]\n",
    "list+=['ola']\n",
    "list+=['oi']\n",
    "print(list)"
   ]
  },
  {
   "cell_type": "code",
   "execution_count": 186,
   "metadata": {},
   "outputs": [
    {
     "ename": "IndentationError",
     "evalue": "unexpected indent (35819427.py, line 2)",
     "output_type": "error",
     "traceback": [
      "\u001b[1;36m  Cell \u001b[1;32mIn[186], line 2\u001b[1;36m\u001b[0m\n\u001b[1;33m    while n! = Question4:\u001b[0m\n\u001b[1;37m    ^\u001b[0m\n\u001b[1;31mIndentationError\u001b[0m\u001b[1;31m:\u001b[0m unexpected indent\n"
     ]
    }
   ],
   "source": [
    "   # Please inore this\n",
    "   # \n",
    "   # If the user guess is wrong, the program should return some sort of indication as to how wrong ( the number is too high or too low) print Incorrect, but don't loose hope, you can try and guess again, is free\n",
    "        while n! = Question4:\n",
    "            if Question4 < n:\n",
    "                print (\"Too low\")\n",
    "                Question4 = int(input(\"Try again\"))\n",
    "            elif Question4 > n:\n",
    "                print (\"Too high\")\n",
    "                Question4 = int(input(\"Try again\"))\n",
    "            else:\n",
    "                break\n",
    "            print(\"\"Congratulations! Dr Hamed is so happy, he open the door to room 3!\"\")\n",
    "\n"
   ]
  },
  {
   "cell_type": "code",
   "execution_count": null,
   "metadata": {},
   "outputs": [
    {
     "ename": "SyntaxError",
     "evalue": "invalid syntax (980423954.py, line 1)",
     "output_type": "error",
     "traceback": [
      "\u001b[1;36m  Cell \u001b[1;32mIn[39], line 1\u001b[1;36m\u001b[0m\n\u001b[1;33m    else :\u001b[0m\n\u001b[1;37m    ^\u001b[0m\n\u001b[1;31mSyntaxError\u001b[0m\u001b[1;31m:\u001b[0m invalid syntax\n"
     ]
    }
   ],
   "source": [
    "else :\n",
    "    print (\"You decided not to help your Gradma Sofia. She is very sad. You have exited the game Goodbye!\")"
   ]
  }
 ],
 "metadata": {
  "kernelspec": {
   "display_name": "Python 3",
   "language": "python",
   "name": "python3"
  },
  "language_info": {
   "codemirror_mode": {
    "name": "ipython",
    "version": 3
   },
   "file_extension": ".py",
   "mimetype": "text/x-python",
   "name": "python",
   "nbconvert_exporter": "python",
   "pygments_lexer": "ipython3",
   "version": "3.10.9"
  },
  "orig_nbformat": 4,
  "vscode": {
   "interpreter": {
    "hash": "636a78e958b28501b33f5ce2654d9c758b43eb34d00efcfe3f00ed7f640d0f50"
   }
  }
 },
 "nbformat": 4,
 "nbformat_minor": 2
}
