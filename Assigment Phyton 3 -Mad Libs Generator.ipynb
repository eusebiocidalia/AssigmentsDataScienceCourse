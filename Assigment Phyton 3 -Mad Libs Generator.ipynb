{
 "cells": [
  {
   "cell_type": "code",
   "execution_count": null,
   "metadata": {},
   "outputs": [],
   "source": [
    "verb_1 = input(\"Enter a verb of choice, and press enter:\")\n",
    "adj_1 = input(\"Enter an adjective of choice, and press enter:\")\n",
    "verb_2 = input(\"Enter second verb of choice, and press enter:\")\n",
    "body_part = input(\"Enter a body part name of choice, and press enter:\")\n",
    "adverb = input(\"Enter an adverb of choice, and press enter:\")\n",
    "body_part_2 = input(\"Enter any body name of your choice,and press enter:\")\n",
    "noun = input(\"Enter a noun of choice, and press enter:\")\n",
    "verb_3 = input(\"Enter the third verb of choice, and press enter:\")\n",
    "animal = input(\"Enter name of any animal of choice, and press enter:\")\n",
    "noun_2 = input(\"Enter an noun of choice , and press enter:\")\n",
    "verb_4 = input(\"Enter the fourth verb of choice, and press enter:\")\n",
    "adj_2 = input(\"Enter an adjective of chioce, and press enter:\")\n",
    "color = input(\"Enter any color name, and press enter:\")\n",
    "story = \" Most doctors agree that bicycle of \" + verb_1 + \" is a/an \" + adj_1 + \" form of exercise. \" + verb_2 + \" a bicycle enables you to develop your \" + body_part + \" muscles as well as \" + adverb + \" increase the rate of a \" + body_part_2 + \" beat. More \" + noun + \" around the world \" + verb_3 + \" bicycles than drive \" + animal + \" No matter what kind of \"+ noun_2 + \" you \" + verb_4 + \" always be sure to wear a/an \" + adj_2 + \" helmet. Make sure to have \" + color + \" reflectors too! \"\n",
    "print(story)"
   ]
  }
 ],
 "metadata": {
  "kernelspec": {
   "display_name": "Python 3",
   "language": "python",
   "name": "python3"
  },
  "language_info": {
   "codemirror_mode": {
    "name": "ipython",
    "version": 3
   },
   "file_extension": ".py",
   "mimetype": "text/x-python",
   "name": "python",
   "nbconvert_exporter": "python",
   "pygments_lexer": "ipython3",
   "version": "3.10.9"
  },
  "orig_nbformat": 4,
  "vscode": {
   "interpreter": {
    "hash": "636a78e958b28501b33f5ce2654d9c758b43eb34d00efcfe3f00ed7f640d0f50"
   }
  }
 },
 "nbformat": 4,
 "nbformat_minor": 2
}
