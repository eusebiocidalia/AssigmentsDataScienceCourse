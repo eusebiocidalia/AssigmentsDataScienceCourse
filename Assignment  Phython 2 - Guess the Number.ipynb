{
 "cells": [
  {
   "cell_type": "code",
   "execution_count": 48,
   "metadata": {},
   "outputs": [
    {
     "name": "stdout",
     "output_type": "stream",
     "text": [
      "Too low\n",
      "Too high\n",
      "Too high\n",
      "Too low\n",
      "Too low\n"
     ]
    }
   ],
   "source": [
    "#Random module in Phython\n",
    "#The program will first generate a number unknown to the user\n",
    "#The user needs to guess what that number is\n",
    "#If the user guess is wrong, the program should return some sort of indication as to how wrong ( the number is too high or too low)\n",
    "#if the user guesses correctly, a positive indication should appear\n",
    "#you will need functions to check if the user input is an actual number, to see the difference between the inputted number and the randomly generated number, and to then compare the numbers.\n",
    "\n",
    "\n",
    "#The program will first generate a number unknown to the user\n",
    "import random\n",
    "n = random.randint(0,9)\n",
    "##The user needs to guess what that number is (ask a question to the user -what number I choose)\n",
    "ask_user_guess_number = int(input(\"Guess a number from 0 to 9?\"))\n",
    "#If the user guess is wrong, the program should return some sort of indication as to how wrong ( the number is too high or too low) print Incorrect, but don't loose hope, you can try and guess again, is free\n",
    "while n!= ask_user_guess_number:\n",
    "    if ask_user_guess_number < n:\n",
    "        print (\"Too low\")\n",
    "        ask_user_guess_number = int(input(\"Guess a number from 1 to 9?\"))\n",
    "    elif ask_user_guess_number > n:\n",
    "        print (\"Too high\")\n",
    "        ask_user_guess_number = int(input(\"Guess a number from 1 to 9?\"))\n",
    "    else:\n",
    "        break\n",
    "print(\"Congratulations, you guessed the number!\")\n",
    "\n",
    "    "
   ]
  },
  {
   "cell_type": "code",
   "execution_count": null,
   "metadata": {},
   "outputs": [],
   "source": [
    "\n",
    "### #if the user guesses correctly, a positive indication should appear ( print congratulations, you guessed correctly)"
   ]
  },
  {
   "cell_type": "code",
   "execution_count": 1,
   "metadata": {},
   "outputs": [
    {
     "ename": "ValueError",
     "evalue": "invalid literal for int() with base 10: ''",
     "output_type": "error",
     "traceback": [
      "\u001b[1;31m---------------------------------------------------------------------------\u001b[0m",
      "\u001b[1;31mValueError\u001b[0m                                Traceback (most recent call last)",
      "Cell \u001b[1;32mIn[1], line 4\u001b[0m\n\u001b[0;32m      2\u001b[0m \u001b[39mimport\u001b[39;00m \u001b[39mrandom\u001b[39;00m\n\u001b[0;32m      3\u001b[0m n \u001b[39m=\u001b[39m random\u001b[39m.\u001b[39mrandrange(\u001b[39m1\u001b[39m,\u001b[39m10\u001b[39m)\n\u001b[1;32m----> 4\u001b[0m guess \u001b[39m=\u001b[39m \u001b[39mint\u001b[39;49m(\u001b[39minput\u001b[39;49m(\u001b[39m\"\u001b[39;49m\u001b[39mEnter any number: \u001b[39;49m\u001b[39m\"\u001b[39;49m))\n\u001b[0;32m      5\u001b[0m \u001b[39mwhile\u001b[39;00m n\u001b[39m!=\u001b[39m guess:\n\u001b[0;32m      6\u001b[0m     \u001b[39mif\u001b[39;00m guess \u001b[39m<\u001b[39m n:\n",
      "\u001b[1;31mValueError\u001b[0m: invalid literal for int() with base 10: ''"
     ]
    }
   ],
   "source": [
    "## task 2\n",
    "import random\n",
    "n = random.randrange(1,10)\n",
    "guess = int(input(\"Enter any number: \"))\n",
    "while n!= guess:\n",
    "    if guess < n:\n",
    "        print(\"Too low\")\n",
    "        guess = int(input(\"Enter number again: \"))\n",
    "    elif guess > n:\n",
    "        print(\"Too high!\")\n",
    "        guess = int(input(\"Enter number again: \"))\n",
    "    else:\n",
    "      break\n",
    "print(\"you guessed it right!!\")"
   ]
  }
 ],
 "metadata": {
  "kernelspec": {
   "display_name": "Python 3",
   "language": "python",
   "name": "python3"
  },
  "language_info": {
   "codemirror_mode": {
    "name": "ipython",
    "version": 3
   },
   "file_extension": ".py",
   "mimetype": "text/x-python",
   "name": "python",
   "nbconvert_exporter": "python",
   "pygments_lexer": "ipython3",
   "version": "3.10.9 (tags/v3.10.9:1dd9be6, Dec  6 2022, 20:01:21) [MSC v.1934 64 bit (AMD64)]"
  },
  "orig_nbformat": 4,
  "vscode": {
   "interpreter": {
    "hash": "636a78e958b28501b33f5ce2654d9c758b43eb34d00efcfe3f00ed7f640d0f50"
   }
  }
 },
 "nbformat": 4,
 "nbformat_minor": 2
}
